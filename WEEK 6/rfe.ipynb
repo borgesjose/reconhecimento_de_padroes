{
 "cells": [
  {
   "cell_type": "markdown",
   "metadata": {},
   "source": [
    "# Seleção de Features c/ método wrapping: Recursive Feature Elimination"
   ]
  },
  {
   "cell_type": "markdown",
   "metadata": {},
   "source": [
    "## Carregando as libs"
   ]
  },
  {
   "cell_type": "code",
   "execution_count": 38,
   "metadata": {},
   "outputs": [],
   "source": [
    "from pandas import read_csv\n",
    "from numpy import nan\n",
    "from sklearn.feature_selection import RFECV\n",
    "from sklearn.tree import DecisionTreeClassifier\n",
    "from sklearn.model_selection import train_test_split\n",
    "from sklearn.ensemble import RandomForestClassifier\n",
    "from sklearn.model_selection import GridSearchCV\n",
    "from sklearn.model_selection import RepeatedStratifiedKFold\n",
    "from sklearn.model_selection import cross_val_score\n",
    "from numpy import mean\n",
    "from numpy import std\n",
    "import matplotlib.pyplot as plt"
   ]
  },
  {
   "cell_type": "markdown",
   "metadata": {},
   "source": [
    "## Carregando os dados"
   ]
  },
  {
   "cell_type": "code",
   "execution_count": 39,
   "metadata": {},
   "outputs": [],
   "source": [
    "#Fonte: https://www.kaggle.com/uciml/pima-indians-diabetes-database\n",
    "data = read_csv('pima-indians-diabetes.csv' , header=None)"
   ]
  },
  {
   "cell_type": "code",
   "execution_count": 40,
   "metadata": {},
   "outputs": [],
   "source": [
    "## eliminando dados faltantes\n",
    "data.iloc[:,:-1] = data.iloc[:,:-1].replace(0, nan)\n",
    "data.dropna(inplace=True)"
   ]
  },
  {
   "cell_type": "code",
   "execution_count": 41,
   "metadata": {},
   "outputs": [],
   "source": [
    "## Divisão treino/teste\n",
    "x = data.iloc[:,:-1]\n",
    "y = data.iloc[:,-1]"
   ]
  },
  {
   "cell_type": "markdown",
   "metadata": {},
   "source": [
    "<img src=\"feature_selection.png\" width=600 height=600 />"
   ]
  },
  {
   "cell_type": "markdown",
   "metadata": {},
   "source": [
    "## Selecionando as features com o wrapping"
   ]
  },
  {
   "cell_type": "code",
   "execution_count": 45,
   "metadata": {},
   "outputs": [],
   "source": [
    "def select_features(x_train, y_train, x_test): \n",
    "    \n",
    "    rfe = RFECV(estimator=DecisionTreeClassifier())\n",
    "    rfe.fit(x_train, y_train)\n",
    "    \n",
    "    x_train_fs = rfe.transform(x_train)\n",
    "    x_test_fs = rfe.transform(x_test)\n",
    "\n",
    "    return x_train_fs, x_test_fs, rfe"
   ]
  },
  {
   "cell_type": "code",
   "execution_count": 46,
   "metadata": {},
   "outputs": [],
   "source": [
    "def get_best_model(model_name, x, y):\n",
    "    \n",
    "    if model_name == 'd_tree':\n",
    "        params = {'max_depth': [None, 1, 3, 5, 7, 9, 11, 13, 15, 17, 19, 21]}\n",
    "        model = DecisionTreeClassifier()\n",
    "    elif model_name == 'r_forest':\n",
    "        params = {'n_estimators': [10, 50, 100, 200], 'max_depth': [None, 1, 3, 5, 7]}\n",
    "        model = RandomForestClassifier()\n",
    "    else:\n",
    "        print(\"Oops! That was no valid model. Try again...\")\n",
    "    \n",
    "    \n",
    "    grid = GridSearchCV(model,           \n",
    "                        params,          \n",
    "                        error_score=0.)  \n",
    "    grid.fit(x, y) \n",
    "    \n",
    "    return grid"
   ]
  },
  {
   "cell_type": "code",
   "execution_count": 47,
   "metadata": {},
   "outputs": [],
   "source": [
    "def evaluate_model(model, x_test, y_test):\n",
    "    cv = RepeatedStratifiedKFold(n_splits=5, n_repeats=3, random_state=1)\n",
    "    scores = cross_val_score(model, x_test, y_test, scoring= 'accuracy' , cv=cv, n_jobs=-1)\n",
    "    return scores"
   ]
  },
  {
   "cell_type": "markdown",
   "metadata": {},
   "source": [
    "## Realizando a classificação"
   ]
  },
  {
   "cell_type": "code",
   "execution_count": 48,
   "metadata": {},
   "outputs": [],
   "source": [
    "x_train, x_test, y_train, y_test = train_test_split(x, y, test_size=0.2, random_state=1)"
   ]
  },
  {
   "cell_type": "code",
   "execution_count": 49,
   "metadata": {},
   "outputs": [
    {
     "name": "stdout",
     "output_type": "stream",
     "text": [
      "r_forest > 0.692 (0.066) \n"
     ]
    }
   ],
   "source": [
    "# Seleção das features\n",
    "x_train_fs, x_test_fs, fs = select_features(x_train, y_train, x_test)\n",
    "\n",
    "# Capturar os melhores parâmetros do modelo\n",
    "grid = get_best_model(\"r_forest\", x_train_fs, y_train)\n",
    "\n",
    "# Instanciar o modelo com os melhores parâmetros e treiná-lo\n",
    "#model = DecisionTreeClassifier(**grid.best_params_)\n",
    "model = RandomForestClassifier(**grid.best_params_)\n",
    "model.fit(x_train_fs, y_train)\n",
    "\n",
    "# Avaliando o modelo\n",
    "scores = evaluate_model(model,x_test_fs,y_test)\n",
    "print( '%s > %.3f (%.3f) ' % (\"r_forest\", mean(scores), std(scores)))"
   ]
  },
  {
   "cell_type": "markdown",
   "metadata": {},
   "source": [
    "# Importância das Características"
   ]
  },
  {
   "cell_type": "code",
   "execution_count": 50,
   "metadata": {},
   "outputs": [
    {
     "data": {
      "text/plain": [
       "RandomForestClassifier()"
      ]
     },
     "execution_count": 50,
     "metadata": {},
     "output_type": "execute_result"
    }
   ],
   "source": [
    "model = RandomForestClassifier(criterion=\"gini\")\n",
    "model.fit(x_train, y_train)"
   ]
  },
  {
   "cell_type": "code",
   "execution_count": 51,
   "metadata": {},
   "outputs": [
    {
     "name": "stdout",
     "output_type": "stream",
     "text": [
      "[0.07822236 0.24343578 0.08447087 0.08625918 0.15087778 0.09577617\n",
      " 0.09176288 0.16919497]\n"
     ]
    }
   ],
   "source": [
    "importance = model.feature_importances_\n",
    "print(importance)"
   ]
  },
  {
   "cell_type": "code",
   "execution_count": 52,
   "metadata": {},
   "outputs": [
    {
     "name": "stdout",
     "output_type": "stream",
     "text": [
      "[0.07946067 0.22298848 0.08561818 0.08758341 0.17200004 0.10633933\n",
      " 0.09203588 0.15397402]\n"
     ]
    }
   ],
   "source": [
    "model = RandomForestClassifier(criterion=\"entropy\")\n",
    "model.fit(x_train, y_train)\n",
    "importance = model.feature_importances_\n",
    "print(importance)"
   ]
  },
  {
   "cell_type": "code",
   "execution_count": 53,
   "metadata": {},
   "outputs": [
    {
     "data": {
      "text/plain": [
       "SVC()"
      ]
     },
     "execution_count": 53,
     "metadata": {},
     "output_type": "execute_result"
    }
   ],
   "source": [
    "from sklearn import svm\n",
    "model = svm.SVC()\n",
    "model.fit(x_train, y_train)"
   ]
  },
  {
   "cell_type": "code",
   "execution_count": 54,
   "metadata": {},
   "outputs": [
    {
     "ename": "AttributeError",
     "evalue": "'SVC' object has no attribute 'feature_importances_'",
     "output_type": "error",
     "traceback": [
      "\u001b[0;31m---------------------------------------------------------------------------\u001b[0m",
      "\u001b[0;31mAttributeError\u001b[0m                            Traceback (most recent call last)",
      "\u001b[0;32m<ipython-input-54-2b064a0a97be>\u001b[0m in \u001b[0;36m<module>\u001b[0;34m\u001b[0m\n\u001b[0;32m----> 1\u001b[0;31m \u001b[0mimportance\u001b[0m \u001b[0;34m=\u001b[0m \u001b[0mmodel\u001b[0m\u001b[0;34m.\u001b[0m\u001b[0mfeature_importances_\u001b[0m\u001b[0;34m\u001b[0m\u001b[0;34m\u001b[0m\u001b[0m\n\u001b[0m\u001b[1;32m      2\u001b[0m \u001b[0mprint\u001b[0m\u001b[0;34m(\u001b[0m\u001b[0mimportance\u001b[0m\u001b[0;34m)\u001b[0m\u001b[0;34m\u001b[0m\u001b[0;34m\u001b[0m\u001b[0m\n",
      "\u001b[0;31mAttributeError\u001b[0m: 'SVC' object has no attribute 'feature_importances_'"
     ]
    }
   ],
   "source": [
    "importance = model.feature_importances_\n",
    "print(importance)"
   ]
  },
  {
   "cell_type": "code",
   "execution_count": 55,
   "metadata": {},
   "outputs": [],
   "source": [
    "# Feature Importance Permutation\n",
    "from sklearn.inspection import permutation_importance\n",
    "results = permutation_importance(model, x_train, y_train, scoring='accuracy')\n",
    "importance = results.importances_mean"
   ]
  },
  {
   "cell_type": "code",
   "execution_count": 57,
   "metadata": {},
   "outputs": [
    {
     "name": "stdout",
     "output_type": "stream",
     "text": [
      "Feature: 0, Score: -0.00224\n",
      "Feature: 1, Score: 0.10448\n",
      "Feature: 2, Score: 0.00075\n",
      "Feature: 3, Score: 0.00970\n",
      "Feature: 4, Score: 0.05746\n",
      "Feature: 5, Score: -0.00075\n",
      "Feature: 6, Score: 0.00000\n",
      "Feature: 7, Score: 0.02313\n"
     ]
    }
   ],
   "source": [
    "for i,v in enumerate(importance):\n",
    "    print('Feature: %0d, Score: %.5f' % (i,v))"
   ]
  },
  {
   "cell_type": "code",
   "execution_count": 59,
   "metadata": {},
   "outputs": [
    {
     "data": {
      "image/png": "[encoded data removed]",
      "text/plain": [
       "<Figure size 432x288 with 1 Axes>"
      ]
     },
     "metadata": {
      "needs_background": "light"
     },
     "output_type": "display_data"
    }
   ],
   "source": [
    "plt.bar([x for x in range(len(importance))], importance)\n",
    "plt.show()"
   ]
  },
  {
   "cell_type": "markdown",
   "metadata": {},
   "source": [
    "Atividade (1.25): realizar a seleção de features com o RFECV atendendo aos seguintes itens:\n",
    "<ol>\n",
    "        <li> Modifique a função select_features para receber como parâmetro de entrada o nome do seletor (RFE, KBest e Feature Importance). Para o feature importance, use a função do sklearn SelectFromModel e defina o modelo e o número máximo de features de modo a resultar em uma acurácia média superior a 74%; </li> \n",
    "        <li> Plotar um boxplot da acurácia obtida pelos classificador para cada seletor de features. Atenção: utilizar a versão da função get_best_model() que vocês desenvolveram na atividade anterior, contemplando os classificadores svm e gxboost;</li>    \n",
    "</ol"
   ]
  }
 ],
 "metadata": {
  "kernelspec": {
   "display_name": "Python 3",
   "language": "python",
   "name": "python3"
  },
  "language_info": {
   "codemirror_mode": {
    "name": "ipython",
    "version": 3
   },
   "file_extension": ".py",
   "mimetype": "text/x-python",
   "name": "python",
   "nbconvert_exporter": "python",
   "pygments_lexer": "ipython3",
   "version": "3.8.3"
  }
 },
 "nbformat": 4,
 "nbformat_minor": 4
}
