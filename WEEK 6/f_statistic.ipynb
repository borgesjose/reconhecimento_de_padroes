{
 "cells": [
  {
   "cell_type": "markdown",
   "metadata": {},
   "source": [
    "# Seleção de Features com F-score"
   ]
  },
  {
   "cell_type": "markdown",
   "metadata": {},
   "source": [
    "## Importando as bibliotecas"
   ]
  },
  {
   "cell_type": "code",
   "execution_count": 27,
   "metadata": {},
   "outputs": [],
   "source": [
    "import numpy as np\n",
    "import scipy.stats as st"
   ]
  },
  {
   "cell_type": "markdown",
   "metadata": {},
   "source": [
    "## Definindo as amostras"
   ]
  },
  {
   "cell_type": "code",
   "execution_count": 28,
   "metadata": {},
   "outputs": [],
   "source": [
    "x = np.asarray([19, 20, 29, 23, 29, 26, 22, 19, 26, 13, 34, 16, 19, 30, 27, 25])"
   ]
  },
  {
   "cell_type": "code",
   "execution_count": 29,
   "metadata": {},
   "outputs": [],
   "source": [
    "y = np.asarray([41, 47, 41, 44, 43, 44, 50, 47, 44, 46, 41, 47, 48, 44, 46, 44])"
   ]
  },
  {
   "cell_type": "code",
   "execution_count": 30,
   "metadata": {},
   "outputs": [],
   "source": [
    "x1 = np.asarray([19, 23, 19, 29, 23, 23, 25, 22, 26, 24,20, 21, 26, 22, 25,20, 23, 24, 24, 27,16, 30, 20, 18, 20])"
   ]
  },
  {
   "cell_type": "code",
   "execution_count": 31,
   "metadata": {},
   "outputs": [],
   "source": [
    "y1 = np.asarray([21, 22, 23, 24,30, 21, 20, 23,21, 21, 21, 28,23, 25, 24, 21])"
   ]
  },
  {
   "cell_type": "markdown",
   "metadata": {},
   "source": [
    "## Como calcular a variância"
   ]
  },
  {
   "cell_type": "code",
   "execution_count": 32,
   "metadata": {},
   "outputs": [
    {
     "data": {
      "text/plain": [
       "30.12109375"
      ]
     },
     "execution_count": 32,
     "metadata": {},
     "output_type": "execute_result"
    }
   ],
   "source": [
    "x.std()**2"
   ]
  },
  {
   "cell_type": "code",
   "execution_count": 33,
   "metadata": {},
   "outputs": [
    {
     "data": {
      "text/plain": [
       "30.12109375"
      ]
     },
     "execution_count": 33,
     "metadata": {},
     "output_type": "execute_result"
    }
   ],
   "source": [
    "x.var()"
   ]
  },
  {
   "cell_type": "code",
   "execution_count": 34,
   "metadata": {},
   "outputs": [
    {
     "name": "stdout",
     "output_type": "stream",
     "text": [
      "30.12109375\n"
     ]
    }
   ],
   "source": [
    "sum = 0\n",
    "for i in range(len(x)):\n",
    "    sum = sum + (x[i] - x.mean())**2\n",
    "print(sum/(len(x)))"
   ]
  },
  {
   "cell_type": "markdown",
   "metadata": {},
   "source": [
    "## Avaliando a hipótese através do p-value"
   ]
  },
  {
   "cell_type": "code",
   "execution_count": 35,
   "metadata": {},
   "outputs": [],
   "source": [
    "def f_test(x, y, alpha, alt=\"two_sided\"):\n",
    "\n",
    "    df1 = len(x) - 1\n",
    "    df2 = len(y) - 1\n",
    "    f_score = x.var() / y.var()\n",
    "    \n",
    "    if alt == \"right\":\n",
    "        p = 1.0 - st.f.cdf(f_score, df1, df2)\n",
    "    elif alt == \"left\":\n",
    "        p = st.f.cdf(f_score, df1, df2)\n",
    "    else:\n",
    "        p = 2.0*(1.0 - st.f.cdf(f_score, df1, df2))\n",
    "        \n",
    "    if (p<alpha):\n",
    "        print('Rejeita H0! F-score:', f_score, 'P-value:', p)\n",
    "    else:\n",
    "        print('Não há evidências para rejeitar H0! F-score:', f_score, 'P-value:', p)"
   ]
  },
  {
   "cell_type": "code",
   "execution_count": 36,
   "metadata": {},
   "outputs": [
    {
     "name": "stdout",
     "output_type": "stream",
     "text": [
      "Rejeita H0! F-score: 4.614602034709755 P-value: 0.0026455301493680805\n"
     ]
    }
   ],
   "source": [
    "f_test(x,y,0.05,\"right\")"
   ]
  },
  {
   "cell_type": "code",
   "execution_count": null,
   "metadata": {},
   "outputs": [],
   "source": [
    "f_test(x1,y1,0.05,\"right\")"
   ]
  }
 ],
 "metadata": {
  "kernelspec": {
   "display_name": "Python 3",
   "language": "python",
   "name": "python3"
  },
  "language_info": {
   "codemirror_mode": {
    "name": "ipython",
    "version": 3
   },
   "file_extension": ".py",
   "mimetype": "text/x-python",
   "name": "python",
   "nbconvert_exporter": "python",
   "pygments_lexer": "ipython3",
   "version": "3.8.3"
  }
 },
 "nbformat": 4,
 "nbformat_minor": 4
}
