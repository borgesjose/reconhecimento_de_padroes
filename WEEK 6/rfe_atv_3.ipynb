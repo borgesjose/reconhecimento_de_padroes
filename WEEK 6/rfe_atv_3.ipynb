{
  "nbformat": 4,
  "nbformat_minor": 0,
  "metadata": {
    "colab": {
      "name": "rfe_atv_3.ipynb",
      "provenance": [],
      "authorship_tag": "ABX9TyP9JT4DWnQhYBnBqQ7hFXL0",
      "include_colab_link": true
    },
    "kernelspec": {
      "name": "python3",
      "display_name": "Python 3"
    },
    "language_info": {
      "name": "python"
    }
  },
  "cells": [
    {
      "cell_type": "markdown",
      "metadata": {
        "id": "view-in-github",
        "colab_type": "text"
      },
      "source": [
        "<a href=\"https://colab.research.google.com/github/borgesjose/reconhecimento_de_padroes/blob/master/WEEK%206/rfe_atv_3.ipynb\" target=\"_parent\"><img src=\"https://colab.research.google.com/assets/colab-badge.svg\" alt=\"Open In Colab\"/></a>"
      ]
    },
    {
      "cell_type": "code",
      "metadata": {
        "colab": {
          "base_uri": "https://localhost:8080/"
        },
        "id": "5NDPmk6FpSHz",
        "outputId": "6e453761-6bb9-41a3-eae0-c9da814c036f"
      },
      "source": [
        "pip install scikit-optimize"
      ],
      "execution_count": null,
      "outputs": [
        {
          "output_type": "stream",
          "name": "stdout",
          "text": [
            "Collecting scikit-optimize\n",
            "  Downloading scikit_optimize-0.9.0-py2.py3-none-any.whl (100 kB)\n",
            "\u001b[?25l\r\u001b[K     |███▎                            | 10 kB 24.0 MB/s eta 0:00:01\r\u001b[K     |██████▌                         | 20 kB 27.5 MB/s eta 0:00:01\r\u001b[K     |█████████▉                      | 30 kB 12.2 MB/s eta 0:00:01\r\u001b[K     |█████████████                   | 40 kB 9.7 MB/s eta 0:00:01\r\u001b[K     |████████████████▍               | 51 kB 4.8 MB/s eta 0:00:01\r\u001b[K     |███████████████████▋            | 61 kB 5.0 MB/s eta 0:00:01\r\u001b[K     |██████████████████████▉         | 71 kB 5.2 MB/s eta 0:00:01\r\u001b[K     |██████████████████████████▏     | 81 kB 5.8 MB/s eta 0:00:01\r\u001b[K     |█████████████████████████████▍  | 92 kB 6.3 MB/s eta 0:00:01\r\u001b[K     |████████████████████████████████| 100 kB 4.2 MB/s \n",
            "\u001b[?25hRequirement already satisfied: scipy>=0.19.1 in /usr/local/lib/python3.7/dist-packages (from scikit-optimize) (1.4.1)\n",
            "Requirement already satisfied: numpy>=1.13.3 in /usr/local/lib/python3.7/dist-packages (from scikit-optimize) (1.19.5)\n",
            "Collecting pyaml>=16.9\n",
            "  Downloading pyaml-21.10.1-py2.py3-none-any.whl (24 kB)\n",
            "Requirement already satisfied: joblib>=0.11 in /usr/local/lib/python3.7/dist-packages (from scikit-optimize) (1.1.0)\n",
            "Requirement already satisfied: scikit-learn>=0.20.0 in /usr/local/lib/python3.7/dist-packages (from scikit-optimize) (0.22.2.post1)\n",
            "Requirement already satisfied: PyYAML in /usr/local/lib/python3.7/dist-packages (from pyaml>=16.9->scikit-optimize) (3.13)\n",
            "Installing collected packages: pyaml, scikit-optimize\n",
            "Successfully installed pyaml-21.10.1 scikit-optimize-0.9.0\n"
          ]
        }
      ]
    },
    {
      "cell_type": "code",
      "metadata": {
        "colab": {
          "base_uri": "https://localhost:8080/"
        },
        "id": "_ZjPm5ElpUGs",
        "outputId": "e78d04d5-41f0-4443-c4b2-81ed9df50aa1"
      },
      "source": [
        "pip install xgboost"
      ],
      "execution_count": null,
      "outputs": [
        {
          "output_type": "stream",
          "name": "stdout",
          "text": [
            "Requirement already satisfied: xgboost in /usr/local/lib/python3.7/dist-packages (0.90)\n",
            "Requirement already satisfied: numpy in /usr/local/lib/python3.7/dist-packages (from xgboost) (1.19.5)\n",
            "Requirement already satisfied: scipy in /usr/local/lib/python3.7/dist-packages (from xgboost) (1.4.1)\n"
          ]
        }
      ]
    },
    {
      "cell_type": "markdown",
      "metadata": {
        "id": "5MyGr2_HDy7P"
      },
      "source": [
        "# Seleção de Features c/ método wrapping: Recursive Feature Elimination"
      ]
    },
    {
      "cell_type": "markdown",
      "metadata": {
        "id": "OoP8BmTAD_0x"
      },
      "source": [
        "Atividade (1.25): realizar a seleção de features com o RFECV atendendo aos seguintes itens:\n",
        "<ol>\n",
        "        <li> Modifique a função select_features para receber como parâmetro de entrada o nome do seletor (RFE, KBest e Feature Importance). Para o feature importance, use a função do sklearn SelectFromModel e defina o modelo e o número máximo de features de modo a resultar em uma acurácia média superior a 74%; </li> \n",
        "        <li> Plotar um boxplot da acurácia obtida pelos classificador para cada seletor de features. Atenção: utilizar a versão da função get_best_model() que vocês desenvolveram na atividade anterior, contemplando os classificadores svm e gxboost;</li>    \n",
        "</ol"
      ]
    },
    {
      "cell_type": "code",
      "metadata": {
        "id": "IMuZRGawFX5L"
      },
      "source": [
        "from pandas import read_csv\n",
        "from numpy import nan\n",
        "from sklearn.feature_selection import RFECV\n",
        "from sklearn.tree import DecisionTreeClassifier\n",
        "from sklearn.model_selection import train_test_split\n",
        "from sklearn.ensemble import RandomForestClassifier\n",
        "from sklearn.model_selection import GridSearchCV\n",
        "from sklearn.model_selection import RepeatedStratifiedKFold\n",
        "from sklearn.model_selection import cross_val_score\n",
        "from numpy import mean\n",
        "from numpy import std\n",
        "import matplotlib.pyplot as plt\n",
        "\n",
        "from sklearn.feature_selection import SelectKBest, chi2\n",
        "\n",
        "from sklearn.feature_selection import SelectFromModel\n",
        "\n",
        "from sklearn.svm import SVC \n",
        "\n",
        "import xgboost as xgb\n"
      ],
      "execution_count": null,
      "outputs": []
    },
    {
      "cell_type": "code",
      "metadata": {
        "id": "JncbXSPuFZ9L"
      },
      "source": [
        "#Fonte: https://www.kaggle.com/uciml/pima-indians-diabetes-database\n",
        "#data = read_csv('pima-indians-diabetes.csv' , header=None)\n",
        "data = read_csv('https://raw.githubusercontent.com/borgesjose/reconhecimento_de_padroes/master/WEEK%206/pima-indians-diabetes.csv')"
      ],
      "execution_count": null,
      "outputs": []
    },
    {
      "cell_type": "code",
      "metadata": {
        "id": "Bc-YuGJ_Fbk4"
      },
      "source": [
        "## eliminando dados faltantes\n",
        "data.iloc[:,:-1] = data.iloc[:,:-1].replace(0, nan)\n",
        "data.dropna(inplace=True)"
      ],
      "execution_count": null,
      "outputs": []
    },
    {
      "cell_type": "code",
      "metadata": {
        "id": "ygcCFNMrFcOv"
      },
      "source": [
        "## Divisão treino/teste\n",
        "x = data.iloc[:,:-1]\n",
        "y = data.iloc[:,-1]"
      ],
      "execution_count": null,
      "outputs": []
    },
    {
      "cell_type": "markdown",
      "metadata": {
        "id": "N6kR555mEB1A"
      },
      "source": [
        "## 1 - Modifique a função select_features.\n",
        "\n",
        "Modifique a função select_features para receber como parâmetro de entrada o nome do seletor (RFE, KBest e Feature Importance). Para o feature importance, use a função do sklearn SelectFromModel e defina o modelo e o número máximo de features de modo a resultar em uma acurácia média superior a 74%;"
      ]
    },
    {
      "cell_type": "code",
      "metadata": {
        "id": "Qa8p46U43qaR"
      },
      "source": [
        "def select_features(select_name, x_train, y_train, x_test): \n",
        "    \n",
        "    if select_name == 'rfe':\n",
        "      rfe = RFECV(estimator=DecisionTreeClassifier())\n",
        "      rfe.fit(x_train, y_train)\n",
        "\n",
        "    elif select_name == 'kbest':\n",
        "      rfe = SelectKBest(chi2, k=2)\n",
        "      rfe.fit(x_train, y_train)\n",
        "\n",
        "    elif select_name == 'feature_importance':\n",
        "      rfe = SelectFromModel(estimator=DecisionTreeClassifier())\n",
        "      rfe.fit(x_train, y_train)\n",
        "\n",
        "    else: \n",
        "      print(\"Oops! That was no valid selector. Try again...\")\n",
        "\n",
        "    x_train_fs = rfe.transform(x_train)\n",
        "    x_test_fs = rfe.transform(x_test)\n",
        "\n",
        "    return x_train_fs, x_test_fs, rfe"
      ],
      "execution_count": null,
      "outputs": []
    },
    {
      "cell_type": "markdown",
      "metadata": {
        "id": "qoxW3WMiondA"
      },
      "source": [
        "## 2 - Plotar Boxplot.\n",
        "\n",
        "Plotar um boxplot da acurácia obtida pelos classificador para cada seletor de features. Atenção: utilizar a versão da função get_best_model() que vocês desenvolveram na atividade anterior, contemplando os classificadores svm e gxboost;"
      ]
    },
    {
      "cell_type": "code",
      "metadata": {
        "id": "QA2n8xBKoy9-"
      },
      "source": [
        "def get_best_model_2(model_name, opt_name, x, y):\n",
        "    \n",
        "    import warnings\n",
        "    from sklearn.model_selection import train_test_split\n",
        "\n",
        "    X_train, X_test, y_train, y_test = train_test_split(x, y, test_size=0.3,random_state=109) # 70% training and 30% test\n",
        "\n",
        "    \n",
        "    if model_name == 'd_tree':\n",
        "        params = {'max_depth': [None, 1, 3, 5, 7, 9, 11, 13, 15, 17, 19, 21]}\n",
        "        model = DecisionTreeClassifier()\n",
        "    elif model_name == 'r_forest':\n",
        "        params = {'n_estimators': [10, 50, 100, 200], 'max_depth': [None, 1, 3, 5, 7]}\n",
        "        model = RandomForestClassifier()\n",
        "    elif model_name == 'svm':\n",
        "        params = {'C': [1, 10, 50, 100]} #, 'gamma': [0.001, 0.0001]}\n",
        "        model = SVC()\n",
        "    elif model_name == 'gxboost':\n",
        "        params = {'max_depth': [2, 4, 6], 'n_estimators': [50, 100, 200]}\n",
        "        model = xgb.XGBClassifier()\n",
        "    else:\n",
        "        print(\"Oops! That was no valid model. Try again...\")\n",
        "    \n",
        "    if opt_name == 'grid':\n",
        "        grid = GridSearchCV(model,           \n",
        "                            params,          \n",
        "                            error_score=0.)  \n",
        "        grid.fit(X_train, y_train) \n",
        "\n",
        "    elif opt_name == 'bayes':\n",
        "\n",
        "        warnings.filterwarnings(\"ignore\")\n",
        "\n",
        "        grid = BayesSearchCV(model, params)\n",
        "        grid.fit(X_train,y_train)\n",
        "\n",
        "    else:\n",
        "        print(\"Oops! That was no valid optmization method. Try again...\")\n",
        "\n",
        "    return grid"
      ],
      "execution_count": null,
      "outputs": []
    },
    {
      "cell_type": "code",
      "metadata": {
        "id": "k-Z8hFnyoEiy"
      },
      "source": [
        "def evaluate_model(model, x_test, y_test):\n",
        "    cv = RepeatedStratifiedKFold(n_splits=5, n_repeats=3, random_state=1)\n",
        "    scores = cross_val_score(model, x_test, y_test, scoring= 'accuracy' , cv=cv, n_jobs=-1)\n",
        "    return scores"
      ],
      "execution_count": null,
      "outputs": []
    },
    {
      "cell_type": "code",
      "metadata": {
        "id": "q4Xp8ekTjo9-"
      },
      "source": [
        "x_train, x_test, y_train, y_test = train_test_split(x, y, test_size=0.2, random_state=1)"
      ],
      "execution_count": null,
      "outputs": []
    },
    {
      "cell_type": "code",
      "metadata": {
        "colab": {
          "base_uri": "https://localhost:8080/"
        },
        "id": "FOVJNVi-jmPE",
        "outputId": "11f9a90b-d49c-4956-da79-49dc58609e4e"
      },
      "source": [
        "# Seleção das features\n",
        "x_train_fs, x_test_fs, fs = select_features('rfe',x_train, y_train, x_test)\n",
        "\n",
        "# Capturar os melhores parâmetros do modelo\n",
        "grid = get_best_model_2(\"r_forest\", 'grid', x_train_fs, y_train)\n",
        "\n",
        "# Instanciar o modelo com os melhores parâmetros e treiná-lo\n",
        "#model = DecisionTreeClassifier(**grid.best_params_)\n",
        "model = RandomForestClassifier(**grid.best_params_)\n",
        "model.fit(x_train_fs, y_train)\n",
        "\n",
        "# Avaliando o modelo\n",
        "scores = evaluate_model(model,x_test_fs,y_test)\n",
        "print( '%s > %.3f (%.3f) ' % (\"r_forest\",  mean(scores), std(scores)))"
      ],
      "execution_count": null,
      "outputs": [
        {
          "output_type": "stream",
          "name": "stdout",
          "text": [
            "r_forest > 0.677 (0.048) \n"
          ]
        }
      ]
    },
    {
      "cell_type": "code",
      "metadata": {
        "colab": {
          "base_uri": "https://localhost:8080/"
        },
        "id": "PhcT9FTxtOjX",
        "outputId": "7ad07744-7871-46d1-cad9-e6afec5624a7"
      },
      "source": [
        "scores"
      ],
      "execution_count": null,
      "outputs": [
        {
          "output_type": "execute_result",
          "data": {
            "text/plain": [
              "array([0.64285714, 0.71428571, 0.57142857, 0.69230769, 0.76923077,\n",
              "       0.71428571, 0.71428571, 0.71428571, 0.61538462, 0.69230769,\n",
              "       0.64285714, 0.64285714, 0.64285714, 0.69230769, 0.69230769])"
            ]
          },
          "metadata": {},
          "execution_count": 16
        }
      ]
    },
    {
      "cell_type": "code",
      "metadata": {
        "colab": {
          "base_uri": "https://localhost:8080/",
          "height": 383
        },
        "id": "AM4HOO3KiIaA",
        "outputId": "c9249871-f5a6-4baf-f0d4-40b0f470756f"
      },
      "source": [
        "# Import libraries\n",
        "import matplotlib.pyplot as plt\n",
        "import numpy as np\n",
        "\n",
        "fig, axs = plt.subplots(1, 4)\n",
        "\n",
        "tipos = ['d_tree','r_forest','svm', 'gxboost']\n",
        "\n",
        "for k in range(0,4):\n",
        "  x_train_fs, x_test_fs, fs = select_features('rfe',x_train, y_train, x_test)\n",
        "  grid = get_best_model_2(tipos[k], 'grid', x_train_fs, y_train)\n",
        "\n",
        "  if tipos[k] == 'd_tree':\n",
        "    model = DecisionTreeClassifier(**grid.best_params_)\n",
        "  if tipos[k] == 'r_forest':\n",
        "    model = RandomForestClassifier(**grid.best_params_)\n",
        "  if tipos[k] == 'svm':\n",
        "    model = SVC(**grid.best_params_)\n",
        "  if tipos[k] == 'gxboost': \n",
        "    model = xgb.XGBClassifier(**grid.best_params_)\n",
        "  \n",
        "  model.fit(x_train_fs, y_train)\n",
        "  scores = evaluate_model(model,x_test_fs,y_test)\n",
        "  \n",
        "  axs[k].boxplot(scores)\n",
        "  axs[k].set_title(\"Para \"+ tipos[k])\n",
        "\n",
        "\n",
        "fig.tight_layout()\n",
        "fig.set_size_inches(20, 5)\n",
        "fig.suptitle('Boxplots - RFECV')"
      ],
      "execution_count": null,
      "outputs": [
        {
          "output_type": "execute_result",
          "data": {
            "text/plain": [
              "Text(0.5, 0.98, 'Boxplots - RFECV')"
            ]
          },
          "metadata": {},
          "execution_count": 28
        },
        {
          "output_type": "display_data",
          "data": {
            "image/png": "[encoded data removed]",
            "text/plain": [
              "<Figure size 1440x360 with 4 Axes>"
            ]
          },
          "metadata": {
            "needs_background": "light"
          }
        }
      ]
    },
    {
      "cell_type": "code",
      "metadata": {
        "colab": {
          "base_uri": "https://localhost:8080/",
          "height": 383
        },
        "id": "Fu4jTuEHyFZb",
        "outputId": "c8941c5e-8359-486a-959b-71eeb2a12641"
      },
      "source": [
        "# Import libraries\n",
        "import matplotlib.pyplot as plt\n",
        "import numpy as np\n",
        "\n",
        "fig, axs = plt.subplots(1, 4)\n",
        "\n",
        "tipos = ['d_tree','r_forest','svm', 'gxboost']\n",
        "\n",
        "for k in range(0,4):\n",
        "  x_train_fs, x_test_fs, fs = select_features('kbest',x_train, y_train, x_test)\n",
        "  grid = get_best_model_2(tipos[k], 'grid', x_train_fs, y_train)\n",
        "\n",
        "  if tipos[k] == 'd_tree':\n",
        "    model = DecisionTreeClassifier(**grid.best_params_)\n",
        "  if tipos[k] == 'r_forest':\n",
        "    model = RandomForestClassifier(**grid.best_params_)\n",
        "  if tipos[k] == 'svm':\n",
        "    model = SVC(**grid.best_params_)\n",
        "  if tipos[k] == 'gxboost': \n",
        "    model = xgb.XGBClassifier(**grid.best_params_)\n",
        "  \n",
        "  model.fit(x_train_fs, y_train)\n",
        "  scores = evaluate_model(model,x_test_fs,y_test)\n",
        "  \n",
        "  axs[k].boxplot(scores)\n",
        "  axs[k].set_title(\"Para \"+ tipos[k])\n",
        "\n",
        "\n",
        "fig.tight_layout()\n",
        "fig.set_size_inches(20, 5)\n",
        "fig.suptitle('Boxplots - KBEST')\n"
      ],
      "execution_count": null,
      "outputs": [
        {
          "output_type": "execute_result",
          "data": {
            "text/plain": [
              "Text(0.5, 0.98, 'Boxplots - KBEST')"
            ]
          },
          "metadata": {},
          "execution_count": 29
        },
        {
          "output_type": "display_data",
          "data": {
            "image/png": "[encoded data removed]",
            "text/plain": [
              "<Figure size 1440x360 with 4 Axes>"
            ]
          },
          "metadata": {
            "needs_background": "light"
          }
        }
      ]
    },
    {
      "cell_type": "code",
      "metadata": {
        "colab": {
          "base_uri": "https://localhost:8080/",
          "height": 383
        },
        "id": "TGuK8iY39Dp5",
        "outputId": "28d15032-a4ab-4d8d-f94d-145a49d6566c"
      },
      "source": [
        "# Import libraries\n",
        "import matplotlib.pyplot as plt\n",
        "import numpy as np\n",
        "\n",
        "fig, axs = plt.subplots(1, 4)\n",
        "\n",
        "tipos = ['d_tree','r_forest','svm', 'gxboost']\n",
        "\n",
        "for k in range(0,4):\n",
        "  x_train_fs, x_test_fs, fs = select_features('feature_importance',x_train, y_train, x_test)\n",
        "  grid = get_best_model_2(tipos[k], 'grid', x_train_fs, y_train)\n",
        "\n",
        "  if tipos[k] == 'd_tree':\n",
        "    model = DecisionTreeClassifier(**grid.best_params_)\n",
        "  if tipos[k] == 'r_forest':\n",
        "    model = RandomForestClassifier(**grid.best_params_)\n",
        "  if tipos[k] == 'svm':\n",
        "    model = SVC(**grid.best_params_)\n",
        "  if tipos[k] == 'gxboost': \n",
        "    model = xgb.XGBClassifier(**grid.best_params_)\n",
        "  \n",
        "  model.fit(x_train_fs, y_train)\n",
        "  scores = evaluate_model(model,x_test_fs,y_test)\n",
        "  \n",
        "  axs[k].boxplot(scores)\n",
        "  axs[k].set_title(\"Para \"+ tipos[k])\n",
        "\n",
        "\n",
        "fig.tight_layout()\n",
        "fig.set_size_inches(20, 5)\n",
        "fig.suptitle('Boxplots - RFECV')"
      ],
      "execution_count": null,
      "outputs": [
        {
          "output_type": "execute_result",
          "data": {
            "text/plain": [
              "Text(0.5, 0.98, 'Boxplots - RFECV')"
            ]
          },
          "metadata": {},
          "execution_count": 30
        },
        {
          "output_type": "display_data",
          "data": {
            "image/png": "[encoded data removed]",
            "text/plain": [
              "<Figure size 1440x360 with 4 Axes>"
            ]
          },
          "metadata": {
            "needs_background": "light"
          }
        }
      ]
    }
  ]
}