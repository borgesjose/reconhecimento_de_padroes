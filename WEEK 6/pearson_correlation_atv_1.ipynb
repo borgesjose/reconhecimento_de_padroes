{
 "cells": [
  {
   "cell_type": "markdown",
   "metadata": {},
   "source": [
    "# Atividade 6 -  Seleção de features"
   ]
  },
  {
   "cell_type": "markdown",
   "metadata": {},
   "source": [
    "Atividade (1.25): realizar a seleção de de características baseada no coeficiente de correlação de Pearson atendendo aos seguintes itens:\n",
    "<ol>\n",
    "        <li> Criar uma função chamada feature_selector que irá receber um limiar como parâmetro de entrada e deverá retornar um subconjunto dos dados referente aquelas features cuja correlação está acima do limiar passado; </li> \n",
    "        <li> Extrapolar a função get_best_model para abranger os classificadores svm e gxboost;</li> \n",
    "        <li> Extrapolar a função get_best_model para abranger a otimização Bayesiana (Scikit-Optimize);</li> \n",
    "        <li> Apresentar uma tabela de comparação dos resultado da classificação considerando cada 1 dos otimizadores: acurácia de teste, kappa de teste e tempo médio do otimizador para fitar os dados. Dica: divisão treino é a sua escolha</li>    \n",
    "</ol "
   ]
  },
  {
   "cell_type": "markdown",
   "metadata": {},
   "source": [
    "### Importando as bibliotecas"
   ]
  },
  {
   "cell_type": "code",
   "execution_count": 17,
   "metadata": {},
   "outputs": [],
   "source": [
    "import pandas as pd\n",
    "from scipy import stats\n",
    "\n",
    "from sklearn.tree import DecisionTreeClassifier\n",
    "from sklearn.ensemble import RandomForestClassifier\n",
    "from sklearn.model_selection import GridSearchCV\n",
    "\n",
    "from sklearn.svm import SVC \n"
   ]
  },
  {
   "cell_type": "markdown",
   "metadata": {},
   "source": [
    "### Carregandos Dados"
   ]
  },
  {
   "cell_type": "code",
   "execution_count": 2,
   "metadata": {},
   "outputs": [],
   "source": [
    "# Fonte:  https://archive.ics.uci.edu/ml/datasets/default+of+credit+card+clients\n",
    "data = pd.read_csv('credit-card-default.csv')"
   ]
  },
  {
   "cell_type": "markdown",
   "metadata": {},
   "source": [
    "## 1. Criando a função ``` feature_selector``` :"
   ]
  },
  {
   "cell_type": "code",
   "execution_count": 24,
   "metadata": {},
   "outputs": [],
   "source": [
    "def feature_selector(lim,y_name):\n",
    "\n",
    "    x = data.drop(y_name, axis=1)\n",
    "    \n",
    "    highly_corr_feat = data.columns[data.corr()[y_name].abs() > lim]\n",
    "    highly_corr_feat = highly_corr_feat.drop(y_name)\n",
    "\n",
    "    x_corr = x[highly_corr_feat]\n",
    "\n",
    "    return x_corr"
   ]
  },
  {
   "cell_type": "code",
   "execution_count": 25,
   "metadata": {},
   "outputs": [
    {
     "data": {
      "text/html": [
       "<div>\n",
       "<style scoped>\n",
       "    .dataframe tbody tr th:only-of-type {\n",
       "        vertical-align: middle;\n",
       "    }\n",
       "\n",
       "    .dataframe tbody tr th {\n",
       "        vertical-align: top;\n",
       "    }\n",
       "\n",
       "    .dataframe thead th {\n",
       "        text-align: right;\n",
       "    }\n",
       "</style>\n",
       "<table border=\"1\" class=\"dataframe\">\n",
       "  <thead>\n",
       "    <tr style=\"text-align: right;\">\n",
       "      <th></th>\n",
       "      <th>PAY_0</th>\n",
       "      <th>PAY_2</th>\n",
       "      <th>PAY_3</th>\n",
       "      <th>PAY_4</th>\n",
       "      <th>PAY_5</th>\n",
       "    </tr>\n",
       "  </thead>\n",
       "  <tbody>\n",
       "    <tr>\n",
       "      <th>0</th>\n",
       "      <td>2</td>\n",
       "      <td>2</td>\n",
       "      <td>-1</td>\n",
       "      <td>-1</td>\n",
       "      <td>-2</td>\n",
       "    </tr>\n",
       "    <tr>\n",
       "      <th>1</th>\n",
       "      <td>-1</td>\n",
       "      <td>2</td>\n",
       "      <td>0</td>\n",
       "      <td>0</td>\n",
       "      <td>0</td>\n",
       "    </tr>\n",
       "    <tr>\n",
       "      <th>2</th>\n",
       "      <td>0</td>\n",
       "      <td>0</td>\n",
       "      <td>0</td>\n",
       "      <td>0</td>\n",
       "      <td>0</td>\n",
       "    </tr>\n",
       "    <tr>\n",
       "      <th>3</th>\n",
       "      <td>0</td>\n",
       "      <td>0</td>\n",
       "      <td>0</td>\n",
       "      <td>0</td>\n",
       "      <td>0</td>\n",
       "    </tr>\n",
       "    <tr>\n",
       "      <th>4</th>\n",
       "      <td>-1</td>\n",
       "      <td>0</td>\n",
       "      <td>-1</td>\n",
       "      <td>0</td>\n",
       "      <td>0</td>\n",
       "    </tr>\n",
       "    <tr>\n",
       "      <th>...</th>\n",
       "      <td>...</td>\n",
       "      <td>...</td>\n",
       "      <td>...</td>\n",
       "      <td>...</td>\n",
       "      <td>...</td>\n",
       "    </tr>\n",
       "    <tr>\n",
       "      <th>29995</th>\n",
       "      <td>0</td>\n",
       "      <td>0</td>\n",
       "      <td>0</td>\n",
       "      <td>0</td>\n",
       "      <td>0</td>\n",
       "    </tr>\n",
       "    <tr>\n",
       "      <th>29996</th>\n",
       "      <td>-1</td>\n",
       "      <td>-1</td>\n",
       "      <td>-1</td>\n",
       "      <td>-1</td>\n",
       "      <td>0</td>\n",
       "    </tr>\n",
       "    <tr>\n",
       "      <th>29997</th>\n",
       "      <td>4</td>\n",
       "      <td>3</td>\n",
       "      <td>2</td>\n",
       "      <td>-1</td>\n",
       "      <td>0</td>\n",
       "    </tr>\n",
       "    <tr>\n",
       "      <th>29998</th>\n",
       "      <td>1</td>\n",
       "      <td>-1</td>\n",
       "      <td>0</td>\n",
       "      <td>0</td>\n",
       "      <td>0</td>\n",
       "    </tr>\n",
       "    <tr>\n",
       "      <th>29999</th>\n",
       "      <td>0</td>\n",
       "      <td>0</td>\n",
       "      <td>0</td>\n",
       "      <td>0</td>\n",
       "      <td>0</td>\n",
       "    </tr>\n",
       "  </tbody>\n",
       "</table>\n",
       "<p>30000 rows × 5 columns</p>\n",
       "</div>"
      ],
      "text/plain": [
       "       PAY_0  PAY_2  PAY_3  PAY_4  PAY_5\n",
       "0          2      2     -1     -1     -2\n",
       "1         -1      2      0      0      0\n",
       "2          0      0      0      0      0\n",
       "3          0      0      0      0      0\n",
       "4         -1      0     -1      0      0\n",
       "...      ...    ...    ...    ...    ...\n",
       "29995      0      0      0      0      0\n",
       "29996     -1     -1     -1     -1      0\n",
       "29997      4      3      2     -1      0\n",
       "29998      1     -1      0      0      0\n",
       "29999      0      0      0      0      0\n",
       "\n",
       "[30000 rows x 5 columns]"
      ]
     },
     "execution_count": 25,
     "metadata": {},
     "output_type": "execute_result"
    }
   ],
   "source": [
    "feature_selector(0.2,'default payment next month' )"
   ]
  },
  {
   "cell_type": "markdown",
   "metadata": {},
   "source": [
    "## 2. Extrapolando a função ```get_best_model``` para abranger os classificadores svm e gxboost :"
   ]
  },
  {
   "cell_type": "code",
   "execution_count": null,
   "metadata": {},
   "outputs": [],
   "source": [
    "def get_best_model_1(model_name, x, y):\n",
    "    \n",
    "    if model_name == 'd_tree':\n",
    "        params = {'max_depth': [None, 1, 3, 5, 7, 9, 11, 13, 15, 17, 19, 21]}\n",
    "        model = DecisionTreeClassifier()\n",
    "    elif model_name == 'r_forest':\n",
    "        params = {'n_estimators': [10, 50, 100, 200], 'max_depth': [None, 1, 3, 5, 7]}\n",
    "        model = RandomForestClassifier()\n",
    "    elif model_name == 'svm':\n",
    "        params = {}\n",
    "        model = SVC()\n",
    "    elif model_name == 'gxboost':\n",
    "        params = {}\n",
    "        model = \n",
    "        \n",
    "    else:\n",
    "        print(\"Oops! That was no valid model. Try again...\")\n",
    "    \n",
    "    \n",
    "    grid = GridSearchCV(model,           \n",
    "                        params,          \n",
    "                        error_score=0.)  \n",
    "    grid.fit(x, y) \n",
    "    \n",
    "    print(\"Maior acurácia: {}\".format(grid.best_score_))\n",
    "    print(\"Melhores parâmetros: {}\".format(grid.best_params_))\n",
    "    print(\"Tempo médio para o otimizador fitar os dados (s): {}\".format(round(grid.cv_results_['mean_fit_time'].mean(), 3)))\n",
    "    print(\"Tempo médio para o otimizador realizar a predição (s): {}\".format(round(grid.cv_results_['mean_score_time'].mean(), 3)))"
   ]
  },
  {
   "cell_type": "markdown",
   "metadata": {},
   "source": [
    "## 3. Extrpolando a função ```get_best_model``` para abranger a otimização Bayesiana (Scikit-Optimize):"
   ]
  },
  {
   "cell_type": "code",
   "execution_count": 35,
   "metadata": {},
   "outputs": [],
   "source": [
    "# Bayes Search Scikit-learn\n",
    "from skopt import BayesSearchCV"
   ]
  },
  {
   "cell_type": "code",
   "execution_count": 36,
   "metadata": {},
   "outputs": [],
   "source": [
    "def get_best_model_2(model_name, opt_name, x, y):\n",
    "    \n",
    "    if model_name == 'd_tree':\n",
    "        params = {'max_depth': [None, 1, 3, 5, 7, 9, 11, 13, 15, 17, 19, 21]}\n",
    "        model = DecisionTreeClassifier()\n",
    "    elif model_name == 'r_forest':\n",
    "        params = {'n_estimators': [10, 50, 100, 200], 'max_depth': [None, 1, 3, 5, 7]}\n",
    "        model = RandomForestClassifier()\n",
    "    else:\n",
    "        print(\"Oops! That was no valid model. Try again...\")\n",
    "    \n",
    "    if opt_name == 'grid':\n",
    "        grid = GridSearchCV(model,           \n",
    "                            params,          \n",
    "                            error_score=0.)  \n",
    "        grid.fit(x, y) \n",
    "    elif opt_name == 'bayes':\n",
    "        grid = BayesSearchCV(model, params)\n",
    "        grid.fit(x,y)\n",
    "    else:\n",
    "        print(\"Oops! That was no valid optmization method. Try again...\")\n",
    "    \n",
    "    print(\"Maior acurácia: {}\".format(grid.best_score_))\n",
    "    print(\"Melhores parâmetros: {}\".format(grid.best_params_))\n",
    "    print(\"Tempo médio para o otimizador fitar os dados (s): {}\".format(round(grid.cv_results_['mean_fit_time'].mean(), 3)))\n",
    "    print(\"Tempo médio para o otimizador realizar a predição (s): {}\".format(round(grid.cv_results_['mean_score_time'].mean(), 3)))"
   ]
  },
  {
   "cell_type": "code",
   "execution_count": 38,
   "metadata": {},
   "outputs": [
    {
     "name": "stdout",
     "output_type": "stream",
     "text": [
      "Maior acurácia: 0.8211999999999999\n",
      "Melhores parâmetros: {'max_depth': 3, 'n_estimators': 200}\n",
      "Tempo médio para o otimizador fitar os dados (s): 0.969\n",
      "Tempo médio para o otimizador realizar a predição (s): 0.093\n"
     ]
    }
   ],
   "source": [
    "y = data['default payment next month']\n",
    "x_corr = feature_selector(0.2,'default payment next month' )\n",
    "get_best_model_2('r_forest', \"grid\",x_corr, y)"
   ]
  },
  {
   "cell_type": "markdown",
   "metadata": {},
   "source": [
    "## 4. Apresentando resultados:"
   ]
  },
  {
   "cell_type": "markdown",
   "metadata": {},
   "source": []
  }
 ],
 "metadata": {
  "interpreter": {
   "hash": "58a3eea4eb278bbeea5229c164e2a4161f21f1dcd6a7354dc31c0c2d62a92a19"
  },
  "kernelspec": {
   "display_name": "Python 3.9.7 64-bit",
   "name": "python3"
  },
  "language_info": {
   "codemirror_mode": {
    "name": "ipython",
    "version": 3
   },
   "file_extension": ".py",
   "mimetype": "text/x-python",
   "name": "python",
   "nbconvert_exporter": "python",
   "pygments_lexer": "ipython3",
   "version": "3.9.7"
  },
  "orig_nbformat": 4
 },
 "nbformat": 4,
 "nbformat_minor": 2
}
