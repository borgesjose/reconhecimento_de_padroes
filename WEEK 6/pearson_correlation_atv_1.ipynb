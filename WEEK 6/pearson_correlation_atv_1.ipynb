{
  "nbformat": 4,
  "nbformat_minor": 0,
  "metadata": {
    "interpreter": {
      "hash": "58a3eea4eb278bbeea5229c164e2a4161f21f1dcd6a7354dc31c0c2d62a92a19"
    },
    "kernelspec": {
      "display_name": "Python 3.9.7 64-bit",
      "name": "python3"
    },
    "language_info": {
      "codemirror_mode": {
        "name": "ipython",
        "version": 3
      },
      "file_extension": ".py",
      "mimetype": "text/x-python",
      "name": "python",
      "nbconvert_exporter": "python",
      "pygments_lexer": "ipython3",
      "version": "3.9.7"
    },
    "orig_nbformat": 4,
    "colab": {
      "name": "pearson_correlation_atv_1.ipynb",
      "provenance": [],
      "collapsed_sections": [],
      "include_colab_link": true
    }
  },
  "cells": [
    {
      "cell_type": "markdown",
      "metadata": {
        "id": "view-in-github",
        "colab_type": "text"
      },
      "source": [
        "<a href=\"https://colab.research.google.com/github/borgesjose/reconhecimento_de_padroes/blob/master/WEEK%206/pearson_correlation_atv_1.ipynb\" target=\"_parent\"><img src=\"https://colab.research.google.com/assets/colab-badge.svg\" alt=\"Open In Colab\"/></a>"
      ]
    },
    {
      "cell_type": "code",
      "metadata": {
        "colab": {
          "base_uri": "https://localhost:8080/"
        },
        "id": "ZRQDCgZNQKNp",
        "outputId": "86ee5d0d-53ca-4b28-eb92-7fb189873ec5"
      },
      "source": [
        "pip install scikit-optimize"
      ],
      "execution_count": null,
      "outputs": [
        {
          "output_type": "stream",
          "name": "stdout",
          "text": [
            "Requirement already satisfied: scikit-optimize in /usr/local/lib/python3.7/dist-packages (0.9.0)\n",
            "Requirement already satisfied: joblib>=0.11 in /usr/local/lib/python3.7/dist-packages (from scikit-optimize) (1.0.1)\n",
            "Requirement already satisfied: scikit-learn>=0.20.0 in /usr/local/lib/python3.7/dist-packages (from scikit-optimize) (0.22.2.post1)\n",
            "Requirement already satisfied: pyaml>=16.9 in /usr/local/lib/python3.7/dist-packages (from scikit-optimize) (21.10.1)\n",
            "Requirement already satisfied: numpy>=1.13.3 in /usr/local/lib/python3.7/dist-packages (from scikit-optimize) (1.19.5)\n",
            "Requirement already satisfied: scipy>=0.19.1 in /usr/local/lib/python3.7/dist-packages (from scikit-optimize) (1.4.1)\n",
            "Requirement already satisfied: PyYAML in /usr/local/lib/python3.7/dist-packages (from pyaml>=16.9->scikit-optimize) (3.13)\n"
          ]
        }
      ]
    },
    {
      "cell_type": "code",
      "metadata": {
        "colab": {
          "base_uri": "https://localhost:8080/"
        },
        "id": "Z6gLdQKNP0Ph",
        "outputId": "d667c6cf-3b7b-48b9-f3af-4cfaa35103e0"
      },
      "source": [
        "pip install xgboost"
      ],
      "execution_count": null,
      "outputs": [
        {
          "output_type": "stream",
          "name": "stdout",
          "text": [
            "Requirement already satisfied: xgboost in /usr/local/lib/python3.7/dist-packages (0.90)\n",
            "Requirement already satisfied: scipy in /usr/local/lib/python3.7/dist-packages (from xgboost) (1.4.1)\n",
            "Requirement already satisfied: numpy in /usr/local/lib/python3.7/dist-packages (from xgboost) (1.19.5)\n"
          ]
        }
      ]
    },
    {
      "cell_type": "markdown",
      "metadata": {
        "id": "xNLQtEfgPrku"
      },
      "source": [
        "# Atividade 6 -  Seleção de features"
      ]
    },
    {
      "cell_type": "markdown",
      "metadata": {
        "id": "gID9MdtDPrkz"
      },
      "source": [
        "Atividade (1.25): realizar a seleção de de características baseada no coeficiente de correlação de Pearson atendendo aos seguintes itens:\n",
        "<ol>\n",
        "        <li> Criar uma função chamada feature_selector que irá receber um limiar como parâmetro de entrada e deverá retornar um subconjunto dos dados referente aquelas features cuja correlação está acima do limiar passado; </li> \n",
        "        <li> Extrapolar a função get_best_model para abranger os classificadores svm e gxboost;</li> \n",
        "        <li> Extrapolar a função get_best_model para abranger a otimização Bayesiana (Scikit-Optimize);</li> \n",
        "        <li> Apresentar uma tabela de comparação dos resultado da classificação considerando cada 1 dos otimizadores: acurácia de teste, kappa de teste e tempo médio do otimizador para fitar os dados. Dica: divisão treino é a sua escolha</li>    \n",
        "</ol "
      ]
    },
    {
      "cell_type": "markdown",
      "metadata": {
        "id": "AopKh9dAPrk1"
      },
      "source": [
        "### Importando as bibliotecas"
      ]
    },
    {
      "cell_type": "code",
      "metadata": {
        "id": "a42bNC0dPrk1"
      },
      "source": [
        "import pandas as pd\n",
        "from scipy import stats\n",
        "\n",
        "from sklearn.tree import DecisionTreeClassifier\n",
        "from sklearn.ensemble import RandomForestClassifier\n",
        "from sklearn.model_selection import GridSearchCV\n",
        "\n",
        "from sklearn.svm import SVC \n",
        "\n",
        "import xgboost as xgb"
      ],
      "execution_count": null,
      "outputs": []
    },
    {
      "cell_type": "markdown",
      "metadata": {
        "id": "GQhHAUeDPrk3"
      },
      "source": [
        "### Carregandos Dados"
      ]
    },
    {
      "cell_type": "code",
      "metadata": {
        "id": "P9x5kPJgPrk3"
      },
      "source": [
        "# Fonte:  https://archive.ics.uci.edu/ml/datasets/default+of+credit+card+clients\n",
        "#data = pd.read_csv('credit-card-default.csv')\n",
        "data = pd.read_csv('https://raw.githubusercontent.com/borgesjose/reconhecimento_de_padroes/master/WEEK%206/credit-card-default.csv')"
      ],
      "execution_count": null,
      "outputs": []
    },
    {
      "cell_type": "markdown",
      "metadata": {
        "id": "hIBJVdiyPrk4"
      },
      "source": [
        "## 1. Criando a função ``` feature_selector``` :"
      ]
    },
    {
      "cell_type": "code",
      "metadata": {
        "id": "6JEggVZpPrk4"
      },
      "source": [
        "def feature_selector(lim,y_name):\n",
        "\n",
        "    x = data.drop(y_name, axis=1)\n",
        "    \n",
        "    highly_corr_feat = data.columns[data.corr()[y_name].abs() > lim]\n",
        "    highly_corr_feat = highly_corr_feat.drop(y_name)\n",
        "\n",
        "    x_corr = x[highly_corr_feat]\n",
        "\n",
        "    return x_corr"
      ],
      "execution_count": null,
      "outputs": []
    },
    {
      "cell_type": "code",
      "metadata": {
        "colab": {
          "base_uri": "https://localhost:8080/",
          "height": 423
        },
        "id": "J_5Wcd1hPrk6",
        "outputId": "e713007f-45ce-4302-f19f-9dc09353336f"
      },
      "source": [
        "feature_selector(0.2,'default payment next month' )"
      ],
      "execution_count": null,
      "outputs": [
        {
          "output_type": "execute_result",
          "data": {
            "text/html": [
              "<div>\n",
              "<style scoped>\n",
              "    .dataframe tbody tr th:only-of-type {\n",
              "        vertical-align: middle;\n",
              "    }\n",
              "\n",
              "    .dataframe tbody tr th {\n",
              "        vertical-align: top;\n",
              "    }\n",
              "\n",
              "    .dataframe thead th {\n",
              "        text-align: right;\n",
              "    }\n",
              "</style>\n",
              "<table border=\"1\" class=\"dataframe\">\n",
              "  <thead>\n",
              "    <tr style=\"text-align: right;\">\n",
              "      <th></th>\n",
              "      <th>PAY_0</th>\n",
              "      <th>PAY_2</th>\n",
              "      <th>PAY_3</th>\n",
              "      <th>PAY_4</th>\n",
              "      <th>PAY_5</th>\n",
              "    </tr>\n",
              "  </thead>\n",
              "  <tbody>\n",
              "    <tr>\n",
              "      <th>0</th>\n",
              "      <td>2</td>\n",
              "      <td>2</td>\n",
              "      <td>-1</td>\n",
              "      <td>-1</td>\n",
              "      <td>-2</td>\n",
              "    </tr>\n",
              "    <tr>\n",
              "      <th>1</th>\n",
              "      <td>-1</td>\n",
              "      <td>2</td>\n",
              "      <td>0</td>\n",
              "      <td>0</td>\n",
              "      <td>0</td>\n",
              "    </tr>\n",
              "    <tr>\n",
              "      <th>2</th>\n",
              "      <td>0</td>\n",
              "      <td>0</td>\n",
              "      <td>0</td>\n",
              "      <td>0</td>\n",
              "      <td>0</td>\n",
              "    </tr>\n",
              "    <tr>\n",
              "      <th>3</th>\n",
              "      <td>0</td>\n",
              "      <td>0</td>\n",
              "      <td>0</td>\n",
              "      <td>0</td>\n",
              "      <td>0</td>\n",
              "    </tr>\n",
              "    <tr>\n",
              "      <th>4</th>\n",
              "      <td>-1</td>\n",
              "      <td>0</td>\n",
              "      <td>-1</td>\n",
              "      <td>0</td>\n",
              "      <td>0</td>\n",
              "    </tr>\n",
              "    <tr>\n",
              "      <th>...</th>\n",
              "      <td>...</td>\n",
              "      <td>...</td>\n",
              "      <td>...</td>\n",
              "      <td>...</td>\n",
              "      <td>...</td>\n",
              "    </tr>\n",
              "    <tr>\n",
              "      <th>29995</th>\n",
              "      <td>0</td>\n",
              "      <td>0</td>\n",
              "      <td>0</td>\n",
              "      <td>0</td>\n",
              "      <td>0</td>\n",
              "    </tr>\n",
              "    <tr>\n",
              "      <th>29996</th>\n",
              "      <td>-1</td>\n",
              "      <td>-1</td>\n",
              "      <td>-1</td>\n",
              "      <td>-1</td>\n",
              "      <td>0</td>\n",
              "    </tr>\n",
              "    <tr>\n",
              "      <th>29997</th>\n",
              "      <td>4</td>\n",
              "      <td>3</td>\n",
              "      <td>2</td>\n",
              "      <td>-1</td>\n",
              "      <td>0</td>\n",
              "    </tr>\n",
              "    <tr>\n",
              "      <th>29998</th>\n",
              "      <td>1</td>\n",
              "      <td>-1</td>\n",
              "      <td>0</td>\n",
              "      <td>0</td>\n",
              "      <td>0</td>\n",
              "    </tr>\n",
              "    <tr>\n",
              "      <th>29999</th>\n",
              "      <td>0</td>\n",
              "      <td>0</td>\n",
              "      <td>0</td>\n",
              "      <td>0</td>\n",
              "      <td>0</td>\n",
              "    </tr>\n",
              "  </tbody>\n",
              "</table>\n",
              "<p>30000 rows × 5 columns</p>\n",
              "</div>"
            ],
            "text/plain": [
              "       PAY_0  PAY_2  PAY_3  PAY_4  PAY_5\n",
              "0          2      2     -1     -1     -2\n",
              "1         -1      2      0      0      0\n",
              "2          0      0      0      0      0\n",
              "3          0      0      0      0      0\n",
              "4         -1      0     -1      0      0\n",
              "...      ...    ...    ...    ...    ...\n",
              "29995      0      0      0      0      0\n",
              "29996     -1     -1     -1     -1      0\n",
              "29997      4      3      2     -1      0\n",
              "29998      1     -1      0      0      0\n",
              "29999      0      0      0      0      0\n",
              "\n",
              "[30000 rows x 5 columns]"
            ]
          },
          "metadata": {},
          "execution_count": 10
        }
      ]
    },
    {
      "cell_type": "markdown",
      "metadata": {
        "id": "Ay1BgI6ZPrk7"
      },
      "source": [
        "## 2. Extrapolando a função ```get_best_model``` para abranger os classificadores svm e gxboost :"
      ]
    },
    {
      "cell_type": "code",
      "metadata": {
        "id": "rFLE0Cgk5cbh"
      },
      "source": [
        ""
      ],
      "execution_count": null,
      "outputs": []
    },
    {
      "cell_type": "code",
      "metadata": {
        "id": "j8X1cmGWPrk7"
      },
      "source": [
        "def get_best_model_1(model_name, x, y):\n",
        "    \n",
        "    if model_name == 'd_tree':\n",
        "        params = {'max_depth': [None, 1, 3, 5, 7, 9, 11, 13, 15, 17, 19, 21]}\n",
        "        model = DecisionTreeClassifier()\n",
        "    elif model_name == 'r_forest':\n",
        "        params = {'n_estimators': [10, 50, 100, 200], 'max_depth': [None, 1, 3, 5, 7]}\n",
        "        model = RandomForestClassifier()\n",
        "    elif model_name == 'svm':\n",
        "        params = {'C': [1, 10, 100, 1000]}#, 'gamma': [0.001, 0.0001]}\n",
        "        model = SVC()\n",
        "    elif model_name == 'gxboost':\n",
        "        params = {'max_depth': [2, 4, 6], 'n_estimators': [50, 100, 200]}\n",
        "        model = model = xgb.XGBClassifier()\n",
        "        \n",
        "    else:\n",
        "        print(\"Oops! That was no valid model. Try again...\")\n",
        "    \n",
        "    \n",
        "    grid = GridSearchCV(model,           \n",
        "                        params,          \n",
        "                        error_score=0.)  \n",
        "    grid.fit(x, y) \n",
        "    \n",
        "    print(\"Maior acurácia: {}\".format(grid.best_score_))\n",
        "    print(\"Melhores parâmetros: {}\".format(grid.best_params_))\n",
        "    print(\"Tempo médio para o otimizador fitar os dados (s): {}\".format(round(grid.cv_results_['mean_fit_time'].mean(), 3)))\n",
        "    print(\"Tempo médio para o otimizador realizar a predição (s): {}\".format(round(grid.cv_results_['mean_score_time'].mean(), 3)))\n",
        "    \n",
        "    results = np.array([grid.best_score_ ,grid.best_params_ ,round(grid.cv_results_['mean_fit_time'].mean(), 3), round(grid.cv_results_['mean_score_time'].mean(), 3)])\n",
        "    \n",
        "    \n",
        "    return pd.Series(data=results, index=['acurácia', 'Melhores parâmetros', 'Kappa','Time opt fit', 'Time opt pred'])\n",
        "\n"
      ],
      "execution_count": null,
      "outputs": []
    },
    {
      "cell_type": "markdown",
      "metadata": {
        "id": "7VwV5urfPrk8"
      },
      "source": [
        "## 3. Extrpolando a função ```get_best_model``` para abranger a otimização Bayesiana (Scikit-Optimize):"
      ]
    },
    {
      "cell_type": "code",
      "metadata": {
        "id": "9zvBr1suPrk9"
      },
      "source": [
        "# Bayes Search Scikit-learn\n",
        "from skopt import BayesSearchCV\n",
        "import numpy as np\n",
        "\n",
        "from sklearn.metrics import cohen_kappa_score\n",
        "\n",
        "from sklearn.model_selection import train_test_split\n",
        "\n",
        "import xgboost as xgb"
      ],
      "execution_count": null,
      "outputs": []
    },
    {
      "cell_type": "code",
      "metadata": {
        "id": "eYEUmN2zPrk9"
      },
      "source": [
        "def get_best_model_2(model_name, opt_name, x, y):\n",
        "    \n",
        "    import warnings\n",
        "    from sklearn.model_selection import train_test_split\n",
        "\n",
        "    X_train, X_test, y_train, y_test = train_test_split(x, y, test_size=0.3,random_state=109) # 70% training and 30% test\n",
        "\n",
        "    \n",
        "    if model_name == 'd_tree':\n",
        "        params = {'max_depth': [None, 1, 3, 5, 7, 9, 11, 13, 15, 17, 19, 21]}\n",
        "        model = DecisionTreeClassifier()\n",
        "    elif model_name == 'r_forest':\n",
        "        params = {'n_estimators': [10, 50, 100, 200], 'max_depth': [None, 1, 3, 5, 7]}\n",
        "        model = RandomForestClassifier()\n",
        "    elif model_name == 'svm':\n",
        "        params = {'C': [1, 10, 50, 100]} #, 'gamma': [0.001, 0.0001]}\n",
        "        model = SVC()\n",
        "    elif model_name == 'gxboost':\n",
        "        params = {'max_depth': [2, 4, 6], 'n_estimators': [50, 100, 200]}\n",
        "        model = xgb.XGBClassifier()\n",
        "    else:\n",
        "        print(\"Oops! That was no valid model. Try again...\")\n",
        "    \n",
        "    if opt_name == 'grid':\n",
        "        grid = GridSearchCV(model,           \n",
        "                            params,          \n",
        "                            error_score=0.)  \n",
        "        grid.fit(X_train, y_train) \n",
        "\n",
        "        kappa = cohen_kappa_score(y_train, grid.predict(X_train))\n",
        "\n",
        "    elif opt_name == 'bayes':\n",
        "\n",
        "        warnings.filterwarnings(\"ignore\")\n",
        "\n",
        "        grid = BayesSearchCV(model, params)\n",
        "        grid.fit(X_train,y_train)\n",
        "\n",
        "        kappa = cohen_kappa_score(y_train, grid.predict(X_train))\n",
        "\n",
        "    else:\n",
        "        print(\"Oops! That was no valid optmization method. Try again...\")\n",
        "    \n",
        "    print(\"Maior acurácia: {}\".format(grid.best_score_))\n",
        "    print(\"Melhores parâmetros: {}\".format(grid.best_params_))\n",
        "    print(\"Cohen Kappa: {}\".format(kappa))\n",
        "    print(\"Tempo médio para o otimizador fitar os dados (s): {}\".format(round(grid.cv_results_['mean_fit_time'].mean(), 3)))\n",
        "    print(\"Tempo médio para o otimizador realizar a predição (s): {}\".format(round(grid.cv_results_['mean_score_time'].mean(), 3)))\n",
        "\n",
        "    results = np.array([grid.best_score_ ,grid.best_params_ , kappa ,round(grid.cv_results_['mean_fit_time'].mean(), 3), round(grid.cv_results_['mean_score_time'].mean(), 3)])\n",
        "    \n",
        "    \n",
        "    return pd.Series(data=results, index=['acurácia', 'Melhores parâmetros', 'Kappa','Time opt fit', 'Time opt pred'])"
      ],
      "execution_count": null,
      "outputs": []
    },
    {
      "cell_type": "code",
      "metadata": {
        "id": "MPPGVwchrewd"
      },
      "source": [
        "#gx_test = get_best_model_2('gxboost', \"grid\",x_corr, y)"
      ],
      "execution_count": null,
      "outputs": []
    },
    {
      "cell_type": "code",
      "metadata": {
        "id": "6IniQPiJnyGh"
      },
      "source": [
        "# X_train, X_test, y_train, y_test = train_test_split(x_corr, y, test_size=0.3,random_state=109) # 70% training and 30% test\n",
        "\n",
        "#params = {'max_depth': [None, 1, 3, 5, 7, 9, 11, 13, 15, 17, 19, 21]}\n",
        "#model = DecisionTreeClassifier()\n",
        "\n",
        "#grid = BayesSearchCV(model, params)\n",
        "#grid.fit(X_train,y_train)\n",
        "\n",
        "#cohen_kappa_score(y_train, grid.predict(X_train))\n",
        "\n",
        "#print(grid.predict(X_train))"
      ],
      "execution_count": null,
      "outputs": []
    },
    {
      "cell_type": "markdown",
      "metadata": {
        "id": "QlX1py7iPrk-"
      },
      "source": [
        "## 4. Apresentando resultados:\n",
        "\n",
        "Apresentar uma tabela de comparação dos resultado da classificação considerando cada 1 dos otimizadores: acurácia de teste, kappa de teste e tempo médio do otimizador para fitar os dados. Dica: divisão treino é a sua escolha"
      ]
    },
    {
      "cell_type": "code",
      "metadata": {
        "id": "vlQjWI76lNMm"
      },
      "source": [
        "y = data['default payment next month']\n",
        "x_corr = feature_selector(0.2,'default payment next month' )"
      ],
      "execution_count": null,
      "outputs": []
    },
    {
      "cell_type": "code",
      "metadata": {
        "colab": {
          "base_uri": "https://localhost:8080/"
        },
        "id": "-ZVArF4fXc-k",
        "outputId": "b1fc94af-e62e-4559-deb2-f165fb4b925c"
      },
      "source": [
        "bayes_table_d_tree = get_best_model_2('d_tree', \"bayes\",x_corr, y)"
      ],
      "execution_count": null,
      "outputs": [
        {
          "output_type": "stream",
          "name": "stdout",
          "text": [
            "Maior acurácia: 0.8210000000000001\n",
            "Melhores parâmetros: OrderedDict([('max_depth', 3)])\n",
            "Cohen Kappa: 0.38841240348306516\n",
            "Tempo médio para o otimizador fitar os dados (s): 0.014\n",
            "Tempo médio para o otimizador realizar a predição (s): 0.002\n"
          ]
        }
      ]
    },
    {
      "cell_type": "code",
      "metadata": {
        "colab": {
          "base_uri": "https://localhost:8080/"
        },
        "id": "C2fIoked1fsy",
        "outputId": "73976b34-3da3-4a02-f1ef-2f1b79595a9a"
      },
      "source": [
        "bayes_table_d_tree = get_best_model_2('d_tree', \"bayes\",x_corr, y)\n",
        "bayes_table_r_forest = get_best_model_2('r_forest', \"bayes\",x_corr, y)\n",
        "bayes_table_svm = get_best_model_2('svm', \"bayes\",x_corr, y)\n",
        "bayes_table_gx = get_best_model_2('gxboost', \"bayes\",x_corr, y)\n",
        "\n",
        "bayes_table = pd.concat([bayes_table_d_tree, bayes_table_r_forest,bayes_table_svm,bayes_table_gx], axis=1)\n",
        "bayes_table.columns = ['d_tree','r_forest','svm','gxboost']"
      ],
      "execution_count": null,
      "outputs": [
        {
          "output_type": "stream",
          "name": "stdout",
          "text": [
            "Maior acurácia: 0.8210000000000001\n",
            "Melhores parâmetros: OrderedDict([('max_depth', 3)])\n",
            "Cohen Kappa: 0.38841240348306516\n",
            "Tempo médio para o otimizador fitar os dados (s): 0.013\n",
            "Tempo médio para o otimizador realizar a predição (s): 0.002\n",
            "Maior acurácia: 0.8216666666666667\n",
            "Melhores parâmetros: OrderedDict([('max_depth', 3), ('n_estimators', 50)])\n",
            "Cohen Kappa: 0.3770752201594626\n",
            "Tempo médio para o otimizador fitar os dados (s): 0.49\n",
            "Tempo médio para o otimizador realizar a predição (s): 0.037\n",
            "Maior acurácia: 0.8200000000000001\n",
            "Melhores parâmetros: OrderedDict([('C', 1)])\n",
            "Cohen Kappa: 0.38735530523563244\n",
            "Tempo médio para o otimizador fitar os dados (s): 10.204\n",
            "Tempo médio para o otimizador realizar a predição (s): 0.739\n",
            "Maior acurácia: 0.8215238095238094\n",
            "Melhores parâmetros: OrderedDict([('max_depth', 2), ('n_estimators', 50)])\n",
            "Cohen Kappa: 0.3798942777500248\n",
            "Tempo médio para o otimizador fitar os dados (s): 0.679\n",
            "Tempo médio para o otimizador realizar a predição (s): 0.014\n"
          ]
        }
      ]
    },
    {
      "cell_type": "code",
      "metadata": {
        "id": "jur_qQy34YSz"
      },
      "source": [
        "bayes_table = pd.concat([bayes_table_d_tree, bayes_table_r_forest,bayes_table_svm,bayes_table_gx], axis=1)\n",
        "bayes_table.columns = ['d_tree','r_forest','svm','gxboost']"
      ],
      "execution_count": null,
      "outputs": []
    },
    {
      "cell_type": "code",
      "metadata": {
        "colab": {
          "base_uri": "https://localhost:8080/",
          "height": 206
        },
        "id": "hpoQ-FCz0uBw",
        "outputId": "9583cb14-08b4-4cfa-b341-6c8b73cdd0ec"
      },
      "source": [
        "bayes_table "
      ],
      "execution_count": null,
      "outputs": [
        {
          "output_type": "execute_result",
          "data": {
            "text/html": [
              "<div>\n",
              "<style scoped>\n",
              "    .dataframe tbody tr th:only-of-type {\n",
              "        vertical-align: middle;\n",
              "    }\n",
              "\n",
              "    .dataframe tbody tr th {\n",
              "        vertical-align: top;\n",
              "    }\n",
              "\n",
              "    .dataframe thead th {\n",
              "        text-align: right;\n",
              "    }\n",
              "</style>\n",
              "<table border=\"1\" class=\"dataframe\">\n",
              "  <thead>\n",
              "    <tr style=\"text-align: right;\">\n",
              "      <th></th>\n",
              "      <th>d_tree</th>\n",
              "      <th>r_forest</th>\n",
              "      <th>svm</th>\n",
              "      <th>gxboost</th>\n",
              "    </tr>\n",
              "  </thead>\n",
              "  <tbody>\n",
              "    <tr>\n",
              "      <th>acurácia</th>\n",
              "      <td>0.821</td>\n",
              "      <td>0.821667</td>\n",
              "      <td>0.82</td>\n",
              "      <td>0.821524</td>\n",
              "    </tr>\n",
              "    <tr>\n",
              "      <th>Melhores parâmetros</th>\n",
              "      <td>{'max_depth': 3}</td>\n",
              "      <td>{'max_depth': 3, 'n_estimators': 50}</td>\n",
              "      <td>{'C': 1}</td>\n",
              "      <td>{'max_depth': 2, 'n_estimators': 50}</td>\n",
              "    </tr>\n",
              "    <tr>\n",
              "      <th>Kappa</th>\n",
              "      <td>0.388412</td>\n",
              "      <td>0.377075</td>\n",
              "      <td>0.387355</td>\n",
              "      <td>0.379894</td>\n",
              "    </tr>\n",
              "    <tr>\n",
              "      <th>Time opt fit</th>\n",
              "      <td>0.013</td>\n",
              "      <td>0.49</td>\n",
              "      <td>10.204</td>\n",
              "      <td>0.679</td>\n",
              "    </tr>\n",
              "    <tr>\n",
              "      <th>Time opt pred</th>\n",
              "      <td>0.002</td>\n",
              "      <td>0.037</td>\n",
              "      <td>0.739</td>\n",
              "      <td>0.014</td>\n",
              "    </tr>\n",
              "  </tbody>\n",
              "</table>\n",
              "</div>"
            ],
            "text/plain": [
              "                               d_tree  ...                               gxboost\n",
              "acurácia                        0.821  ...                              0.821524\n",
              "Melhores parâmetros  {'max_depth': 3}  ...  {'max_depth': 2, 'n_estimators': 50}\n",
              "Kappa                        0.388412  ...                              0.379894\n",
              "Time opt fit                    0.013  ...                                 0.679\n",
              "Time opt pred                   0.002  ...                                 0.014\n",
              "\n",
              "[5 rows x 4 columns]"
            ]
          },
          "metadata": {},
          "execution_count": 20
        }
      ]
    },
    {
      "cell_type": "code",
      "metadata": {
        "colab": {
          "base_uri": "https://localhost:8080/"
        },
        "id": "4-Qhkihf1J1E",
        "outputId": "154407a0-8c53-41b1-959b-44dd5fa19e75"
      },
      "source": [
        "grid_table_d_tree = get_best_model_2('d_tree', \"grid\",x_corr, y)\n",
        "grid_table_r_forest = get_best_model_2('r_forest', \"grid\",x_corr, y)\n",
        "grid_table_svm = get_best_model_2('svm', \"grid\",x_corr, y)\n",
        "grid_table_gx = get_best_model_2('gxboost', \"grid\",x_corr, y)\n",
        "\n",
        "grid_table = pd.concat([grid_table_d_tree, grid_table_r_forest,grid_table_svm,grid_table_gx], axis=1)\n",
        "grid_table.columns = ['d_tree','r_forest','svm','gxboost']"
      ],
      "execution_count": null,
      "outputs": [
        {
          "output_type": "stream",
          "name": "stdout",
          "text": [
            "Maior acurácia: 0.8210000000000001\n",
            "Melhores parâmetros: {'max_depth': 3}\n",
            "Cohen Kappa: 0.38841240348306516\n",
            "Tempo médio para o otimizador fitar os dados (s): 0.011\n",
            "Tempo médio para o otimizador realizar a predição (s): 0.002\n",
            "Maior acurácia: 0.8218095238095238\n",
            "Melhores parâmetros: {'max_depth': 3, 'n_estimators': 200}\n",
            "Cohen Kappa: 0.38013271101294943\n",
            "Tempo médio para o otimizador fitar os dados (s): 0.446\n",
            "Tempo médio para o otimizador realizar a predição (s): 0.035\n",
            "Maior acurácia: 0.8200000000000001\n",
            "Melhores parâmetros: {'C': 1}\n",
            "Cohen Kappa: 0.38735530523563244\n",
            "Tempo médio para o otimizador fitar os dados (s): 10.861\n",
            "Tempo médio para o otimizador realizar a predição (s): 0.744\n",
            "Maior acurácia: 0.8215238095238094\n",
            "Melhores parâmetros: {'max_depth': 2, 'n_estimators': 50}\n",
            "Cohen Kappa: 0.3798942777500248\n",
            "Tempo médio para o otimizador fitar os dados (s): 0.772\n",
            "Tempo médio para o otimizador realizar a predição (s): 0.016\n"
          ]
        }
      ]
    },
    {
      "cell_type": "code",
      "metadata": {
        "id": "VrOsh9eFDxL5"
      },
      "source": [
        "\n",
        "grid_table = pd.concat([grid_table_d_tree, grid_table_r_forest,grid_table_svm,grid_table_gx], axis=1)\n",
        "grid_table.columns = ['d_tree','r_forest','svm','gxboost']"
      ],
      "execution_count": null,
      "outputs": []
    },
    {
      "cell_type": "code",
      "metadata": {
        "colab": {
          "base_uri": "https://localhost:8080/"
        },
        "id": "z-1SO89T1x0P",
        "outputId": "98d6193c-b131-48be-cea5-77052e13743e"
      },
      "source": [
        "grid_table"
      ],
      "execution_count": null,
      "outputs": [
        {
          "output_type": "execute_result",
          "data": {
            "text/html": [
              "<div>\n",
              "<style scoped>\n",
              "    .dataframe tbody tr th:only-of-type {\n",
              "        vertical-align: middle;\n",
              "    }\n",
              "\n",
              "    .dataframe tbody tr th {\n",
              "        vertical-align: top;\n",
              "    }\n",
              "\n",
              "    .dataframe thead th {\n",
              "        text-align: right;\n",
              "    }\n",
              "</style>\n",
              "<table border=\"1\" class=\"dataframe\">\n",
              "  <thead>\n",
              "    <tr style=\"text-align: right;\">\n",
              "      <th></th>\n",
              "      <th>d_tree</th>\n",
              "      <th>r_forest</th>\n",
              "      <th>svm</th>\n",
              "      <th>gxboost</th>\n",
              "    </tr>\n",
              "  </thead>\n",
              "  <tbody>\n",
              "    <tr>\n",
              "      <th>acurácia</th>\n",
              "      <td>0.821</td>\n",
              "      <td>0.82181</td>\n",
              "      <td>0.82</td>\n",
              "      <td>0.821524</td>\n",
              "    </tr>\n",
              "    <tr>\n",
              "      <th>Melhores parâmetros</th>\n",
              "      <td>{'max_depth': 3}</td>\n",
              "      <td>{'max_depth': 3, 'n_estimators': 200}</td>\n",
              "      <td>{'C': 1}</td>\n",
              "      <td>{'max_depth': 2, 'n_estimators': 50}</td>\n",
              "    </tr>\n",
              "    <tr>\n",
              "      <th>Kappa</th>\n",
              "      <td>0.388412</td>\n",
              "      <td>0.380133</td>\n",
              "      <td>0.387355</td>\n",
              "      <td>0.379894</td>\n",
              "    </tr>\n",
              "    <tr>\n",
              "      <th>Time opt fit</th>\n",
              "      <td>0.011</td>\n",
              "      <td>0.446</td>\n",
              "      <td>10.861</td>\n",
              "      <td>0.772</td>\n",
              "    </tr>\n",
              "    <tr>\n",
              "      <th>Time opt pred</th>\n",
              "      <td>0.002</td>\n",
              "      <td>0.035</td>\n",
              "      <td>0.744</td>\n",
              "      <td>0.016</td>\n",
              "    </tr>\n",
              "  </tbody>\n",
              "</table>\n",
              "</div>"
            ],
            "text/plain": [
              "                               d_tree  ...                               gxboost\n",
              "acurácia                        0.821  ...                              0.821524\n",
              "Melhores parâmetros  {'max_depth': 3}  ...  {'max_depth': 2, 'n_estimators': 50}\n",
              "Kappa                        0.388412  ...                              0.379894\n",
              "Time opt fit                    0.011  ...                                 0.772\n",
              "Time opt pred                   0.002  ...                                 0.016\n",
              "\n",
              "[5 rows x 4 columns]"
            ]
          },
          "metadata": {},
          "execution_count": 23
        }
      ]
    },
    {
      "cell_type": "markdown",
      "metadata": {
        "id": "ht1Odm6uFpVW"
      },
      "source": [
        "## Conclusão"
      ]
    },
    {
      "cell_type": "markdown",
      "metadata": {
        "id": "bQuKQgdEFt7P"
      },
      "source": [
        "Observando o "
      ]
    },
    {
      "cell_type": "code",
      "metadata": {
        "id": "_soZ44bfFyD-"
      },
      "source": [
        ""
      ],
      "execution_count": null,
      "outputs": []
    }
  ]
}