{
 "cells": [
  {
   "cell_type": "markdown",
   "source": [
    "# Naive Bayes Classifier"
   ],
   "metadata": {}
  },
  {
   "cell_type": "markdown",
   "source": [
    "Atividade(2.0): \r\n",
    "     \r\n",
    "      Realizar classificação com o Naive Bayes:\r\n",
    "      \r\n",
    "<ol>\r\n",
    "        <li> Utilizando um dataset que seja multiclasse (a sua escolha). Dica: selecionar no máximo 5 características; </li> \r\n",
    "        <li> Extrapolar o exemplo acima para avaliar a acurácia de classificação para um conjunto de teste (divisão treino/teste a sua escolha);</li> \r\n",
    "        <li> Tentem utilizar uma distribuição diferente da Gaussiana;</li> \r\n",
    "        <li> Comparem a acurácia do modelo desenvolvido por vocês com a acurácia do modelo provido pelo sklearn;</li> \r\n",
    "    \r\n",
    "</ol>"
   ],
   "metadata": {}
  },
  {
   "cell_type": "markdown",
   "source": [
    "## Importando as Bibliotecas:"
   ],
   "metadata": {}
  },
  {
   "cell_type": "code",
   "execution_count": 1,
   "source": [
    "import numpy as np\r\n",
    "from scipy.stats import norm\r\n",
    "from sklearn.model_selection import train_test_split\r\n",
    "from sklearn.metrics import confusion_matrix, ConfusionMatrixDisplay\r\n",
    "from sklearn.metrics import accuracy_score, f1_score, precision_score, accuracy_score, recall_score, classification_report"
   ],
   "outputs": [],
   "metadata": {}
  },
  {
   "cell_type": "markdown",
   "source": [
    "## Carregando o Dataset"
   ],
   "metadata": {}
  },
  {
   "cell_type": "markdown",
   "source": [
    "O dataset escolhido foi o flor Iris. O conjunto de dados flor Iris é um conjunto de dados multivariados introduzido pelo estatístico e biólogo britânico Ronald Fisher em seu artigo de 1936, O uso de múltiplas medições em problemas taxonômicos,como um exemplo de análise discriminante linear. \r\n",
    "\r\n"
   ],
   "metadata": {}
  },
  {
   "cell_type": "code",
   "execution_count": 2,
   "source": [
    "from sklearn.datasets import load_iris\r\n",
    "iris_df = load_iris()\r\n",
    "\r\n",
    "X = iris_df.data\r\n",
    "y = iris_df.target"
   ],
   "outputs": [],
   "metadata": {}
  },
  {
   "cell_type": "markdown",
   "source": [
    "O conjunto de dados consiste em 50 amostras de cada uma das três espécies de Iris ( Iris setosa, Iris virginica e Iris versicolor ). \r\n",
    "\r\n",
    "Quatro variáveis foram medidas em cada amostra: o comprimento e a largura das sépalas e pétalas, em centímetros. \r\n",
    "\r\n",
    "Desta forma temos 3 classes e 4 caracteristicas."
   ],
   "metadata": {}
  },
  {
   "cell_type": "markdown",
   "source": [
    "## Extrapolar o exemplo dado para avaliar a acurácia de classificação para um conjunto de teste (divisão treino/teste a sua escolha);"
   ],
   "metadata": {}
  },
  {
   "cell_type": "code",
   "execution_count": 3,
   "source": [
    "#Dividindo o dataset em treino e teste\r\n",
    "X_train, X_test, y_train, y_test = train_test_split(X, y, test_size=0.50, random_state=42)"
   ],
   "outputs": [],
   "metadata": {}
  },
  {
   "cell_type": "markdown",
   "source": [
    "O conjunto foi dividido em 25% de teste e 75% treino"
   ],
   "metadata": {}
  },
  {
   "cell_type": "markdown",
   "source": [
    "### 1 - Calculando as probablidades anteriores ( Priors ) P(y_i)"
   ],
   "metadata": {}
  },
  {
   "cell_type": "code",
   "execution_count": 4,
   "source": [
    "def calculate_priors(X, y):\r\n",
    "    priors = []\r\n",
    "    classes = np.unique(y)\r\n",
    "    for target in classes:\r\n",
    "        X_target = X[y == target]    \r\n",
    "        prior = len(X_target) / len(X)\r\n",
    "        priors.append(prior)\r\n",
    "    return priors"
   ],
   "outputs": [],
   "metadata": {}
  },
  {
   "cell_type": "code",
   "execution_count": 5,
   "source": [
    "priors = calculate_priors(X_train,y_train)"
   ],
   "outputs": [],
   "metadata": {}
  },
  {
   "cell_type": "markdown",
   "source": [
    "### 2 - Gerar as probabilidades condicionais P(x_1|y_i) x P(x_2|y_i) x P(x_3|y_i) x ... x P(x_n|y_i)"
   ],
   "metadata": {}
  },
  {
   "cell_type": "markdown",
   "source": [
    "#### 2.1 - Separar os dados em grupos de amostras de cada classe:"
   ],
   "metadata": {}
  },
  {
   "cell_type": "code",
   "execution_count": 6,
   "source": [
    "Xy0 = X_train[y_train == 0] # Classe 1 - setosa \r\n",
    "Xy1 = X_train[y_train == 1] # Classe 2 - versicola\r\n",
    "Xy2 = X_train[y_train == 2] # Classe 3 - virginica"
   ],
   "outputs": [],
   "metadata": {}
  },
  {
   "cell_type": "markdown",
   "source": [
    "### 2.2 - Função que prepara a distribuição de probabilidade de cada variavel:"
   ],
   "metadata": {}
  },
  {
   "cell_type": "code",
   "execution_count": 7,
   "source": [
    "def fit_gaussian_distribution(data):\r\n",
    "    mu = np.mean(data)\r\n",
    "    sigma = np.std(data)\r\n",
    "    dist = norm(mu, sigma)\r\n",
    "    return dist"
   ],
   "outputs": [],
   "metadata": {}
  },
  {
   "cell_type": "markdown",
   "source": [
    "#### 2.3 - Calculando as PDFs para as características pertencentes a cada 1 das classes"
   ],
   "metadata": {}
  },
  {
   "cell_type": "code",
   "execution_count": 8,
   "source": [
    "# Para y=0\r\n",
    "X1y0 = fit_gaussian_distribution(Xy0[:, 0]) #P(x_1|0)\r\n",
    "X2y0 = fit_gaussian_distribution(Xy0[:, 1]) #P(x_2|0)\r\n",
    "X3y0 = fit_gaussian_distribution(Xy0[:,2]) #P(x_3|0)\r\n",
    "X4y0 = fit_gaussian_distribution(Xy0[:,3]) #P(x_4|0)\r\n",
    "\r\n",
    "# Para y=1\r\n",
    "X1y1 = fit_gaussian_distribution(Xy1[:, 0]) #P(x_1|1)\r\n",
    "X2y1 = fit_gaussian_distribution(Xy1[:, 1]) #P(x_2|1)\r\n",
    "X3y1 = fit_gaussian_distribution(Xy1[:,2]) #P(x_3|1)\r\n",
    "X4y1 = fit_gaussian_distribution(Xy1[:,3]) #P(x_4|1)\r\n",
    "\r\n",
    "# Para y=2\r\n",
    "X1y2 = fit_gaussian_distribution(Xy2[:, 0]) #P(x_1|2)\r\n",
    "X2y2 = fit_gaussian_distribution(Xy2[:, 1]) #P(x_2|2)\r\n",
    "X3y2 = fit_gaussian_distribution(Xy2[:,2]) #P(x_3|2)\r\n",
    "X4y2 = fit_gaussian_distribution(Xy2[:,3]) #P(x_4|2)\r\n"
   ],
   "outputs": [],
   "metadata": {}
  },
  {
   "cell_type": "markdown",
   "source": [
    "### 3 - Calculando a Probabilidade a posteriore P(y_i / x_1,x_2, ... , x_n)"
   ],
   "metadata": {}
  },
  {
   "cell_type": "code",
   "execution_count": 9,
   "source": [
    "# função que calcula a probabilidade posterior\r\n",
    "def posterior_probability(X, prior, dist1, dist2, dist3, dist4):\r\n",
    "    return prior * dist1.pdf(X[0]) * dist2.pdf(X[1]) * dist3.pdf(X[2]) * dist4.pdf(X[3])"
   ],
   "outputs": [],
   "metadata": {}
  },
  {
   "cell_type": "code",
   "execution_count": 10,
   "source": [
    "# Probabilidade condicional para 1 exemplo \r\n",
    "X_t, y_t = X_test[4], y_test[4]\r\n",
    "priors = calculate_priors(X_train,y_train)\r\n",
    "posterior = []\r\n",
    "Py0 = posterior_probability(X_t, priors[0], X1y0, X2y0, X3y0, X4y0)\r\n",
    "Py1 = posterior_probability(X_t,  priors[1], X1y1, X2y1, X3y1, X4y1)\r\n",
    "Py2 = posterior_probability(X_t,  priors[2], X1y2, X2y2, X3y2, X4y2)\r\n",
    "posterior.append(Py0)\r\n",
    "posterior.append(Py1)\r\n",
    "posterior.append(Py2)\r\n",
    "y_pred = posterior.index(max(posterior))"
   ],
   "outputs": [],
   "metadata": {}
  },
  {
   "cell_type": "code",
   "execution_count": 11,
   "source": [
    "# calculando a probabilidade condicional para 1 conjunto de teste \r\n",
    "\r\n",
    "def naive_bayes_test(X,y, priors):\r\n",
    "    y_pred = np.zeros(y.shape)\r\n",
    "    for i in range(y.shape[0]):\r\n",
    "        X_t, y_t = X[i], y[i]\r\n",
    "        posterior = []\r\n",
    "        Py0 = posterior_probability(X_t, priors[0], X1y0, X2y0, X3y0, X4y0)\r\n",
    "        Py1 = posterior_probability(X_t,  priors[1], X1y1, X2y1, X3y1, X4y1)\r\n",
    "        Py2 = posterior_probability(X_t,  priors[2], X1y2, X2y2, X3y2, X4y2)\r\n",
    "        posterior.append(Py0)\r\n",
    "        posterior.append(Py1)\r\n",
    "        posterior.append(Py2)\r\n",
    "        print( ' P(y=0 | %s) = %.3f ' % (X_t, Py0*100))\r\n",
    "        print( ' P(y=1 | %s) = %.3f ' % (X_t, Py1*100))\r\n",
    "        print( ' P(y=2 | %s) = %.3f ' % (X_t, Py2*100))\r\n",
    "        print( ' Rótulo no dataset: y= %d ' % y_t)\r\n",
    "\r\n",
    "        y_pred[i] = posterior.index(max(posterior))\r\n",
    "    \r\n",
    "    return y_pred\r\n",
    "\r\n"
   ],
   "outputs": [],
   "metadata": {}
  },
  {
   "cell_type": "code",
   "execution_count": 12,
   "source": [
    "y_pred = naive_bayes_test(X_test,y_test, priors)"
   ],
   "outputs": [
    {
     "output_type": "stream",
     "name": "stdout",
     "text": [
      " P(y=0 | [6.1 2.8 4.7 1.2]) = 0.000 \n",
      " P(y=1 | [6.1 2.8 4.7 1.2]) = 27.871 \n",
      " P(y=2 | [6.1 2.8 4.7 1.2]) = 0.113 \n",
      " Rótulo no dataset: y= 1 \n",
      " P(y=0 | [5.7 3.8 1.7 0.3]) = 2.719 \n",
      " P(y=1 | [5.7 3.8 1.7 0.3]) = 0.000 \n",
      " P(y=2 | [5.7 3.8 1.7 0.3]) = 0.000 \n",
      " Rótulo no dataset: y= 0 \n",
      " P(y=0 | [7.7 2.6 6.9 2.3]) = 0.000 \n",
      " P(y=1 | [7.7 2.6 6.9 2.3]) = 0.000 \n",
      " P(y=2 | [7.7 2.6 6.9 2.3]) = 0.007 \n",
      " Rótulo no dataset: y= 2 \n",
      " P(y=0 | [6.  2.9 4.5 1.5]) = 0.000 \n",
      " P(y=1 | [6.  2.9 4.5 1.5]) = 30.035 \n",
      " P(y=2 | [6.  2.9 4.5 1.5]) = 0.387 \n",
      " Rótulo no dataset: y= 1 \n",
      " P(y=0 | [6.8 2.8 4.8 1.4]) = 0.000 \n",
      " P(y=1 | [6.8 2.8 4.8 1.4]) = 8.310 \n",
      " P(y=2 | [6.8 2.8 4.8 1.4]) = 0.946 \n",
      " Rótulo no dataset: y= 1 \n",
      " P(y=0 | [5.4 3.4 1.5 0.4]) = 39.949 \n",
      " P(y=1 | [5.4 3.4 1.5 0.4]) = 0.000 \n",
      " P(y=2 | [5.4 3.4 1.5 0.4]) = 0.000 \n",
      " Rótulo no dataset: y= 0 \n",
      " P(y=0 | [5.6 2.9 3.6 1.3]) = 0.000 \n",
      " P(y=1 | [5.6 2.9 3.6 1.3]) = 19.435 \n",
      " P(y=2 | [5.6 2.9 3.6 1.3]) = 0.000 \n",
      " Rótulo no dataset: y= 1 \n",
      " P(y=0 | [6.9 3.1 5.1 2.3]) = 0.000 \n",
      " P(y=1 | [6.9 3.1 5.1 2.3]) = 0.000 \n",
      " P(y=2 | [6.9 3.1 5.1 2.3]) = 13.265 \n",
      " Rótulo no dataset: y= 2 \n",
      " P(y=0 | [6.2 2.2 4.5 1.5]) = 0.000 \n",
      " P(y=1 | [6.2 2.2 4.5 1.5]) = 4.444 \n",
      " P(y=2 | [6.2 2.2 4.5 1.5]) = 0.009 \n",
      " Rótulo no dataset: y= 1 \n",
      " P(y=0 | [5.8 2.7 3.9 1.2]) = 0.000 \n",
      " P(y=1 | [5.8 2.7 3.9 1.2]) = 34.261 \n",
      " P(y=2 | [5.8 2.7 3.9 1.2]) = 0.000 \n",
      " Rótulo no dataset: y= 1 \n",
      " P(y=0 | [6.5 3.2 5.1 2. ]) = 0.000 \n",
      " P(y=1 | [6.5 3.2 5.1 2. ]) = 0.009 \n",
      " P(y=2 | [6.5 3.2 5.1 2. ]) = 19.697 \n",
      " Rótulo no dataset: y= 2 \n",
      " P(y=0 | [4.8 3.  1.4 0.1]) = 81.089 \n",
      " P(y=1 | [4.8 3.  1.4 0.1]) = 0.000 \n",
      " P(y=2 | [4.8 3.  1.4 0.1]) = 0.000 \n",
      " Rótulo no dataset: y= 0 \n",
      " P(y=0 | [5.5 3.5 1.3 0.2]) = 53.325 \n",
      " P(y=1 | [5.5 3.5 1.3 0.2]) = 0.000 \n",
      " P(y=2 | [5.5 3.5 1.3 0.2]) = 0.000 \n",
      " Rótulo no dataset: y= 0 \n",
      " P(y=0 | [4.9 3.1 1.5 0.1]) = 92.726 \n",
      " P(y=1 | [4.9 3.1 1.5 0.1]) = 0.000 \n",
      " P(y=2 | [4.9 3.1 1.5 0.1]) = 0.000 \n",
      " Rótulo no dataset: y= 0 \n",
      " P(y=0 | [5.1 3.8 1.5 0.3]) = 98.012 \n",
      " P(y=1 | [5.1 3.8 1.5 0.3]) = 0.000 \n",
      " P(y=2 | [5.1 3.8 1.5 0.3]) = 0.000 \n",
      " Rótulo no dataset: y= 0 \n",
      " P(y=0 | [6.3 3.3 4.7 1.6]) = 0.000 \n",
      " P(y=1 | [6.3 3.3 4.7 1.6]) = 1.600 \n",
      " P(y=2 | [6.3 3.3 4.7 1.6]) = 1.283 \n",
      " Rótulo no dataset: y= 1 \n",
      " P(y=0 | [6.5 3.  5.8 2.2]) = 0.000 \n",
      " P(y=1 | [6.5 3.  5.8 2.2]) = 0.000 \n",
      " P(y=2 | [6.5 3.  5.8 2.2]) = 28.433 \n",
      " Rótulo no dataset: y= 2 \n",
      " P(y=0 | [5.6 2.5 3.9 1.1]) = 0.000 \n",
      " P(y=1 | [5.6 2.5 3.9 1.1]) = 12.797 \n",
      " P(y=2 | [5.6 2.5 3.9 1.1]) = 0.000 \n",
      " Rótulo no dataset: y= 1 \n",
      " P(y=0 | [5.7 2.8 4.5 1.3]) = 0.000 \n",
      " P(y=1 | [5.7 2.8 4.5 1.3]) = 44.873 \n",
      " P(y=2 | [5.7 2.8 4.5 1.3]) = 0.048 \n",
      " Rótulo no dataset: y= 1 \n",
      " P(y=0 | [6.4 2.8 5.6 2.2]) = 0.000 \n",
      " P(y=1 | [6.4 2.8 5.6 2.2]) = 0.000 \n",
      " P(y=2 | [6.4 2.8 5.6 2.2]) = 27.828 \n",
      " Rótulo no dataset: y= 2 \n",
      " P(y=0 | [4.7 3.2 1.6 0.2]) = 111.541 \n",
      " P(y=1 | [4.7 3.2 1.6 0.2]) = 0.000 \n",
      " P(y=2 | [4.7 3.2 1.6 0.2]) = 0.000 \n",
      " Rótulo no dataset: y= 0 \n",
      " P(y=0 | [6.1 3.  4.9 1.8]) = 0.000 \n",
      " P(y=1 | [6.1 3.  4.9 1.8]) = 1.107 \n",
      " P(y=2 | [6.1 3.  4.9 1.8]) = 9.242 \n",
      " Rótulo no dataset: y= 2 \n",
      " P(y=0 | [5.  3.4 1.6 0.4]) = 52.842 \n",
      " P(y=1 | [5.  3.4 1.6 0.4]) = 0.000 \n",
      " P(y=2 | [5.  3.4 1.6 0.4]) = 0.000 \n",
      " Rótulo no dataset: y= 0 \n",
      " P(y=0 | [6.4 2.8 5.6 2.1]) = 0.000 \n",
      " P(y=1 | [6.4 2.8 5.6 2.1]) = 0.001 \n",
      " P(y=2 | [6.4 2.8 5.6 2.1]) = 31.970 \n",
      " Rótulo no dataset: y= 2 \n",
      " P(y=0 | [7.9 3.8 6.4 2. ]) = 0.000 \n",
      " P(y=1 | [7.9 3.8 6.4 2. ]) = 0.000 \n",
      " P(y=2 | [7.9 3.8 6.4 2. ]) = 0.004 \n",
      " Rótulo no dataset: y= 2 \n",
      " P(y=0 | [6.7 3.  5.2 2.3]) = 0.000 \n",
      " P(y=1 | [6.7 3.  5.2 2.3]) = 0.000 \n",
      " P(y=2 | [6.7 3.  5.2 2.3]) = 20.703 \n",
      " Rótulo no dataset: y= 2 \n",
      " P(y=0 | [6.7 2.5 5.8 1.8]) = 0.000 \n",
      " P(y=1 | [6.7 2.5 5.8 1.8]) = 0.015 \n",
      " P(y=2 | [6.7 2.5 5.8 1.8]) = 5.335 \n",
      " Rótulo no dataset: y= 2 \n",
      " P(y=0 | [6.8 3.2 5.9 2.3]) = 0.000 \n",
      " P(y=1 | [6.8 3.2 5.9 2.3]) = 0.000 \n",
      " P(y=2 | [6.8 3.2 5.9 2.3]) = 12.028 \n",
      " Rótulo no dataset: y= 2 \n",
      " P(y=0 | [4.8 3.  1.4 0.3]) = 165.911 \n",
      " P(y=1 | [4.8 3.  1.4 0.3]) = 0.000 \n",
      " P(y=2 | [4.8 3.  1.4 0.3]) = 0.000 \n",
      " Rótulo no dataset: y= 0 \n",
      " P(y=0 | [4.8 3.1 1.6 0.2]) = 112.052 \n",
      " P(y=1 | [4.8 3.1 1.6 0.2]) = 0.000 \n",
      " P(y=2 | [4.8 3.1 1.6 0.2]) = 0.000 \n",
      " Rótulo no dataset: y= 0 \n",
      " P(y=0 | [4.6 3.6 1.  0.2]) = 3.327 \n",
      " P(y=1 | [4.6 3.6 1.  0.2]) = 0.000 \n",
      " P(y=2 | [4.6 3.6 1.  0.2]) = 0.000 \n",
      " Rótulo no dataset: y= 0 \n",
      " P(y=0 | [5.7 4.4 1.5 0.4]) = 0.223 \n",
      " P(y=1 | [5.7 4.4 1.5 0.4]) = 0.000 \n",
      " P(y=2 | [5.7 4.4 1.5 0.4]) = 0.000 \n",
      " Rótulo no dataset: y= 0 \n",
      " P(y=0 | [6.7 3.1 4.4 1.4]) = 0.000 \n",
      " P(y=1 | [6.7 3.1 4.4 1.4]) = 7.672 \n",
      " P(y=2 | [6.7 3.1 4.4 1.4]) = 0.153 \n",
      " Rótulo no dataset: y= 1 \n",
      " P(y=0 | [4.8 3.4 1.6 0.2]) = 132.538 \n",
      " P(y=1 | [4.8 3.4 1.6 0.2]) = 0.000 \n",
      " P(y=2 | [4.8 3.4 1.6 0.2]) = 0.000 \n",
      " Rótulo no dataset: y= 0 \n",
      " P(y=0 | [4.4 3.2 1.3 0.2]) = 68.148 \n",
      " P(y=1 | [4.4 3.2 1.3 0.2]) = 0.000 \n",
      " P(y=2 | [4.4 3.2 1.3 0.2]) = 0.000 \n",
      " Rótulo no dataset: y= 0 \n",
      " P(y=0 | [6.3 2.5 5.  1.9]) = 0.000 \n",
      " P(y=1 | [6.3 2.5 5.  1.9]) = 0.210 \n",
      " P(y=2 | [6.3 2.5 5.  1.9]) = 3.917 \n",
      " Rótulo no dataset: y= 2 \n",
      " P(y=0 | [6.4 3.2 4.5 1.5]) = 0.000 \n",
      " P(y=1 | [6.4 3.2 4.5 1.5]) = 5.903 \n",
      " P(y=2 | [6.4 3.2 4.5 1.5]) = 0.421 \n",
      " Rótulo no dataset: y= 1 \n",
      " P(y=0 | [5.2 3.5 1.5 0.2]) = 166.770 \n",
      " P(y=1 | [5.2 3.5 1.5 0.2]) = 0.000 \n",
      " P(y=2 | [5.2 3.5 1.5 0.2]) = 0.000 \n",
      " Rótulo no dataset: y= 0 \n",
      " P(y=0 | [5.  3.6 1.4 0.2]) = 208.602 \n",
      " P(y=1 | [5.  3.6 1.4 0.2]) = 0.000 \n",
      " P(y=2 | [5.  3.6 1.4 0.2]) = 0.000 \n",
      " Rótulo no dataset: y= 0 \n",
      " P(y=0 | [5.2 4.1 1.5 0.1]) = 11.710 \n",
      " P(y=1 | [5.2 4.1 1.5 0.1]) = 0.000 \n",
      " P(y=2 | [5.2 4.1 1.5 0.1]) = 0.000 \n",
      " Rótulo no dataset: y= 0 \n",
      " P(y=0 | [5.8 2.7 5.1 1.9]) = 0.000 \n",
      " P(y=1 | [5.8 2.7 5.1 1.9]) = 0.296 \n",
      " P(y=2 | [5.8 2.7 5.1 1.9]) = 7.212 \n",
      " Rótulo no dataset: y= 2 \n",
      " P(y=0 | [6.  3.4 4.5 1.6]) = 0.000 \n",
      " P(y=1 | [6.  3.4 4.5 1.6]) = 1.155 \n",
      " P(y=2 | [6.  3.4 4.5 1.6]) = 0.212 \n",
      " Rótulo no dataset: y= 1 \n",
      " P(y=0 | [6.7 3.1 4.7 1.5]) = 0.000 \n",
      " P(y=1 | [6.7 3.1 4.7 1.5]) = 4.263 \n",
      " P(y=2 | [6.7 3.1 4.7 1.5]) = 1.399 \n",
      " Rótulo no dataset: y= 1 \n",
      " P(y=0 | [5.4 3.9 1.3 0.4]) = 11.284 \n",
      " P(y=1 | [5.4 3.9 1.3 0.4]) = 0.000 \n",
      " P(y=2 | [5.4 3.9 1.3 0.4]) = 0.000 \n",
      " Rótulo no dataset: y= 0 \n",
      " P(y=0 | [5.4 3.7 1.5 0.2]) = 67.060 \n",
      " P(y=1 | [5.4 3.7 1.5 0.2]) = 0.000 \n",
      " P(y=2 | [5.4 3.7 1.5 0.2]) = 0.000 \n",
      " Rótulo no dataset: y= 0 \n",
      " P(y=0 | [5.5 2.4 3.7 1. ]) = 0.000 \n",
      " P(y=1 | [5.5 2.4 3.7 1. ]) = 2.734 \n",
      " P(y=2 | [5.5 2.4 3.7 1. ]) = 0.000 \n",
      " Rótulo no dataset: y= 1 \n",
      " P(y=0 | [6.3 2.8 5.1 1.5]) = 0.000 \n",
      " P(y=1 | [6.3 2.8 5.1 1.5]) = 8.735 \n",
      " P(y=2 | [6.3 2.8 5.1 1.5]) = 4.639 \n",
      " Rótulo no dataset: y= 2 \n",
      " P(y=0 | [6.4 3.1 5.5 1.8]) = 0.000 \n",
      " P(y=1 | [6.4 3.1 5.5 1.8]) = 0.073 \n",
      " P(y=2 | [6.4 3.1 5.5 1.8]) = 29.314 \n",
      " Rótulo no dataset: y= 2 \n",
      " P(y=0 | [6.6 3.  4.4 1.4]) = 0.000 \n",
      " P(y=1 | [6.6 3.  4.4 1.4]) = 14.760 \n",
      " P(y=2 | [6.6 3.  4.4 1.4]) = 0.174 \n",
      " Rótulo no dataset: y= 1 \n",
      " P(y=0 | [7.2 3.6 6.1 2.5]) = 0.000 \n",
      " P(y=1 | [7.2 3.6 6.1 2.5]) = 0.000 \n",
      " P(y=2 | [7.2 3.6 6.1 2.5]) = 0.196 \n",
      " Rótulo no dataset: y= 2 \n",
      " P(y=0 | [5.7 2.9 4.2 1.3]) = 0.000 \n",
      " P(y=1 | [5.7 2.9 4.2 1.3]) = 43.079 \n",
      " P(y=2 | [5.7 2.9 4.2 1.3]) = 0.008 \n",
      " Rótulo no dataset: y= 1 \n",
      " P(y=0 | [7.6 3.  6.6 2.1]) = 0.000 \n",
      " P(y=1 | [7.6 3.  6.6 2.1]) = 0.000 \n",
      " P(y=2 | [7.6 3.  6.6 2.1]) = 0.299 \n",
      " Rótulo no dataset: y= 2 \n",
      " P(y=0 | [5.6 3.  4.5 1.5]) = 0.000 \n",
      " P(y=1 | [5.6 3.  4.5 1.5]) = 20.079 \n",
      " P(y=2 | [5.6 3.  4.5 1.5]) = 0.181 \n",
      " Rótulo no dataset: y= 1 \n",
      " P(y=0 | [5.1 3.5 1.4 0.2]) = 219.913 \n",
      " P(y=1 | [5.1 3.5 1.4 0.2]) = 0.000 \n",
      " P(y=2 | [5.1 3.5 1.4 0.2]) = 0.000 \n",
      " Rótulo no dataset: y= 0 \n",
      " P(y=0 | [7.7 2.8 6.7 2. ]) = 0.000 \n",
      " P(y=1 | [7.7 2.8 6.7 2. ]) = 0.000 \n",
      " P(y=2 | [7.7 2.8 6.7 2. ]) = 0.096 \n",
      " Rótulo no dataset: y= 2 \n",
      " P(y=0 | [5.8 2.7 4.1 1. ]) = 0.000 \n",
      " P(y=1 | [5.8 2.7 4.1 1. ]) = 11.988 \n",
      " P(y=2 | [5.8 2.7 4.1 1. ]) = 0.000 \n",
      " Rótulo no dataset: y= 1 \n",
      " P(y=0 | [5.2 3.4 1.4 0.2]) = 201.420 \n",
      " P(y=1 | [5.2 3.4 1.4 0.2]) = 0.000 \n",
      " P(y=2 | [5.2 3.4 1.4 0.2]) = 0.000 \n",
      " Rótulo no dataset: y= 0 \n",
      " P(y=0 | [5.  3.5 1.3 0.3]) = 166.518 \n",
      " P(y=1 | [5.  3.5 1.3 0.3]) = 0.000 \n",
      " P(y=2 | [5.  3.5 1.3 0.3]) = 0.000 \n",
      " Rótulo no dataset: y= 0 \n",
      " P(y=0 | [5.1 3.8 1.9 0.4]) = 0.380 \n",
      " P(y=1 | [5.1 3.8 1.9 0.4]) = 0.000 \n",
      " P(y=2 | [5.1 3.8 1.9 0.4]) = 0.000 \n",
      " Rótulo no dataset: y= 0 \n",
      " P(y=0 | [5.  2.  3.5 1. ]) = 0.000 \n",
      " P(y=1 | [5.  2.  3.5 1. ]) = 0.035 \n",
      " P(y=2 | [5.  2.  3.5 1. ]) = 0.000 \n",
      " Rótulo no dataset: y= 1 \n",
      " P(y=0 | [6.3 2.7 4.9 1.8]) = 0.000 \n",
      " P(y=1 | [6.3 2.7 4.9 1.8]) = 1.411 \n",
      " P(y=2 | [6.3 2.7 4.9 1.8]) = 6.548 \n",
      " Rótulo no dataset: y= 2 \n",
      " P(y=0 | [4.8 3.4 1.9 0.2]) = 2.141 \n",
      " P(y=1 | [4.8 3.4 1.9 0.2]) = 0.000 \n",
      " P(y=2 | [4.8 3.4 1.9 0.2]) = 0.000 \n",
      " Rótulo no dataset: y= 0 \n",
      " P(y=0 | [5.  3.  1.6 0.2]) = 95.933 \n",
      " P(y=1 | [5.  3.  1.6 0.2]) = 0.000 \n",
      " P(y=2 | [5.  3.  1.6 0.2]) = 0.000 \n",
      " Rótulo no dataset: y= 0 \n",
      " P(y=0 | [5.1 3.3 1.7 0.5]) = 3.327 \n",
      " P(y=1 | [5.1 3.3 1.7 0.5]) = 0.000 \n",
      " P(y=2 | [5.1 3.3 1.7 0.5]) = 0.000 \n",
      " Rótulo no dataset: y= 0 \n",
      " P(y=0 | [5.6 2.7 4.2 1.3]) = 0.000 \n",
      " P(y=1 | [5.6 2.7 4.2 1.3]) = 46.617 \n",
      " P(y=2 | [5.6 2.7 4.2 1.3]) = 0.004 \n",
      " Rótulo no dataset: y= 1 \n",
      " P(y=0 | [5.1 3.4 1.5 0.2]) = 212.974 \n",
      " P(y=1 | [5.1 3.4 1.5 0.2]) = 0.000 \n",
      " P(y=2 | [5.1 3.4 1.5 0.2]) = 0.000 \n",
      " Rótulo no dataset: y= 0 \n",
      " P(y=0 | [5.7 3.  4.2 1.2]) = 0.000 \n",
      " P(y=1 | [5.7 3.  4.2 1.2]) = 25.895 \n",
      " P(y=2 | [5.7 3.  4.2 1.2]) = 0.004 \n",
      " Rótulo no dataset: y= 1 \n",
      " P(y=0 | [7.7 3.8 6.7 2.2]) = 0.000 \n",
      " P(y=1 | [7.7 3.8 6.7 2.2]) = 0.000 \n",
      " P(y=2 | [7.7 3.8 6.7 2.2]) = 0.001 \n",
      " Rótulo no dataset: y= 2 \n",
      " P(y=0 | [4.6 3.2 1.4 0.2]) = 173.409 \n",
      " P(y=1 | [4.6 3.2 1.4 0.2]) = 0.000 \n",
      " P(y=2 | [4.6 3.2 1.4 0.2]) = 0.000 \n",
      " Rótulo no dataset: y= 0 \n",
      " P(y=0 | [6.2 2.9 4.3 1.3]) = 0.000 \n",
      " P(y=1 | [6.2 2.9 4.3 1.3]) = 39.496 \n",
      " P(y=2 | [6.2 2.9 4.3 1.3]) = 0.037 \n",
      " Rótulo no dataset: y= 1 \n",
      " P(y=0 | [5.7 2.5 5.  2. ]) = 0.000 \n",
      " P(y=1 | [5.7 2.5 5.  2. ]) = 0.055 \n",
      " P(y=2 | [5.7 2.5 5.  2. ]) = 1.782 \n",
      " Rótulo no dataset: y= 2 \n",
      " P(y=0 | [5.5 4.2 1.4 0.2]) = 6.414 \n",
      " P(y=1 | [5.5 4.2 1.4 0.2]) = 0.000 \n",
      " P(y=2 | [5.5 4.2 1.4 0.2]) = 0.000 \n",
      " Rótulo no dataset: y= 0 \n",
      " P(y=0 | [6.  3.  4.8 1.8]) = 0.000 \n",
      " P(y=1 | [6.  3.  4.8 1.8]) = 1.430 \n",
      " P(y=2 | [6.  3.  4.8 1.8]) = 5.638 \n",
      " Rótulo no dataset: y= 2 \n",
      " P(y=0 | [5.8 2.7 5.1 1.9]) = 0.000 \n",
      " P(y=1 | [5.8 2.7 5.1 1.9]) = 0.296 \n",
      " P(y=2 | [5.8 2.7 5.1 1.9]) = 7.212 \n",
      " Rótulo no dataset: y= 2 \n",
      " P(y=0 | [6.  2.2 4.  1. ]) = 0.000 \n",
      " P(y=1 | [6.  2.2 4.  1. ]) = 1.609 \n",
      " P(y=2 | [6.  2.2 4.  1. ]) = 0.000 \n",
      " Rótulo no dataset: y= 1 \n"
     ]
    }
   ],
   "metadata": {}
  },
  {
   "cell_type": "code",
   "execution_count": 13,
   "source": [
    "cm = confusion_matrix(y_test, y_pred)\r\n",
    "disp = ConfusionMatrixDisplay(confusion_matrix=cm, display_labels=iris_df.target_names)\r\n",
    "disp.plot()"
   ],
   "outputs": [
    {
     "output_type": "execute_result",
     "data": {
      "text/plain": [
       "<sklearn.metrics._plot.confusion_matrix.ConfusionMatrixDisplay at 0x26fc45d5df0>"
      ]
     },
     "metadata": {},
     "execution_count": 13
    },
    {
     "output_type": "display_data",
     "data": {
      "image/png": "[encoded data removed]",
      "text/plain": [
       "<Figure size 432x288 with 2 Axes>"
      ]
     },
     "metadata": {
      "needs_background": "light"
     }
    }
   ],
   "metadata": {}
  },
  {
   "cell_type": "markdown",
   "source": [
    "A seguir são apresentadas algumas metricas do classificador proposto:"
   ],
   "metadata": {}
  },
  {
   "cell_type": "code",
   "execution_count": 14,
   "source": [
    "print(classification_report(y_test, y_pred, target_names=iris_df.target_names))"
   ],
   "outputs": [
    {
     "output_type": "stream",
     "name": "stdout",
     "text": [
      "              precision    recall  f1-score   support\n",
      "\n",
      "      setosa       1.00      1.00      1.00        29\n",
      "  versicolor       0.96      1.00      0.98        23\n",
      "   virginica       1.00      0.96      0.98        23\n",
      "\n",
      "    accuracy                           0.99        75\n",
      "   macro avg       0.99      0.99      0.99        75\n",
      "weighted avg       0.99      0.99      0.99        75\n",
      "\n"
     ]
    }
   ],
   "metadata": {}
  },
  {
   "cell_type": "markdown",
   "source": [
    "Podemos observar que a acuracia do classificador desenvolvido é de 1 ou seja ele não errou nenhum dos testes."
   ],
   "metadata": {}
  },
  {
   "cell_type": "markdown",
   "source": [
    "# Modelo Sklearn"
   ],
   "metadata": {}
  },
  {
   "cell_type": "code",
   "execution_count": 15,
   "source": [
    "from sklearn.naive_bayes import GaussianNB\r\n",
    "\r\n",
    "model = GaussianNB()\r\n",
    "model.fit(X_train, y_train)\r\n",
    "\r\n",
    "y_pred_skl = model.predict_proba(X_test)\r\n",
    "\r\n",
    "y_pred_class = model.predict(X_test)\r\n"
   ],
   "outputs": [],
   "metadata": {}
  },
  {
   "cell_type": "code",
   "execution_count": 16,
   "source": [
    "cm_skl = confusion_matrix(y_test, y_pred_class)\r\n",
    "disp = ConfusionMatrixDisplay(confusion_matrix=cm, display_labels=iris_df.target_names)\r\n",
    "disp.plot()\r\n"
   ],
   "outputs": [
    {
     "output_type": "execute_result",
     "data": {
      "text/plain": [
       "<sklearn.metrics._plot.confusion_matrix.ConfusionMatrixDisplay at 0x26ff3d14d90>"
      ]
     },
     "metadata": {},
     "execution_count": 16
    },
    {
     "output_type": "display_data",
     "data": {
      "image/png": "[encoded data removed]",
      "text/plain": [
       "<Figure size 432x288 with 2 Axes>"
      ]
     },
     "metadata": {
      "needs_background": "light"
     }
    }
   ],
   "metadata": {}
  },
  {
   "cell_type": "markdown",
   "source": [
    "## Comparem a acurácia do modelo desenvolvido por vocês com a acurácia do modelo provido pelo sklearn;"
   ],
   "metadata": {}
  },
  {
   "cell_type": "markdown",
   "source": [
    "Podemos comparar as duas previsões com as metricas utilizadas anteriormente, onde sera usada como os dados previstos o dado pelo classificador desenvolvido por mim, e os dados de teste como o resultado provido pelo sklearn;"
   ],
   "metadata": {}
  },
  {
   "cell_type": "code",
   "execution_count": 18,
   "source": [
    "print(classification_report(y_pred_class, y_pred, target_names=iris_df.target_names))"
   ],
   "outputs": [
    {
     "output_type": "stream",
     "name": "stdout",
     "text": [
      "              precision    recall  f1-score   support\n",
      "\n",
      "      setosa       1.00      1.00      1.00        29\n",
      "  versicolor       1.00      1.00      1.00        24\n",
      "   virginica       1.00      1.00      1.00        22\n",
      "\n",
      "    accuracy                           1.00        75\n",
      "   macro avg       1.00      1.00      1.00        75\n",
      "weighted avg       1.00      1.00      1.00        75\n",
      "\n"
     ]
    }
   ],
   "metadata": {}
  },
  {
   "cell_type": "markdown",
   "source": [
    "Podemos observar que a acuracia foi de 1 ou seja 100%, desta forma o classificador desenvolvido tem um desempenho igual ao fornecido pelo sklearn para o dataset adotado e para uma divisão de treino e teste de 75%/25%."
   ],
   "metadata": {}
  }
 ],
 "metadata": {
  "orig_nbformat": 4,
  "language_info": {
   "name": "python",
   "version": "3.9.7",
   "mimetype": "text/x-python",
   "codemirror_mode": {
    "name": "ipython",
    "version": 3
   },
   "pygments_lexer": "ipython3",
   "nbconvert_exporter": "python",
   "file_extension": ".py"
  },
  "kernelspec": {
   "name": "python3",
   "display_name": "Python 3.9.7 64-bit"
  },
  "interpreter": {
   "hash": "58a3eea4eb278bbeea5229c164e2a4161f21f1dcd6a7354dc31c0c2d62a92a19"
  }
 },
 "nbformat": 4,
 "nbformat_minor": 2
}