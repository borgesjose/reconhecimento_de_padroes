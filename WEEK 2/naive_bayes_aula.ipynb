{
 "cells": [
  {
   "cell_type": "markdown",
   "source": [
    "# Classificação c/ Naive Bayes"
   ],
   "metadata": {}
  },
  {
   "cell_type": "markdown",
   "source": [
    "## Importando as bibliotecas"
   ],
   "metadata": {}
  },
  {
   "cell_type": "code",
   "execution_count": 1,
   "source": [
    "from sklearn.datasets import make_blobs\r\n",
    "import numpy as np\r\n",
    "from scipy.stats import norm"
   ],
   "outputs": [],
   "metadata": {}
  },
  {
   "cell_type": "markdown",
   "source": [
    "## Carregando o dataset"
   ],
   "metadata": {}
  },
  {
   "cell_type": "code",
   "execution_count": 2,
   "source": [
    "X, y = make_blobs(n_samples=100, centers=2, n_features=2, random_state=1)"
   ],
   "outputs": [],
   "metadata": {}
  },
  {
   "cell_type": "code",
   "execution_count": 3,
   "source": [
    "print(X.shape, y.shape)"
   ],
   "outputs": [
    {
     "output_type": "stream",
     "name": "stdout",
     "text": [
      "(100, 2) (100,)\n"
     ]
    }
   ],
   "metadata": {}
  },
  {
   "cell_type": "code",
   "execution_count": 4,
   "source": [
    "X"
   ],
   "outputs": [
    {
     "output_type": "execute_result",
     "data": {
      "text/plain": [
       "array([[-7.94152277e-01,  2.10495117e+00],\n",
       "       [-9.15155186e+00, -4.81286449e+00],\n",
       "       [-3.10367371e+00,  3.90202401e+00],\n",
       "       [-1.42946517e+00,  5.16850105e+00],\n",
       "       [-7.46938680e+00, -4.20198333e+00],\n",
       "       [-9.19585147e+00, -3.90678125e+00],\n",
       "       [-9.31764266e+00, -4.27315015e+00],\n",
       "       [-9.20490564e+00, -4.57687928e+00],\n",
       "       [-2.76017908e+00,  5.55121358e+00],\n",
       "       [-1.17104176e+00,  4.33091816e+00],\n",
       "       [-1.00364080e+01, -5.56912090e+00],\n",
       "       [-1.53773863e+00,  5.53597378e+00],\n",
       "       [-1.01081595e+01, -4.57071061e+00],\n",
       "       [-2.40671820e+00,  6.09894447e+00],\n",
       "       [-7.80701277e+00, -5.84970947e+00],\n",
       "       [-9.01137732e+00, -3.73981465e+00],\n",
       "       [-9.76521794e+00, -3.27079714e+00],\n",
       "       [-2.34673261e+00,  3.56128423e+00],\n",
       "       [-2.00341358e+00,  4.45008673e+00],\n",
       "       [-1.10926243e+01, -3.78396611e+00],\n",
       "       [-9.43495141e+00, -3.71261146e+00],\n",
       "       [-1.02639310e+01, -3.92073400e+00],\n",
       "       [-9.74891334e+00, -4.24998970e+00],\n",
       "       [-1.34052081e+00,  4.15711949e+00],\n",
       "       [-2.03484486e+00,  3.76775946e+00],\n",
       "       [-1.03078293e+01, -6.38818631e+00],\n",
       "       [-9.55634806e+00, -4.05350378e+00],\n",
       "       [-1.35938959e+00,  4.05424002e+00],\n",
       "       [-1.97451969e-01,  2.34634916e+00],\n",
       "       [-9.47713617e+00, -5.09768994e+00],\n",
       "       [-1.92744799e+00,  4.93684534e+00],\n",
       "       [-2.80207810e+00,  4.05714715e+00],\n",
       "       [-1.05148070e+01, -4.95037538e+00],\n",
       "       [-1.85139546e+00,  3.51886090e+00],\n",
       "       [-8.37006175e+00, -3.61533685e+00],\n",
       "       [-1.01842823e+01, -4.05509442e+00],\n",
       "       [-4.60642026e-01,  4.59164629e+00],\n",
       "       [-1.13708298e+01, -3.63818916e+00],\n",
       "       [-1.01786328e+01, -4.55726918e+00],\n",
       "       [-1.01341572e+01, -4.07240274e+00],\n",
       "       [-9.71704743e+00, -4.02646125e+00],\n",
       "       [-9.64716652e+00, -5.26563196e+00],\n",
       "       [-1.98197711e+00,  4.02243551e+00],\n",
       "       [-1.12277706e+01, -3.40281105e+00],\n",
       "       [-1.46126019e+00,  4.52549851e+00],\n",
       "       [-9.46824718e+00, -3.81564734e+00],\n",
       "       [-7.57969185e-01,  4.90898421e+00],\n",
       "       [ 5.26015501e-01,  3.00999353e+00],\n",
       "       [-2.77687025e+00,  4.64090557e+00],\n",
       "       [-1.78245013e+00,  3.47072043e+00],\n",
       "       [-1.88188805e+00,  4.20573180e+00],\n",
       "       [-9.33866271e+00, -5.58078689e+00],\n",
       "       [-9.91989138e+00, -3.33496829e+00],\n",
       "       [-1.03985907e+01, -3.12934293e+00],\n",
       "       [-1.53940095e+00,  5.02369298e+00],\n",
       "       [-9.50250118e+00, -4.12805171e+00],\n",
       "       [-2.27956075e+00,  5.10452190e+00],\n",
       "       [-8.72395657e+00, -1.98624680e+00],\n",
       "       [-1.61734616e+00,  4.98930508e+00],\n",
       "       [-1.14663009e+00,  4.10839703e+00],\n",
       "       [-1.47299851e+00,  4.81654152e+00],\n",
       "       [-1.06446292e+01, -3.05186166e+00],\n",
       "       [-9.49452769e+00, -2.66012266e+00],\n",
       "       [-1.00223295e+01, -4.72851017e+00],\n",
       "       [-1.18556944e+01, -2.71718452e+00],\n",
       "       [-8.66625539e+00, -4.24065641e+00],\n",
       "       [-2.41395785e+00,  5.65935802e+00],\n",
       "       [-1.12702713e+01, -3.63980083e+00],\n",
       "       [-1.83198811e+00,  3.52863145e+00],\n",
       "       [-1.23606555e+00,  4.48382994e+00],\n",
       "       [-9.59422086e+00, -3.35977002e+00],\n",
       "       [-9.25715605e+00, -4.90704915e+00],\n",
       "       [-9.39539322e+00, -3.53306634e+00],\n",
       "       [-8.20576492e-01,  5.33759195e+00],\n",
       "       [ 2.42271161e-04,  5.14853403e+00],\n",
       "       [-1.34392496e+00,  2.38428865e+00],\n",
       "       [-9.12882635e+00, -3.20293691e+00],\n",
       "       [-9.95404351e+00, -4.17966279e+00],\n",
       "       [-2.18773166e+00,  3.33352125e+00],\n",
       "       [-2.10668847e+00,  5.63099757e+00],\n",
       "       [-5.27930518e-01,  5.92630669e+00],\n",
       "       [-1.11969805e+01, -3.09000323e+00],\n",
       "       [-1.49952284e+00,  5.28265879e+00],\n",
       "       [-8.09305380e+00, -2.84229185e+00],\n",
       "       [-2.35122066e+00,  4.00973634e+00],\n",
       "       [-5.25790464e-01,  3.30659860e+00],\n",
       "       [-1.46864442e+00,  6.50674501e+00],\n",
       "       [-7.58703957e-01,  3.72276201e+00],\n",
       "       [-1.96576392e+00,  5.23446451e+00],\n",
       "       [-2.33080604e+00,  4.39382527e+00],\n",
       "       [-8.83737393e+00, -3.58385583e+00],\n",
       "       [-1.60875215e+00,  3.76949422e+00],\n",
       "       [-1.86845414e+00,  4.99311306e+00],\n",
       "       [-2.33022219e+00,  4.78405366e+00],\n",
       "       [-8.87629480e+00, -3.54444801e+00],\n",
       "       [-8.95888790e+00, -1.76636890e+00],\n",
       "       [-9.98030310e+00, -5.07536728e+00],\n",
       "       [-1.37397258e+00,  5.29163103e+00],\n",
       "       [-9.18676083e+00, -2.90890645e+00],\n",
       "       [ 8.52518583e-02,  3.64528297e+00]])"
      ]
     },
     "metadata": {},
     "execution_count": 4
    }
   ],
   "metadata": {}
  },
  {
   "cell_type": "code",
   "execution_count": 5,
   "source": [
    "y"
   ],
   "outputs": [
    {
     "output_type": "execute_result",
     "data": {
      "text/plain": [
       "array([0, 1, 0, 0, 1, 1, 1, 1, 0, 0, 1, 0, 1, 0, 1, 1, 1, 0, 0, 1, 1, 1,\n",
       "       1, 0, 0, 1, 1, 0, 0, 1, 0, 0, 1, 0, 1, 1, 0, 1, 1, 1, 1, 1, 0, 1,\n",
       "       0, 1, 0, 0, 0, 0, 0, 1, 1, 1, 0, 1, 0, 1, 0, 0, 0, 1, 1, 1, 1, 1,\n",
       "       0, 1, 0, 0, 1, 1, 1, 0, 0, 0, 1, 1, 0, 0, 0, 1, 0, 1, 0, 0, 0, 0,\n",
       "       0, 0, 1, 0, 0, 0, 1, 1, 1, 0, 1, 0])"
      ]
     },
     "metadata": {},
     "execution_count": 5
    }
   ],
   "metadata": {}
  },
  {
   "cell_type": "markdown",
   "source": [
    "## Passo 1: Calculando a probabilidade anterior P(y_i)"
   ],
   "metadata": {}
  },
  {
   "cell_type": "code",
   "execution_count": 6,
   "source": [
    "def calculate_priors(X, y):\r\n",
    "    priors = []\r\n",
    "    classes = np.unique(y)\r\n",
    "    for target in classes:\r\n",
    "        X_target = X[y == target]    \r\n",
    "        prior = len(X_target) / len(X)\r\n",
    "        priors.append(prior)\r\n",
    "    return priors"
   ],
   "outputs": [],
   "metadata": {}
  },
  {
   "cell_type": "code",
   "execution_count": 7,
   "source": [
    "priors = calculate_priors(X,y)"
   ],
   "outputs": [],
   "metadata": {}
  },
  {
   "cell_type": "code",
   "execution_count": 8,
   "source": [
    "priors"
   ],
   "outputs": [
    {
     "output_type": "execute_result",
     "data": {
      "text/plain": [
       "[0.5, 0.5]"
      ]
     },
     "metadata": {},
     "execution_count": 8
    }
   ],
   "metadata": {}
  },
  {
   "cell_type": "markdown",
   "source": [
    "## Passo 2: Gerar as probabilidades condicionais P(x_1|y_i) x P(x_2|y_i) x P(x_3|y_i) x ... x P(x_n|y_i)"
   ],
   "metadata": {}
  },
  {
   "cell_type": "code",
   "execution_count": 9,
   "source": [
    "def fit_gaussian_distribution(data):\r\n",
    "    mu = np.mean(data)\r\n",
    "    sigma = np.std(data)\r\n",
    "    dist = norm(mu, sigma)\r\n",
    "    return dist"
   ],
   "outputs": [],
   "metadata": {}
  },
  {
   "cell_type": "code",
   "execution_count": 10,
   "source": [
    "# Calculando as PDFs para as características pertencentes a cada 1 das classes\r\n",
    "Xy0 = X[y == 0]\r\n",
    "Xy1 = X[y == 1]\r\n",
    "\r\n",
    "# Para y=0\r\n",
    "X1y0 = fit_gaussian_distribution(Xy0[:, 0]) #P(x_1|0)\r\n",
    "X2y0 = fit_gaussian_distribution(Xy0[:, 1]) #P(x_2|0)\r\n",
    "\r\n",
    "# Para y=1\r\n",
    "X1y1 = fit_gaussian_distribution(Xy1[:, 0])#P(x_1|1)\r\n",
    "X2y1 = fit_gaussian_distribution(Xy1[:, 1]) #P(x_2|1)"
   ],
   "outputs": [],
   "metadata": {}
  },
  {
   "cell_type": "markdown",
   "source": [
    "## Passo 3: Calcular a Probabilidade Posterior P(y_i| x_1,x_2,...,x_n)"
   ],
   "metadata": {}
  },
  {
   "cell_type": "code",
   "execution_count": 37,
   "source": [
    "# função que calcula a probabilidade posterior\r\n",
    "def posterior_probability(X, prior, dist1, dist2):\r\n",
    "    return prior * dist1.pdf(X[0]) * dist2.pdf(X[1])"
   ],
   "outputs": [],
   "metadata": {}
  },
  {
   "cell_type": "code",
   "execution_count": 44,
   "source": [
    "# calculando a probabilidade condicional para 1 exemplo de entrada\r\n",
    "X_test, y_test = X[2], y[2]\r\n",
    "posterior = []\r\n",
    "Py0 = posterior_probability(X_test, priors[0], X1y0, X2y0)\r\n",
    "Py1 = posterior_probability(X_test,  priors[1], X1y1, X2y1)\r\n",
    "posterior.append(Py0)\r\n",
    "posterior.append(Py1)"
   ],
   "outputs": [],
   "metadata": {}
  },
  {
   "cell_type": "code",
   "execution_count": 45,
   "source": [
    "print( ' P(y=0 | %s) = %.3f ' % (X_test, Py0*100))\r\n",
    "print( ' P(y=1 | %s) = %.3f ' % (X_test, Py1*100))\r\n",
    "print( ' Rótulo no dataset: y=%d ' % y_test)"
   ],
   "outputs": [
    {
     "output_type": "stream",
     "name": "stdout",
     "text": [
      " P(y=0 | [-3.10367371  3.90202401]) = 1.340 \n",
      " P(y=1 | [-3.10367371  3.90202401]) = 0.000 \n",
      " Rótulo no dataset: y=0 \n"
     ]
    }
   ],
   "metadata": {}
  },
  {
   "cell_type": "markdown",
   "source": [
    "## Passo 4: Atribuir a amostra à classe com maior probabilidade"
   ],
   "metadata": {}
  },
  {
   "cell_type": "code",
   "execution_count": 46,
   "source": [
    "y_pred = posterior.index(max(posterior))"
   ],
   "outputs": [],
   "metadata": {}
  },
  {
   "cell_type": "code",
   "execution_count": 47,
   "source": [
    "y_pred"
   ],
   "outputs": [
    {
     "output_type": "execute_result",
     "data": {
      "text/plain": [
       "0"
      ]
     },
     "metadata": {},
     "execution_count": 47
    }
   ],
   "metadata": {}
  },
  {
   "cell_type": "markdown",
   "source": [
    "## Parte II: Comparado com a função disponibilizada pelo sklearn"
   ],
   "metadata": {}
  },
  {
   "cell_type": "code",
   "execution_count": 48,
   "source": [
    "from sklearn.naive_bayes import GaussianNB"
   ],
   "outputs": [],
   "metadata": {}
  },
  {
   "cell_type": "code",
   "execution_count": 49,
   "source": [
    "# Instanciando o modelo e fitando os dados\r\n",
    "model = GaussianNB()\r\n",
    "model.fit(X, y)"
   ],
   "outputs": [
    {
     "output_type": "execute_result",
     "data": {
      "text/plain": [
       "GaussianNB()"
      ]
     },
     "metadata": {},
     "execution_count": 49
    }
   ],
   "metadata": {}
  },
  {
   "cell_type": "code",
   "execution_count": 51,
   "source": [
    "model.get_params()"
   ],
   "outputs": [
    {
     "output_type": "execute_result",
     "data": {
      "text/plain": [
       "{'priors': None, 'var_smoothing': 1e-09}"
      ]
     },
     "metadata": {},
     "execution_count": 51
    }
   ],
   "metadata": {}
  },
  {
   "cell_type": "code",
   "execution_count": 2,
   "source": [
    "# Realizando a predição \r\n",
    "X_test, y_test = [X[0]], y[0]"
   ],
   "outputs": [
    {
     "output_type": "error",
     "ename": "NameError",
     "evalue": "name 'X' is not defined",
     "traceback": [
      "\u001b[1;31m---------------------------------------------------------------------------\u001b[0m",
      "\u001b[1;31mNameError\u001b[0m                                 Traceback (most recent call last)",
      "\u001b[1;32m<ipython-input-2-19b564c3d695>\u001b[0m in \u001b[0;36m<module>\u001b[1;34m\u001b[0m\n\u001b[0;32m      1\u001b[0m \u001b[1;31m# Realizando a predição\u001b[0m\u001b[1;33m\u001b[0m\u001b[1;33m\u001b[0m\u001b[1;33m\u001b[0m\u001b[0m\n\u001b[1;32m----> 2\u001b[1;33m \u001b[0mX_test\u001b[0m\u001b[1;33m,\u001b[0m \u001b[0my_test\u001b[0m \u001b[1;33m=\u001b[0m \u001b[1;33m[\u001b[0m\u001b[0mX\u001b[0m\u001b[1;33m[\u001b[0m\u001b[1;36m0\u001b[0m\u001b[1;33m]\u001b[0m\u001b[1;33m]\u001b[0m\u001b[1;33m,\u001b[0m \u001b[0my\u001b[0m\u001b[1;33m[\u001b[0m\u001b[1;36m0\u001b[0m\u001b[1;33m]\u001b[0m\u001b[1;33m\u001b[0m\u001b[1;33m\u001b[0m\u001b[0m\n\u001b[0m",
      "\u001b[1;31mNameError\u001b[0m: name 'X' is not defined"
     ]
    }
   ],
   "metadata": {}
  },
  {
   "cell_type": "code",
   "execution_count": 53,
   "source": [
    "type(X_test)"
   ],
   "outputs": [
    {
     "output_type": "execute_result",
     "data": {
      "text/plain": [
       "list"
      ]
     },
     "metadata": {},
     "execution_count": 53
    }
   ],
   "metadata": {}
  },
  {
   "cell_type": "code",
   "execution_count": 55,
   "source": [
    "y_pred = model.predict_proba(X_test)\r\n",
    "print( ' Predicted Probabilities: ' , y_pred)\r\n",
    "y_pred_class = model.predict(X_test)\r\n",
    "print( ' Classe estimada: ' , y_pred_class)\r\n",
    "print( ' Rótulo no dataset: y=%d ' % y_test)"
   ],
   "outputs": [
    {
     "output_type": "stream",
     "name": "stdout",
     "text": [
      " Predicted Probabilities:  [[1.00000000e+00 5.52387327e-30]]\n",
      " Classe estimada:  [0]\n",
      " Rótulo no dataset: y=0 \n"
     ]
    }
   ],
   "metadata": {}
  },
  {
   "cell_type": "markdown",
   "source": [
    "Atividade(2.0): Realizar classificação com o Naive Bayes:\n",
    "<ol>\n",
    "        <li> Utilizando um dataset que seja multiclasse (a sua escolha). Dica: selecionar no máximo 5 características; </li> \n",
    "        <li> Extrapolar o exemplo acima para avaliar a acurácia de classificação para um conjunto de teste (divisão treino/teste a sua escolha);</li> \n",
    "        <li> Tentem utilizar uma distribuição diferente da Gaussiana;</li> \n",
    "        <li> Comparem a acurácia do modelo desenvolvido por vocês com a acurácia do modelo provido pelo sklearn;</li> \n",
    "    \n",
    "</ol>"
   ],
   "metadata": {}
  },
  {
   "cell_type": "code",
   "execution_count": null,
   "source": [],
   "outputs": [],
   "metadata": {}
  }
 ],
 "metadata": {
  "kernelspec": {
   "name": "python3",
   "display_name": "Python 3.8.2 32-bit"
  },
  "language_info": {
   "codemirror_mode": {
    "name": "ipython",
    "version": 3
   },
   "file_extension": ".py",
   "mimetype": "text/x-python",
   "name": "python",
   "nbconvert_exporter": "python",
   "pygments_lexer": "ipython3",
   "version": "3.8.2"
  },
  "interpreter": {
   "hash": "aebc2533f8d51b0cde31f2dff78ce3280dd01855b069cfaeba76a7c46d36cbef"
  }
 },
 "nbformat": 4,
 "nbformat_minor": 4
}