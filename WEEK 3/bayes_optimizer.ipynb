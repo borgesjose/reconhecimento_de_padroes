{
 "cells": [
  {
   "cell_type": "markdown",
   "source": [
    "# Algoritmo de Otimização Bayesiana"
   ],
   "metadata": {}
  },
  {
   "cell_type": "markdown",
   "source": [
    "## Importanto as bibliotecas"
   ],
   "metadata": {}
  },
  {
   "cell_type": "code",
   "execution_count": 3,
   "source": [
    "import numpy as np\r\n",
    "from math import sin\r\n",
    "from math import pi\r\n",
    "from sklearn.gaussian_process import GaussianProcessRegressor\r\n",
    "from warnings import catch_warnings\r\n",
    "from warnings import simplefilter\r\n",
    "from scipy.stats import norm"
   ],
   "outputs": [],
   "metadata": {}
  },
  {
   "cell_type": "markdown",
   "source": [
    "## Objective Function f(x_i)"
   ],
   "metadata": {}
  },
  {
   "cell_type": "code",
   "execution_count": 4,
   "source": [
    "# y = x^2 * sin(5 * PI * x)^6\r\n",
    "# ruído gaussino com a média= 0 e std= 0.1 \r\n",
    "# x: número real que pertence ao intervalo [0,1]\r\n",
    "def objective(x, noise=0.1):\r\n",
    "    noise = np.random.normal(loc=0, scale=noise)\r\n",
    "    return (x**2 * sin(5 * pi * x)**6.0) + noise"
   ],
   "outputs": [],
   "metadata": {}
  },
  {
   "cell_type": "markdown",
   "source": [
    "## Surrogate Function P(f|D)"
   ],
   "metadata": {}
  },
  {
   "cell_type": "code",
   "execution_count": null,
   "source": [
    "def surrogate(model, X):\r\n",
    "    with catch_warnings():\r\n",
    "        simplefilter(\"ignore\")\r\n",
    "        return model.predict(X, return_std=True)"
   ],
   "outputs": [],
   "metadata": {}
  },
  {
   "cell_type": "markdown",
   "source": [
    "## Acquisition Fuction"
   ],
   "metadata": {}
  },
  {
   "cell_type": "code",
   "execution_count": null,
   "source": [
    "def acquisition(X, Xsamples, model):\r\n",
    "    # Calcular a melhor pontuação (score) alcançada por uma entrada\r\n",
    "    y_pred, std_pred = surrogate(model, X)\r\n",
    "    best = max(y_pred)\r\n",
    "    \r\n",
    "    # Calcular a média e o desvio dos scores através da surrogate \r\n",
    "    mu, std = surrogate(model, Xsamples)\r\n",
    "    mu = mu[:, 0]\r\n",
    "    \r\n",
    "    # Calcula a função de distribuição cumulativa das probabilidade de melhoria \r\n",
    "    probs = norm.cdf((mu - best) / (std+1E-9))\r\n",
    "    \r\n",
    "    return probs"
   ],
   "outputs": [],
   "metadata": {}
  },
  {
   "cell_type": "code",
   "execution_count": null,
   "source": [
    "def opt_acquisition(X, model):\r\n",
    "    # Gera amostras de entrada aleatoriamente\r\n",
    "    Xsamples = np.random.random(100)\r\n",
    "    Xsamples = Xsamples.reshape(len(Xsamples), 1)\r\n",
    "    \r\n",
    "    # Gera a distribuição de probabilidade de melhoria para X \r\n",
    "    scores = acquisition(X, Xsamples, model)\r\n",
    "    \r\n",
    "    # Captura o index da amostra que possui maior probabilidade de melhoria em relação ao atual \r\n",
    "    ix = np.argmax(scores)\r\n",
    "    \r\n",
    "    return Xsamples[ix, 0]"
   ],
   "outputs": [],
   "metadata": {}
  },
  {
   "cell_type": "markdown",
   "source": [
    "## Passo a Passo da otimização Bayesiana"
   ],
   "metadata": {}
  },
  {
   "cell_type": "code",
   "execution_count": null,
   "source": [
    "# 1. Gerar os dados de entrada (X) e os respectivos scores (y)\r\n",
    "X = np.random.random(100)\r\n",
    "y = np.asarray([objective(x) for x in X])\r\n",
    "\r\n",
    "# reshape 1d(100,) -> 2d(100,1) \r\n",
    "X = X.reshape(len(X), 1)\r\n",
    "y = y.reshape(len(y), 1)\r\n",
    "\r\n",
    "# Utilizar o modelo de regressão Gaussiana para fitar os dados\r\n",
    "model = GaussianProcessRegressor()\r\n",
    "model.fit(X, y)\r\n",
    "\r\n",
    "# Realizar o processo de otimização Bayesiana\r\n",
    "for i in range(50):\r\n",
    "    # 1. Selecionar a próxima amostra a ser analisada:\r\n",
    "    x = opt_acquisition(X, model)\r\n",
    "    \r\n",
    "    # 2. Avaliar o score da amostra com a função objetivo:\r\n",
    "    score_real = objective(x)\r\n",
    "    \r\n",
    "    score_est, std = surrogate(model, [[x]])\r\n",
    "    print('>x=%.3f, f()=%3f, actual=%.3f' % (x, score_est, score_real))\r\n",
    "    \r\n",
    "    # Adiciona o novo par (amostra, score) \r\n",
    "    X = np.append(X, [[x]], axis = 0)\r\n",
    "    y = np.append(y, [[score_real]], axis = 0)\r\n",
    "                  \r\n",
    "    # 3. Treino novamente o modelo com os dados atualizados e, consequentemente atualiza a estimativa da função surrogate \r\n",
    "    model.fit(X, y)"
   ],
   "outputs": [
    {
     "output_type": "stream",
     "name": "stdout",
     "text": [
      ">x=0.806, f()=0.275057, actual=-0.097\n",
      ">x=0.735, f()=0.185613, actual=0.083\n",
      ">x=0.011, f()=-0.013524, actual=0.100\n",
      ">x=0.659, f()=0.142586, actual=0.139\n",
      ">x=0.571, f()=0.111097, actual=0.158\n",
      ">x=0.212, f()=-0.015196, actual=-0.044\n",
      ">x=0.888, f()=0.310249, actual=0.842\n",
      ">x=0.889, f()=0.349354, actual=0.790\n",
      ">x=0.409, f()=0.026145, actual=0.039\n",
      ">x=0.848, f()=0.345139, actual=0.196\n",
      ">x=0.265, f()=-0.023890, actual=0.168\n",
      ">x=0.503, f()=0.083408, actual=0.096\n",
      ">x=0.891, f()=0.371529, actual=0.837\n",
      ">x=0.227, f()=-0.013573, actual=-0.030\n",
      ">x=0.890, f()=0.400801, actual=0.666\n",
      ">x=0.187, f()=-0.011045, actual=-0.039\n",
      ">x=0.250, f()=-0.018314, actual=0.115\n",
      ">x=0.519, f()=0.093791, actual=0.187\n",
      ">x=0.891, f()=0.416383, actual=0.846\n",
      ">x=0.119, f()=-0.010870, actual=-0.019\n",
      ">x=0.892, f()=0.440359, actual=0.710\n",
      ">x=0.703, f()=0.140367, actual=0.506\n",
      ">x=0.849, f()=0.405226, actual=0.101\n",
      ">x=0.893, f()=0.440132, actual=0.773\n",
      ">x=0.893, f()=0.456511, actual=0.728\n",
      ">x=0.910, f()=0.457198, actual=0.586\n",
      ">x=0.098, f()=-0.015259, actual=-0.139\n",
      ">x=0.050, f()=-0.025986, actual=0.003\n",
      ">x=0.410, f()=0.035895, actual=0.073\n",
      ">x=0.982, f()=-0.107677, actual=-0.128\n",
      ">x=0.484, f()=0.089100, actual=0.118\n",
      ">x=0.893, f()=0.475279, actual=0.724\n",
      ">x=0.181, f()=-0.009563, actual=0.040\n",
      ">x=0.100, f()=-0.019984, actual=0.055\n",
      ">x=0.893, f()=0.485957, actual=0.882\n",
      ">x=0.759, f()=0.216240, actual=0.037\n",
      ">x=0.356, f()=0.004331, actual=0.071\n",
      ">x=0.353, f()=0.005085, actual=-0.009\n",
      ">x=0.897, f()=0.502046, actual=0.808\n",
      ">x=0.956, f()=0.250521, actual=-0.008\n",
      ">x=0.359, f()=0.008555, actual=-0.001\n",
      ">x=0.698, f()=0.132644, actual=0.459\n",
      ">x=0.893, f()=0.507268, actual=0.687\n",
      ">x=0.706, f()=0.151648, actual=0.374\n",
      ">x=0.024, f()=-0.003650, actual=0.047\n",
      ">x=0.232, f()=-0.010522, actual=0.024\n",
      ">x=0.723, f()=0.178327, actual=0.090\n",
      ">x=0.316, f()=-0.010124, actual=0.392\n",
      ">x=0.697, f()=0.151267, actual=0.477\n",
      ">x=0.707, f()=0.171300, actual=0.481\n"
     ]
    }
   ],
   "metadata": {}
  },
  {
   "cell_type": "code",
   "execution_count": null,
   "source": [
    "ix = np.argmax(y)\r\n",
    "print('Best Result: x=%.3f, y=%.3f' % (X[ix], y[ix]))"
   ],
   "outputs": [
    {
     "output_type": "stream",
     "name": "stdout",
     "text": [
      "Best Result: x=0.893, y=0.882\n"
     ]
    }
   ],
   "metadata": {}
  },
  {
   "cell_type": "markdown",
   "source": [
    "# Ajuste de hiperparâmetros com otimização bayesiana (Scikit-Optimize)"
   ],
   "metadata": {}
  },
  {
   "cell_type": "markdown",
   "source": [
    "## Importando as bibliotecas"
   ],
   "metadata": {}
  },
  {
   "cell_type": "code",
   "execution_count": 7,
   "source": [
    "from sklearn import datasets\r\n",
    "from sklearn.ensemble import RandomForestClassifier\r\n",
    "from skopt import BayesSearchCV\r\n",
    "from sklearn.model_selection import cross_val_score\r\n",
    "import time"
   ],
   "outputs": [],
   "metadata": {}
  },
  {
   "cell_type": "markdown",
   "source": [
    "## Carragando os dados"
   ],
   "metadata": {}
  },
  {
   "cell_type": "code",
   "execution_count": 8,
   "source": [
    "X,y = datasets.load_breast_cancer(return_X_y=True)\r\n",
    "print(X.shape, y.shape)"
   ],
   "outputs": [
    {
     "output_type": "stream",
     "name": "stdout",
     "text": [
      "(569, 30) (569,)\n"
     ]
    }
   ],
   "metadata": {}
  },
  {
   "cell_type": "code",
   "execution_count": 9,
   "source": [
    "model = RandomForestClassifier()"
   ],
   "outputs": [],
   "metadata": {}
  },
  {
   "cell_type": "code",
   "execution_count": 10,
   "source": [
    "model.get_params()"
   ],
   "outputs": [
    {
     "output_type": "execute_result",
     "data": {
      "text/plain": [
       "{'bootstrap': True,\n",
       " 'ccp_alpha': 0.0,\n",
       " 'class_weight': None,\n",
       " 'criterion': 'gini',\n",
       " 'max_depth': None,\n",
       " 'max_features': 'auto',\n",
       " 'max_leaf_nodes': None,\n",
       " 'max_samples': None,\n",
       " 'min_impurity_decrease': 0.0,\n",
       " 'min_impurity_split': None,\n",
       " 'min_samples_leaf': 1,\n",
       " 'min_samples_split': 2,\n",
       " 'min_weight_fraction_leaf': 0.0,\n",
       " 'n_estimators': 100,\n",
       " 'n_jobs': None,\n",
       " 'oob_score': False,\n",
       " 'random_state': None,\n",
       " 'verbose': 0,\n",
       " 'warm_start': False}"
      ]
     },
     "metadata": {},
     "execution_count": 10
    }
   ],
   "metadata": {}
  },
  {
   "cell_type": "code",
   "execution_count": 11,
   "source": [
    "search_space = {\r\n",
    "    'n_estimators': (90,130),\r\n",
    "    'max_depth': (4,20),\r\n",
    "}"
   ],
   "outputs": [],
   "metadata": {}
  },
  {
   "cell_type": "code",
   "execution_count": 12,
   "source": [
    "opt = BayesSearchCV(model, search_space, n_iter=20, cv=5)"
   ],
   "outputs": [
    {
     "output_type": "error",
     "ename": "TypeError",
     "evalue": "__init__() got an unexpected keyword argument 'iid'",
     "traceback": [
      "\u001b[1;31m---------------------------------------------------------------------------\u001b[0m",
      "\u001b[1;31mTypeError\u001b[0m                                 Traceback (most recent call last)",
      "\u001b[1;32m~\\AppData\\Local\\Temp/ipykernel_15220/70096521.py\u001b[0m in \u001b[0;36m<module>\u001b[1;34m\u001b[0m\n\u001b[1;32m----> 1\u001b[1;33m \u001b[0mopt\u001b[0m \u001b[1;33m=\u001b[0m \u001b[0mBayesSearchCV\u001b[0m\u001b[1;33m(\u001b[0m\u001b[0mmodel\u001b[0m\u001b[1;33m,\u001b[0m \u001b[0msearch_space\u001b[0m\u001b[1;33m,\u001b[0m \u001b[0mn_iter\u001b[0m\u001b[1;33m=\u001b[0m\u001b[1;36m20\u001b[0m\u001b[1;33m,\u001b[0m \u001b[0mcv\u001b[0m\u001b[1;33m=\u001b[0m\u001b[1;36m5\u001b[0m\u001b[1;33m)\u001b[0m\u001b[1;33m\u001b[0m\u001b[1;33m\u001b[0m\u001b[0m\n\u001b[0m",
      "\u001b[1;32m~\\AppData\\Local\\Programs\\Python\\Python39\\lib\\site-packages\\skopt\\searchcv.py\u001b[0m in \u001b[0;36m__init__\u001b[1;34m(self, estimator, search_spaces, optimizer_kwargs, n_iter, scoring, fit_params, n_jobs, n_points, iid, refit, cv, verbose, pre_dispatch, random_state, error_score, return_train_score)\u001b[0m\n\u001b[0;32m    307\u001b[0m         \u001b[0mself\u001b[0m\u001b[1;33m.\u001b[0m\u001b[0mfit_params\u001b[0m \u001b[1;33m=\u001b[0m \u001b[0mfit_params\u001b[0m\u001b[1;33m\u001b[0m\u001b[1;33m\u001b[0m\u001b[0m\n\u001b[0;32m    308\u001b[0m \u001b[1;33m\u001b[0m\u001b[0m\n\u001b[1;32m--> 309\u001b[1;33m         super(BayesSearchCV, self).__init__(\n\u001b[0m\u001b[0;32m    310\u001b[0m              \u001b[0mestimator\u001b[0m\u001b[1;33m=\u001b[0m\u001b[0mestimator\u001b[0m\u001b[1;33m,\u001b[0m \u001b[0mscoring\u001b[0m\u001b[1;33m=\u001b[0m\u001b[0mscoring\u001b[0m\u001b[1;33m,\u001b[0m\u001b[1;33m\u001b[0m\u001b[1;33m\u001b[0m\u001b[0m\n\u001b[0;32m    311\u001b[0m              \u001b[0mn_jobs\u001b[0m\u001b[1;33m=\u001b[0m\u001b[0mn_jobs\u001b[0m\u001b[1;33m,\u001b[0m \u001b[0miid\u001b[0m\u001b[1;33m=\u001b[0m\u001b[0miid\u001b[0m\u001b[1;33m,\u001b[0m \u001b[0mrefit\u001b[0m\u001b[1;33m=\u001b[0m\u001b[0mrefit\u001b[0m\u001b[1;33m,\u001b[0m \u001b[0mcv\u001b[0m\u001b[1;33m=\u001b[0m\u001b[0mcv\u001b[0m\u001b[1;33m,\u001b[0m \u001b[0mverbose\u001b[0m\u001b[1;33m=\u001b[0m\u001b[0mverbose\u001b[0m\u001b[1;33m,\u001b[0m\u001b[1;33m\u001b[0m\u001b[1;33m\u001b[0m\u001b[0m\n",
      "\u001b[1;32m~\\AppData\\Local\\Programs\\Python\\Python39\\lib\\site-packages\\sklearn\\utils\\validation.py\u001b[0m in \u001b[0;36minner_f\u001b[1;34m(*args, **kwargs)\u001b[0m\n\u001b[0;32m     61\u001b[0m             \u001b[0mextra_args\u001b[0m \u001b[1;33m=\u001b[0m \u001b[0mlen\u001b[0m\u001b[1;33m(\u001b[0m\u001b[0margs\u001b[0m\u001b[1;33m)\u001b[0m \u001b[1;33m-\u001b[0m \u001b[0mlen\u001b[0m\u001b[1;33m(\u001b[0m\u001b[0mall_args\u001b[0m\u001b[1;33m)\u001b[0m\u001b[1;33m\u001b[0m\u001b[1;33m\u001b[0m\u001b[0m\n\u001b[0;32m     62\u001b[0m             \u001b[1;32mif\u001b[0m \u001b[0mextra_args\u001b[0m \u001b[1;33m<=\u001b[0m \u001b[1;36m0\u001b[0m\u001b[1;33m:\u001b[0m\u001b[1;33m\u001b[0m\u001b[1;33m\u001b[0m\u001b[0m\n\u001b[1;32m---> 63\u001b[1;33m                 \u001b[1;32mreturn\u001b[0m \u001b[0mf\u001b[0m\u001b[1;33m(\u001b[0m\u001b[1;33m*\u001b[0m\u001b[0margs\u001b[0m\u001b[1;33m,\u001b[0m \u001b[1;33m**\u001b[0m\u001b[0mkwargs\u001b[0m\u001b[1;33m)\u001b[0m\u001b[1;33m\u001b[0m\u001b[1;33m\u001b[0m\u001b[0m\n\u001b[0m\u001b[0;32m     64\u001b[0m \u001b[1;33m\u001b[0m\u001b[0m\n\u001b[0;32m     65\u001b[0m             \u001b[1;31m# extra_args > 0\u001b[0m\u001b[1;33m\u001b[0m\u001b[1;33m\u001b[0m\u001b[0m\n",
      "\u001b[1;31mTypeError\u001b[0m: __init__() got an unexpected keyword argument 'iid'"
     ]
    }
   ],
   "metadata": {}
  },
  {
   "cell_type": "code",
   "execution_count": null,
   "source": [
    "start = time.time()\r\n",
    "opt.fit(X, y)\r\n",
    "end = time.time()"
   ],
   "outputs": [
    {
     "output_type": "stream",
     "name": "stderr",
     "text": [
      "C:\\Users\\joseb\\AppData\\Local\\Programs\\Python\\Python38-32\\lib\\site-packages\\skopt\\optimizer\\optimizer.py:449: UserWarning: The objective has been evaluated at this point before.\n",
      "  warnings.warn(\"The objective has been evaluated \"\n",
      "C:\\Users\\joseb\\AppData\\Local\\Programs\\Python\\Python38-32\\lib\\site-packages\\skopt\\optimizer\\optimizer.py:449: UserWarning: The objective has been evaluated at this point before.\n",
      "  warnings.warn(\"The objective has been evaluated \"\n",
      "C:\\Users\\joseb\\AppData\\Local\\Programs\\Python\\Python38-32\\lib\\site-packages\\skopt\\optimizer\\optimizer.py:449: UserWarning: The objective has been evaluated at this point before.\n",
      "  warnings.warn(\"The objective has been evaluated \"\n",
      "C:\\Users\\joseb\\AppData\\Local\\Programs\\Python\\Python38-32\\lib\\site-packages\\skopt\\optimizer\\optimizer.py:449: UserWarning: The objective has been evaluated at this point before.\n",
      "  warnings.warn(\"The objective has been evaluated \"\n",
      "C:\\Users\\joseb\\AppData\\Local\\Programs\\Python\\Python38-32\\lib\\site-packages\\skopt\\optimizer\\optimizer.py:449: UserWarning: The objective has been evaluated at this point before.\n",
      "  warnings.warn(\"The objective has been evaluated \"\n",
      "C:\\Users\\joseb\\AppData\\Local\\Programs\\Python\\Python38-32\\lib\\site-packages\\skopt\\optimizer\\optimizer.py:449: UserWarning: The objective has been evaluated at this point before.\n",
      "  warnings.warn(\"The objective has been evaluated \"\n"
     ]
    }
   ],
   "metadata": {}
  },
  {
   "cell_type": "code",
   "execution_count": null,
   "source": [
    "best_estimator = opt.best_estimator_\r\n",
    "print(best_estimator)\r\n",
    "cvs = cross_val_score(best_estimator, X, y, cv=5)"
   ],
   "outputs": [
    {
     "output_type": "stream",
     "name": "stdout",
     "text": [
      "RandomForestClassifier(bootstrap=True, ccp_alpha=0.0, class_weight=None,\n",
      "                       criterion='gini', max_depth=19, max_features='auto',\n",
      "                       max_leaf_nodes=None, max_samples=None,\n",
      "                       min_impurity_decrease=0.0, min_impurity_split=None,\n",
      "                       min_samples_leaf=1, min_samples_split=2,\n",
      "                       min_weight_fraction_leaf=0.0, n_estimators=116,\n",
      "                       n_jobs=None, oob_score=False, random_state=None,\n",
      "                       verbose=0, warm_start=False)\n"
     ]
    }
   ],
   "metadata": {}
  },
  {
   "cell_type": "code",
   "execution_count": null,
   "source": [
    "print(\"Score best parameters: \", opt.best_score_)\r\n",
    "print(\"Best parameters: \", opt.best_params_)\r\n",
    "print(\"5-fold cross-validation Score: \", cvs.mean())\r\n",
    "print(\"Time elapsed: \", end - start)"
   ],
   "outputs": [
    {
     "output_type": "stream",
     "name": "stdout",
     "text": [
      "Score best parameters:  0.968365553602812\n",
      "Best parameters:  OrderedDict([('max_depth', 19), ('n_estimators', 116)])\n",
      "5-fold cross-validation Score:  0.9631113181183046\n",
      "Time elapsed:  58.61742067337036\n"
     ]
    }
   ],
   "metadata": {}
  },
  {
   "cell_type": "markdown",
   "source": [
    "Atividade(2.5): Realizar a otimização Bayesiana:\r\n",
    "<ol>\r\n",
    "        <li> Além do RandomForest, utilizando outro modelo de classificação (a sua escolha). Dica: definir no espaço de busca pelo menos 3 hiperparâmetros de cada modelo; </li> \r\n",
    "        <li> Extrapolar o exemplo acima para avaliar a acurácia de classificação para um conjunto de teste (divisão treino/teste a sua escolha);</li> \r\n",
    "        <li> Realizar a otimização Bayesiana utilizando a biblioteca HyperOpt;</li> \r\n",
    "        <li> Comparar os resultados das otimizações Bayesianas (Scikit-Optimize e HyperOpt) com aqueles obtidos pelo GridSearch e RandomSearch: número de iterações, número de pastas (cv), melhor score obtido para conj. de teste e tempo de busca. Dica: é interessante que o número de iterações seja o mesmo para todas as abordagens </li>    \r\n",
    "</ol>"
   ],
   "metadata": {}
  },
  {
   "cell_type": "markdown",
   "source": [],
   "metadata": {}
  }
 ],
 "metadata": {
  "kernelspec": {
   "name": "python3",
   "display_name": "Python 3.9.7 64-bit"
  },
  "language_info": {
   "codemirror_mode": {
    "name": "ipython",
    "version": 3
   },
   "file_extension": ".py",
   "mimetype": "text/x-python",
   "name": "python",
   "nbconvert_exporter": "python",
   "pygments_lexer": "ipython3",
   "version": "3.9.7"
  },
  "interpreter": {
   "hash": "58a3eea4eb278bbeea5229c164e2a4161f21f1dcd6a7354dc31c0c2d62a92a19"
  }
 },
 "nbformat": 4,
 "nbformat_minor": 4
}