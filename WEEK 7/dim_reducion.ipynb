{
  "nbformat": 4,
  "nbformat_minor": 0,
  "metadata": {
    "colab": {
      "name": "dim_reducion.ipynb",
      "provenance": [],
      "authorship_tag": "ABX9TyOztRoZuGSNpuBfkLWn67ie",
      "include_colab_link": true
    },
    "kernelspec": {
      "name": "python3",
      "display_name": "Python 3"
    },
    "language_info": {
      "name": "python"
    }
  },
  "cells": [
    {
      "cell_type": "markdown",
      "metadata": {
        "id": "view-in-github",
        "colab_type": "text"
      },
      "source": [
        "<a href=\"https://colab.research.google.com/github/borgesjose/reconhecimento_de_padroes/blob/master/WEEK%207/dim_reducion.ipynb\" target=\"_parent\"><img src=\"https://colab.research.google.com/assets/colab-badge.svg\" alt=\"Open In Colab\"/></a>"
      ]
    },
    {
      "cell_type": "markdown",
      "metadata": {
        "id": "BnfQXhA3JqUV"
      },
      "source": [
        "Atividade (1.25): realizar a redução de dimensionalidade com o LDA atendendo aos seguintes itens:\n",
        "\n",
        "Implementação da redução de dimensionalidade com o PCA provido pela sklearn como opção da função dim_reduction(). Apresentar os gráficos do sistema de coordenadas do PCA e LDA; \n",
        "Implementar a combinação PCA+LDA e, finalmente comparar com o desempenho das técnicas individuais e conjuntas, obtidos pelos classificadores para cada redutor de dimensionalidade. Atenção: utilizar a versão da função get_best_model() que vocês desenvolveram na atividade anterior;"
      ]
    },
    {
      "cell_type": "code",
      "metadata": {
        "id": "JkqRGjI_Ji0r"
      },
      "source": [
        ""
      ],
      "execution_count": null,
      "outputs": []
    }
  ]
}