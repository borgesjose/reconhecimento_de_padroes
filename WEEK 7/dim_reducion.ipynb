{
  "nbformat": 4,
  "nbformat_minor": 0,
  "metadata": {
    "colab": {
      "name": "dim_reducion.ipynb",
      "provenance": [],
      "authorship_tag": "ABX9TyOPpfBrMe3qKyxk5BE0YyFq",
      "include_colab_link": true
    },
    "kernelspec": {
      "name": "python3",
      "display_name": "Python 3"
    },
    "language_info": {
      "name": "python"
    }
  },
  "cells": [
    {
      "cell_type": "markdown",
      "metadata": {
        "id": "view-in-github",
        "colab_type": "text"
      },
      "source": [
        "<a href=\"https://colab.research.google.com/github/borgesjose/reconhecimento_de_padroes/blob/master/WEEK%207/dim_reducion.ipynb\" target=\"_parent\"><img src=\"https://colab.research.google.com/assets/colab-badge.svg\" alt=\"Open In Colab\"/></a>"
      ]
    },
    {
      "cell_type": "code",
      "metadata": {
        "id": "gdAy8kkb8rSy",
        "colab": {
          "base_uri": "https://localhost:8080/"
        },
        "outputId": "9dc220cd-9c58-4837-c4a0-bf22e757460e"
      },
      "source": [
        "pip install scikit-optimize"
      ],
      "execution_count": 1,
      "outputs": [
        {
          "output_type": "stream",
          "name": "stdout",
          "text": [
            "Collecting scikit-optimize\n",
            "  Downloading scikit_optimize-0.9.0-py2.py3-none-any.whl (100 kB)\n",
            "\u001b[?25l\r\u001b[K     |███▎                            | 10 kB 18.2 MB/s eta 0:00:01\r\u001b[K     |██████▌                         | 20 kB 24.8 MB/s eta 0:00:01\r\u001b[K     |█████████▉                      | 30 kB 13.2 MB/s eta 0:00:01\r\u001b[K     |█████████████                   | 40 kB 9.9 MB/s eta 0:00:01\r\u001b[K     |████████████████▍               | 51 kB 4.3 MB/s eta 0:00:01\r\u001b[K     |███████████████████▋            | 61 kB 4.7 MB/s eta 0:00:01\r\u001b[K     |██████████████████████▉         | 71 kB 4.2 MB/s eta 0:00:01\r\u001b[K     |██████████████████████████▏     | 81 kB 4.7 MB/s eta 0:00:01\r\u001b[K     |█████████████████████████████▍  | 92 kB 4.8 MB/s eta 0:00:01\r\u001b[K     |████████████████████████████████| 100 kB 3.3 MB/s \n",
            "\u001b[?25hRequirement already satisfied: joblib>=0.11 in /usr/local/lib/python3.7/dist-packages (from scikit-optimize) (1.1.0)\n",
            "Collecting pyaml>=16.9\n",
            "  Downloading pyaml-21.10.1-py2.py3-none-any.whl (24 kB)\n",
            "Requirement already satisfied: scipy>=0.19.1 in /usr/local/lib/python3.7/dist-packages (from scikit-optimize) (1.4.1)\n",
            "Requirement already satisfied: numpy>=1.13.3 in /usr/local/lib/python3.7/dist-packages (from scikit-optimize) (1.19.5)\n",
            "Requirement already satisfied: scikit-learn>=0.20.0 in /usr/local/lib/python3.7/dist-packages (from scikit-optimize) (0.22.2.post1)\n",
            "Requirement already satisfied: PyYAML in /usr/local/lib/python3.7/dist-packages (from pyaml>=16.9->scikit-optimize) (3.13)\n",
            "Installing collected packages: pyaml, scikit-optimize\n",
            "Successfully installed pyaml-21.10.1 scikit-optimize-0.9.0\n"
          ]
        }
      ]
    },
    {
      "cell_type": "code",
      "metadata": {
        "id": "WVaqoHpl8rMR",
        "colab": {
          "base_uri": "https://localhost:8080/"
        },
        "outputId": "ede1ff70-4d8f-40d4-b851-81b4734f041d"
      },
      "source": [
        "pip install xgboost"
      ],
      "execution_count": 2,
      "outputs": [
        {
          "output_type": "stream",
          "name": "stdout",
          "text": [
            "Requirement already satisfied: xgboost in /usr/local/lib/python3.7/dist-packages (0.90)\n",
            "Requirement already satisfied: scipy in /usr/local/lib/python3.7/dist-packages (from xgboost) (1.4.1)\n",
            "Requirement already satisfied: numpy in /usr/local/lib/python3.7/dist-packages (from xgboost) (1.19.5)\n"
          ]
        }
      ]
    },
    {
      "cell_type": "markdown",
      "metadata": {
        "id": "BnfQXhA3JqUV"
      },
      "source": [
        "# Realizar a redução de dimensionalidade com o LDA \n",
        "\n",
        "1 - Implementação da redução de dimensionalidade com o PCA provido pela sklearn como opção da função dim_reduction(). Apresentar os gráficos do sistema de coordenadas do PCA e LDA; \n",
        "\n",
        "2 - Implementar a combinação PCA+LDA e, finalmente comparar com o desempenho das técnicas individuais e conjuntas, obtidos pelos classificadores para cada redutor de dimensionalidade. Atenção: utilizar a versão da função get_best_model() que vocês desenvolveram na atividade anterior;"
      ]
    },
    {
      "cell_type": "code",
      "metadata": {
        "id": "hhBMHPuC77fz"
      },
      "source": [
        "from sklearn.datasets import load_wine\n",
        "from sklearn.preprocessing import StandardScaler\n",
        "from sklearn.discriminant_analysis import LinearDiscriminantAnalysis\n",
        "from sklearn.model_selection import train_test_split\n",
        "from sklearn.ensemble import RandomForestClassifier\n",
        "from sklearn.model_selection import GridSearchCV\n",
        "from sklearn.model_selection import RepeatedStratifiedKFold\n",
        "from sklearn.model_selection import cross_val_score\n",
        "\n",
        "import pandas as pd\n",
        "\n",
        "from numpy import mean\n",
        "from numpy import std\n",
        "import matplotlib.pyplot as plt\n",
        "\n",
        "\n",
        "from sklearn.feature_selection import SelectKBest, chi2\n",
        "\n",
        "from sklearn.feature_selection import SelectFromModel\n",
        "\n",
        "from sklearn.svm import SVC \n",
        "\n",
        "import xgboost as xgb\n",
        "\n",
        "from sklearn.decomposition import PCA"
      ],
      "execution_count": 25,
      "outputs": []
    },
    {
      "cell_type": "code",
      "metadata": {
        "id": "aHm2OsJd8viL"
      },
      "source": [
        "wine = load_wine()\n",
        "data_x,data_y = wine.data,wine.target\n",
        "labels = wine.target_names\n",
        "data_x = StandardScaler().fit_transform(data_x)"
      ],
      "execution_count": 4,
      "outputs": []
    },
    {
      "cell_type": "code",
      "metadata": {
        "id": "JkqRGjI_Ji0r"
      },
      "source": [
        "def dim_reduction(x_train, y_train, x_test):\n",
        "\n",
        "  lda = LinearDiscriminantAnalysis(n_components=2)\n",
        "  lda.fit(x_train,y_train)\n",
        "\n",
        "  print('Variancia Explicada: ', lda.explained_variance_ratio_)\n",
        "\n",
        "  x_train_fs = lda.transform(x_train)\n",
        "  x_test_fs = lda.transform(x_test)\n",
        "\n",
        "  return x_train_fs, x_test_fs, lda"
      ],
      "execution_count": 5,
      "outputs": []
    },
    {
      "cell_type": "code",
      "metadata": {
        "id": "qxUavBwZ7Ede"
      },
      "source": [
        "def get_best_model_2(model_name, opt_name, x, y):\n",
        "    \n",
        "    import warnings\n",
        "    from sklearn.model_selection import train_test_split\n",
        "\n",
        "    X_train, X_test, y_train, y_test = train_test_split(x, y, test_size=0.3,random_state=109) # 70% training and 30% test\n",
        "\n",
        "    \n",
        "    if model_name == 'd_tree':\n",
        "        params = {'max_depth': [None, 1, 3, 5, 7, 9, 11, 13, 15, 17, 19, 21]}\n",
        "        model = DecisionTreeClassifier()\n",
        "    elif model_name == 'r_forest':\n",
        "        params = {'n_estimators': [10, 50, 100, 200], 'max_depth': [None, 1, 3, 5, 7]}\n",
        "        model = RandomForestClassifier()\n",
        "    elif model_name == 'svm':\n",
        "        params = {'C': [1, 10, 50, 100]} #, 'gamma': [0.001, 0.0001]}\n",
        "        model = SVC()\n",
        "    elif model_name == 'gxboost':\n",
        "        params = {'max_depth': [2, 4, 6], 'n_estimators': [50, 100, 200]}\n",
        "        model = xgb.XGBClassifier()\n",
        "    else:\n",
        "        print(\"Oops! That was no valid model. Try again...\")\n",
        "    \n",
        "    if opt_name == 'grid':\n",
        "        grid = GridSearchCV(model,           \n",
        "                            params,          \n",
        "                            error_score=0.)  \n",
        "        grid.fit(X_train, y_train) \n",
        "\n",
        "    elif opt_name == 'bayes':\n",
        "\n",
        "        warnings.filterwarnings(\"ignore\")\n",
        "\n",
        "        grid = BayesSearchCV(model, params)\n",
        "        grid.fit(X_train,y_train)\n",
        "\n",
        "    else:\n",
        "        print(\"Oops! That was no valid optmization method. Try again...\")\n",
        "\n",
        "    return grid"
      ],
      "execution_count": 6,
      "outputs": []
    },
    {
      "cell_type": "code",
      "metadata": {
        "id": "Me6lodDzHDjk"
      },
      "source": [
        "def evaluate_model(model, x_test, y_test):\n",
        "    cv = RepeatedStratifiedKFold(n_splits=5, n_repeats=3, random_state=1)\n",
        "    scores = cross_val_score(model, x_test, y_test, scoring= 'accuracy' , cv=cv, n_jobs=-1)\n",
        "    return scores"
      ],
      "execution_count": 7,
      "outputs": []
    },
    {
      "cell_type": "code",
      "metadata": {
        "id": "KwyHWs7DNw3z"
      },
      "source": [
        "# Padronizar escala das variaveis\n",
        "\n",
        "sc = StandardScaler()\n",
        "data_x_sc = sc.fit_transform(data_x)\n",
        "\n",
        "x_train,x_test,y_train, y_test = train_test_split(data_x_sc, data_y, test_size=0.2,random_state=1)"
      ],
      "execution_count": 8,
      "outputs": []
    },
    {
      "cell_type": "code",
      "metadata": {
        "colab": {
          "base_uri": "https://localhost:8080/"
        },
        "id": "KqYCJUPtNwW8",
        "outputId": "6890812a-3c53-4d5e-f490-c034cddf201f"
      },
      "source": [
        "# Redução de dimensionalidade\n",
        "x_train_fs, x_test_fs, fs = dim_reduction(x_train, y_train, x_test)\n",
        "\n",
        "# Capturar os melhores parâmetros do modelo\n",
        "grid = get_best_model_2(\"r_forest\", 'grid', x_train_fs, y_train)\n",
        "# Instanciar o modelo com os melhores parâmetros e treiná-lo\n",
        "#model = DecisionTreeClassifier(**grid.best_params_)\n",
        "model = RandomForestClassifier(**grid.best_params_)\n",
        "model.fit(x_train_fs, y_train)\n",
        "# Avaliando o modelo\n",
        "scores = evaluate_model(model,x_test_fs,y_test)\n",
        "print( '%s > %.3f (%.3f) ' % (\"r_forest\",  mean(scores), std(scores)))"
      ],
      "execution_count": 9,
      "outputs": [
        {
          "output_type": "stream",
          "name": "stdout",
          "text": [
            "Variancia Explicada:  [0.68723957 0.31276043]\n",
            "r_forest > 0.955 (0.064) \n"
          ]
        }
      ]
    },
    {
      "cell_type": "markdown",
      "metadata": {
        "id": "TOG_p0FBG4Q_"
      },
      "source": [
        "## 1 - Implementação da redução de dimensionalidade com o PCA provido pela sklearn como opção da função dim_reduction(). Apresentar os gráficos do sistema de coordenadas do PCA e LDA; "
      ]
    },
    {
      "cell_type": "code",
      "metadata": {
        "id": "MPceViks7KkE"
      },
      "source": [
        "def dim_reduction_2( type ,x_train, y_train, x_test):\n",
        "  if type == 'lda':\n",
        "    dim = LinearDiscriminantAnalysis(n_components=2)\n",
        "    dim.fit(x_train,y_train)\n",
        "\n",
        "  if type == 'pca':\n",
        "    dim = PCA(n_components=2)\n",
        "    dim.fit(x_train,y_train)\n",
        "  \n",
        "  print('Variancia Explicada: ', dim.explained_variance_ratio_)\n",
        "\n",
        "  x_train_fs = dim.transform(x_train)\n",
        "  x_test_fs = dim.transform(x_test)\n",
        "\n",
        "  return x_train_fs, x_test_fs, dim"
      ],
      "execution_count": 43,
      "outputs": []
    },
    {
      "cell_type": "code",
      "metadata": {
        "colab": {
          "base_uri": "https://localhost:8080/",
          "height": 558
        },
        "id": "W5YkJ7kp-OyQ",
        "outputId": "a8c7a035-1a92-401a-947e-29f7fe864437"
      },
      "source": [
        "# Redução de dimensionalidade com PCA\n",
        "x_train_fs, x_test_fs, fs = dim_reduction_2('pca',x_train, y_train, x_test)\n",
        "\n",
        "# Capturar os melhores parâmetros do modelo\n",
        "grid = get_best_model_2(\"r_forest\", 'grid', x_train_fs, y_train)\n",
        "# Instanciar o modelo com os melhores parâmetros e treiná-lo\n",
        "#model = DecisionTreeClassifier(**grid.best_params_)\n",
        "model = RandomForestClassifier(**grid.best_params_)\n",
        "model.fit(x_train_fs, y_train)\n",
        "# Avaliando o modelo\n",
        "scores = evaluate_model(model,x_test_fs,y_test)\n",
        "print( '%s > %.3f (%.3f) ' % (\"r_forest\",  mean(scores), std(scores)))\n",
        "\n",
        "principalDf = pd.DataFrame(data = x_test_fs, columns = ['principal component 1', 'principal component 2'])\n",
        "targetsDf = pd.DataFrame(data = y_test , columns = ['target'])\n",
        "finalDf = pd.concat([principalDf, targetsDf], axis = 1)\n",
        "\n",
        "fig = plt.figure(figsize = (8,8))\n",
        "ax = fig.add_subplot(1,1,1) \n",
        "ax.set_xlabel('Principal Component 1', fontsize = 15)\n",
        "ax.set_ylabel('Principal Component 2', fontsize = 15)\n",
        "ax.set_title('2 component PCA', fontsize = 20)\n",
        "targets = [0,1,2]\n",
        "colors = ['r', 'g', 'b']\n",
        "for target, color in zip(targets,colors):\n",
        "    indicesToKeep = finalDf['target'] == target\n",
        "    ax.scatter(finalDf.loc[indicesToKeep, 'principal component 1']\n",
        "               , finalDf.loc[indicesToKeep, 'principal component 2']\n",
        "               , c = color\n",
        "               , s = 50)\n",
        "ax.legend(targets)\n",
        "ax.grid()"
      ],
      "execution_count": 44,
      "outputs": [
        {
          "output_type": "stream",
          "name": "stdout",
          "text": [
            "Variancia Explicada:  [0.3580111  0.19652419]\n",
            "r_forest > 0.943 (0.087) \n"
          ]
        },
        {
          "output_type": "display_data",
          "data": {
            "image/png": "[encoded data removed]",
            "text/plain": [
              "<Figure size 576x576 with 1 Axes>"
            ]
          },
          "metadata": {
            "needs_background": "light"
          }
        }
      ]
    },
    {
      "cell_type": "code",
      "metadata": {
        "colab": {
          "base_uri": "https://localhost:8080/",
          "height": 558
        },
        "id": "4YVKfwh7NzuW",
        "outputId": "a59d4ef9-2178-4259-a70f-06676afc55ac"
      },
      "source": [
        "# Redução de dimensionalidade com PCA\n",
        "x_train_fs, x_test_fs, fs = dim_reduction_2('lda',x_train, y_train, x_test)\n",
        "\n",
        "# Capturar os melhores parâmetros do modelo\n",
        "grid = get_best_model_2(\"r_forest\", 'grid', x_train_fs, y_train)\n",
        "# Instanciar o modelo com os melhores parâmetros e treiná-lo\n",
        "#model = DecisionTreeClassifier(**grid.best_params_)\n",
        "model = RandomForestClassifier(**grid.best_params_)\n",
        "model.fit(x_train_fs, y_train)\n",
        "# Avaliando o modelo\n",
        "scores = evaluate_model(model,x_test_fs,y_test)\n",
        "print( '%s > %.3f (%.3f) ' % (\"r_forest\",  mean(scores), std(scores)))\n",
        "\n",
        "principalDf = pd.DataFrame(data = x_test_fs, columns = ['principal component 1', 'principal component 2'])\n",
        "targetsDf = pd.DataFrame(data = y_test , columns = ['target'])\n",
        "finalDf = pd.concat([principalDf, targetsDf], axis = 1)\n",
        "\n",
        "fig = plt.figure(figsize = (8,8))\n",
        "ax = fig.add_subplot(1,1,1) \n",
        "ax.set_xlabel('Principal Component 1', fontsize = 15)\n",
        "ax.set_ylabel('Principal Component 2', fontsize = 15)\n",
        "ax.set_title('2 component LDA', fontsize = 20)\n",
        "targets = [0,1,2]\n",
        "colors = ['r', 'g', 'b']\n",
        "for target, color in zip(targets,colors):\n",
        "    indicesToKeep = finalDf['target'] == target\n",
        "    ax.scatter(finalDf.loc[indicesToKeep, 'principal component 1']\n",
        "               , finalDf.loc[indicesToKeep, 'principal component 2']\n",
        "               , c = color\n",
        "               , s = 50)\n",
        "ax.legend(targets)\n",
        "ax.grid()"
      ],
      "execution_count": 45,
      "outputs": [
        {
          "output_type": "stream",
          "name": "stdout",
          "text": [
            "Variancia Explicada:  [0.68723957 0.31276043]\n",
            "r_forest > 0.964 (0.059) \n"
          ]
        },
        {
          "output_type": "display_data",
          "data": {
            "image/png": "[encoded data removed]",
            "text/plain": [
              "<Figure size 576x576 with 1 Axes>"
            ]
          },
          "metadata": {
            "needs_background": "light"
          }
        }
      ]
    },
    {
      "cell_type": "markdown",
      "metadata": {
        "id": "Gf9wtxxBG7Ak"
      },
      "source": [
        "## 2 - Implementar a combinação PCA+LDA e, finalmente comparar com o desempenho das técnicas individuais e conjuntas, obtidos pelos classificadores para cada redutor de dimensionalidade. Atenção: utilizar a versão da função get_best_model() que vocês desenvolveram na atividade anterior;"
      ]
    },
    {
      "cell_type": "code",
      "metadata": {
        "id": "cqvJzNvTG9s7"
      },
      "source": [
        ""
      ],
      "execution_count": null,
      "outputs": []
    }
  ]
}