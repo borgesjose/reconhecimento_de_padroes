{
  "nbformat": 4,
  "nbformat_minor": 0,
  "metadata": {
    "orig_nbformat": 4,
    "language_info": {
      "name": "python",
      "version": "3.9.7",
      "mimetype": "text/x-python",
      "codemirror_mode": {
        "name": "ipython",
        "version": 3
      },
      "pygments_lexer": "ipython3",
      "nbconvert_exporter": "python",
      "file_extension": ".py"
    },
    "kernelspec": {
      "name": "python3",
      "display_name": "Python 3.9.7 64-bit"
    },
    "interpreter": {
      "hash": "58a3eea4eb278bbeea5229c164e2a4161f21f1dcd6a7354dc31c0c2d62a92a19"
    },
    "colab": {
      "name": "baysesina_network.ipynb",
      "provenance": [],
      "collapsed_sections": []
    }
  },
  "cells": [
    {
      "cell_type": "code",
      "metadata": {
        "id": "AUz3mUfXMivD"
      },
      "source": [
        "%matplotlib inline"
      ],
      "execution_count": 6,
      "outputs": []
    },
    {
      "cell_type": "code",
      "metadata": {
        "id": "8GBlS8HJ4ang"
      },
      "source": [
        "#######################################################  \n",
        "# Universidade Federal do Piauí                       #\n",
        "# Campus ministro petronio Portela                    #                                       \n",
        "# Copyright 2021 -José Borges do Carmo Neto-          #\n",
        "# @author José Brges do Carmo Neto                    #\n",
        "# @email jose.borges90@hotmail.com                    #\n",
        "#  -- Rede Bayseana                                   #\n",
        "#  -- Version: 1.0  - 30/10/2021                      #\n",
        "#######################################################    \n"
      ],
      "execution_count": 7,
      "outputs": []
    },
    {
      "cell_type": "markdown",
      "metadata": {
        "id": "FIidFFl_4ank"
      },
      "source": [
        "Atividade(2.5): Realizar a classificação com a Rede Bayesiana:\n",
        "<ol>\n",
        "    <li> O método predict deve ser criado na classe BNEstimator(). Tal método deve receber um conjunto de teste e retornar a acurácia. </li> \n",
        "    <li> Testar um algoritmo de aprendizado diferente do GreedyHillClimbing, plotar a curva de aprendizado dos algoritmos (erro vs iterações) e comparar os resultados obtidos pela rede com os diferentes algoritmos. </li> \n",
        "    <li> Verificar uma nova hipótese: P(semi_intesive | evidencia). Nota: covid_19 deve se relacionar com a variável semi_intensiva. </li> \n",
        "</ol>"
      ]
    },
    {
      "cell_type": "markdown",
      "metadata": {
        "id": "JEMMRFFO4anl"
      },
      "source": [
        "# Tratamento dos Dados"
      ]
    },
    {
      "cell_type": "code",
      "metadata": {
        "id": "Im2fClGx4anm"
      },
      "source": [
        "import pandas as pd\n",
        "import numpy as np\n",
        "from sklearn.preprocessing import LabelEncoder\n",
        "import time"
      ],
      "execution_count": 8,
      "outputs": []
    },
    {
      "cell_type": "markdown",
      "metadata": {
        "id": "SEiszpyl4anm"
      },
      "source": [
        "## Carregando os dados"
      ]
    },
    {
      "cell_type": "code",
      "metadata": {
        "id": "f6lDROZn4ann"
      },
      "source": [
        "data = pd.read_excel('covid19.xlsx')"
      ],
      "execution_count": 9,
      "outputs": []
    },
    {
      "cell_type": "code",
      "metadata": {
        "colab": {
          "base_uri": "https://localhost:8080/",
          "height": 353
        },
        "id": "_kZi3-Rw4ann",
        "outputId": "0166ab41-0180-4917-8298-948e330ebc3d"
      },
      "source": [
        "data.head()"
      ],
      "execution_count": 10,
      "outputs": [
        {
          "output_type": "execute_result",
          "data": {
            "text/html": [
              "<div>\n",
              "<style scoped>\n",
              "    .dataframe tbody tr th:only-of-type {\n",
              "        vertical-align: middle;\n",
              "    }\n",
              "\n",
              "    .dataframe tbody tr th {\n",
              "        vertical-align: top;\n",
              "    }\n",
              "\n",
              "    .dataframe thead th {\n",
              "        text-align: right;\n",
              "    }\n",
              "</style>\n",
              "<table border=\"1\" class=\"dataframe\">\n",
              "  <thead>\n",
              "    <tr style=\"text-align: right;\">\n",
              "      <th></th>\n",
              "      <th>Patient ID</th>\n",
              "      <th>Patient age quantile</th>\n",
              "      <th>SARS-Cov-2 exam result</th>\n",
              "      <th>Patient addmited to regular ward (1=yes, 0=no)</th>\n",
              "      <th>Patient addmited to semi-intensive unit (1=yes, 0=no)</th>\n",
              "      <th>Patient addmited to intensive care unit (1=yes, 0=no)</th>\n",
              "      <th>Hematocrit</th>\n",
              "      <th>Hemoglobin</th>\n",
              "      <th>Platelets</th>\n",
              "      <th>Mean platelet volume</th>\n",
              "      <th>Red blood Cells</th>\n",
              "      <th>Lymphocytes</th>\n",
              "      <th>Mean corpuscular hemoglobin concentration (MCHC)</th>\n",
              "      <th>Leukocytes</th>\n",
              "      <th>Basophils</th>\n",
              "      <th>Mean corpuscular hemoglobin (MCH)</th>\n",
              "      <th>Eosinophils</th>\n",
              "      <th>Mean corpuscular volume (MCV)</th>\n",
              "      <th>Monocytes</th>\n",
              "      <th>Red blood cell distribution width (RDW)</th>\n",
              "      <th>Serum Glucose</th>\n",
              "      <th>Respiratory Syncytial Virus</th>\n",
              "      <th>Influenza A</th>\n",
              "      <th>Influenza B</th>\n",
              "      <th>Parainfluenza 1</th>\n",
              "      <th>CoronavirusNL63</th>\n",
              "      <th>Rhinovirus/Enterovirus</th>\n",
              "      <th>Mycoplasma pneumoniae</th>\n",
              "      <th>Coronavirus HKU1</th>\n",
              "      <th>Parainfluenza 3</th>\n",
              "      <th>Chlamydophila pneumoniae</th>\n",
              "      <th>Adenovirus</th>\n",
              "      <th>Parainfluenza 4</th>\n",
              "      <th>Coronavirus229E</th>\n",
              "      <th>CoronavirusOC43</th>\n",
              "      <th>Inf A H1N1 2009</th>\n",
              "      <th>Bordetella pertussis</th>\n",
              "      <th>Metapneumovirus</th>\n",
              "      <th>Parainfluenza 2</th>\n",
              "      <th>Neutrophils</th>\n",
              "      <th>...</th>\n",
              "      <th>Urine - Esterase</th>\n",
              "      <th>Urine - Aspect</th>\n",
              "      <th>Urine - pH</th>\n",
              "      <th>Urine - Hemoglobin</th>\n",
              "      <th>Urine - Bile pigments</th>\n",
              "      <th>Urine - Ketone Bodies</th>\n",
              "      <th>Urine - Nitrite</th>\n",
              "      <th>Urine - Density</th>\n",
              "      <th>Urine - Urobilinogen</th>\n",
              "      <th>Urine - Protein</th>\n",
              "      <th>Urine - Sugar</th>\n",
              "      <th>Urine - Leukocytes</th>\n",
              "      <th>Urine - Crystals</th>\n",
              "      <th>Urine - Red blood cells</th>\n",
              "      <th>Urine - Hyaline cylinders</th>\n",
              "      <th>Urine - Granular cylinders</th>\n",
              "      <th>Urine - Yeasts</th>\n",
              "      <th>Urine - Color</th>\n",
              "      <th>Partial thromboplastin time (PTT)</th>\n",
              "      <th>Relationship (Patient/Normal)</th>\n",
              "      <th>International normalized ratio (INR)</th>\n",
              "      <th>Lactic Dehydrogenase</th>\n",
              "      <th>Prothrombin time (PT), Activity</th>\n",
              "      <th>Vitamin B12</th>\n",
              "      <th>Creatine phosphokinase (CPK)</th>\n",
              "      <th>Ferritin</th>\n",
              "      <th>Arterial Lactic Acid</th>\n",
              "      <th>Lipase dosage</th>\n",
              "      <th>D-Dimer</th>\n",
              "      <th>Albumin</th>\n",
              "      <th>Hb saturation (arterial blood gases)</th>\n",
              "      <th>pCO2 (arterial blood gas analysis)</th>\n",
              "      <th>Base excess (arterial blood gas analysis)</th>\n",
              "      <th>pH (arterial blood gas analysis)</th>\n",
              "      <th>Total CO2 (arterial blood gas analysis)</th>\n",
              "      <th>HCO3 (arterial blood gas analysis)</th>\n",
              "      <th>pO2 (arterial blood gas analysis)</th>\n",
              "      <th>Arteiral Fio2</th>\n",
              "      <th>Phosphor</th>\n",
              "      <th>ctO2 (arterial blood gas analysis)</th>\n",
              "    </tr>\n",
              "  </thead>\n",
              "  <tbody>\n",
              "    <tr>\n",
              "      <th>0</th>\n",
              "      <td>44477f75e8169d2</td>\n",
              "      <td>13</td>\n",
              "      <td>negative</td>\n",
              "      <td>0</td>\n",
              "      <td>0</td>\n",
              "      <td>0</td>\n",
              "      <td>NaN</td>\n",
              "      <td>NaN</td>\n",
              "      <td>NaN</td>\n",
              "      <td>NaN</td>\n",
              "      <td>NaN</td>\n",
              "      <td>NaN</td>\n",
              "      <td>NaN</td>\n",
              "      <td>NaN</td>\n",
              "      <td>NaN</td>\n",
              "      <td>NaN</td>\n",
              "      <td>NaN</td>\n",
              "      <td>NaN</td>\n",
              "      <td>NaN</td>\n",
              "      <td>NaN</td>\n",
              "      <td>NaN</td>\n",
              "      <td>NaN</td>\n",
              "      <td>NaN</td>\n",
              "      <td>NaN</td>\n",
              "      <td>NaN</td>\n",
              "      <td>NaN</td>\n",
              "      <td>NaN</td>\n",
              "      <td>NaN</td>\n",
              "      <td>NaN</td>\n",
              "      <td>NaN</td>\n",
              "      <td>NaN</td>\n",
              "      <td>NaN</td>\n",
              "      <td>NaN</td>\n",
              "      <td>NaN</td>\n",
              "      <td>NaN</td>\n",
              "      <td>NaN</td>\n",
              "      <td>NaN</td>\n",
              "      <td>NaN</td>\n",
              "      <td>NaN</td>\n",
              "      <td>NaN</td>\n",
              "      <td>...</td>\n",
              "      <td>NaN</td>\n",
              "      <td>NaN</td>\n",
              "      <td>NaN</td>\n",
              "      <td>NaN</td>\n",
              "      <td>NaN</td>\n",
              "      <td>NaN</td>\n",
              "      <td>NaN</td>\n",
              "      <td>NaN</td>\n",
              "      <td>NaN</td>\n",
              "      <td>NaN</td>\n",
              "      <td>NaN</td>\n",
              "      <td>NaN</td>\n",
              "      <td>NaN</td>\n",
              "      <td>NaN</td>\n",
              "      <td>NaN</td>\n",
              "      <td>NaN</td>\n",
              "      <td>NaN</td>\n",
              "      <td>NaN</td>\n",
              "      <td>NaN</td>\n",
              "      <td>NaN</td>\n",
              "      <td>NaN</td>\n",
              "      <td>NaN</td>\n",
              "      <td>NaN</td>\n",
              "      <td>NaN</td>\n",
              "      <td>NaN</td>\n",
              "      <td>NaN</td>\n",
              "      <td>NaN</td>\n",
              "      <td>NaN</td>\n",
              "      <td>NaN</td>\n",
              "      <td>NaN</td>\n",
              "      <td>NaN</td>\n",
              "      <td>NaN</td>\n",
              "      <td>NaN</td>\n",
              "      <td>NaN</td>\n",
              "      <td>NaN</td>\n",
              "      <td>NaN</td>\n",
              "      <td>NaN</td>\n",
              "      <td>NaN</td>\n",
              "      <td>NaN</td>\n",
              "      <td>NaN</td>\n",
              "    </tr>\n",
              "    <tr>\n",
              "      <th>1</th>\n",
              "      <td>126e9dd13932f68</td>\n",
              "      <td>17</td>\n",
              "      <td>negative</td>\n",
              "      <td>0</td>\n",
              "      <td>0</td>\n",
              "      <td>0</td>\n",
              "      <td>0.236515</td>\n",
              "      <td>-0.02234</td>\n",
              "      <td>-0.517413</td>\n",
              "      <td>0.010677</td>\n",
              "      <td>0.102004</td>\n",
              "      <td>0.318366</td>\n",
              "      <td>-0.95079</td>\n",
              "      <td>-0.09461</td>\n",
              "      <td>-0.223767</td>\n",
              "      <td>-0.292269</td>\n",
              "      <td>1.482158</td>\n",
              "      <td>0.166192</td>\n",
              "      <td>0.357547</td>\n",
              "      <td>-0.625073</td>\n",
              "      <td>-0.140648</td>\n",
              "      <td>not_detected</td>\n",
              "      <td>not_detected</td>\n",
              "      <td>not_detected</td>\n",
              "      <td>not_detected</td>\n",
              "      <td>not_detected</td>\n",
              "      <td>detected</td>\n",
              "      <td>NaN</td>\n",
              "      <td>not_detected</td>\n",
              "      <td>not_detected</td>\n",
              "      <td>not_detected</td>\n",
              "      <td>not_detected</td>\n",
              "      <td>not_detected</td>\n",
              "      <td>not_detected</td>\n",
              "      <td>not_detected</td>\n",
              "      <td>not_detected</td>\n",
              "      <td>not_detected</td>\n",
              "      <td>not_detected</td>\n",
              "      <td>not_detected</td>\n",
              "      <td>-0.619086</td>\n",
              "      <td>...</td>\n",
              "      <td>NaN</td>\n",
              "      <td>NaN</td>\n",
              "      <td>NaN</td>\n",
              "      <td>NaN</td>\n",
              "      <td>NaN</td>\n",
              "      <td>NaN</td>\n",
              "      <td>NaN</td>\n",
              "      <td>NaN</td>\n",
              "      <td>NaN</td>\n",
              "      <td>NaN</td>\n",
              "      <td>NaN</td>\n",
              "      <td>NaN</td>\n",
              "      <td>NaN</td>\n",
              "      <td>NaN</td>\n",
              "      <td>NaN</td>\n",
              "      <td>NaN</td>\n",
              "      <td>NaN</td>\n",
              "      <td>NaN</td>\n",
              "      <td>NaN</td>\n",
              "      <td>NaN</td>\n",
              "      <td>NaN</td>\n",
              "      <td>NaN</td>\n",
              "      <td>NaN</td>\n",
              "      <td>NaN</td>\n",
              "      <td>NaN</td>\n",
              "      <td>NaN</td>\n",
              "      <td>NaN</td>\n",
              "      <td>NaN</td>\n",
              "      <td>NaN</td>\n",
              "      <td>NaN</td>\n",
              "      <td>NaN</td>\n",
              "      <td>NaN</td>\n",
              "      <td>NaN</td>\n",
              "      <td>NaN</td>\n",
              "      <td>NaN</td>\n",
              "      <td>NaN</td>\n",
              "      <td>NaN</td>\n",
              "      <td>NaN</td>\n",
              "      <td>NaN</td>\n",
              "      <td>NaN</td>\n",
              "    </tr>\n",
              "    <tr>\n",
              "      <th>2</th>\n",
              "      <td>a46b4402a0e5696</td>\n",
              "      <td>8</td>\n",
              "      <td>negative</td>\n",
              "      <td>0</td>\n",
              "      <td>0</td>\n",
              "      <td>0</td>\n",
              "      <td>NaN</td>\n",
              "      <td>NaN</td>\n",
              "      <td>NaN</td>\n",
              "      <td>NaN</td>\n",
              "      <td>NaN</td>\n",
              "      <td>NaN</td>\n",
              "      <td>NaN</td>\n",
              "      <td>NaN</td>\n",
              "      <td>NaN</td>\n",
              "      <td>NaN</td>\n",
              "      <td>NaN</td>\n",
              "      <td>NaN</td>\n",
              "      <td>NaN</td>\n",
              "      <td>NaN</td>\n",
              "      <td>NaN</td>\n",
              "      <td>NaN</td>\n",
              "      <td>NaN</td>\n",
              "      <td>NaN</td>\n",
              "      <td>NaN</td>\n",
              "      <td>NaN</td>\n",
              "      <td>NaN</td>\n",
              "      <td>NaN</td>\n",
              "      <td>NaN</td>\n",
              "      <td>NaN</td>\n",
              "      <td>NaN</td>\n",
              "      <td>NaN</td>\n",
              "      <td>NaN</td>\n",
              "      <td>NaN</td>\n",
              "      <td>NaN</td>\n",
              "      <td>NaN</td>\n",
              "      <td>NaN</td>\n",
              "      <td>NaN</td>\n",
              "      <td>NaN</td>\n",
              "      <td>NaN</td>\n",
              "      <td>...</td>\n",
              "      <td>NaN</td>\n",
              "      <td>NaN</td>\n",
              "      <td>NaN</td>\n",
              "      <td>NaN</td>\n",
              "      <td>NaN</td>\n",
              "      <td>NaN</td>\n",
              "      <td>NaN</td>\n",
              "      <td>NaN</td>\n",
              "      <td>NaN</td>\n",
              "      <td>NaN</td>\n",
              "      <td>NaN</td>\n",
              "      <td>NaN</td>\n",
              "      <td>NaN</td>\n",
              "      <td>NaN</td>\n",
              "      <td>NaN</td>\n",
              "      <td>NaN</td>\n",
              "      <td>NaN</td>\n",
              "      <td>NaN</td>\n",
              "      <td>NaN</td>\n",
              "      <td>NaN</td>\n",
              "      <td>NaN</td>\n",
              "      <td>NaN</td>\n",
              "      <td>NaN</td>\n",
              "      <td>NaN</td>\n",
              "      <td>NaN</td>\n",
              "      <td>NaN</td>\n",
              "      <td>NaN</td>\n",
              "      <td>NaN</td>\n",
              "      <td>NaN</td>\n",
              "      <td>NaN</td>\n",
              "      <td>NaN</td>\n",
              "      <td>NaN</td>\n",
              "      <td>NaN</td>\n",
              "      <td>NaN</td>\n",
              "      <td>NaN</td>\n",
              "      <td>NaN</td>\n",
              "      <td>NaN</td>\n",
              "      <td>NaN</td>\n",
              "      <td>NaN</td>\n",
              "      <td>NaN</td>\n",
              "    </tr>\n",
              "    <tr>\n",
              "      <th>3</th>\n",
              "      <td>f7d619a94f97c45</td>\n",
              "      <td>5</td>\n",
              "      <td>negative</td>\n",
              "      <td>0</td>\n",
              "      <td>0</td>\n",
              "      <td>0</td>\n",
              "      <td>NaN</td>\n",
              "      <td>NaN</td>\n",
              "      <td>NaN</td>\n",
              "      <td>NaN</td>\n",
              "      <td>NaN</td>\n",
              "      <td>NaN</td>\n",
              "      <td>NaN</td>\n",
              "      <td>NaN</td>\n",
              "      <td>NaN</td>\n",
              "      <td>NaN</td>\n",
              "      <td>NaN</td>\n",
              "      <td>NaN</td>\n",
              "      <td>NaN</td>\n",
              "      <td>NaN</td>\n",
              "      <td>NaN</td>\n",
              "      <td>NaN</td>\n",
              "      <td>NaN</td>\n",
              "      <td>NaN</td>\n",
              "      <td>NaN</td>\n",
              "      <td>NaN</td>\n",
              "      <td>NaN</td>\n",
              "      <td>NaN</td>\n",
              "      <td>NaN</td>\n",
              "      <td>NaN</td>\n",
              "      <td>NaN</td>\n",
              "      <td>NaN</td>\n",
              "      <td>NaN</td>\n",
              "      <td>NaN</td>\n",
              "      <td>NaN</td>\n",
              "      <td>NaN</td>\n",
              "      <td>NaN</td>\n",
              "      <td>NaN</td>\n",
              "      <td>NaN</td>\n",
              "      <td>NaN</td>\n",
              "      <td>...</td>\n",
              "      <td>NaN</td>\n",
              "      <td>NaN</td>\n",
              "      <td>NaN</td>\n",
              "      <td>NaN</td>\n",
              "      <td>NaN</td>\n",
              "      <td>NaN</td>\n",
              "      <td>NaN</td>\n",
              "      <td>NaN</td>\n",
              "      <td>NaN</td>\n",
              "      <td>NaN</td>\n",
              "      <td>NaN</td>\n",
              "      <td>NaN</td>\n",
              "      <td>NaN</td>\n",
              "      <td>NaN</td>\n",
              "      <td>NaN</td>\n",
              "      <td>NaN</td>\n",
              "      <td>NaN</td>\n",
              "      <td>NaN</td>\n",
              "      <td>NaN</td>\n",
              "      <td>NaN</td>\n",
              "      <td>NaN</td>\n",
              "      <td>NaN</td>\n",
              "      <td>NaN</td>\n",
              "      <td>NaN</td>\n",
              "      <td>NaN</td>\n",
              "      <td>NaN</td>\n",
              "      <td>NaN</td>\n",
              "      <td>NaN</td>\n",
              "      <td>NaN</td>\n",
              "      <td>NaN</td>\n",
              "      <td>NaN</td>\n",
              "      <td>NaN</td>\n",
              "      <td>NaN</td>\n",
              "      <td>NaN</td>\n",
              "      <td>NaN</td>\n",
              "      <td>NaN</td>\n",
              "      <td>NaN</td>\n",
              "      <td>NaN</td>\n",
              "      <td>NaN</td>\n",
              "      <td>NaN</td>\n",
              "    </tr>\n",
              "    <tr>\n",
              "      <th>4</th>\n",
              "      <td>d9e41465789c2b5</td>\n",
              "      <td>15</td>\n",
              "      <td>negative</td>\n",
              "      <td>0</td>\n",
              "      <td>0</td>\n",
              "      <td>0</td>\n",
              "      <td>NaN</td>\n",
              "      <td>NaN</td>\n",
              "      <td>NaN</td>\n",
              "      <td>NaN</td>\n",
              "      <td>NaN</td>\n",
              "      <td>NaN</td>\n",
              "      <td>NaN</td>\n",
              "      <td>NaN</td>\n",
              "      <td>NaN</td>\n",
              "      <td>NaN</td>\n",
              "      <td>NaN</td>\n",
              "      <td>NaN</td>\n",
              "      <td>NaN</td>\n",
              "      <td>NaN</td>\n",
              "      <td>NaN</td>\n",
              "      <td>not_detected</td>\n",
              "      <td>not_detected</td>\n",
              "      <td>not_detected</td>\n",
              "      <td>not_detected</td>\n",
              "      <td>not_detected</td>\n",
              "      <td>detected</td>\n",
              "      <td>NaN</td>\n",
              "      <td>not_detected</td>\n",
              "      <td>not_detected</td>\n",
              "      <td>not_detected</td>\n",
              "      <td>not_detected</td>\n",
              "      <td>not_detected</td>\n",
              "      <td>not_detected</td>\n",
              "      <td>not_detected</td>\n",
              "      <td>not_detected</td>\n",
              "      <td>not_detected</td>\n",
              "      <td>not_detected</td>\n",
              "      <td>not_detected</td>\n",
              "      <td>NaN</td>\n",
              "      <td>...</td>\n",
              "      <td>NaN</td>\n",
              "      <td>NaN</td>\n",
              "      <td>NaN</td>\n",
              "      <td>NaN</td>\n",
              "      <td>NaN</td>\n",
              "      <td>NaN</td>\n",
              "      <td>NaN</td>\n",
              "      <td>NaN</td>\n",
              "      <td>NaN</td>\n",
              "      <td>NaN</td>\n",
              "      <td>NaN</td>\n",
              "      <td>NaN</td>\n",
              "      <td>NaN</td>\n",
              "      <td>NaN</td>\n",
              "      <td>NaN</td>\n",
              "      <td>NaN</td>\n",
              "      <td>NaN</td>\n",
              "      <td>NaN</td>\n",
              "      <td>NaN</td>\n",
              "      <td>NaN</td>\n",
              "      <td>NaN</td>\n",
              "      <td>NaN</td>\n",
              "      <td>NaN</td>\n",
              "      <td>NaN</td>\n",
              "      <td>NaN</td>\n",
              "      <td>NaN</td>\n",
              "      <td>NaN</td>\n",
              "      <td>NaN</td>\n",
              "      <td>NaN</td>\n",
              "      <td>NaN</td>\n",
              "      <td>NaN</td>\n",
              "      <td>NaN</td>\n",
              "      <td>NaN</td>\n",
              "      <td>NaN</td>\n",
              "      <td>NaN</td>\n",
              "      <td>NaN</td>\n",
              "      <td>NaN</td>\n",
              "      <td>NaN</td>\n",
              "      <td>NaN</td>\n",
              "      <td>NaN</td>\n",
              "    </tr>\n",
              "  </tbody>\n",
              "</table>\n",
              "<p>5 rows × 111 columns</p>\n",
              "</div>"
            ],
            "text/plain": [
              "        Patient ID  ...  ctO2 (arterial blood gas analysis)\n",
              "0  44477f75e8169d2  ...                                 NaN\n",
              "1  126e9dd13932f68  ...                                 NaN\n",
              "2  a46b4402a0e5696  ...                                 NaN\n",
              "3  f7d619a94f97c45  ...                                 NaN\n",
              "4  d9e41465789c2b5  ...                                 NaN\n",
              "\n",
              "[5 rows x 111 columns]"
            ]
          },
          "metadata": {},
          "execution_count": 10
        }
      ]
    },
    {
      "cell_type": "markdown",
      "metadata": {
        "id": "maosvzHr4ano"
      },
      "source": [
        "### Tratando os Dados"
      ]
    },
    {
      "cell_type": "code",
      "metadata": {
        "id": "bSztqgnO4anp"
      },
      "source": [
        "# Renomear colunas com nomes extensos\n",
        "data.rename(columns= {'Patient age quantile': 'age_quantile',\n",
        "                   'SARS-Cov-2 exam result': 'covid_19',\n",
        "                   'Patient addmited to regular ward (1=yes, 0=no)': 'regular_ward', \n",
        "                   'Patient addmited to semi-intensive unit (1=yes, 0=no)': 'semi_intensive_care',\n",
        "                   'Patient addmited to intensive care unit (1=yes, 0=no)': 'intensive_care',\n",
        "                   'Influenza B, rapid test': 'influenza_B_rapid_test',\n",
        "                   'Influenza A, rapid test': 'influenza_A_rapid_test'}, inplace = True)\n",
        "\n",
        "# Transformar a variável categórica \n",
        "label_encoder = LabelEncoder()\n",
        "data['covid_19'] = label_encoder.fit_transform(data['covid_19'])\n",
        "\n",
        "# Remover os IDs dos pacientes\n",
        "data.drop(columns = 'Patient ID', inplace = True)\n"
      ],
      "execution_count": 11,
      "outputs": []
    },
    {
      "cell_type": "code",
      "metadata": {
        "colab": {
          "base_uri": "https://localhost:8080/",
          "height": 319
        },
        "id": "QNmyJ6RU4anq",
        "outputId": "97d3c8c9-6ddb-4f10-e1ff-f752b1f28a47"
      },
      "source": [
        "data.head()"
      ],
      "execution_count": 12,
      "outputs": [
        {
          "output_type": "execute_result",
          "data": {
            "text/html": [
              "<div>\n",
              "<style scoped>\n",
              "    .dataframe tbody tr th:only-of-type {\n",
              "        vertical-align: middle;\n",
              "    }\n",
              "\n",
              "    .dataframe tbody tr th {\n",
              "        vertical-align: top;\n",
              "    }\n",
              "\n",
              "    .dataframe thead th {\n",
              "        text-align: right;\n",
              "    }\n",
              "</style>\n",
              "<table border=\"1\" class=\"dataframe\">\n",
              "  <thead>\n",
              "    <tr style=\"text-align: right;\">\n",
              "      <th></th>\n",
              "      <th>age_quantile</th>\n",
              "      <th>covid_19</th>\n",
              "      <th>regular_ward</th>\n",
              "      <th>semi_intensive_care</th>\n",
              "      <th>intensive_care</th>\n",
              "      <th>Hematocrit</th>\n",
              "      <th>Hemoglobin</th>\n",
              "      <th>Platelets</th>\n",
              "      <th>Mean platelet volume</th>\n",
              "      <th>Red blood Cells</th>\n",
              "      <th>Lymphocytes</th>\n",
              "      <th>Mean corpuscular hemoglobin concentration (MCHC)</th>\n",
              "      <th>Leukocytes</th>\n",
              "      <th>Basophils</th>\n",
              "      <th>Mean corpuscular hemoglobin (MCH)</th>\n",
              "      <th>Eosinophils</th>\n",
              "      <th>Mean corpuscular volume (MCV)</th>\n",
              "      <th>Monocytes</th>\n",
              "      <th>Red blood cell distribution width (RDW)</th>\n",
              "      <th>Serum Glucose</th>\n",
              "      <th>Respiratory Syncytial Virus</th>\n",
              "      <th>Influenza A</th>\n",
              "      <th>Influenza B</th>\n",
              "      <th>Parainfluenza 1</th>\n",
              "      <th>CoronavirusNL63</th>\n",
              "      <th>Rhinovirus/Enterovirus</th>\n",
              "      <th>Mycoplasma pneumoniae</th>\n",
              "      <th>Coronavirus HKU1</th>\n",
              "      <th>Parainfluenza 3</th>\n",
              "      <th>Chlamydophila pneumoniae</th>\n",
              "      <th>Adenovirus</th>\n",
              "      <th>Parainfluenza 4</th>\n",
              "      <th>Coronavirus229E</th>\n",
              "      <th>CoronavirusOC43</th>\n",
              "      <th>Inf A H1N1 2009</th>\n",
              "      <th>Bordetella pertussis</th>\n",
              "      <th>Metapneumovirus</th>\n",
              "      <th>Parainfluenza 2</th>\n",
              "      <th>Neutrophils</th>\n",
              "      <th>Urea</th>\n",
              "      <th>...</th>\n",
              "      <th>Urine - Esterase</th>\n",
              "      <th>Urine - Aspect</th>\n",
              "      <th>Urine - pH</th>\n",
              "      <th>Urine - Hemoglobin</th>\n",
              "      <th>Urine - Bile pigments</th>\n",
              "      <th>Urine - Ketone Bodies</th>\n",
              "      <th>Urine - Nitrite</th>\n",
              "      <th>Urine - Density</th>\n",
              "      <th>Urine - Urobilinogen</th>\n",
              "      <th>Urine - Protein</th>\n",
              "      <th>Urine - Sugar</th>\n",
              "      <th>Urine - Leukocytes</th>\n",
              "      <th>Urine - Crystals</th>\n",
              "      <th>Urine - Red blood cells</th>\n",
              "      <th>Urine - Hyaline cylinders</th>\n",
              "      <th>Urine - Granular cylinders</th>\n",
              "      <th>Urine - Yeasts</th>\n",
              "      <th>Urine - Color</th>\n",
              "      <th>Partial thromboplastin time (PTT)</th>\n",
              "      <th>Relationship (Patient/Normal)</th>\n",
              "      <th>International normalized ratio (INR)</th>\n",
              "      <th>Lactic Dehydrogenase</th>\n",
              "      <th>Prothrombin time (PT), Activity</th>\n",
              "      <th>Vitamin B12</th>\n",
              "      <th>Creatine phosphokinase (CPK)</th>\n",
              "      <th>Ferritin</th>\n",
              "      <th>Arterial Lactic Acid</th>\n",
              "      <th>Lipase dosage</th>\n",
              "      <th>D-Dimer</th>\n",
              "      <th>Albumin</th>\n",
              "      <th>Hb saturation (arterial blood gases)</th>\n",
              "      <th>pCO2 (arterial blood gas analysis)</th>\n",
              "      <th>Base excess (arterial blood gas analysis)</th>\n",
              "      <th>pH (arterial blood gas analysis)</th>\n",
              "      <th>Total CO2 (arterial blood gas analysis)</th>\n",
              "      <th>HCO3 (arterial blood gas analysis)</th>\n",
              "      <th>pO2 (arterial blood gas analysis)</th>\n",
              "      <th>Arteiral Fio2</th>\n",
              "      <th>Phosphor</th>\n",
              "      <th>ctO2 (arterial blood gas analysis)</th>\n",
              "    </tr>\n",
              "  </thead>\n",
              "  <tbody>\n",
              "    <tr>\n",
              "      <th>0</th>\n",
              "      <td>13</td>\n",
              "      <td>0</td>\n",
              "      <td>0</td>\n",
              "      <td>0</td>\n",
              "      <td>0</td>\n",
              "      <td>NaN</td>\n",
              "      <td>NaN</td>\n",
              "      <td>NaN</td>\n",
              "      <td>NaN</td>\n",
              "      <td>NaN</td>\n",
              "      <td>NaN</td>\n",
              "      <td>NaN</td>\n",
              "      <td>NaN</td>\n",
              "      <td>NaN</td>\n",
              "      <td>NaN</td>\n",
              "      <td>NaN</td>\n",
              "      <td>NaN</td>\n",
              "      <td>NaN</td>\n",
              "      <td>NaN</td>\n",
              "      <td>NaN</td>\n",
              "      <td>NaN</td>\n",
              "      <td>NaN</td>\n",
              "      <td>NaN</td>\n",
              "      <td>NaN</td>\n",
              "      <td>NaN</td>\n",
              "      <td>NaN</td>\n",
              "      <td>NaN</td>\n",
              "      <td>NaN</td>\n",
              "      <td>NaN</td>\n",
              "      <td>NaN</td>\n",
              "      <td>NaN</td>\n",
              "      <td>NaN</td>\n",
              "      <td>NaN</td>\n",
              "      <td>NaN</td>\n",
              "      <td>NaN</td>\n",
              "      <td>NaN</td>\n",
              "      <td>NaN</td>\n",
              "      <td>NaN</td>\n",
              "      <td>NaN</td>\n",
              "      <td>NaN</td>\n",
              "      <td>...</td>\n",
              "      <td>NaN</td>\n",
              "      <td>NaN</td>\n",
              "      <td>NaN</td>\n",
              "      <td>NaN</td>\n",
              "      <td>NaN</td>\n",
              "      <td>NaN</td>\n",
              "      <td>NaN</td>\n",
              "      <td>NaN</td>\n",
              "      <td>NaN</td>\n",
              "      <td>NaN</td>\n",
              "      <td>NaN</td>\n",
              "      <td>NaN</td>\n",
              "      <td>NaN</td>\n",
              "      <td>NaN</td>\n",
              "      <td>NaN</td>\n",
              "      <td>NaN</td>\n",
              "      <td>NaN</td>\n",
              "      <td>NaN</td>\n",
              "      <td>NaN</td>\n",
              "      <td>NaN</td>\n",
              "      <td>NaN</td>\n",
              "      <td>NaN</td>\n",
              "      <td>NaN</td>\n",
              "      <td>NaN</td>\n",
              "      <td>NaN</td>\n",
              "      <td>NaN</td>\n",
              "      <td>NaN</td>\n",
              "      <td>NaN</td>\n",
              "      <td>NaN</td>\n",
              "      <td>NaN</td>\n",
              "      <td>NaN</td>\n",
              "      <td>NaN</td>\n",
              "      <td>NaN</td>\n",
              "      <td>NaN</td>\n",
              "      <td>NaN</td>\n",
              "      <td>NaN</td>\n",
              "      <td>NaN</td>\n",
              "      <td>NaN</td>\n",
              "      <td>NaN</td>\n",
              "      <td>NaN</td>\n",
              "    </tr>\n",
              "    <tr>\n",
              "      <th>1</th>\n",
              "      <td>17</td>\n",
              "      <td>0</td>\n",
              "      <td>0</td>\n",
              "      <td>0</td>\n",
              "      <td>0</td>\n",
              "      <td>0.236515</td>\n",
              "      <td>-0.02234</td>\n",
              "      <td>-0.517413</td>\n",
              "      <td>0.010677</td>\n",
              "      <td>0.102004</td>\n",
              "      <td>0.318366</td>\n",
              "      <td>-0.95079</td>\n",
              "      <td>-0.09461</td>\n",
              "      <td>-0.223767</td>\n",
              "      <td>-0.292269</td>\n",
              "      <td>1.482158</td>\n",
              "      <td>0.166192</td>\n",
              "      <td>0.357547</td>\n",
              "      <td>-0.625073</td>\n",
              "      <td>-0.140648</td>\n",
              "      <td>not_detected</td>\n",
              "      <td>not_detected</td>\n",
              "      <td>not_detected</td>\n",
              "      <td>not_detected</td>\n",
              "      <td>not_detected</td>\n",
              "      <td>detected</td>\n",
              "      <td>NaN</td>\n",
              "      <td>not_detected</td>\n",
              "      <td>not_detected</td>\n",
              "      <td>not_detected</td>\n",
              "      <td>not_detected</td>\n",
              "      <td>not_detected</td>\n",
              "      <td>not_detected</td>\n",
              "      <td>not_detected</td>\n",
              "      <td>not_detected</td>\n",
              "      <td>not_detected</td>\n",
              "      <td>not_detected</td>\n",
              "      <td>not_detected</td>\n",
              "      <td>-0.619086</td>\n",
              "      <td>1.198059</td>\n",
              "      <td>...</td>\n",
              "      <td>NaN</td>\n",
              "      <td>NaN</td>\n",
              "      <td>NaN</td>\n",
              "      <td>NaN</td>\n",
              "      <td>NaN</td>\n",
              "      <td>NaN</td>\n",
              "      <td>NaN</td>\n",
              "      <td>NaN</td>\n",
              "      <td>NaN</td>\n",
              "      <td>NaN</td>\n",
              "      <td>NaN</td>\n",
              "      <td>NaN</td>\n",
              "      <td>NaN</td>\n",
              "      <td>NaN</td>\n",
              "      <td>NaN</td>\n",
              "      <td>NaN</td>\n",
              "      <td>NaN</td>\n",
              "      <td>NaN</td>\n",
              "      <td>NaN</td>\n",
              "      <td>NaN</td>\n",
              "      <td>NaN</td>\n",
              "      <td>NaN</td>\n",
              "      <td>NaN</td>\n",
              "      <td>NaN</td>\n",
              "      <td>NaN</td>\n",
              "      <td>NaN</td>\n",
              "      <td>NaN</td>\n",
              "      <td>NaN</td>\n",
              "      <td>NaN</td>\n",
              "      <td>NaN</td>\n",
              "      <td>NaN</td>\n",
              "      <td>NaN</td>\n",
              "      <td>NaN</td>\n",
              "      <td>NaN</td>\n",
              "      <td>NaN</td>\n",
              "      <td>NaN</td>\n",
              "      <td>NaN</td>\n",
              "      <td>NaN</td>\n",
              "      <td>NaN</td>\n",
              "      <td>NaN</td>\n",
              "    </tr>\n",
              "    <tr>\n",
              "      <th>2</th>\n",
              "      <td>8</td>\n",
              "      <td>0</td>\n",
              "      <td>0</td>\n",
              "      <td>0</td>\n",
              "      <td>0</td>\n",
              "      <td>NaN</td>\n",
              "      <td>NaN</td>\n",
              "      <td>NaN</td>\n",
              "      <td>NaN</td>\n",
              "      <td>NaN</td>\n",
              "      <td>NaN</td>\n",
              "      <td>NaN</td>\n",
              "      <td>NaN</td>\n",
              "      <td>NaN</td>\n",
              "      <td>NaN</td>\n",
              "      <td>NaN</td>\n",
              "      <td>NaN</td>\n",
              "      <td>NaN</td>\n",
              "      <td>NaN</td>\n",
              "      <td>NaN</td>\n",
              "      <td>NaN</td>\n",
              "      <td>NaN</td>\n",
              "      <td>NaN</td>\n",
              "      <td>NaN</td>\n",
              "      <td>NaN</td>\n",
              "      <td>NaN</td>\n",
              "      <td>NaN</td>\n",
              "      <td>NaN</td>\n",
              "      <td>NaN</td>\n",
              "      <td>NaN</td>\n",
              "      <td>NaN</td>\n",
              "      <td>NaN</td>\n",
              "      <td>NaN</td>\n",
              "      <td>NaN</td>\n",
              "      <td>NaN</td>\n",
              "      <td>NaN</td>\n",
              "      <td>NaN</td>\n",
              "      <td>NaN</td>\n",
              "      <td>NaN</td>\n",
              "      <td>NaN</td>\n",
              "      <td>...</td>\n",
              "      <td>NaN</td>\n",
              "      <td>NaN</td>\n",
              "      <td>NaN</td>\n",
              "      <td>NaN</td>\n",
              "      <td>NaN</td>\n",
              "      <td>NaN</td>\n",
              "      <td>NaN</td>\n",
              "      <td>NaN</td>\n",
              "      <td>NaN</td>\n",
              "      <td>NaN</td>\n",
              "      <td>NaN</td>\n",
              "      <td>NaN</td>\n",
              "      <td>NaN</td>\n",
              "      <td>NaN</td>\n",
              "      <td>NaN</td>\n",
              "      <td>NaN</td>\n",
              "      <td>NaN</td>\n",
              "      <td>NaN</td>\n",
              "      <td>NaN</td>\n",
              "      <td>NaN</td>\n",
              "      <td>NaN</td>\n",
              "      <td>NaN</td>\n",
              "      <td>NaN</td>\n",
              "      <td>NaN</td>\n",
              "      <td>NaN</td>\n",
              "      <td>NaN</td>\n",
              "      <td>NaN</td>\n",
              "      <td>NaN</td>\n",
              "      <td>NaN</td>\n",
              "      <td>NaN</td>\n",
              "      <td>NaN</td>\n",
              "      <td>NaN</td>\n",
              "      <td>NaN</td>\n",
              "      <td>NaN</td>\n",
              "      <td>NaN</td>\n",
              "      <td>NaN</td>\n",
              "      <td>NaN</td>\n",
              "      <td>NaN</td>\n",
              "      <td>NaN</td>\n",
              "      <td>NaN</td>\n",
              "    </tr>\n",
              "    <tr>\n",
              "      <th>3</th>\n",
              "      <td>5</td>\n",
              "      <td>0</td>\n",
              "      <td>0</td>\n",
              "      <td>0</td>\n",
              "      <td>0</td>\n",
              "      <td>NaN</td>\n",
              "      <td>NaN</td>\n",
              "      <td>NaN</td>\n",
              "      <td>NaN</td>\n",
              "      <td>NaN</td>\n",
              "      <td>NaN</td>\n",
              "      <td>NaN</td>\n",
              "      <td>NaN</td>\n",
              "      <td>NaN</td>\n",
              "      <td>NaN</td>\n",
              "      <td>NaN</td>\n",
              "      <td>NaN</td>\n",
              "      <td>NaN</td>\n",
              "      <td>NaN</td>\n",
              "      <td>NaN</td>\n",
              "      <td>NaN</td>\n",
              "      <td>NaN</td>\n",
              "      <td>NaN</td>\n",
              "      <td>NaN</td>\n",
              "      <td>NaN</td>\n",
              "      <td>NaN</td>\n",
              "      <td>NaN</td>\n",
              "      <td>NaN</td>\n",
              "      <td>NaN</td>\n",
              "      <td>NaN</td>\n",
              "      <td>NaN</td>\n",
              "      <td>NaN</td>\n",
              "      <td>NaN</td>\n",
              "      <td>NaN</td>\n",
              "      <td>NaN</td>\n",
              "      <td>NaN</td>\n",
              "      <td>NaN</td>\n",
              "      <td>NaN</td>\n",
              "      <td>NaN</td>\n",
              "      <td>NaN</td>\n",
              "      <td>...</td>\n",
              "      <td>NaN</td>\n",
              "      <td>NaN</td>\n",
              "      <td>NaN</td>\n",
              "      <td>NaN</td>\n",
              "      <td>NaN</td>\n",
              "      <td>NaN</td>\n",
              "      <td>NaN</td>\n",
              "      <td>NaN</td>\n",
              "      <td>NaN</td>\n",
              "      <td>NaN</td>\n",
              "      <td>NaN</td>\n",
              "      <td>NaN</td>\n",
              "      <td>NaN</td>\n",
              "      <td>NaN</td>\n",
              "      <td>NaN</td>\n",
              "      <td>NaN</td>\n",
              "      <td>NaN</td>\n",
              "      <td>NaN</td>\n",
              "      <td>NaN</td>\n",
              "      <td>NaN</td>\n",
              "      <td>NaN</td>\n",
              "      <td>NaN</td>\n",
              "      <td>NaN</td>\n",
              "      <td>NaN</td>\n",
              "      <td>NaN</td>\n",
              "      <td>NaN</td>\n",
              "      <td>NaN</td>\n",
              "      <td>NaN</td>\n",
              "      <td>NaN</td>\n",
              "      <td>NaN</td>\n",
              "      <td>NaN</td>\n",
              "      <td>NaN</td>\n",
              "      <td>NaN</td>\n",
              "      <td>NaN</td>\n",
              "      <td>NaN</td>\n",
              "      <td>NaN</td>\n",
              "      <td>NaN</td>\n",
              "      <td>NaN</td>\n",
              "      <td>NaN</td>\n",
              "      <td>NaN</td>\n",
              "    </tr>\n",
              "    <tr>\n",
              "      <th>4</th>\n",
              "      <td>15</td>\n",
              "      <td>0</td>\n",
              "      <td>0</td>\n",
              "      <td>0</td>\n",
              "      <td>0</td>\n",
              "      <td>NaN</td>\n",
              "      <td>NaN</td>\n",
              "      <td>NaN</td>\n",
              "      <td>NaN</td>\n",
              "      <td>NaN</td>\n",
              "      <td>NaN</td>\n",
              "      <td>NaN</td>\n",
              "      <td>NaN</td>\n",
              "      <td>NaN</td>\n",
              "      <td>NaN</td>\n",
              "      <td>NaN</td>\n",
              "      <td>NaN</td>\n",
              "      <td>NaN</td>\n",
              "      <td>NaN</td>\n",
              "      <td>NaN</td>\n",
              "      <td>not_detected</td>\n",
              "      <td>not_detected</td>\n",
              "      <td>not_detected</td>\n",
              "      <td>not_detected</td>\n",
              "      <td>not_detected</td>\n",
              "      <td>detected</td>\n",
              "      <td>NaN</td>\n",
              "      <td>not_detected</td>\n",
              "      <td>not_detected</td>\n",
              "      <td>not_detected</td>\n",
              "      <td>not_detected</td>\n",
              "      <td>not_detected</td>\n",
              "      <td>not_detected</td>\n",
              "      <td>not_detected</td>\n",
              "      <td>not_detected</td>\n",
              "      <td>not_detected</td>\n",
              "      <td>not_detected</td>\n",
              "      <td>not_detected</td>\n",
              "      <td>NaN</td>\n",
              "      <td>NaN</td>\n",
              "      <td>...</td>\n",
              "      <td>NaN</td>\n",
              "      <td>NaN</td>\n",
              "      <td>NaN</td>\n",
              "      <td>NaN</td>\n",
              "      <td>NaN</td>\n",
              "      <td>NaN</td>\n",
              "      <td>NaN</td>\n",
              "      <td>NaN</td>\n",
              "      <td>NaN</td>\n",
              "      <td>NaN</td>\n",
              "      <td>NaN</td>\n",
              "      <td>NaN</td>\n",
              "      <td>NaN</td>\n",
              "      <td>NaN</td>\n",
              "      <td>NaN</td>\n",
              "      <td>NaN</td>\n",
              "      <td>NaN</td>\n",
              "      <td>NaN</td>\n",
              "      <td>NaN</td>\n",
              "      <td>NaN</td>\n",
              "      <td>NaN</td>\n",
              "      <td>NaN</td>\n",
              "      <td>NaN</td>\n",
              "      <td>NaN</td>\n",
              "      <td>NaN</td>\n",
              "      <td>NaN</td>\n",
              "      <td>NaN</td>\n",
              "      <td>NaN</td>\n",
              "      <td>NaN</td>\n",
              "      <td>NaN</td>\n",
              "      <td>NaN</td>\n",
              "      <td>NaN</td>\n",
              "      <td>NaN</td>\n",
              "      <td>NaN</td>\n",
              "      <td>NaN</td>\n",
              "      <td>NaN</td>\n",
              "      <td>NaN</td>\n",
              "      <td>NaN</td>\n",
              "      <td>NaN</td>\n",
              "      <td>NaN</td>\n",
              "    </tr>\n",
              "  </tbody>\n",
              "</table>\n",
              "<p>5 rows × 110 columns</p>\n",
              "</div>"
            ],
            "text/plain": [
              "   age_quantile  covid_19  ...  Phosphor  ctO2 (arterial blood gas analysis)\n",
              "0            13         0  ...       NaN                                 NaN\n",
              "1            17         0  ...       NaN                                 NaN\n",
              "2             8         0  ...       NaN                                 NaN\n",
              "3             5         0  ...       NaN                                 NaN\n",
              "4            15         0  ...       NaN                                 NaN\n",
              "\n",
              "[5 rows x 110 columns]"
            ]
          },
          "metadata": {},
          "execution_count": 12
        }
      ]
    },
    {
      "cell_type": "code",
      "metadata": {
        "colab": {
          "base_uri": "https://localhost:8080/"
        },
        "id": "d4EUFNez4anq",
        "outputId": "2572a878-b420-4714-92c9-ec0592d2a889"
      },
      "source": [
        "# Remover a coluna onde mais de 95% dos dados são NaNs \n",
        "thresh = 0.05*data.shape[0]\n",
        "data.dropna(axis= 1, thresh=thresh, inplace = True)\n",
        "\n",
        "# Remover todas as colunas que têm apenas um valor\n",
        "counts = data.nunique(axis=0)\n",
        "index = counts[counts.values == 1].index\n",
        "data.drop(columns = index, inplace = True)\n",
        "\n",
        "# Considerar apenas as colunas q assumem no máximo 4 valores, com excessão de 4 V.As contínuas\n",
        "kept_cols = [i for i in data if data[i].nunique()<=4]\n",
        "kept_cols.extend(['Platelets','Red blood Cells','Lymphocytes','Leukocytes'])\n",
        "data = data[kept_cols]\n",
        "\n",
        "## Manipulando os dados faltantes\n",
        "continuous_cols = [x for x in data.columns if data[x].dtypes == 'float64']\n",
        "discrete_cols = [x for x in data.columns if (data[x].dtypes == 'O') | (data[x].dtypes == 'int64') | (data[x].dtypes == 'int32')]\n",
        "print(\"Dados Contínuos: \", continuous_cols, \"\\nDados discretos:\", discrete_cols)\n",
        "\n",
        "#Remover os targets da listas das colunas onde os NaNs serão substituídos \n",
        "for i in ['covid_19', 'regular_ward', 'semi_intensive_care','intensive_care']:\n",
        "    discrete_cols.remove(i) \n",
        "\n",
        "# Substituindo os NaNs dos dados contínuos pela média    \n",
        "for i in continuous_cols:     \n",
        "    data[i].fillna(data[i].median(), inplace=True) \n",
        "            \n",
        "# Substituindo os NaNs dos dados discretos pelo inteiro '-999' \n",
        "for i in discrete_cols:     \n",
        "    data[i].fillna('-999', inplace=True) "
      ],
      "execution_count": 13,
      "outputs": [
        {
          "output_type": "stream",
          "name": "stdout",
          "text": [
            "Dados Contínuos:  ['Platelets', 'Red blood Cells', 'Lymphocytes', 'Leukocytes'] \n",
            "Dados discretos: ['covid_19', 'regular_ward', 'semi_intensive_care', 'intensive_care', 'Respiratory Syncytial Virus', 'Influenza A', 'Influenza B', 'Parainfluenza 1', 'CoronavirusNL63', 'Rhinovirus/Enterovirus', 'Coronavirus HKU1', 'Parainfluenza 3', 'Chlamydophila pneumoniae', 'Adenovirus', 'Parainfluenza 4', 'Coronavirus229E', 'CoronavirusOC43', 'Inf A H1N1 2009', 'Bordetella pertussis', 'Metapneumovirus', 'influenza_B_rapid_test', 'influenza_A_rapid_test', 'Strepto A']\n"
          ]
        }
      ]
    },
    {
      "cell_type": "code",
      "metadata": {
        "id": "wiIwRC2J4anr"
      },
      "source": [
        "data.to_csv('template.csv', index = False)"
      ],
      "execution_count": 14,
      "outputs": []
    },
    {
      "cell_type": "markdown",
      "metadata": {
        "id": "tqAV46-L4anr"
      },
      "source": [
        "# Criando a Rede Beyesiana"
      ]
    },
    {
      "cell_type": "code",
      "metadata": {
        "colab": {
          "base_uri": "https://localhost:8080/"
        },
        "id": "dVZQwALb_0AA",
        "outputId": "bbca4f76-0b3f-415b-9d67-058c6577510c"
      },
      "source": [
        "pip install pydotplus"
      ],
      "execution_count": 15,
      "outputs": [
        {
          "output_type": "stream",
          "name": "stdout",
          "text": [
            "Requirement already satisfied: pydotplus in /usr/local/lib/python3.7/dist-packages (2.0.2)\n",
            "Requirement already satisfied: pyparsing>=2.0.1 in /usr/local/lib/python3.7/dist-packages (from pydotplus) (2.4.7)\n"
          ]
        }
      ]
    },
    {
      "cell_type": "code",
      "metadata": {
        "colab": {
          "base_uri": "https://localhost:8080/"
        },
        "id": "_-pR0cTy_0oZ",
        "outputId": "f005a2f4-61bb-4d78-f77c-6dbfd1f98585"
      },
      "source": [
        "pip install pyagrum"
      ],
      "execution_count": 16,
      "outputs": [
        {
          "output_type": "stream",
          "name": "stdout",
          "text": [
            "Collecting pyagrum\n",
            "  Downloading pyAgrum-0.22.2-cp37-cp37m-manylinux1_x86_64.whl (4.9 MB)\n",
            "\u001b[K     |████████████████████████████████| 4.9 MB 1.1 MB/s \n",
            "\u001b[?25hCollecting configparser\n",
            "  Downloading configparser-5.0.2-py3-none-any.whl (19 kB)\n",
            "Requirement already satisfied: six in /usr/local/lib/python3.7/dist-packages (from pyagrum) (1.15.0)\n",
            "Requirement already satisfied: numpy>=1.8.1 in /usr/local/lib/python3.7/dist-packages (from pyagrum) (1.19.5)\n",
            "Installing collected packages: configparser, pyagrum\n",
            "Successfully installed configparser-5.0.2 pyagrum-0.22.2\n"
          ]
        }
      ]
    },
    {
      "cell_type": "code",
      "metadata": {
        "id": "dIoFBvLk4anr"
      },
      "source": [
        "import pandas as pd\n",
        "import numpy as np\n",
        "from sklearn.model_selection import train_test_split\n",
        "import pyAgrum as gum\n",
        "import pyAgrum.lib.notebook as gnb\n",
        "import matplotlib.pyplot as plt\n",
        "from sklearn.metrics import accuracy_score"
      ],
      "execution_count": 17,
      "outputs": []
    },
    {
      "cell_type": "markdown",
      "metadata": {
        "id": "QXYfFcLN4ans"
      },
      "source": [
        "A rede criada já conta com o método predict solicitado na atividade"
      ]
    },
    {
      "cell_type": "code",
      "metadata": {
        "id": "ValvOu1g4ans"
      },
      "source": [
        "class BNEstimator():\n",
        "\n",
        "    def __init__(self,\n",
        "                 csv_template=None,\n",
        "                 bn=None,\n",
        "               mandatory_arcs=[],\n",
        "               tabu_arcs=[],\n",
        "               class_name = None,\n",
        "               learning_method='greedy',\n",
        "               prior='likelihood', \n",
        "               prior_weight=.5, \n",
        "               positif_label = None,\n",
        "               threshold = .5,\n",
        "               nb_classes = 2,               \n",
        "               cut_points_percentiles  = list(100*np.linspace(0, 1,5)),\n",
        "               bins=5):\n",
        "        \n",
        "        \n",
        "        self.csv_template = csv_template\n",
        "        self.mandatory_arcs = mandatory_arcs\n",
        "        self.tabu_arcs = tabu_arcs\n",
        "        self.class_name = class_name\n",
        "        self.learning_method = learning_method\n",
        "        self.prior = prior\n",
        "        self.prior_weight = prior_weight\n",
        "        self.positif_label = positif_label\n",
        "        self.threshold = threshold\n",
        "        self.nb_classes = nb_classes\n",
        "        self.cut_points_percentiles = cut_points_percentiles\n",
        "        self.bins = bins\n",
        "        self.bn = bn\n",
        "        \n",
        "\n",
        "    def transform(self,d):\n",
        "\n",
        "        template = gum.BayesNet()\n",
        "        numeric_cols = list(d.select_dtypes(include=[np.number]).columns)\n",
        "        categorical_cols = list(d.select_dtypes(include=[object]).columns)\n",
        "\n",
        "        \n",
        "        for col in numeric_cols:\n",
        "            if d[col].value_counts().shape[0]>self.bins:\n",
        "                x = d[col].values.flatten()\n",
        "                x.sort()\n",
        "                cut_points = np.percentile(x, self.cut_points_percentiles)\n",
        "                d.loc[:,col]= np.digitize(x, cut_points, right=False)   \n",
        "                del x\n",
        "            template.add(gum.LabelizedVariable(col,col,list(map(str,d[col].value_counts().index)))) \n",
        "        for col in categorical_cols:\n",
        "            if d[col].value_counts().shape[0]>self.bins:\n",
        "                top = d[col].isin(d[col].value_counts().index[:self.bins])\n",
        "                d.loc[~top, col] = \"else_top_\"+str(self.bins)\n",
        "\n",
        "                del top\n",
        "            template.add(gum.LabelizedVariable(col,col,list(map(str,d[col].value_counts().index))))\n",
        "        return template,d\n",
        "\n",
        "    def fit(self,data,name_file):\n",
        "\n",
        "        learner = gum.BNLearner(name_file, data)\n",
        "\n",
        "        \n",
        "        for i in self.tabu_arcs: learner.addForbiddenArc(i[0],i[1])\n",
        "        for i in self.mandatory_arcs :  learner.addMandatoryArc(i[0],i[1])\n",
        "\n",
        "        if self.learning_method == 'greedy':learner.useGreedyHillClimbing()\n",
        "        if self.learning_method == 'tabu':learner.useLocalSearchWithTabuList()\n",
        "        else: learner.useMIIC()\n",
        "\n",
        "        if self.prior == \"laplace\":learner.useAprioriSmoothing(self.prior_weight)\n",
        "        else:learner.useNoApriori()\n",
        "        \n",
        "        @np.vectorize\n",
        "        def pseudolog(x):\n",
        "            seuil=2.0\n",
        "            y=-x if x<0 else x\n",
        "                  \n",
        "            if y<seuil:\n",
        "                res=y*np.log10(seuil)/seuil\n",
        "            else:\n",
        "                res=np.log10(y)\n",
        "                  \n",
        "            return res if x>0 else -res\n",
        "\n",
        "        gnb.animApproximationScheme(learner) # scale by default is np.log10  \n",
        "\n",
        "        self.bn = learner.learnBN()\n",
        "        self.bn = learner.learnParameters(self.bn.dag())\n",
        "\n",
        "        return self\n",
        "\n",
        "   \n",
        "\n",
        "\n",
        "        \n",
        "    \n",
        "    def predict(self,test):\n",
        "\n",
        "      tamanho_test_ = test.loc[:,:].shape[0]\n",
        "      self.y_true = np.zeros(tamanho_test_)\n",
        "      self.y_pred = np.zeros(tamanho_test_)\n",
        "\n",
        "      aie=gum.LazyPropagation(self.bn)\n",
        "\n",
        "      for i in range(tamanho_test_):\n",
        "        \n",
        "        row = test.loc[i,:]\n",
        "        evs = row.astype(str).to_dict()\n",
        "        self.y_true[i] = int(evs['covid_19'])\n",
        "        #del evs['covid_19']\n",
        "        aie.setEvidence(evs)\n",
        "        aie.makeInference()\n",
        "        print(aie.posterior('covid_19')[:])\n",
        "        self.y_pred[i] = np.argmax(aie.posterior('covid_19')[:])\n",
        "\n",
        "\n",
        "        self.acuracia  = accuracy_score(self.y_true, self.y_pred)\n",
        "\n",
        "        return self"
      ],
      "execution_count": 18,
      "outputs": []
    },
    {
      "cell_type": "code",
      "metadata": {
        "id": "zxHeHub54ant"
      },
      "source": [
        "# Instanciar o estimador Bayesiano\n",
        "estimator = BNEstimator('template.csv', class_name='covid_19',\n",
        "                  tabu_arcs=[('influenza_B_rapid_test', 'covid_19')],\n",
        "                  mandatory_arcs=[('Coronavirus HKU1','covid_19'),('Respiratory Syncytial Virus','covid_19')],\n",
        "                  cut_points_percentiles = [5, 50, 95])\n",
        "\n",
        "data = pd.read_csv('template.csv')\n",
        "# Criar a topologia da rede\n",
        "template,data = estimator.transform(data)"
      ],
      "execution_count": 19,
      "outputs": []
    },
    {
      "cell_type": "code",
      "metadata": {
        "id": "Ap2rgztX4ant"
      },
      "source": [
        "# Divisão treino/teste\n",
        "train,test = train_test_split(data,test_size=0.20, random_state=42)\n",
        "train.to_csv('train.csv',index=False)\n",
        "test.to_csv('test.csv',index=False)"
      ],
      "execution_count": 20,
      "outputs": []
    },
    {
      "cell_type": "code",
      "metadata": {
        "id": "0WtrMh9t4ant",
        "colab": {
          "base_uri": "https://localhost:8080/",
          "height": 34
        },
        "outputId": "ce0b622f-13ee-4300-e308-5b85c26e7406"
      },
      "source": [
        "# Treinar o modelo\n",
        "%matplotlib inline\n",
        "start = time.time()\n",
        "estimator.fit(template,'train.csv')\n",
        "end = time.time()\n",
        "time_treino = end - start"
      ],
      "execution_count": 21,
      "outputs": [
        {
          "output_type": "display_data",
          "data": {
            "text/plain": [
              "<Figure size 432x288 with 0 Axes>"
            ]
          },
          "metadata": {}
        }
      ]
    },
    {
      "cell_type": "code",
      "metadata": {
        "colab": {
          "base_uri": "https://localhost:8080/",
          "height": 1000
        },
        "id": "G1dOSK3c4ant",
        "outputId": "e7163f31-d9a8-4ff5-88d0-8afba1689d08"
      },
      "source": [
        "gnb.showBN(estimator.bn,size=60,nodeColor={n:0.91 for n in estimator.bn.names()},cmap=plt.cm.get_cmap('Blues'))"
      ],
      "execution_count": 22,
      "outputs": [
        {
          "output_type": "display_data",
          "data": {
            "text/plain": [
              "<IPython.core.display.SVG object>"
            ],
            "image/svg+xml": "<svg height=\"980pt\" viewBox=\"0.00 0.00 1668.49 980.00\" width=\"1668pt\" xmlns=\"http://www.w3.org/2000/svg\" xmlns:xlink=\"http://www.w3.org/1999/xlink\">\n<g class=\"graph\" id=\"graph0\" transform=\"scale(1 1) rotate(0) translate(4 976)\">\n<title>G</title>\n<!-- CoronavirusOC43 -->\n<g class=\"node\" id=\"node1\">\n<title>CoronavirusOC43</title>\n<g id=\"a_node1\"><a xlink:title=\"(20) CoronavirusOC43 : 0.91000\">\n<ellipse cx=\"424\" cy=\"-666\" fill=\"#08488e\" rx=\"79.8859\" ry=\"18\" stroke=\"#000000\"/>\n<text fill=\"#ffffff\" font-family=\"Times,serif\" font-size=\"14.00\" text-anchor=\"middle\" x=\"424\" y=\"-662.3\">CoronavirusOC43</text>\n</a>\n</g>\n</g>\n<!-- Coronavirus HKU1 -->\n<g class=\"node\" id=\"node9\">\n<title>Coronavirus HKU1</title>\n<g id=\"a_node9\"><a xlink:title=\"(14) Coronavirus HKU1 : 0.91000\">\n<ellipse cx=\"919\" cy=\"-378\" fill=\"#08488e\" rx=\"85.2851\" ry=\"18\" stroke=\"#000000\"/>\n<text fill=\"#ffffff\" font-family=\"Times,serif\" font-size=\"14.00\" text-anchor=\"middle\" x=\"919\" y=\"-374.3\">Coronavirus HKU1</text>\n</a>\n</g>\n</g>\n<!-- CoronavirusOC43&#45;&gt;Coronavirus HKU1 -->\n<g class=\"edge\" id=\"edge50\">\n<title>CoronavirusOC43-&gt;Coronavirus HKU1</title>\n<g id=\"a_edge50\"><a xlink:title=\"(20, 14) : \">\n<path d=\"M439.7853,-648.2291C479.6727,-604.4568 589.5795,-490.7433 705,-432 746.1698,-411.0466 796.024,-397.8525 837.2523,-389.7564\" fill=\"none\" stroke=\"#4a4a4a\"/>\n<polygon fill=\"#4a4a4a\" points=\"838.0928,-393.1595 847.2648,-387.8563 836.7876,-386.2822 838.0928,-393.1595\" stroke=\"#4a4a4a\"/>\n</a>\n</g>\n</g>\n<!-- Parainfluenza 1 -->\n<g class=\"node\" id=\"node10\">\n<title>Parainfluenza 1</title>\n<g id=\"a_node10\"><a xlink:title=\"(11) Parainfluenza 1 : 0.91000\">\n<ellipse cx=\"445\" cy=\"-378\" fill=\"#08488e\" rx=\"68.4888\" ry=\"18\" stroke=\"#000000\"/>\n<text fill=\"#ffffff\" font-family=\"Times,serif\" font-size=\"14.00\" text-anchor=\"middle\" x=\"445\" y=\"-374.3\">Parainfluenza 1</text>\n</a>\n</g>\n</g>\n<!-- CoronavirusOC43&#45;&gt;Parainfluenza 1 -->\n<g class=\"edge\" id=\"edge60\">\n<title>CoronavirusOC43-&gt;Parainfluenza 1</title>\n<g id=\"a_edge60\"><a xlink:title=\"(20, 11) : \">\n<path d=\"M425.3136,-647.9843C428.864,-599.2939 438.6711,-464.7961 442.9542,-406.0573\" fill=\"none\" stroke=\"#4a4a4a\"/>\n<polygon fill=\"#4a4a4a\" points=\"446.4503,-406.237 443.6869,-396.0089 439.4688,-405.7278 446.4503,-406.237\" stroke=\"#4a4a4a\"/>\n</a>\n</g>\n</g>\n<!-- Bordetella pertussis -->\n<g class=\"node\" id=\"node12\">\n<title>Bordetella pertussis</title>\n<g id=\"a_node12\"><a xlink:title=\"(22) Bordetella pertussis : 0.91000\">\n<ellipse cx=\"797\" cy=\"-450\" fill=\"#08488e\" rx=\"83.3857\" ry=\"18\" stroke=\"#000000\"/>\n<text fill=\"#ffffff\" font-family=\"Times,serif\" font-size=\"14.00\" text-anchor=\"middle\" x=\"797\" y=\"-446.3\">Bordetella pertussis</text>\n</a>\n</g>\n</g>\n<!-- CoronavirusOC43&#45;&gt;Bordetella pertussis -->\n<g class=\"edge\" id=\"edge38\">\n<title>CoronavirusOC43-&gt;Bordetella pertussis</title>\n<g id=\"a_edge38\"><a xlink:title=\"(20, 22) : \">\n<path d=\"M503.5294,-663.6618C592.3994,-659.3365 728.6207,-647.0237 765,-612 800.9359,-577.4032 802.8046,-514.9965 800.3148,-478.5668\" fill=\"none\" stroke=\"#4a4a4a\"/>\n<polygon fill=\"#4a4a4a\" points=\"803.7646,-477.8243 799.435,-468.1545 796.7894,-478.4137 803.7646,-477.8243\" stroke=\"#4a4a4a\"/>\n</a>\n</g>\n</g>\n<!-- CoronavirusNL63 -->\n<g class=\"node\" id=\"node14\">\n<title>CoronavirusNL63</title>\n<g id=\"a_node14\"><a xlink:title=\"(12) CoronavirusNL63 : 0.91000\">\n<ellipse cx=\"677\" cy=\"-594\" fill=\"#08488e\" rx=\"79.0865\" ry=\"18\" stroke=\"#000000\"/>\n<text fill=\"#ffffff\" font-family=\"Times,serif\" font-size=\"14.00\" text-anchor=\"middle\" x=\"677\" y=\"-590.3\">CoronavirusNL63</text>\n</a>\n</g>\n</g>\n<!-- CoronavirusOC43&#45;&gt;CoronavirusNL63 -->\n<g class=\"edge\" id=\"edge18\">\n<title>CoronavirusOC43-&gt;CoronavirusNL63</title>\n<g id=\"a_edge18\"><a xlink:title=\"(20, 12) : \">\n<path d=\"M473.6828,-651.861C515.0234,-640.0961 573.9798,-623.318 617.7697,-610.856\" fill=\"none\" stroke=\"#4a4a4a\"/>\n<polygon fill=\"#4a4a4a\" points=\"618.7708,-614.2102 627.4308,-608.1066 616.8547,-607.4775 618.7708,-614.2102\" stroke=\"#4a4a4a\"/>\n</a>\n</g>\n</g>\n<!-- Adenovirus -->\n<g class=\"node\" id=\"node15\">\n<title>Adenovirus</title>\n<g id=\"a_node15\"><a xlink:title=\"(17) Adenovirus : 0.91000\">\n<ellipse cx=\"300\" cy=\"-522\" fill=\"#08488e\" rx=\"54.6905\" ry=\"18\" stroke=\"#000000\"/>\n<text fill=\"#ffffff\" font-family=\"Times,serif\" font-size=\"14.00\" text-anchor=\"middle\" x=\"300\" y=\"-518.3\">Adenovirus</text>\n</a>\n</g>\n</g>\n<!-- CoronavirusOC43&#45;&gt;Adenovirus -->\n<g class=\"edge\" id=\"edge13\">\n<title>CoronavirusOC43-&gt;Adenovirus</title>\n<g id=\"a_edge13\"><a xlink:title=\"(20, 17) : \">\n<path d=\"M403.2329,-648.3881C391.7509,-638.237 377.5205,-624.9532 366,-612 347.9623,-591.7191 329.9036,-566.6863 317.2474,-548.174\" fill=\"none\" stroke=\"#4a4a4a\"/>\n<polygon fill=\"#4a4a4a\" points=\"319.9919,-545.9843 311.4921,-539.6594 314.1924,-549.9044 319.9919,-545.9843\" stroke=\"#4a4a4a\"/>\n</a>\n</g>\n</g>\n<!-- Inf A H1N1 2009 -->\n<g class=\"node\" id=\"node23\">\n<title>Inf A H1N1 2009</title>\n<g id=\"a_node23\"><a xlink:title=\"(21) Inf A H1N1 2009 : 0.91000\">\n<ellipse cx=\"1203\" cy=\"-234\" fill=\"#08488e\" rx=\"77.1866\" ry=\"18\" stroke=\"#000000\"/>\n<text fill=\"#ffffff\" font-family=\"Times,serif\" font-size=\"14.00\" text-anchor=\"middle\" x=\"1203\" y=\"-230.3\">Inf A H1N1 2009</text>\n</a>\n</g>\n</g>\n<!-- CoronavirusOC43&#45;&gt;Inf A H1N1 2009 -->\n<g class=\"edge\" id=\"edge21\">\n<title>CoronavirusOC43-&gt;Inf A H1N1 2009</title>\n<g id=\"a_edge21\"><a xlink:title=\"(20, 21) : \">\n<path d=\"M417.3456,-647.8498C396.4575,-589.5015 335.4671,-407.7602 368,-360 417.2049,-287.7644 465.8745,-307.8182 551,-288 656.2327,-263.5006 965.1605,-245.5911 1116.8986,-238.0079\" fill=\"none\" stroke=\"#4a4a4a\"/>\n<polygon fill=\"#4a4a4a\" points=\"1117.2904,-241.4929 1127.1047,-237.5016 1116.9435,-234.5015 1117.2904,-241.4929\" stroke=\"#4a4a4a\"/>\n</a>\n</g>\n</g>\n<!-- Coronavirus229E -->\n<g class=\"node\" id=\"node24\">\n<title>Coronavirus229E</title>\n<g id=\"a_node24\"><a xlink:title=\"(19) Coronavirus229E : 0.91000\">\n<ellipse cx=\"188\" cy=\"-378\" fill=\"#08488e\" rx=\"77.1866\" ry=\"18\" stroke=\"#000000\"/>\n<text fill=\"#ffffff\" font-family=\"Times,serif\" font-size=\"14.00\" text-anchor=\"middle\" x=\"188\" y=\"-374.3\">Coronavirus229E</text>\n</a>\n</g>\n</g>\n<!-- CoronavirusOC43&#45;&gt;Coronavirus229E -->\n<g class=\"edge\" id=\"edge46\">\n<title>CoronavirusOC43-&gt;Coronavirus229E</title>\n<g id=\"a_edge46\"><a xlink:title=\"(20, 19) : \">\n<path d=\"M394.3879,-649.1681C376.6231,-638.8408 353.7226,-625.1206 334,-612 322.7502,-604.516 243.7693,-551.0547 236,-540 207.2346,-499.0709 195.4929,-440.7787 190.8591,-406.4218\" fill=\"none\" stroke=\"#4a4a4a\"/>\n<polygon fill=\"#4a4a4a\" points=\"194.2912,-405.6559 189.5918,-396.1603 187.344,-406.514 194.2912,-405.6559\" stroke=\"#4a4a4a\"/>\n</a>\n</g>\n</g>\n<!-- Chlamydophila pneumoniae -->\n<g class=\"node\" id=\"node26\">\n<title>Chlamydophila pneumoniae</title>\n<g id=\"a_node26\"><a xlink:title=\"(16) Chlamydophila pneumoniae : 0.91000\">\n<ellipse cx=\"677\" cy=\"-306\" fill=\"#08488e\" rx=\"116.9792\" ry=\"18\" stroke=\"#000000\"/>\n<text fill=\"#ffffff\" font-family=\"Times,serif\" font-size=\"14.00\" text-anchor=\"middle\" x=\"677\" y=\"-302.3\">Chlamydophila pneumoniae</text>\n</a>\n</g>\n</g>\n<!-- CoronavirusOC43&#45;&gt;Chlamydophila pneumoniae -->\n<g class=\"edge\" id=\"edge67\">\n<title>CoronavirusOC43-&gt;Chlamydophila pneumoniae</title>\n<g id=\"a_edge67\"><a xlink:title=\"(20, 16) : \">\n<path d=\"M430.4483,-648.0104C451.7533,-589.338 521.0294,-404.7457 565,-360 579.1082,-345.6431 597.7981,-334.5807 615.8602,-326.3175\" fill=\"none\" stroke=\"#4a4a4a\"/>\n<polygon fill=\"#4a4a4a\" points=\"617.4448,-329.4452 625.2208,-322.249 614.6544,-323.0254 617.4448,-329.4452\" stroke=\"#4a4a4a\"/>\n</a>\n</g>\n</g>\n<!-- Parainfluenza 4 -->\n<g class=\"node\" id=\"node2\">\n<title>Parainfluenza 4</title>\n<g id=\"a_node2\"><a xlink:title=\"(18) Parainfluenza 4 : 0.91000\">\n<ellipse cx=\"974\" cy=\"-954\" fill=\"#08488e\" rx=\"68.4888\" ry=\"18\" stroke=\"#000000\"/>\n<text fill=\"#ffffff\" font-family=\"Times,serif\" font-size=\"14.00\" text-anchor=\"middle\" x=\"974\" y=\"-950.3\">Parainfluenza 4</text>\n</a>\n</g>\n</g>\n<!-- Parainfluenza 4&#45;&gt;CoronavirusOC43 -->\n<g class=\"edge\" id=\"edge32\">\n<title>Parainfluenza 4-&gt;CoronavirusOC43</title>\n<g id=\"a_edge32\"><a xlink:title=\"(18, 20) : \">\n<path d=\"M912.9324,-945.6647C795.6773,-928.5189 545.0215,-885.9845 482,-828 443.7482,-792.8054 430.7004,-730.6135 426.2663,-694.3828\" fill=\"none\" stroke=\"#4a4a4a\"/>\n<polygon fill=\"#4a4a4a\" points=\"429.7019,-693.5972 425.1483,-684.0309 422.7423,-694.3489 429.7019,-693.5972\" stroke=\"#4a4a4a\"/>\n</a>\n</g>\n</g>\n<!-- Parainfluenza 4&#45;&gt;Coronavirus HKU1 -->\n<g class=\"edge\" id=\"edge58\">\n<title>Parainfluenza 4-&gt;Coronavirus HKU1</title>\n<g id=\"a_edge58\"><a xlink:title=\"(18, 14) : \">\n<path d=\"M1010.795,-938.6101C1055.7798,-917.0441 1126,-873.2502 1126,-810 1126,-810 1126,-810 1126,-594 1126,-500.6269 1023.922,-431.8769 963.131,-399.2128\" fill=\"none\" stroke=\"#4a4a4a\"/>\n<polygon fill=\"#4a4a4a\" points=\"964.5943,-396.0278 954.1147,-394.4692 961.335,-402.2228 964.5943,-396.0278\" stroke=\"#4a4a4a\"/>\n</a>\n</g>\n</g>\n<!-- Parainfluenza 4&#45;&gt;Bordetella pertussis -->\n<g class=\"edge\" id=\"edge3\">\n<title>Parainfluenza 4-&gt;Bordetella pertussis</title>\n<g id=\"a_edge3\"><a xlink:title=\"(18, 22) : \">\n<path d=\"M973.4916,-935.6117C970.8988,-870.979 955.1557,-650.2531 860,-504 852.4876,-492.4535 841.7971,-481.9985 831.3511,-473.4306\" fill=\"none\" stroke=\"#4a4a4a\"/>\n<polygon fill=\"#4a4a4a\" points=\"833.4992,-470.6673 823.4673,-467.2598 829.1847,-476.1796 833.4992,-470.6673\" stroke=\"#4a4a4a\"/>\n</a>\n</g>\n</g>\n<!-- Rhinovirus/Enterovirus -->\n<g class=\"node\" id=\"node13\">\n<title>Rhinovirus/Enterovirus</title>\n<g id=\"a_node13\"><a xlink:title=\"(13) Rhinovirus/Enterovirus : 0.91000\">\n<ellipse cx=\"860\" cy=\"-882\" fill=\"#08488e\" rx=\"98.5829\" ry=\"18\" stroke=\"#000000\"/>\n<text fill=\"#ffffff\" font-family=\"Times,serif\" font-size=\"14.00\" text-anchor=\"middle\" x=\"860\" y=\"-878.3\">Rhinovirus/Enterovirus</text>\n</a>\n</g>\n</g>\n<!-- Parainfluenza 4&#45;&gt;Rhinovirus/Enterovirus -->\n<g class=\"edge\" id=\"edge40\">\n<title>Parainfluenza 4-&gt;Rhinovirus/Enterovirus</title>\n<g id=\"a_edge40\"><a xlink:title=\"(18, 13) : \">\n<path d=\"M947.5596,-937.3008C932.3532,-927.6968 913.0271,-915.4908 896.4021,-904.9908\" fill=\"none\" stroke=\"#4a4a4a\"/>\n<polygon fill=\"#4a4a4a\" points=\"897.8111,-901.7411 887.4872,-899.3603 894.0731,-907.6595 897.8111,-901.7411\" stroke=\"#4a4a4a\"/>\n</a>\n</g>\n</g>\n<!-- Parainfluenza 4&#45;&gt;Adenovirus -->\n<g class=\"edge\" id=\"edge42\">\n<title>Parainfluenza 4-&gt;Adenovirus</title>\n<g id=\"a_edge42\"><a xlink:title=\"(18, 17) : \">\n<path d=\"M906.6852,-950.7466C692.0688,-939.488 38,-897.9603 38,-810 38,-810 38,-810 38,-738 38,-629.2542 174.0387,-565.0739 250.0633,-537.6975\" fill=\"none\" stroke=\"#4a4a4a\"/>\n<polygon fill=\"#4a4a4a\" points=\"251.6491,-540.8501 259.9226,-534.232 249.3278,-534.2462 251.6491,-540.8501\" stroke=\"#4a4a4a\"/>\n</a>\n</g>\n</g>\n<!-- Parainfluenza 4&#45;&gt;Chlamydophila pneumoniae -->\n<g class=\"edge\" id=\"edge27\">\n<title>Parainfluenza 4-&gt;Chlamydophila pneumoniae</title>\n<g id=\"a_edge27\"><a xlink:title=\"(18, 16) : \">\n<path d=\"M1030.6525,-943.878C1098.1776,-928.1734 1202,-890.8765 1202,-810 1202,-810 1202,-810 1202,-666 1202,-587.8849 1094.029,-403.2806 1029,-360 991.5592,-335.081 882.984,-321.0446 796.2212,-313.5698\" fill=\"none\" stroke=\"#4a4a4a\"/>\n<polygon fill=\"#4a4a4a\" points=\"796.2818,-310.0626 786.0238,-312.7125 795.6954,-317.038 796.2818,-310.0626\" stroke=\"#4a4a4a\"/>\n</a>\n</g>\n</g>\n<!-- intensive_care -->\n<g class=\"node\" id=\"node3\">\n<title>intensive_care</title>\n<g id=\"a_node3\"><a xlink:title=\"(3) intensive_care : 0.91000\">\n<ellipse cx=\"797\" cy=\"-90\" fill=\"#08488e\" rx=\"63.8893\" ry=\"18\" stroke=\"#000000\"/>\n<text fill=\"#ffffff\" font-family=\"Times,serif\" font-size=\"14.00\" text-anchor=\"middle\" x=\"797\" y=\"-86.3\">intensive_care</text>\n</a>\n</g>\n</g>\n<!-- Respiratory Syncytial Virus -->\n<g class=\"node\" id=\"node27\">\n<title>Respiratory Syncytial Virus</title>\n<g id=\"a_node27\"><a xlink:title=\"(8) Respiratory Syncytial Virus : 0.91000\">\n<ellipse cx=\"1042\" cy=\"-18\" fill=\"#08488e\" rx=\"113.9803\" ry=\"18\" stroke=\"#000000\"/>\n<text fill=\"#ffffff\" font-family=\"Times,serif\" font-size=\"14.00\" text-anchor=\"middle\" x=\"1042\" y=\"-14.3\">Respiratory Syncytial Virus</text>\n</a>\n</g>\n</g>\n<!-- intensive_care&#45;&gt;Respiratory Syncytial Virus -->\n<g class=\"edge\" id=\"edge61\">\n<title>intensive_care-&gt;Respiratory Syncytial Virus</title>\n<g id=\"a_edge61\"><a xlink:title=\"(3, 8) : \">\n<path d=\"M841.3677,-76.9613C879.4908,-65.7578 934.9412,-49.4622 977.8909,-36.8402\" fill=\"none\" stroke=\"#4a4a4a\"/>\n<polygon fill=\"#4a4a4a\" points=\"979.0785,-40.1393 987.6859,-33.9617 977.1048,-33.4233 979.0785,-40.1393\" stroke=\"#4a4a4a\"/>\n</a>\n</g>\n</g>\n<!-- Influenza B -->\n<g class=\"node\" id=\"node4\">\n<title>Influenza B</title>\n<g id=\"a_node4\"><a xlink:title=\"(10) Influenza B : 0.91000\">\n<ellipse cx=\"1203\" cy=\"-162\" fill=\"#08488e\" rx=\"53.8905\" ry=\"18\" stroke=\"#000000\"/>\n<text fill=\"#ffffff\" font-family=\"Times,serif\" font-size=\"14.00\" text-anchor=\"middle\" x=\"1203\" y=\"-158.3\">Influenza B</text>\n</a>\n</g>\n</g>\n<!-- Influenza A -->\n<g class=\"node\" id=\"node17\">\n<title>Influenza A</title>\n<g id=\"a_node17\"><a xlink:title=\"(9) Influenza A : 0.91000\">\n<ellipse cx=\"1121\" cy=\"-90\" fill=\"#08488e\" rx=\"53.8905\" ry=\"18\" stroke=\"#000000\"/>\n<text fill=\"#ffffff\" font-family=\"Times,serif\" font-size=\"14.00\" text-anchor=\"middle\" x=\"1121\" y=\"-86.3\">Influenza A</text>\n</a>\n</g>\n</g>\n<!-- Influenza B&#45;&gt;Influenza A -->\n<g class=\"edge\" id=\"edge33\">\n<title>Influenza B-&gt;Influenza A</title>\n<g id=\"a_edge33\"><a xlink:title=\"(10, 9) : \">\n<path d=\"M1183.5671,-144.937C1172.9466,-135.6116 1159.6269,-123.9163 1148.0098,-113.716\" fill=\"none\" stroke=\"#4a4a4a\"/>\n<polygon fill=\"#4a4a4a\" points=\"1150.1171,-110.9085 1140.2934,-106.9405 1145.4985,-116.1686 1150.1171,-110.9085\" stroke=\"#4a4a4a\"/>\n</a>\n</g>\n</g>\n<!-- Influenza B&#45;&gt;Respiratory Syncytial Virus -->\n<g class=\"edge\" id=\"edge16\">\n<title>Influenza B-&gt;Respiratory Syncytial Virus</title>\n<g id=\"a_edge16\"><a xlink:title=\"(10, 8) : \">\n<path d=\"M1203.9963,-143.919C1204.1065,-124.0053 1201.2339,-92.1427 1184,-72 1169.1382,-54.6298 1148.0626,-42.8316 1126.6843,-34.8236\" fill=\"none\" stroke=\"#4a4a4a\"/>\n<polygon fill=\"#4a4a4a\" points=\"1127.7876,-31.5017 1117.1928,-31.5117 1125.4814,-38.1109 1127.7876,-31.5017\" stroke=\"#4a4a4a\"/>\n</a>\n</g>\n</g>\n<!-- Metapneumovirus -->\n<g class=\"node\" id=\"node5\">\n<title>Metapneumovirus</title>\n<g id=\"a_node5\"><a xlink:title=\"(23) Metapneumovirus : 0.91000\">\n<ellipse cx=\"570\" cy=\"-810\" fill=\"#08488e\" rx=\"78.7863\" ry=\"18\" stroke=\"#000000\"/>\n<text fill=\"#ffffff\" font-family=\"Times,serif\" font-size=\"14.00\" text-anchor=\"middle\" x=\"570\" y=\"-806.3\">Metapneumovirus</text>\n</a>\n</g>\n</g>\n<!-- Metapneumovirus&#45;&gt;CoronavirusOC43 -->\n<g class=\"edge\" id=\"edge43\">\n<title>Metapneumovirus-&gt;CoronavirusOC43</title>\n<g id=\"a_edge43\"><a xlink:title=\"(23, 20) : \">\n<path d=\"M541.7222,-793.1448C526.4387,-783.3276 507.7351,-770.122 493,-756 472.8753,-736.7127 453.9063,-711.2319 440.9699,-692.3072\" fill=\"none\" stroke=\"#4a4a4a\"/>\n<polygon fill=\"#4a4a4a\" points=\"443.7776,-690.2102 435.2969,-683.8598 437.9664,-694.1128 443.7776,-690.2102\" stroke=\"#4a4a4a\"/>\n</a>\n</g>\n</g>\n<!-- Metapneumovirus&#45;&gt;Bordetella pertussis -->\n<g class=\"edge\" id=\"edge6\">\n<title>Metapneumovirus-&gt;Bordetella pertussis</title>\n<g id=\"a_edge6\"><a xlink:title=\"(23, 22) : \">\n<path d=\"M604.6849,-793.7036C660.0832,-765.5442 766.8775,-702.0222 812,-612 833.6411,-568.8247 835.096,-551.0034 824,-504 821.8304,-494.8094 817.8438,-485.3995 813.5879,-477.0631\" fill=\"none\" stroke=\"#4a4a4a\"/>\n<polygon fill=\"#4a4a4a\" points=\"816.6056,-475.286 808.7508,-468.1759 810.4573,-478.6324 816.6056,-475.286\" stroke=\"#4a4a4a\"/>\n</a>\n</g>\n</g>\n<!-- Metapneumovirus&#45;&gt;Adenovirus -->\n<g class=\"edge\" id=\"edge20\">\n<title>Metapneumovirus-&gt;Adenovirus</title>\n<g id=\"a_edge20\"><a xlink:title=\"(23, 17) : \">\n<path d=\"M511.6779,-797.7878C451.49,-782.0462 359.4812,-748.6392 309,-684 279.0679,-645.6731 285.4138,-585.3646 292.7202,-550.1528\" fill=\"none\" stroke=\"#4a4a4a\"/>\n<polygon fill=\"#4a4a4a\" points=\"296.2054,-550.6066 294.9795,-540.0829 289.3752,-549.0741 296.2054,-550.6066\" stroke=\"#4a4a4a\"/>\n</a>\n</g>\n</g>\n<!-- Parainfluenza 3 -->\n<g class=\"node\" id=\"node19\">\n<title>Parainfluenza 3</title>\n<g id=\"a_node19\"><a xlink:title=\"(15) Parainfluenza 3 : 0.91000\">\n<ellipse cx=\"570\" cy=\"-738\" fill=\"#08488e\" rx=\"68.4888\" ry=\"18\" stroke=\"#000000\"/>\n<text fill=\"#ffffff\" font-family=\"Times,serif\" font-size=\"14.00\" text-anchor=\"middle\" x=\"570\" y=\"-734.3\">Parainfluenza 3</text>\n</a>\n</g>\n</g>\n<!-- Metapneumovirus&#45;&gt;Parainfluenza 3 -->\n<g class=\"edge\" id=\"edge29\">\n<title>Metapneumovirus-&gt;Parainfluenza 3</title>\n<g id=\"a_edge29\"><a xlink:title=\"(23, 15) : \">\n<path d=\"M570,-791.8314C570,-784.131 570,-774.9743 570,-766.4166\" fill=\"none\" stroke=\"#4a4a4a\"/>\n<polygon fill=\"#4a4a4a\" points=\"573.5001,-766.4132 570,-756.4133 566.5001,-766.4133 573.5001,-766.4132\" stroke=\"#4a4a4a\"/>\n</a>\n</g>\n</g>\n<!-- Metapneumovirus&#45;&gt;Coronavirus229E -->\n<g class=\"edge\" id=\"edge53\">\n<title>Metapneumovirus-&gt;Coronavirus229E</title>\n<g id=\"a_edge53\"><a xlink:title=\"(23, 19) : \">\n<path d=\"M505.2003,-799.7792C447.5926,-789.78 368.5059,-773.533 342,-756 307.959,-733.4827 208.9975,-571.8679 197,-540 180.3257,-495.7097 181.6611,-439.7791 184.5491,-406.5627\" fill=\"none\" stroke=\"#4a4a4a\"/>\n<polygon fill=\"#4a4a4a\" points=\"188.0707,-406.5126 185.5642,-396.2185 181.1042,-405.8288 188.0707,-406.5126\" stroke=\"#4a4a4a\"/>\n</a>\n</g>\n</g>\n<!-- Metapneumovirus&#45;&gt;Chlamydophila pneumoniae -->\n<g class=\"edge\" id=\"edge39\">\n<title>Metapneumovirus-&gt;Chlamydophila pneumoniae</title>\n<g id=\"a_edge39\"><a xlink:title=\"(23, 16) : \">\n<path d=\"M618.6274,-795.7546C646.0143,-786.5828 680.1946,-773.1588 708,-756 886.4581,-645.8727 944.9438,-594.3524 1013,-396 1018.1926,-380.866 1023.3773,-372.1783 1013,-360 998.211,-342.6445 879.0747,-326.584 786.8175,-316.5679\" fill=\"none\" stroke=\"#4a4a4a\"/>\n<polygon fill=\"#4a4a4a\" points=\"787.1626,-313.0849 776.8461,-315.4973 786.4153,-320.0449 787.1626,-313.0849\" stroke=\"#4a4a4a\"/>\n</a>\n</g>\n</g>\n<!-- Leukocytes -->\n<g class=\"node\" id=\"node6\">\n<title>Leukocytes</title>\n<g id=\"a_node6\"><a xlink:title=\"(7) Leukocytes : 0.91000\">\n<ellipse cx=\"1246\" cy=\"-450\" fill=\"#08488e\" rx=\"53.8905\" ry=\"18\" stroke=\"#000000\"/>\n<text fill=\"#ffffff\" font-family=\"Times,serif\" font-size=\"14.00\" text-anchor=\"middle\" x=\"1246\" y=\"-446.3\">Leukocytes</text>\n</a>\n</g>\n</g>\n<!-- Platelets -->\n<g class=\"node\" id=\"node20\">\n<title>Platelets</title>\n<g id=\"a_node20\"><a xlink:title=\"(4) Platelets : 0.91000\">\n<ellipse cx=\"1254\" cy=\"-378\" fill=\"#08488e\" rx=\"40.8928\" ry=\"18\" stroke=\"#000000\"/>\n<text fill=\"#ffffff\" font-family=\"Times,serif\" font-size=\"14.00\" text-anchor=\"middle\" x=\"1254\" y=\"-374.3\">Platelets</text>\n</a>\n</g>\n</g>\n<!-- Leukocytes&#45;&gt;Platelets -->\n<g class=\"edge\" id=\"edge63\">\n<title>Leukocytes-&gt;Platelets</title>\n<g id=\"a_edge63\"><a xlink:title=\"(7, 4) : \">\n<path d=\"M1248.0187,-431.8314C1248.8743,-424.131 1249.8917,-414.9743 1250.8426,-406.4166\" fill=\"none\" stroke=\"#4a4a4a\"/>\n<polygon fill=\"#4a4a4a\" points=\"1254.3283,-406.7386 1251.9541,-396.4133 1247.3711,-405.9656 1254.3283,-406.7386\" stroke=\"#4a4a4a\"/>\n</a>\n</g>\n</g>\n<!-- influenza_B_rapid_test -->\n<g class=\"node\" id=\"node7\">\n<title>influenza_B_rapid_test</title>\n<g id=\"a_node7\"><a xlink:title=\"(24) influenza_B_rapid_test : 0.91000\">\n<ellipse cx=\"1563\" cy=\"-450\" fill=\"#08488e\" rx=\"96.6831\" ry=\"18\" stroke=\"#000000\"/>\n<text fill=\"#ffffff\" font-family=\"Times,serif\" font-size=\"14.00\" text-anchor=\"middle\" x=\"1563\" y=\"-446.3\">influenza_B_rapid_test</text>\n</a>\n</g>\n</g>\n<!-- influenza_A_rapid_test -->\n<g class=\"node\" id=\"node21\">\n<title>influenza_A_rapid_test</title>\n<g id=\"a_node21\"><a xlink:title=\"(25) influenza_A_rapid_test : 0.91000\">\n<ellipse cx=\"1563\" cy=\"-378\" fill=\"#08488e\" rx=\"97.4827\" ry=\"18\" stroke=\"#000000\"/>\n<text fill=\"#ffffff\" font-family=\"Times,serif\" font-size=\"14.00\" text-anchor=\"middle\" x=\"1563\" y=\"-374.3\">influenza_A_rapid_test</text>\n</a>\n</g>\n</g>\n<!-- influenza_B_rapid_test&#45;&gt;influenza_A_rapid_test -->\n<g class=\"edge\" id=\"edge62\">\n<title>influenza_B_rapid_test-&gt;influenza_A_rapid_test</title>\n<g id=\"a_edge62\"><a xlink:title=\"(24, 25) : \">\n<path d=\"M1563,-431.8314C1563,-424.131 1563,-414.9743 1563,-406.4166\" fill=\"none\" stroke=\"#4a4a4a\"/>\n<polygon fill=\"#4a4a4a\" points=\"1566.5001,-406.4132 1563,-396.4133 1559.5001,-406.4133 1566.5001,-406.4132\" stroke=\"#4a4a4a\"/>\n</a>\n</g>\n</g>\n<!-- regular_ward -->\n<g class=\"node\" id=\"node8\">\n<title>regular_ward</title>\n<g id=\"a_node8\"><a xlink:title=\"(1) regular_ward : 0.91000\">\n<ellipse cx=\"1453\" cy=\"-234\" fill=\"#08488e\" rx=\"59.5901\" ry=\"18\" stroke=\"#000000\"/>\n<text fill=\"#ffffff\" font-family=\"Times,serif\" font-size=\"14.00\" text-anchor=\"middle\" x=\"1453\" y=\"-230.3\">regular_ward</text>\n</a>\n</g>\n</g>\n<!-- regular_ward&#45;&gt;Influenza B -->\n<g class=\"edge\" id=\"edge31\">\n<title>regular_ward-&gt;Influenza B</title>\n<g id=\"a_edge31\"><a xlink:title=\"(1, 10) : \">\n<path d=\"M1409.7387,-221.5408C1366.3824,-209.0541 1299.6635,-189.8391 1253.8125,-176.634\" fill=\"none\" stroke=\"#4a4a4a\"/>\n<polygon fill=\"#4a4a4a\" points=\"1254.6521,-173.2336 1244.074,-173.8293 1252.7148,-179.9602 1254.6521,-173.2336\" stroke=\"#4a4a4a\"/>\n</a>\n</g>\n</g>\n<!-- Coronavirus HKU1&#45;&gt;Chlamydophila pneumoniae -->\n<g class=\"edge\" id=\"edge55\">\n<title>Coronavirus HKU1-&gt;Chlamydophila pneumoniae</title>\n<g id=\"a_edge55\"><a xlink:title=\"(14, 16) : \">\n<path d=\"M869.4437,-363.256C832.2689,-352.1957 781.0768,-336.965 740.8364,-324.9927\" fill=\"none\" stroke=\"#4a4a4a\"/>\n<polygon fill=\"#4a4a4a\" points=\"741.7029,-321.5989 731.12,-322.1018 739.7067,-328.3082 741.7029,-321.5989\" stroke=\"#4a4a4a\"/>\n</a>\n</g>\n</g>\n<!-- Parainfluenza 1&#45;&gt;Chlamydophila pneumoniae -->\n<g class=\"edge\" id=\"edge1\">\n<title>Parainfluenza 1-&gt;Chlamydophila pneumoniae</title>\n<g id=\"a_edge1\"><a xlink:title=\"(11, 16) : \">\n<path d=\"M489.4574,-364.2029C525.1932,-353.1124 575.7909,-337.4097 615.4262,-325.1091\" fill=\"none\" stroke=\"#4a4a4a\"/>\n<polygon fill=\"#4a4a4a\" points=\"616.479,-328.4471 624.9922,-322.1403 614.4042,-321.7617 616.479,-328.4471\" stroke=\"#4a4a4a\"/>\n</a>\n</g>\n</g>\n<!-- Lymphocytes -->\n<g class=\"node\" id=\"node11\">\n<title>Lymphocytes</title>\n<g id=\"a_node11\"><a xlink:title=\"(6) Lymphocytes : 0.91000\">\n<ellipse cx=\"1254\" cy=\"-522\" fill=\"#08488e\" rx=\"61.99\" ry=\"18\" stroke=\"#000000\"/>\n<text fill=\"#ffffff\" font-family=\"Times,serif\" font-size=\"14.00\" text-anchor=\"middle\" x=\"1254\" y=\"-518.3\">Lymphocytes</text>\n</a>\n</g>\n</g>\n<!-- Lymphocytes&#45;&gt;Leukocytes -->\n<g class=\"edge\" id=\"edge19\">\n<title>Lymphocytes-&gt;Leukocytes</title>\n<g id=\"a_edge19\"><a xlink:title=\"(6, 7) : \">\n<path d=\"M1251.9813,-503.8314C1251.1257,-496.131 1250.1083,-486.9743 1249.1574,-478.4166\" fill=\"none\" stroke=\"#4a4a4a\"/>\n<polygon fill=\"#4a4a4a\" points=\"1252.6289,-477.9656 1248.0459,-468.4133 1245.6717,-478.7386 1252.6289,-477.9656\" stroke=\"#4a4a4a\"/>\n</a>\n</g>\n</g>\n<!-- Bordetella pertussis&#45;&gt;Coronavirus HKU1 -->\n<g class=\"edge\" id=\"edge24\">\n<title>Bordetella pertussis-&gt;Coronavirus HKU1</title>\n<g id=\"a_edge24\"><a xlink:title=\"(22, 14) : \">\n<path d=\"M825.9123,-432.937C842.3533,-423.2341 863.1418,-410.9655 880.9008,-400.4848\" fill=\"none\" stroke=\"#4a4a4a\"/>\n<polygon fill=\"#4a4a4a\" points=\"883.0393,-403.2868 889.8724,-395.19 879.4815,-397.2584 883.0393,-403.2868\" stroke=\"#4a4a4a\"/>\n</a>\n</g>\n</g>\n<!-- Bordetella pertussis&#45;&gt;Parainfluenza 1 -->\n<g class=\"edge\" id=\"edge48\">\n<title>Bordetella pertussis-&gt;Parainfluenza 1</title>\n<g id=\"a_edge48\"><a xlink:title=\"(22, 11) : \">\n<path d=\"M736.489,-437.6228C673.0503,-424.6467 573.7705,-404.3394 509.0398,-391.099\" fill=\"none\" stroke=\"#4a4a4a\"/>\n<polygon fill=\"#4a4a4a\" points=\"509.4569,-387.612 498.9583,-389.0369 508.0541,-394.47 509.4569,-387.612\" stroke=\"#4a4a4a\"/>\n</a>\n</g>\n</g>\n<!-- Bordetella pertussis&#45;&gt;Coronavirus229E -->\n<g class=\"edge\" id=\"edge8\">\n<title>Bordetella pertussis-&gt;Coronavirus229E</title>\n<g id=\"a_edge8\"><a xlink:title=\"(22, 19) : \">\n<path d=\"M723.8431,-441.3509C608.6847,-427.7361 386.0401,-401.4136 267.2271,-387.3667\" fill=\"none\" stroke=\"#4a4a4a\"/>\n<polygon fill=\"#4a4a4a\" points=\"267.45,-383.8688 257.1082,-386.1704 266.6281,-390.8204 267.45,-383.8688\" stroke=\"#4a4a4a\"/>\n</a>\n</g>\n</g>\n<!-- Bordetella pertussis&#45;&gt;Chlamydophila pneumoniae -->\n<g class=\"edge\" id=\"edge23\">\n<title>Bordetella pertussis-&gt;Chlamydophila pneumoniae</title>\n<g id=\"a_edge23\"><a xlink:title=\"(22, 16) : \">\n<path d=\"M782.0445,-432.0535C761.1153,-406.9384 722.9541,-361.1449 698.8432,-332.2119\" fill=\"none\" stroke=\"#4a4a4a\"/>\n<polygon fill=\"#4a4a4a\" points=\"701.2346,-329.6143 692.1439,-324.1727 695.857,-334.0956 701.2346,-329.6143\" stroke=\"#4a4a4a\"/>\n</a>\n</g>\n</g>\n<!-- Rhinovirus/Enterovirus&#45;&gt;Metapneumovirus -->\n<g class=\"edge\" id=\"edge54\">\n<title>Rhinovirus/Enterovirus-&gt;Metapneumovirus</title>\n<g id=\"a_edge54\"><a xlink:title=\"(13, 23) : \">\n<path d=\"M801.3142,-867.4297C752.5935,-855.3336 683.4316,-838.1623 633.4394,-825.7505\" fill=\"none\" stroke=\"#4a4a4a\"/>\n<polygon fill=\"#4a4a4a\" points=\"634.257,-822.3473 623.7083,-823.3345 632.5702,-829.141 634.257,-822.3473\" stroke=\"#4a4a4a\"/>\n</a>\n</g>\n</g>\n<!-- Rhinovirus/Enterovirus&#45;&gt;Coronavirus HKU1 -->\n<g class=\"edge\" id=\"edge57\">\n<title>Rhinovirus/Enterovirus-&gt;Coronavirus HKU1</title>\n<g id=\"a_edge57\"><a xlink:title=\"(13, 14) : \">\n<path d=\"M872.5529,-863.8416C905.7489,-814.578 995.394,-673.1469 1026,-540 1038.8467,-484.1125 987.3595,-430.9583 951.3747,-401.5881\" fill=\"none\" stroke=\"#4a4a4a\"/>\n<polygon fill=\"#4a4a4a\" points=\"953.5179,-398.8208 943.5106,-395.3416 949.164,-404.302 953.5179,-398.8208\" stroke=\"#4a4a4a\"/>\n</a>\n</g>\n</g>\n<!-- Rhinovirus/Enterovirus&#45;&gt;Parainfluenza 1 -->\n<g class=\"edge\" id=\"edge34\">\n<title>Rhinovirus/Enterovirus-&gt;Parainfluenza 1</title>\n<g id=\"a_edge34\"><a xlink:title=\"(13, 11) : \">\n<path d=\"M768.2176,-875.257C690.8678,-868.0683 577.803,-854.0104 482,-828 400.438,-805.856 371.9249,-808.8831 306,-756 215.3274,-683.265 179.4924,-605.5814 236,-504 267.9567,-446.5527 337.9492,-412.4568 388.1334,-394.509\" fill=\"none\" stroke=\"#4a4a4a\"/>\n<polygon fill=\"#4a4a4a\" points=\"389.5837,-397.7108 397.8889,-391.1325 387.2942,-391.0958 389.5837,-397.7108\" stroke=\"#4a4a4a\"/>\n</a>\n</g>\n</g>\n<!-- Rhinovirus/Enterovirus&#45;&gt;Bordetella pertussis -->\n<g class=\"edge\" id=\"edge2\">\n<title>Rhinovirus/Enterovirus-&gt;Bordetella pertussis</title>\n<g id=\"a_edge2\"><a xlink:title=\"(13, 22) : \">\n<path d=\"M862.9384,-863.8623C871.2103,-807.9255 890.979,-634.026 841,-504 836.9886,-493.5639 830.1359,-483.6227 823.0173,-475.1801\" fill=\"none\" stroke=\"#4a4a4a\"/>\n<polygon fill=\"#4a4a4a\" points=\"825.4787,-472.6826 816.1948,-467.5776 820.2688,-477.3578 825.4787,-472.6826\" stroke=\"#4a4a4a\"/>\n</a>\n</g>\n</g>\n<!-- Rhinovirus/Enterovirus&#45;&gt;CoronavirusNL63 -->\n<g class=\"edge\" id=\"edge17\">\n<title>Rhinovirus/Enterovirus-&gt;CoronavirusNL63</title>\n<g id=\"a_edge17\"><a xlink:title=\"(13, 12) : \">\n<path d=\"M848.5525,-863.9843C817.3571,-814.8899 730.7295,-678.5579 693.9089,-620.6107\" fill=\"none\" stroke=\"#4a4a4a\"/>\n<polygon fill=\"#4a4a4a\" points=\"696.7603,-618.572 688.4431,-612.0089 690.8522,-622.3262 696.7603,-618.572\" stroke=\"#4a4a4a\"/>\n</a>\n</g>\n</g>\n<!-- Rhinovirus/Enterovirus&#45;&gt;Influenza A -->\n<g class=\"edge\" id=\"edge65\">\n<title>Rhinovirus/Enterovirus-&gt;Influenza A</title>\n<g id=\"a_edge65\"><a xlink:title=\"(13, 9) : \">\n<path d=\"M763.5513,-877.8886C623.4219,-871.0784 370.7959,-855.4143 284,-828 145.4338,-784.2341 0,-811.3136 0,-666 0,-666 0,-666 0,-234 0,-115.6137 941.9365,-131.336 1058,-108 1062.4486,-107.1056 1067.0405,-106.0528 1071.623,-104.9128\" fill=\"none\" stroke=\"#4a4a4a\"/>\n<polygon fill=\"#4a4a4a\" points=\"1072.7935,-108.2244 1081.5807,-102.3054 1071.0203,-101.4527 1072.7935,-108.2244\" stroke=\"#4a4a4a\"/>\n</a>\n</g>\n</g>\n<!-- Rhinovirus/Enterovirus&#45;&gt;Inf A H1N1 2009 -->\n<g class=\"edge\" id=\"edge14\">\n<title>Rhinovirus/Enterovirus-&gt;Inf A H1N1 2009</title>\n<g id=\"a_edge14\"><a xlink:title=\"(13, 21) : \">\n<path d=\"M904.259,-865.8451C1016.161,-822.2493 1309.273,-690.2627 1419,-468 1426.0828,-453.6531 1423.2156,-447.4347 1419,-432 1399.4193,-360.3079 1390.1524,-336.6834 1334,-288 1314.4786,-271.0752 1288.9251,-258.9485 1265.575,-250.5317\" fill=\"none\" stroke=\"#4a4a4a\"/>\n<polygon fill=\"#4a4a4a\" points=\"1266.6653,-247.2055 1256.0706,-247.2611 1264.3876,-253.8246 1266.6653,-247.2055\" stroke=\"#4a4a4a\"/>\n</a>\n</g>\n</g>\n<!-- Rhinovirus/Enterovirus&#45;&gt;Coronavirus229E -->\n<g class=\"edge\" id=\"edge47\">\n<title>Rhinovirus/Enterovirus-&gt;Coronavirus229E</title>\n<g id=\"a_edge47\"><a xlink:title=\"(13, 19) : \">\n<path d=\"M763.8307,-877.8531C639.0018,-871.412 428.6651,-856.6481 357,-828 273.5382,-794.6361 248.0535,-767.5851 215,-684 179.2102,-593.4954 187.0274,-564.9926 179,-468 177.6803,-452.0545 177.6803,-447.9455 179,-432 179.6945,-423.6085 180.9862,-414.5578 182.3786,-406.3092\" fill=\"none\" stroke=\"#4a4a4a\"/>\n<polygon fill=\"#4a4a4a\" points=\"185.8353,-406.8612 184.1587,-396.3999 178.9456,-405.6235 185.8353,-406.8612\" stroke=\"#4a4a4a\"/>\n</a>\n</g>\n</g>\n<!-- CoronavirusNL63&#45;&gt;Adenovirus -->\n<g class=\"edge\" id=\"edge28\">\n<title>CoronavirusNL63-&gt;Adenovirus</title>\n<g id=\"a_edge28\"><a xlink:title=\"(12, 17) : \">\n<path d=\"M616.0094,-582.3519C544.6026,-568.7146 427.2387,-546.3002 357.4113,-532.9645\" fill=\"none\" stroke=\"#4a4a4a\"/>\n<polygon fill=\"#4a4a4a\" points=\"357.9441,-529.5031 347.465,-531.0649 356.6309,-536.3788 357.9441,-529.5031\" stroke=\"#4a4a4a\"/>\n</a>\n</g>\n</g>\n<!-- CoronavirusNL63&#45;&gt;Chlamydophila pneumoniae -->\n<g class=\"edge\" id=\"edge10\">\n<title>CoronavirusNL63-&gt;Chlamydophila pneumoniae</title>\n<g id=\"a_edge10\"><a xlink:title=\"(12, 16) : \">\n<path d=\"M677,-575.9843C677,-527.2939 677,-392.7961 677,-334.0573\" fill=\"none\" stroke=\"#4a4a4a\"/>\n<polygon fill=\"#4a4a4a\" points=\"680.5001,-334.0088 677,-324.0089 673.5001,-334.0089 680.5001,-334.0088\" stroke=\"#4a4a4a\"/>\n</a>\n</g>\n</g>\n<!-- Adenovirus&#45;&gt;Parainfluenza 1 -->\n<g class=\"edge\" id=\"edge22\">\n<title>Adenovirus-&gt;Parainfluenza 1</title>\n<g id=\"a_edge22\"><a xlink:title=\"(17, 11) : \">\n<path d=\"M317.2028,-504.9158C342.6824,-479.612 390.5963,-432.0285 419.967,-402.8604\" fill=\"none\" stroke=\"#4a4a4a\"/>\n<polygon fill=\"#4a4a4a\" points=\"422.7382,-405.041 427.3674,-395.511 417.8056,-400.0742 422.7382,-405.041\" stroke=\"#4a4a4a\"/>\n</a>\n</g>\n</g>\n<!-- Adenovirus&#45;&gt;Bordetella pertussis -->\n<g class=\"edge\" id=\"edge44\">\n<title>Adenovirus-&gt;Bordetella pertussis</title>\n<g id=\"a_edge44\"><a xlink:title=\"(17, 22) : \">\n<path d=\"M350.3901,-514.7C436.8458,-502.1753 614.0871,-476.4985 717.3966,-461.5321\" fill=\"none\" stroke=\"#4a4a4a\"/>\n<polygon fill=\"#4a4a4a\" points=\"718.0703,-464.9711 727.4651,-460.0735 717.0666,-458.0434 718.0703,-464.9711\" stroke=\"#4a4a4a\"/>\n</a>\n</g>\n</g>\n<!-- Adenovirus&#45;&gt;Coronavirus229E -->\n<g class=\"edge\" id=\"edge36\">\n<title>Adenovirus-&gt;Coronavirus229E</title>\n<g id=\"a_edge36\"><a xlink:title=\"(17, 19) : \">\n<path d=\"M286.6093,-504.3359C272.7764,-486.1353 250.517,-456.9778 231,-432 223.8426,-422.84 215.9357,-412.8688 208.8748,-404.0162\" fill=\"none\" stroke=\"#4a4a4a\"/>\n<polygon fill=\"#4a4a4a\" points=\"211.3935,-401.5615 202.4164,-395.9345 205.9251,-405.9315 211.3935,-401.5615\" stroke=\"#4a4a4a\"/>\n</a>\n</g>\n</g>\n<!-- Adenovirus&#45;&gt;Chlamydophila pneumoniae -->\n<g class=\"edge\" id=\"edge12\">\n<title>Adenovirus-&gt;Chlamydophila pneumoniae</title>\n<g id=\"a_edge12\"><a xlink:title=\"(17, 16) : \">\n<path d=\"M302.0024,-503.7999C306.7764,-469.7618 322.0932,-396.6091 368,-360 397.5934,-336.4002 486.1576,-322.5079 560.9242,-314.7392\" fill=\"none\" stroke=\"#4a4a4a\"/>\n<polygon fill=\"#4a4a4a\" points=\"561.3079,-318.2183 570.9048,-313.7295 560.6033,-311.2539 561.3079,-318.2183\" stroke=\"#4a4a4a\"/>\n</a>\n</g>\n</g>\n<!-- semi_intensive_care -->\n<g class=\"node\" id=\"node16\">\n<title>semi_intensive_care</title>\n<g id=\"a_node16\"><a xlink:title=\"(2) semi_intensive_care : 0.91000\">\n<ellipse cx=\"964\" cy=\"-90\" fill=\"#08488e\" rx=\"85.2851\" ry=\"18\" stroke=\"#000000\"/>\n<text fill=\"#ffffff\" font-family=\"Times,serif\" font-size=\"14.00\" text-anchor=\"middle\" x=\"964\" y=\"-86.3\">semi_intensive_care</text>\n</a>\n</g>\n</g>\n<!-- semi_intensive_care&#45;&gt;Respiratory Syncytial Virus -->\n<g class=\"edge\" id=\"edge5\">\n<title>semi_intensive_care-&gt;Respiratory Syncytial Virus</title>\n<g id=\"a_edge5\"><a xlink:title=\"(2, 8) : \">\n<path d=\"M983.2809,-72.2022C992.9373,-63.2887 1004.7824,-52.3548 1015.2984,-42.6476\" fill=\"none\" stroke=\"#4a4a4a\"/>\n<polygon fill=\"#4a4a4a\" points=\"1017.6965,-45.1972 1022.6706,-35.8425 1012.9485,-40.0536 1017.6965,-45.1972\" stroke=\"#4a4a4a\"/>\n</a>\n</g>\n</g>\n<!-- Influenza A&#45;&gt;Respiratory Syncytial Virus -->\n<g class=\"edge\" id=\"edge7\">\n<title>Influenza A-&gt;Respiratory Syncytial Virus</title>\n<g id=\"a_edge7\"><a xlink:title=\"(9, 8) : \">\n<path d=\"M1102.2781,-72.937C1092.4382,-63.969 1080.1934,-52.8092 1069.3154,-42.895\" fill=\"none\" stroke=\"#4a4a4a\"/>\n<polygon fill=\"#4a4a4a\" points=\"1071.4385,-40.0945 1061.6899,-35.9453 1066.7233,-45.2682 1071.4385,-40.0945\" stroke=\"#4a4a4a\"/>\n</a>\n</g>\n</g>\n<!-- Strepto A -->\n<g class=\"node\" id=\"node18\">\n<title>Strepto A</title>\n<g id=\"a_node18\"><a xlink:title=\"(26) Strepto A : 0.91000\">\n<ellipse cx=\"1427\" cy=\"-306\" fill=\"#08488e\" rx=\"46.2923\" ry=\"18\" stroke=\"#000000\"/>\n<text fill=\"#ffffff\" font-family=\"Times,serif\" font-size=\"14.00\" text-anchor=\"middle\" x=\"1427\" y=\"-302.3\">Strepto A</text>\n</a>\n</g>\n</g>\n<!-- Strepto A&#45;&gt;Inf A H1N1 2009 -->\n<g class=\"edge\" id=\"edge35\">\n<title>Strepto A-&gt;Inf A H1N1 2009</title>\n<g id=\"a_edge35\"><a xlink:title=\"(26, 21) : \">\n<path d=\"M1391.0105,-294.432C1355.1744,-282.9132 1299.6807,-265.0759 1258.2585,-251.7617\" fill=\"none\" stroke=\"#4a4a4a\"/>\n<polygon fill=\"#4a4a4a\" points=\"1259.1763,-248.3804 1248.585,-248.6523 1257.0342,-255.0446 1259.1763,-248.3804\" stroke=\"#4a4a4a\"/>\n</a>\n</g>\n</g>\n<!-- Parainfluenza 3&#45;&gt;CoronavirusOC43 -->\n<g class=\"edge\" id=\"edge4\">\n<title>Parainfluenza 3-&gt;CoronavirusOC43</title>\n<g id=\"a_edge4\"><a xlink:title=\"(15, 20) : \">\n<path d=\"M537.5979,-722.0209C516.6283,-711.6797 489.1056,-698.1069 466.4032,-686.9112\" fill=\"none\" stroke=\"#4a4a4a\"/>\n<polygon fill=\"#4a4a4a\" points=\"467.8405,-683.7176 457.3238,-682.4336 464.7444,-689.9957 467.8405,-683.7176\" stroke=\"#4a4a4a\"/>\n</a>\n</g>\n</g>\n<!-- Parainfluenza 3&#45;&gt;Coronavirus HKU1 -->\n<g class=\"edge\" id=\"edge49\">\n<title>Parainfluenza 3-&gt;Coronavirus HKU1</title>\n<g id=\"a_edge49\"><a xlink:title=\"(15, 14) : \">\n<path d=\"M626.7972,-727.8431C662.1205,-719.7517 707.4257,-706.0372 743,-684 847.1634,-619.4738 895.9761,-469.0927 912.3607,-406.318\" fill=\"none\" stroke=\"#4a4a4a\"/>\n<polygon fill=\"#4a4a4a\" points=\"915.8264,-406.8892 914.8832,-396.3364 909.0397,-405.1741 915.8264,-406.8892\" stroke=\"#4a4a4a\"/>\n</a>\n</g>\n</g>\n<!-- Parainfluenza 3&#45;&gt;Parainfluenza 1 -->\n<g class=\"edge\" id=\"edge26\">\n<title>Parainfluenza 3-&gt;Parainfluenza 1</title>\n<g id=\"a_edge26\"><a xlink:title=\"(15, 11) : \">\n<path d=\"M561.9412,-719.7668C550.7866,-692.8248 532,-640.5405 532,-594 532,-594 532,-594 532,-522 532,-474.68 497.1573,-429.5816 471.5719,-402.8442\" fill=\"none\" stroke=\"#4a4a4a\"/>\n<polygon fill=\"#4a4a4a\" points=\"473.8219,-400.1412 464.3081,-395.4786 468.8377,-405.0563 473.8219,-400.1412\" stroke=\"#4a4a4a\"/>\n</a>\n</g>\n</g>\n<!-- Parainfluenza 3&#45;&gt;Bordetella pertussis -->\n<g class=\"edge\" id=\"edge37\">\n<title>Parainfluenza 3-&gt;Bordetella pertussis</title>\n<g id=\"a_edge37\"><a xlink:title=\"(15, 22) : \">\n<path d=\"M614.7473,-724.3139C665.0565,-706.5878 745.5102,-670.7884 790,-612 819.3281,-573.2461 812.2833,-513.0865 804.5857,-478.017\" fill=\"none\" stroke=\"#4a4a4a\"/>\n<polygon fill=\"#4a4a4a\" points=\"807.9222,-476.9169 802.2154,-467.9903 801.11,-478.5273 807.9222,-476.9169\" stroke=\"#4a4a4a\"/>\n</a>\n</g>\n</g>\n<!-- Parainfluenza 3&#45;&gt;CoronavirusNL63 -->\n<g class=\"edge\" id=\"edge15\">\n<title>Parainfluenza 3-&gt;CoronavirusNL63</title>\n<g id=\"a_edge15\"><a xlink:title=\"(15, 12) : \">\n<path d=\"M583.3353,-720.0535C601.9972,-694.9384 636.0243,-649.1449 657.5231,-620.2119\" fill=\"none\" stroke=\"#4a4a4a\"/>\n<polygon fill=\"#4a4a4a\" points=\"660.3417,-622.2869 663.4967,-612.1727 654.723,-618.1119 660.3417,-622.2869\" stroke=\"#4a4a4a\"/>\n</a>\n</g>\n</g>\n<!-- Parainfluenza 3&#45;&gt;Adenovirus -->\n<g class=\"edge\" id=\"edge51\">\n<title>Parainfluenza 3-&gt;Adenovirus</title>\n<g id=\"a_edge51\"><a xlink:title=\"(15, 17) : \">\n<path d=\"M506.7125,-731.1187C445.5172,-723.1589 358.6722,-707.9841 335,-684 299.9216,-648.4595 296.3187,-586.6553 297.6368,-550.5302\" fill=\"none\" stroke=\"#4a4a4a\"/>\n<polygon fill=\"#4a4a4a\" points=\"301.1498,-550.3693 298.1744,-540.2008 294.1592,-550.0053 301.1498,-550.3693\" stroke=\"#4a4a4a\"/>\n</a>\n</g>\n</g>\n<!-- Parainfluenza 3&#45;&gt;Inf A H1N1 2009 -->\n<g class=\"edge\" id=\"edge59\">\n<title>Parainfluenza 3-&gt;Inf A H1N1 2009</title>\n<g id=\"a_edge59\"><a xlink:title=\"(15, 21) : \">\n<path d=\"M633.1215,-730.936C676.289,-723.9476 733.5216,-710.2993 778,-684 972.6624,-568.8996 1134.4816,-338.9399 1185.9083,-260.7429\" fill=\"none\" stroke=\"#4a4a4a\"/>\n<polygon fill=\"#4a4a4a\" points=\"1189.0946,-262.2646 1191.6274,-251.977 1183.2319,-258.4397 1189.0946,-262.2646\" stroke=\"#4a4a4a\"/>\n</a>\n</g>\n</g>\n<!-- Parainfluenza 3&#45;&gt;Coronavirus229E -->\n<g class=\"edge\" id=\"edge11\">\n<title>Parainfluenza 3-&gt;Coronavirus229E</title>\n<g id=\"a_edge11\"><a xlink:title=\"(15, 19) : \">\n<path d=\"M511.0298,-728.8227C451.4445,-718.783 364.1412,-701.7423 335,-684 236.8699,-624.2548 211.669,-581.36 193,-468 189.6147,-447.444 188.3981,-423.9293 188.0102,-406.0917\" fill=\"none\" stroke=\"#4a4a4a\"/>\n<polygon fill=\"#4a4a4a\" points=\"191.5094,-406.0023 187.8655,-396.0538 184.5101,-406.1033 191.5094,-406.0023\" stroke=\"#4a4a4a\"/>\n</a>\n</g>\n</g>\n<!-- Parainfluenza 3&#45;&gt;Chlamydophila pneumoniae -->\n<g class=\"edge\" id=\"edge66\">\n<title>Parainfluenza 3-&gt;Chlamydophila pneumoniae</title>\n<g id=\"a_edge66\"><a xlink:title=\"(15, 16) : \">\n<path d=\"M570,-719.8146C570,-692.4983 570,-639.25 570,-594 570,-594 570,-594 570,-522 570,-446.7161 622.8372,-370.5761 654.2528,-331.9589\" fill=\"none\" stroke=\"#4a4a4a\"/>\n<polygon fill=\"#4a4a4a\" points=\"657.2846,-333.7866 660.981,-323.8574 651.8995,-329.3143 657.2846,-333.7866\" stroke=\"#4a4a4a\"/>\n</a>\n</g>\n</g>\n<!-- Red blood Cells -->\n<g class=\"node\" id=\"node22\">\n<title>Red blood Cells</title>\n<g id=\"a_node22\"><a xlink:title=\"(5) Red blood Cells : 0.91000\">\n<ellipse cx=\"1254\" cy=\"-306\" fill=\"#08488e\" rx=\"71.4873\" ry=\"18\" stroke=\"#000000\"/>\n<text fill=\"#ffffff\" font-family=\"Times,serif\" font-size=\"14.00\" text-anchor=\"middle\" x=\"1254\" y=\"-302.3\">Red blood Cells</text>\n</a>\n</g>\n</g>\n<!-- Platelets&#45;&gt;Red blood Cells -->\n<g class=\"edge\" id=\"edge41\">\n<title>Platelets-&gt;Red blood Cells</title>\n<g id=\"a_edge41\"><a xlink:title=\"(4, 5) : \">\n<path d=\"M1254,-359.8314C1254,-352.131 1254,-342.9743 1254,-334.4166\" fill=\"none\" stroke=\"#4a4a4a\"/>\n<polygon fill=\"#4a4a4a\" points=\"1257.5001,-334.4132 1254,-324.4133 1250.5001,-334.4133 1257.5001,-334.4132\" stroke=\"#4a4a4a\"/>\n</a>\n</g>\n</g>\n<!-- influenza_A_rapid_test&#45;&gt;Strepto A -->\n<g class=\"edge\" id=\"edge25\">\n<title>influenza_A_rapid_test-&gt;Strepto A</title>\n<g id=\"a_edge25\"><a xlink:title=\"(25, 26) : \">\n<path d=\"M1530.7699,-360.937C1510.5166,-350.2146 1484.3449,-336.3591 1463.3524,-325.2454\" fill=\"none\" stroke=\"#4a4a4a\"/>\n<polygon fill=\"#4a4a4a\" points=\"1464.8846,-322.0964 1454.4091,-320.5107 1461.6094,-328.2829 1464.8846,-322.0964\" stroke=\"#4a4a4a\"/>\n</a>\n</g>\n</g>\n<!-- Red blood Cells&#45;&gt;Inf A H1N1 2009 -->\n<g class=\"edge\" id=\"edge45\">\n<title>Red blood Cells-&gt;Inf A H1N1 2009</title>\n<g id=\"a_edge45\"><a xlink:title=\"(5, 21) : \">\n<path d=\"M1241.3933,-288.2022C1235.386,-279.7214 1228.0832,-269.4115 1221.4659,-260.0696\" fill=\"none\" stroke=\"#4a4a4a\"/>\n<polygon fill=\"#4a4a4a\" points=\"1224.2748,-257.9797 1215.6385,-251.8425 1218.5626,-262.0259 1224.2748,-257.9797\" stroke=\"#4a4a4a\"/>\n</a>\n</g>\n</g>\n<!-- Inf A H1N1 2009&#45;&gt;Influenza B -->\n<g class=\"edge\" id=\"edge64\">\n<title>Inf A H1N1 2009-&gt;Influenza B</title>\n<g id=\"a_edge64\"><a xlink:title=\"(21, 10) : \">\n<path d=\"M1203,-215.8314C1203,-208.131 1203,-198.9743 1203,-190.4166\" fill=\"none\" stroke=\"#4a4a4a\"/>\n<polygon fill=\"#4a4a4a\" points=\"1206.5001,-190.4132 1203,-180.4133 1199.5001,-190.4133 1206.5001,-190.4132\" stroke=\"#4a4a4a\"/>\n</a>\n</g>\n</g>\n<!-- Coronavirus229E&#45;&gt;Chlamydophila pneumoniae -->\n<g class=\"edge\" id=\"edge56\">\n<title>Coronavirus229E-&gt;Chlamydophila pneumoniae</title>\n<g id=\"a_edge56\"><a xlink:title=\"(19, 16) : \">\n<path d=\"M246.1591,-365.9527C257.051,-363.8509 268.3565,-361.773 279,-360 378.7665,-343.3805 493.2466,-328.2587 573.74,-318.2726\" fill=\"none\" stroke=\"#4a4a4a\"/>\n<polygon fill=\"#4a4a4a\" points=\"574.3826,-321.7199 583.8778,-317.0197 573.524,-314.7727 574.3826,-321.7199\" stroke=\"#4a4a4a\"/>\n</a>\n</g>\n</g>\n<!-- covid_19 -->\n<g class=\"node\" id=\"node25\">\n<title>covid_19</title>\n<g id=\"a_node25\"><a xlink:title=\"(0) covid_19 : 0.91000\">\n<ellipse cx=\"1364\" cy=\"-450\" fill=\"#08488e\" rx=\"46.2923\" ry=\"18\" stroke=\"#000000\"/>\n<text fill=\"#ffffff\" font-family=\"Times,serif\" font-size=\"14.00\" text-anchor=\"middle\" x=\"1364\" y=\"-446.3\">covid_19</text>\n</a>\n</g>\n</g>\n<!-- covid_19&#45;&gt;regular_ward -->\n<g class=\"edge\" id=\"edge52\">\n<title>covid_19-&gt;regular_ward</title>\n<g id=\"a_edge52\"><a xlink:title=\"(0, 1) : \">\n<path d=\"M1382.8517,-433.1535C1413.4858,-405.2802 1471.7022,-350.0611 1482,-324 1490.2711,-303.0681 1481.3653,-278.743 1471.3085,-260.6627\" fill=\"none\" stroke=\"#4a4a4a\"/>\n<polygon fill=\"#4a4a4a\" points=\"1474.1635,-258.6171 1466.0295,-251.8282 1468.1545,-262.2078 1474.1635,-258.6171\" stroke=\"#4a4a4a\"/>\n</a>\n</g>\n</g>\n<!-- covid_19&#45;&gt;Platelets -->\n<g class=\"edge\" id=\"edge30\">\n<title>covid_19-&gt;Platelets</title>\n<g id=\"a_edge30\"><a xlink:title=\"(0, 4) : \">\n<path d=\"M1340.1316,-434.3771C1324.2045,-423.952 1303.0839,-410.1276 1285.7437,-398.7777\" fill=\"none\" stroke=\"#4a4a4a\"/>\n<polygon fill=\"#4a4a4a\" points=\"1287.3518,-395.6472 1277.068,-393.099 1283.5182,-401.5041 1287.3518,-395.6472\" stroke=\"#4a4a4a\"/>\n</a>\n</g>\n</g>\n<!-- Chlamydophila pneumoniae&#45;&gt;Inf A H1N1 2009 -->\n<g class=\"edge\" id=\"edge9\">\n<title>Chlamydophila pneumoniae-&gt;Inf A H1N1 2009</title>\n<g id=\"a_edge9\"><a xlink:title=\"(16, 21) : \">\n<path d=\"M764.4487,-294.0298C865.4564,-280.2037 1030.0434,-257.6747 1126.2717,-244.5027\" fill=\"none\" stroke=\"#4a4a4a\"/>\n<polygon fill=\"#4a4a4a\" points=\"1126.7925,-247.9642 1136.2254,-243.1403 1125.8431,-241.0288 1126.7925,-247.9642\" stroke=\"#4a4a4a\"/>\n</a>\n</g>\n</g>\n</g>\n</svg>"
          },
          "metadata": {}
        }
      ]
    },
    {
      "cell_type": "code",
      "metadata": {
        "colab": {
          "base_uri": "https://localhost:8080/"
        },
        "id": "05XzVmTlA0CW",
        "outputId": "2a6c71be-6ceb-4512-e34b-fc930451ded4"
      },
      "source": [
        "test = pd.read_csv('test.csv')\n",
        "estimator.predict(test)"
      ],
      "execution_count": 23,
      "outputs": [
        {
          "output_type": "stream",
          "name": "stdout",
          "text": [
            "[1. 0.]\n"
          ]
        },
        {
          "output_type": "execute_result",
          "data": {
            "text/plain": [
              "<__main__.BNEstimator at 0x7febba838050>"
            ]
          },
          "metadata": {},
          "execution_count": 23
        }
      ]
    },
    {
      "cell_type": "code",
      "metadata": {
        "colab": {
          "base_uri": "https://localhost:8080/"
        },
        "id": "QsAO2_IQpI5N",
        "outputId": "5018b7cc-c42c-4c7d-8ffa-849b8917f652"
      },
      "source": [
        "estimator.acuracia"
      ],
      "execution_count": 24,
      "outputs": [
        {
          "output_type": "execute_result",
          "data": {
            "text/plain": [
              "1.0"
            ]
          },
          "metadata": {},
          "execution_count": 24
        }
      ]
    },
    {
      "cell_type": "code",
      "metadata": {
        "id": "CE8sLSz8QmF3"
      },
      "source": [
        "results_ghc = [estimator.acuracia,time_treino]"
      ],
      "execution_count": 25,
      "outputs": []
    },
    {
      "cell_type": "code",
      "metadata": {
        "id": "rp9BXtVe4anu"
      },
      "source": [
        "#### Função que retorna acuracia para um conjunto de test\n",
        "\n",
        "def perd(estimador, test_conj ):\n",
        "  test = pd.read_csv(test_conj)\n",
        "\n",
        "  tamanho_test_ = test.loc[:,:].shape[0]\n",
        "\n",
        "  y_true = np.zeros(tamanho_test_)\n",
        "  y_pred = np.zeros(tamanho_test_)\n",
        "  aie=gum.LazyPropagation(estimador)\n",
        "\n",
        "  for i in range(tamanho_test_):\n",
        "    \n",
        "    row = test.loc[i,:]\n",
        "    evs = row.astype(str).to_dict()\n",
        "    y_true[i] = int(evs['covid_19'])\n",
        "    del evs['covid_19']\n",
        "    aie.setEvidence(evs)\n",
        "    aie.makeInference()\n",
        "    y_pred[i] = np.argmax(aie.posterior(\"covid_19\")[:])\n",
        "\n",
        "  return accuracy_score(y_true, y_pred)"
      ],
      "execution_count": 26,
      "outputs": []
    },
    {
      "cell_type": "code",
      "metadata": {
        "colab": {
          "base_uri": "https://localhost:8080/"
        },
        "id": "wUe1VkuyAs9j",
        "outputId": "736912b8-48cd-47d5-a543-c81ec13272ae"
      },
      "source": [
        "perd(estimator.bn, 'test.csv') "
      ],
      "execution_count": 27,
      "outputs": [
        {
          "output_type": "execute_result",
          "data": {
            "text/plain": [
              "0.9043401240035429"
            ]
          },
          "metadata": {},
          "execution_count": 27
        }
      ]
    },
    {
      "cell_type": "markdown",
      "metadata": {
        "id": "FB2zk6MJ4anu"
      },
      "source": [
        "## Modificações na Rede\n",
        "\n",
        "Criando uma rede com o algoritmo de aprendizado TabuList.\n",
        "\n",
        "Para isso foi inserido no método fit a seguinte linha de codigo:"
      ]
    },
    {
      "cell_type": "code",
      "metadata": {
        "id": "w8OLgmDr4anu"
      },
      "source": [
        "# if self.learning_method == 'tabu':learner.useLocalSearchWithTabuList()"
      ],
      "execution_count": 28,
      "outputs": []
    },
    {
      "cell_type": "markdown",
      "metadata": {
        "id": "gThb4QPI4anu"
      },
      "source": [
        "Nesta linha de codigo é feito o teste do valor da variavel self.learning_method. Se o valor atribuido a ela for 'tabu' então a rede utilizara o medtodo de aprendizado TabuList."
      ]
    },
    {
      "cell_type": "code",
      "metadata": {
        "id": "TaC6uJf94anu"
      },
      "source": [
        "# Instanciar o estimador Bayesiano com learner.useLocalSearchWithTabuList()\n",
        "estimator_tabu = BNEstimator('template.csv', class_name='covid_19',\n",
        "                  tabu_arcs=[('influenza_B_rapid_test', 'covid_19')],\n",
        "                  mandatory_arcs=[('Coronavirus HKU1','covid_19'),('Respiratory Syncytial Virus','covid_19')],\n",
        "                  cut_points_percentiles = [5, 50, 95], learning_method='tabu')\n",
        "\n",
        "data = pd.read_csv('template.csv')\n",
        "# Criar a topologia da rede\n",
        "template,data = estimator.transform(data)"
      ],
      "execution_count": 29,
      "outputs": []
    },
    {
      "cell_type": "code",
      "metadata": {
        "id": "0uVEGjjm4anv",
        "colab": {
          "base_uri": "https://localhost:8080/",
          "height": 390
        },
        "outputId": "e7cf958b-26aa-4595-9da7-03c1033af3df"
      },
      "source": [
        "# Treinar o modelo tabu\n",
        "start = time.time()\n",
        "estimator_tabu.fit(template,'train.csv')\n",
        "end = time.time()\n",
        "time_tabu_treino =  end - start\n",
        "\n"
      ],
      "execution_count": 30,
      "outputs": [
        {
          "output_type": "display_data",
          "data": {
            "text/plain": [
              "<Figure size 432x288 with 1 Axes>"
            ],
            "image/svg+xml": "<?xml version=\"1.0\" encoding=\"utf-8\" standalone=\"no\"?>\n<!DOCTYPE svg PUBLIC \"-//W3C//DTD SVG 1.1//EN\"\n  \"http://www.w3.org/Graphics/SVG/1.1/DTD/svg11.dtd\">\n<!-- Created with matplotlib (https://matplotlib.org/) -->\n<svg height=\"277.136625pt\" version=\"1.1\" viewBox=\"0 0 377.304687 277.136625\" width=\"377.304687pt\" xmlns=\"http://www.w3.org/2000/svg\" xmlns:xlink=\"http://www.w3.org/1999/xlink\">\n <defs>\n  <style type=\"text/css\">\n*{stroke-linecap:butt;stroke-linejoin:round;}\n  </style>\n </defs>\n <g id=\"figure_1\">\n  <g id=\"patch_1\">\n   <path d=\"M 0 277.136625 \nL 377.304687 277.136625 \nL 377.304687 0 \nL 0 0 \nz\n\" style=\"fill:none;\"/>\n  </g>\n  <g id=\"axes_1\">\n   <g id=\"patch_2\">\n    <path d=\"M 35.304688 253.2585 \nL 370.104688 253.2585 \nL 370.104688 35.8185 \nL 35.304688 35.8185 \nz\n\" style=\"fill:#ffffff;\"/>\n   </g>\n   <g id=\"matplotlib.axis_1\">\n    <g id=\"xtick_1\">\n     <g id=\"line2d_1\">\n      <defs>\n       <path d=\"M 0 0 \nL 0 3.5 \n\" id=\"mecd94ee677\" style=\"stroke:#000000;stroke-width:0.8;\"/>\n      </defs>\n      <g>\n       <use style=\"stroke:#000000;stroke-width:0.8;\" x=\"94.38704\" xlink:href=\"#mecd94ee677\" y=\"253.2585\"/>\n      </g>\n     </g>\n     <g id=\"text_1\">\n      <!-- 10 -->\n      <defs>\n       <path d=\"M 12.40625 8.296875 \nL 28.515625 8.296875 \nL 28.515625 63.921875 \nL 10.984375 60.40625 \nL 10.984375 69.390625 \nL 28.421875 72.90625 \nL 38.28125 72.90625 \nL 38.28125 8.296875 \nL 54.390625 8.296875 \nL 54.390625 0 \nL 12.40625 0 \nz\n\" id=\"DejaVuSans-49\"/>\n       <path d=\"M 31.78125 66.40625 \nQ 24.171875 66.40625 20.328125 58.90625 \nQ 16.5 51.421875 16.5 36.375 \nQ 16.5 21.390625 20.328125 13.890625 \nQ 24.171875 6.390625 31.78125 6.390625 \nQ 39.453125 6.390625 43.28125 13.890625 \nQ 47.125 21.390625 47.125 36.375 \nQ 47.125 51.421875 43.28125 58.90625 \nQ 39.453125 66.40625 31.78125 66.40625 \nz\nM 31.78125 74.21875 \nQ 44.046875 74.21875 50.515625 64.515625 \nQ 56.984375 54.828125 56.984375 36.375 \nQ 56.984375 17.96875 50.515625 8.265625 \nQ 44.046875 -1.421875 31.78125 -1.421875 \nQ 19.53125 -1.421875 13.0625 8.265625 \nQ 6.59375 17.96875 6.59375 36.375 \nQ 6.59375 54.828125 13.0625 64.515625 \nQ 19.53125 74.21875 31.78125 74.21875 \nz\n\" id=\"DejaVuSans-48\"/>\n      </defs>\n      <g transform=\"translate(88.02454 267.856937)scale(0.1 -0.1)\">\n       <use xlink:href=\"#DejaVuSans-49\"/>\n       <use x=\"63.623047\" xlink:href=\"#DejaVuSans-48\"/>\n      </g>\n     </g>\n    </g>\n    <g id=\"xtick_2\">\n     <g id=\"line2d_2\">\n      <g>\n       <use style=\"stroke:#000000;stroke-width:0.8;\" x=\"160.034099\" xlink:href=\"#mecd94ee677\" y=\"253.2585\"/>\n      </g>\n     </g>\n     <g id=\"text_2\">\n      <!-- 20 -->\n      <defs>\n       <path d=\"M 19.1875 8.296875 \nL 53.609375 8.296875 \nL 53.609375 0 \nL 7.328125 0 \nL 7.328125 8.296875 \nQ 12.9375 14.109375 22.625 23.890625 \nQ 32.328125 33.6875 34.8125 36.53125 \nQ 39.546875 41.84375 41.421875 45.53125 \nQ 43.3125 49.21875 43.3125 52.78125 \nQ 43.3125 58.59375 39.234375 62.25 \nQ 35.15625 65.921875 28.609375 65.921875 \nQ 23.96875 65.921875 18.8125 64.3125 \nQ 13.671875 62.703125 7.8125 59.421875 \nL 7.8125 69.390625 \nQ 13.765625 71.78125 18.9375 73 \nQ 24.125 74.21875 28.421875 74.21875 \nQ 39.75 74.21875 46.484375 68.546875 \nQ 53.21875 62.890625 53.21875 53.421875 \nQ 53.21875 48.921875 51.53125 44.890625 \nQ 49.859375 40.875 45.40625 35.40625 \nQ 44.1875 33.984375 37.640625 27.21875 \nQ 31.109375 20.453125 19.1875 8.296875 \nz\n\" id=\"DejaVuSans-50\"/>\n      </defs>\n      <g transform=\"translate(153.671599 267.856937)scale(0.1 -0.1)\">\n       <use xlink:href=\"#DejaVuSans-50\"/>\n       <use x=\"63.623047\" xlink:href=\"#DejaVuSans-48\"/>\n      </g>\n     </g>\n    </g>\n    <g id=\"xtick_3\">\n     <g id=\"line2d_3\">\n      <g>\n       <use style=\"stroke:#000000;stroke-width:0.8;\" x=\"225.681158\" xlink:href=\"#mecd94ee677\" y=\"253.2585\"/>\n      </g>\n     </g>\n     <g id=\"text_3\">\n      <!-- 30 -->\n      <defs>\n       <path d=\"M 40.578125 39.3125 \nQ 47.65625 37.796875 51.625 33 \nQ 55.609375 28.21875 55.609375 21.1875 \nQ 55.609375 10.40625 48.1875 4.484375 \nQ 40.765625 -1.421875 27.09375 -1.421875 \nQ 22.515625 -1.421875 17.65625 -0.515625 \nQ 12.796875 0.390625 7.625 2.203125 \nL 7.625 11.71875 \nQ 11.71875 9.328125 16.59375 8.109375 \nQ 21.484375 6.890625 26.8125 6.890625 \nQ 36.078125 6.890625 40.9375 10.546875 \nQ 45.796875 14.203125 45.796875 21.1875 \nQ 45.796875 27.640625 41.28125 31.265625 \nQ 36.765625 34.90625 28.71875 34.90625 \nL 20.21875 34.90625 \nL 20.21875 43.015625 \nL 29.109375 43.015625 \nQ 36.375 43.015625 40.234375 45.921875 \nQ 44.09375 48.828125 44.09375 54.296875 \nQ 44.09375 59.90625 40.109375 62.90625 \nQ 36.140625 65.921875 28.71875 65.921875 \nQ 24.65625 65.921875 20.015625 65.03125 \nQ 15.375 64.15625 9.8125 62.3125 \nL 9.8125 71.09375 \nQ 15.4375 72.65625 20.34375 73.4375 \nQ 25.25 74.21875 29.59375 74.21875 \nQ 40.828125 74.21875 47.359375 69.109375 \nQ 53.90625 64.015625 53.90625 55.328125 \nQ 53.90625 49.265625 50.4375 45.09375 \nQ 46.96875 40.921875 40.578125 39.3125 \nz\n\" id=\"DejaVuSans-51\"/>\n      </defs>\n      <g transform=\"translate(219.318658 267.856937)scale(0.1 -0.1)\">\n       <use xlink:href=\"#DejaVuSans-51\"/>\n       <use x=\"63.623047\" xlink:href=\"#DejaVuSans-48\"/>\n      </g>\n     </g>\n    </g>\n    <g id=\"xtick_4\">\n     <g id=\"line2d_4\">\n      <g>\n       <use style=\"stroke:#000000;stroke-width:0.8;\" x=\"291.328217\" xlink:href=\"#mecd94ee677\" y=\"253.2585\"/>\n      </g>\n     </g>\n     <g id=\"text_4\">\n      <!-- 40 -->\n      <defs>\n       <path d=\"M 37.796875 64.3125 \nL 12.890625 25.390625 \nL 37.796875 25.390625 \nz\nM 35.203125 72.90625 \nL 47.609375 72.90625 \nL 47.609375 25.390625 \nL 58.015625 25.390625 \nL 58.015625 17.1875 \nL 47.609375 17.1875 \nL 47.609375 0 \nL 37.796875 0 \nL 37.796875 17.1875 \nL 4.890625 17.1875 \nL 4.890625 26.703125 \nz\n\" id=\"DejaVuSans-52\"/>\n      </defs>\n      <g transform=\"translate(284.965717 267.856937)scale(0.1 -0.1)\">\n       <use xlink:href=\"#DejaVuSans-52\"/>\n       <use x=\"63.623047\" xlink:href=\"#DejaVuSans-48\"/>\n      </g>\n     </g>\n    </g>\n    <g id=\"xtick_5\">\n     <g id=\"line2d_5\">\n      <g>\n       <use style=\"stroke:#000000;stroke-width:0.8;\" x=\"356.975276\" xlink:href=\"#mecd94ee677\" y=\"253.2585\"/>\n      </g>\n     </g>\n     <g id=\"text_5\">\n      <!-- 50 -->\n      <defs>\n       <path d=\"M 10.796875 72.90625 \nL 49.515625 72.90625 \nL 49.515625 64.59375 \nL 19.828125 64.59375 \nL 19.828125 46.734375 \nQ 21.96875 47.46875 24.109375 47.828125 \nQ 26.265625 48.1875 28.421875 48.1875 \nQ 40.625 48.1875 47.75 41.5 \nQ 54.890625 34.8125 54.890625 23.390625 \nQ 54.890625 11.625 47.5625 5.09375 \nQ 40.234375 -1.421875 26.90625 -1.421875 \nQ 22.3125 -1.421875 17.546875 -0.640625 \nQ 12.796875 0.140625 7.71875 1.703125 \nL 7.71875 11.625 \nQ 12.109375 9.234375 16.796875 8.0625 \nQ 21.484375 6.890625 26.703125 6.890625 \nQ 35.15625 6.890625 40.078125 11.328125 \nQ 45.015625 15.765625 45.015625 23.390625 \nQ 45.015625 31 40.078125 35.4375 \nQ 35.15625 39.890625 26.703125 39.890625 \nQ 22.75 39.890625 18.8125 39.015625 \nQ 14.890625 38.140625 10.796875 36.28125 \nz\n\" id=\"DejaVuSans-53\"/>\n      </defs>\n      <g transform=\"translate(350.612776 267.856937)scale(0.1 -0.1)\">\n       <use xlink:href=\"#DejaVuSans-53\"/>\n       <use x=\"63.623047\" xlink:href=\"#DejaVuSans-48\"/>\n      </g>\n     </g>\n    </g>\n   </g>\n   <g id=\"matplotlib.axis_2\">\n    <g id=\"ytick_1\">\n     <g id=\"line2d_6\">\n      <defs>\n       <path d=\"M 0 0 \nL -3.5 0 \n\" id=\"m91db2d2344\" style=\"stroke:#000000;stroke-width:0.8;\"/>\n      </defs>\n      <g>\n       <use style=\"stroke:#000000;stroke-width:0.8;\" x=\"35.304688\" xlink:href=\"#m91db2d2344\" y=\"250.088921\"/>\n      </g>\n     </g>\n     <g id=\"text_6\">\n      <!-- −12 -->\n      <defs>\n       <path d=\"M 10.59375 35.5 \nL 73.1875 35.5 \nL 73.1875 27.203125 \nL 10.59375 27.203125 \nz\n\" id=\"DejaVuSans-8722\"/>\n      </defs>\n      <g transform=\"translate(7.2 253.88814)scale(0.1 -0.1)\">\n       <use xlink:href=\"#DejaVuSans-8722\"/>\n       <use x=\"83.789062\" xlink:href=\"#DejaVuSans-49\"/>\n       <use x=\"147.412109\" xlink:href=\"#DejaVuSans-50\"/>\n      </g>\n     </g>\n    </g>\n    <g id=\"ytick_2\">\n     <g id=\"line2d_7\">\n      <g>\n       <use style=\"stroke:#000000;stroke-width:0.8;\" x=\"35.304688\" xlink:href=\"#m91db2d2344\" y=\"223.812404\"/>\n      </g>\n     </g>\n     <g id=\"text_7\">\n      <!-- −10 -->\n      <g transform=\"translate(7.2 227.611623)scale(0.1 -0.1)\">\n       <use xlink:href=\"#DejaVuSans-8722\"/>\n       <use x=\"83.789062\" xlink:href=\"#DejaVuSans-49\"/>\n       <use x=\"147.412109\" xlink:href=\"#DejaVuSans-48\"/>\n      </g>\n     </g>\n    </g>\n    <g id=\"ytick_3\">\n     <g id=\"line2d_8\">\n      <g>\n       <use style=\"stroke:#000000;stroke-width:0.8;\" x=\"35.304688\" xlink:href=\"#m91db2d2344\" y=\"197.535887\"/>\n      </g>\n     </g>\n     <g id=\"text_8\">\n      <!-- −8 -->\n      <defs>\n       <path d=\"M 31.78125 34.625 \nQ 24.75 34.625 20.71875 30.859375 \nQ 16.703125 27.09375 16.703125 20.515625 \nQ 16.703125 13.921875 20.71875 10.15625 \nQ 24.75 6.390625 31.78125 6.390625 \nQ 38.8125 6.390625 42.859375 10.171875 \nQ 46.921875 13.96875 46.921875 20.515625 \nQ 46.921875 27.09375 42.890625 30.859375 \nQ 38.875 34.625 31.78125 34.625 \nz\nM 21.921875 38.8125 \nQ 15.578125 40.375 12.03125 44.71875 \nQ 8.5 49.078125 8.5 55.328125 \nQ 8.5 64.0625 14.71875 69.140625 \nQ 20.953125 74.21875 31.78125 74.21875 \nQ 42.671875 74.21875 48.875 69.140625 \nQ 55.078125 64.0625 55.078125 55.328125 \nQ 55.078125 49.078125 51.53125 44.71875 \nQ 48 40.375 41.703125 38.8125 \nQ 48.828125 37.15625 52.796875 32.3125 \nQ 56.78125 27.484375 56.78125 20.515625 \nQ 56.78125 9.90625 50.3125 4.234375 \nQ 43.84375 -1.421875 31.78125 -1.421875 \nQ 19.734375 -1.421875 13.25 4.234375 \nQ 6.78125 9.90625 6.78125 20.515625 \nQ 6.78125 27.484375 10.78125 32.3125 \nQ 14.796875 37.15625 21.921875 38.8125 \nz\nM 18.3125 54.390625 \nQ 18.3125 48.734375 21.84375 45.5625 \nQ 25.390625 42.390625 31.78125 42.390625 \nQ 38.140625 42.390625 41.71875 45.5625 \nQ 45.3125 48.734375 45.3125 54.390625 \nQ 45.3125 60.0625 41.71875 63.234375 \nQ 38.140625 66.40625 31.78125 66.40625 \nQ 25.390625 66.40625 21.84375 63.234375 \nQ 18.3125 60.0625 18.3125 54.390625 \nz\n\" id=\"DejaVuSans-56\"/>\n      </defs>\n      <g transform=\"translate(13.5625 201.335106)scale(0.1 -0.1)\">\n       <use xlink:href=\"#DejaVuSans-8722\"/>\n       <use x=\"83.789062\" xlink:href=\"#DejaVuSans-56\"/>\n      </g>\n     </g>\n    </g>\n    <g id=\"ytick_4\">\n     <g id=\"line2d_9\">\n      <g>\n       <use style=\"stroke:#000000;stroke-width:0.8;\" x=\"35.304688\" xlink:href=\"#m91db2d2344\" y=\"171.25937\"/>\n      </g>\n     </g>\n     <g id=\"text_9\">\n      <!-- −6 -->\n      <defs>\n       <path d=\"M 33.015625 40.375 \nQ 26.375 40.375 22.484375 35.828125 \nQ 18.609375 31.296875 18.609375 23.390625 \nQ 18.609375 15.53125 22.484375 10.953125 \nQ 26.375 6.390625 33.015625 6.390625 \nQ 39.65625 6.390625 43.53125 10.953125 \nQ 47.40625 15.53125 47.40625 23.390625 \nQ 47.40625 31.296875 43.53125 35.828125 \nQ 39.65625 40.375 33.015625 40.375 \nz\nM 52.59375 71.296875 \nL 52.59375 62.3125 \nQ 48.875 64.0625 45.09375 64.984375 \nQ 41.3125 65.921875 37.59375 65.921875 \nQ 27.828125 65.921875 22.671875 59.328125 \nQ 17.53125 52.734375 16.796875 39.40625 \nQ 19.671875 43.65625 24.015625 45.921875 \nQ 28.375 48.1875 33.59375 48.1875 \nQ 44.578125 48.1875 50.953125 41.515625 \nQ 57.328125 34.859375 57.328125 23.390625 \nQ 57.328125 12.15625 50.6875 5.359375 \nQ 44.046875 -1.421875 33.015625 -1.421875 \nQ 20.359375 -1.421875 13.671875 8.265625 \nQ 6.984375 17.96875 6.984375 36.375 \nQ 6.984375 53.65625 15.1875 63.9375 \nQ 23.390625 74.21875 37.203125 74.21875 \nQ 40.921875 74.21875 44.703125 73.484375 \nQ 48.484375 72.75 52.59375 71.296875 \nz\n\" id=\"DejaVuSans-54\"/>\n      </defs>\n      <g transform=\"translate(13.5625 175.058589)scale(0.1 -0.1)\">\n       <use xlink:href=\"#DejaVuSans-8722\"/>\n       <use x=\"83.789062\" xlink:href=\"#DejaVuSans-54\"/>\n      </g>\n     </g>\n    </g>\n    <g id=\"ytick_5\">\n     <g id=\"line2d_10\">\n      <g>\n       <use style=\"stroke:#000000;stroke-width:0.8;\" x=\"35.304688\" xlink:href=\"#m91db2d2344\" y=\"144.982854\"/>\n      </g>\n     </g>\n     <g id=\"text_10\">\n      <!-- −4 -->\n      <g transform=\"translate(13.5625 148.782072)scale(0.1 -0.1)\">\n       <use xlink:href=\"#DejaVuSans-8722\"/>\n       <use x=\"83.789062\" xlink:href=\"#DejaVuSans-52\"/>\n      </g>\n     </g>\n    </g>\n    <g id=\"ytick_6\">\n     <g id=\"line2d_11\">\n      <g>\n       <use style=\"stroke:#000000;stroke-width:0.8;\" x=\"35.304688\" xlink:href=\"#m91db2d2344\" y=\"118.706337\"/>\n      </g>\n     </g>\n     <g id=\"text_11\">\n      <!-- −2 -->\n      <g transform=\"translate(13.5625 122.505556)scale(0.1 -0.1)\">\n       <use xlink:href=\"#DejaVuSans-8722\"/>\n       <use x=\"83.789062\" xlink:href=\"#DejaVuSans-50\"/>\n      </g>\n     </g>\n    </g>\n    <g id=\"ytick_7\">\n     <g id=\"line2d_12\">\n      <g>\n       <use style=\"stroke:#000000;stroke-width:0.8;\" x=\"35.304688\" xlink:href=\"#m91db2d2344\" y=\"92.42982\"/>\n      </g>\n     </g>\n     <g id=\"text_12\">\n      <!-- 0 -->\n      <g transform=\"translate(21.942188 96.229039)scale(0.1 -0.1)\">\n       <use xlink:href=\"#DejaVuSans-48\"/>\n      </g>\n     </g>\n    </g>\n    <g id=\"ytick_8\">\n     <g id=\"line2d_13\">\n      <g>\n       <use style=\"stroke:#000000;stroke-width:0.8;\" x=\"35.304688\" xlink:href=\"#m91db2d2344\" y=\"66.153303\"/>\n      </g>\n     </g>\n     <g id=\"text_13\">\n      <!-- 2 -->\n      <g transform=\"translate(21.942188 69.952522)scale(0.1 -0.1)\">\n       <use xlink:href=\"#DejaVuSans-50\"/>\n      </g>\n     </g>\n    </g>\n    <g id=\"ytick_9\">\n     <g id=\"line2d_14\">\n      <g>\n       <use style=\"stroke:#000000;stroke-width:0.8;\" x=\"35.304688\" xlink:href=\"#m91db2d2344\" y=\"39.876786\"/>\n      </g>\n     </g>\n     <g id=\"text_14\">\n      <!-- 4 -->\n      <g transform=\"translate(21.942188 43.676005)scale(0.1 -0.1)\">\n       <use xlink:href=\"#DejaVuSans-52\"/>\n      </g>\n     </g>\n    </g>\n   </g>\n   <g id=\"line2d_15\">\n    <path clip-path=\"url(#p3e41a8c4f9)\" d=\"M 28.739982 45.702136 \n\" style=\"fill:none;stroke:#008000;stroke-linecap:square;stroke-width:1.5;\"/>\n   </g>\n   <g id=\"line2d_16\">\n    <path clip-path=\"url(#p3e41a8c4f9)\" d=\"M 28.739982 45.702136 \nL 35.304688 45.720376 \n\" style=\"fill:none;stroke:#008000;stroke-linecap:square;stroke-width:1.5;\"/>\n   </g>\n   <g id=\"line2d_17\">\n    <path clip-path=\"url(#p3e41a8c4f9)\" d=\"M 28.739982 45.702136 \nL 35.304688 45.720376 \nL 41.869393 45.712621 \n\" style=\"fill:none;stroke:#008000;stroke-linecap:square;stroke-width:1.5;\"/>\n   </g>\n   <g id=\"line2d_18\">\n    <path clip-path=\"url(#p3e41a8c4f9)\" d=\"M 28.739982 45.702136 \nL 35.304688 45.720376 \nL 41.869393 45.712621 \nL 48.434099 45.71561 \n\" style=\"fill:none;stroke:#008000;stroke-linecap:square;stroke-width:1.5;\"/>\n   </g>\n   <g id=\"line2d_19\">\n    <path clip-path=\"url(#p3e41a8c4f9)\" d=\"M 28.739982 45.702136 \nL 35.304688 45.720376 \nL 41.869393 45.712621 \nL 48.434099 45.71561 \nL 54.998805 45.748811 \n\" style=\"fill:none;stroke:#008000;stroke-linecap:square;stroke-width:1.5;\"/>\n   </g>\n   <g id=\"line2d_20\">\n    <path clip-path=\"url(#p3e41a8c4f9)\" d=\"M 28.739982 45.702136 \nL 35.304688 45.720376 \nL 41.869393 45.712621 \nL 48.434099 45.71561 \nL 54.998805 45.748811 \nL 61.563511 45.719121 \n\" style=\"fill:none;stroke:#008000;stroke-linecap:square;stroke-width:1.5;\"/>\n   </g>\n   <g id=\"line2d_21\">\n    <path clip-path=\"url(#p3e41a8c4f9)\" d=\"M 28.739982 45.702136 \nL 35.304688 45.720376 \nL 41.869393 45.712621 \nL 48.434099 45.71561 \nL 54.998805 45.748811 \nL 61.563511 45.719121 \nL 68.128217 45.720614 \n\" style=\"fill:none;stroke:#008000;stroke-linecap:square;stroke-width:1.5;\"/>\n   </g>\n   <g id=\"line2d_22\">\n    <path clip-path=\"url(#p3e41a8c4f9)\" d=\"M 28.739982 45.702136 \nL 35.304688 45.720376 \nL 41.869393 45.712621 \nL 48.434099 45.71561 \nL 54.998805 45.748811 \nL 61.563511 45.719121 \nL 68.128217 45.720614 \nL 74.692923 45.719797 \n\" style=\"fill:none;stroke:#008000;stroke-linecap:square;stroke-width:1.5;\"/>\n   </g>\n   <g id=\"line2d_23\">\n    <path clip-path=\"url(#p3e41a8c4f9)\" d=\"M 28.739982 45.702136 \nL 35.304688 45.720376 \nL 41.869393 45.712621 \nL 48.434099 45.71561 \nL 54.998805 45.748811 \nL 61.563511 45.719121 \nL 68.128217 45.720614 \nL 74.692923 45.719797 \nL 81.257629 45.719797 \n\" style=\"fill:none;stroke:#008000;stroke-linecap:square;stroke-width:1.5;\"/>\n   </g>\n   <g id=\"line2d_24\">\n    <path clip-path=\"url(#p3e41a8c4f9)\" d=\"M 28.739982 45.702136 \nL 35.304688 45.720376 \nL 41.869393 45.712621 \nL 48.434099 45.71561 \nL 54.998805 45.748811 \nL 61.563511 45.719121 \nL 68.128217 45.720614 \nL 74.692923 45.719797 \nL 81.257629 45.719797 \nL 87.822335 45.72024 \n\" style=\"fill:none;stroke:#008000;stroke-linecap:square;stroke-width:1.5;\"/>\n   </g>\n   <g id=\"line2d_25\">\n    <path clip-path=\"url(#p3e41a8c4f9)\" d=\"M 28.739982 45.702136 \nL 35.304688 45.720376 \nL 41.869393 45.712621 \nL 48.434099 45.71561 \nL 54.998805 45.748811 \nL 61.563511 45.719121 \nL 68.128217 45.720614 \nL 74.692923 45.719797 \nL 81.257629 45.719797 \nL 87.822335 45.72024 \nL 94.38704 45.720366 \n\" style=\"fill:none;stroke:#008000;stroke-linecap:square;stroke-width:1.5;\"/>\n   </g>\n   <g id=\"line2d_26\">\n    <path clip-path=\"url(#p3e41a8c4f9)\" d=\"M 28.739982 45.702136 \nL 35.304688 45.720376 \nL 41.869393 45.712621 \nL 48.434099 45.71561 \nL 54.998805 45.748811 \nL 61.563511 45.719121 \nL 68.128217 45.720614 \nL 74.692923 45.719797 \nL 81.257629 45.719797 \nL 87.822335 45.72024 \nL 94.38704 45.720366 \nL 100.951746 45.720366 \n\" style=\"fill:none;stroke:#008000;stroke-linecap:square;stroke-width:1.5;\"/>\n   </g>\n   <g id=\"line2d_27\">\n    <path clip-path=\"url(#p3e41a8c4f9)\" d=\"M 28.739982 45.702136 \nL 35.304688 45.720376 \nL 41.869393 45.712621 \nL 48.434099 45.71561 \nL 54.998805 45.748811 \nL 61.563511 45.719121 \nL 68.128217 45.720614 \nL 74.692923 45.719797 \nL 81.257629 45.719797 \nL 87.822335 45.72024 \nL 94.38704 45.720366 \nL 100.951746 45.720366 \nL 107.516452 45.720366 \n\" style=\"fill:none;stroke:#008000;stroke-linecap:square;stroke-width:1.5;\"/>\n   </g>\n   <g id=\"line2d_28\">\n    <path clip-path=\"url(#p3e41a8c4f9)\" d=\"M 28.739982 45.702136 \nL 35.304688 45.720376 \nL 41.869393 45.712621 \nL 48.434099 45.71561 \nL 54.998805 45.748811 \nL 61.563511 45.719121 \nL 68.128217 45.720614 \nL 74.692923 45.719797 \nL 81.257629 45.719797 \nL 87.822335 45.72024 \nL 94.38704 45.720366 \nL 100.951746 45.720366 \nL 107.516452 45.720366 \nL 114.081158 45.720418 \n\" style=\"fill:none;stroke:#008000;stroke-linecap:square;stroke-width:1.5;\"/>\n   </g>\n   <g id=\"line2d_29\">\n    <path clip-path=\"url(#p3e41a8c4f9)\" d=\"M 28.739982 45.702136 \nL 35.304688 45.720376 \nL 41.869393 45.712621 \nL 48.434099 45.71561 \nL 54.998805 45.748811 \nL 61.563511 45.719121 \nL 68.128217 45.720614 \nL 74.692923 45.719797 \nL 81.257629 45.719797 \nL 87.822335 45.72024 \nL 94.38704 45.720366 \nL 100.951746 45.720366 \nL 107.516452 45.720366 \nL 114.081158 45.720418 \nL 120.645864 45.721505 \n\" style=\"fill:none;stroke:#008000;stroke-linecap:square;stroke-width:1.5;\"/>\n   </g>\n   <g id=\"line2d_30\">\n    <path clip-path=\"url(#p3e41a8c4f9)\" d=\"M 28.739982 45.702136 \nL 35.304688 45.720376 \nL 41.869393 45.712621 \nL 48.434099 45.71561 \nL 54.998805 45.748811 \nL 61.563511 45.719121 \nL 68.128217 45.720614 \nL 74.692923 45.719797 \nL 81.257629 45.719797 \nL 87.822335 45.72024 \nL 94.38704 45.720366 \nL 100.951746 45.720366 \nL 107.516452 45.720366 \nL 114.081158 45.720418 \nL 120.645864 45.721505 \nL 127.21057 69.696626 \n\" style=\"fill:none;stroke:#008000;stroke-linecap:square;stroke-width:1.5;\"/>\n   </g>\n   <g id=\"line2d_31\">\n    <path clip-path=\"url(#p3e41a8c4f9)\" d=\"M 28.739982 45.702136 \nL 35.304688 45.720376 \nL 41.869393 45.712621 \nL 48.434099 45.71561 \nL 54.998805 45.748811 \nL 61.563511 45.719121 \nL 68.128217 45.720614 \nL 74.692923 45.719797 \nL 81.257629 45.719797 \nL 87.822335 45.72024 \nL 94.38704 45.720366 \nL 100.951746 45.720366 \nL 107.516452 45.720366 \nL 114.081158 45.720418 \nL 120.645864 45.721505 \nL 127.21057 69.696626 \nL 133.775276 47.287153 \n\" style=\"fill:none;stroke:#008000;stroke-linecap:square;stroke-width:1.5;\"/>\n   </g>\n   <g id=\"line2d_32\">\n    <path clip-path=\"url(#p3e41a8c4f9)\" d=\"M 28.739982 45.702136 \nL 35.304688 45.720376 \nL 41.869393 45.712621 \nL 48.434099 45.71561 \nL 54.998805 45.748811 \nL 61.563511 45.719121 \nL 68.128217 45.720614 \nL 74.692923 45.719797 \nL 81.257629 45.719797 \nL 87.822335 45.72024 \nL 94.38704 45.720366 \nL 100.951746 45.720366 \nL 107.516452 45.720366 \nL 114.081158 45.720418 \nL 120.645864 45.721505 \nL 127.21057 69.696626 \nL 133.775276 47.287153 \nL 140.339982 61.575682 \n\" style=\"fill:none;stroke:#008000;stroke-linecap:square;stroke-width:1.5;\"/>\n   </g>\n   <g id=\"line2d_33\">\n    <path clip-path=\"url(#p3e41a8c4f9)\" d=\"M 28.739982 45.702136 \nL 35.304688 45.720376 \nL 41.869393 45.712621 \nL 48.434099 45.71561 \nL 54.998805 45.748811 \nL 61.563511 45.719121 \nL 68.128217 45.720614 \nL 74.692923 45.719797 \nL 81.257629 45.719797 \nL 87.822335 45.72024 \nL 94.38704 45.720366 \nL 100.951746 45.720366 \nL 107.516452 45.720366 \nL 114.081158 45.720418 \nL 120.645864 45.721505 \nL 127.21057 69.696626 \nL 133.775276 47.287153 \nL 140.339982 61.575682 \nL 146.904687 47.530843 \n\" style=\"fill:none;stroke:#008000;stroke-linecap:square;stroke-width:1.5;\"/>\n   </g>\n   <g id=\"line2d_34\">\n    <path clip-path=\"url(#p3e41a8c4f9)\" d=\"M 28.739982 45.702136 \nL 35.304688 45.720376 \nL 41.869393 45.712621 \nL 48.434099 45.71561 \nL 54.998805 45.748811 \nL 61.563511 45.719121 \nL 68.128217 45.720614 \nL 74.692923 45.719797 \nL 81.257629 45.719797 \nL 87.822335 45.72024 \nL 94.38704 45.720366 \nL 100.951746 45.720366 \nL 107.516452 45.720366 \nL 114.081158 45.720418 \nL 120.645864 45.721505 \nL 127.21057 69.696626 \nL 133.775276 47.287153 \nL 140.339982 61.575682 \nL 146.904687 47.530843 \nL 153.469393 47.546091 \n\" style=\"fill:none;stroke:#008000;stroke-linecap:square;stroke-width:1.5;\"/>\n   </g>\n   <g id=\"line2d_35\">\n    <path clip-path=\"url(#p3e41a8c4f9)\" d=\"M 28.739982 45.702136 \nL 35.304688 45.720376 \nL 41.869393 45.712621 \nL 48.434099 45.71561 \nL 54.998805 45.748811 \nL 61.563511 45.719121 \nL 68.128217 45.720614 \nL 74.692923 45.719797 \nL 81.257629 45.719797 \nL 87.822335 45.72024 \nL 94.38704 45.720366 \nL 100.951746 45.720366 \nL 107.516452 45.720366 \nL 114.081158 45.720418 \nL 120.645864 45.721505 \nL 127.21057 69.696626 \nL 133.775276 47.287153 \nL 140.339982 61.575682 \nL 146.904687 47.530843 \nL 153.469393 47.546091 \nL 160.034099 47.551212 \n\" style=\"fill:none;stroke:#008000;stroke-linecap:square;stroke-width:1.5;\"/>\n   </g>\n   <g id=\"line2d_36\">\n    <path clip-path=\"url(#p3e41a8c4f9)\" d=\"M 28.739982 45.702136 \nL 35.304688 45.720376 \nL 41.869393 45.712621 \nL 48.434099 45.71561 \nL 54.998805 45.748811 \nL 61.563511 45.719121 \nL 68.128217 45.720614 \nL 74.692923 45.719797 \nL 81.257629 45.719797 \nL 87.822335 45.72024 \nL 94.38704 45.720366 \nL 100.951746 45.720366 \nL 107.516452 45.720366 \nL 114.081158 45.720418 \nL 120.645864 45.721505 \nL 127.21057 69.696626 \nL 133.775276 47.287153 \nL 140.339982 61.575682 \nL 146.904687 47.530843 \nL 153.469393 47.546091 \nL 160.034099 47.551212 \nL 166.598805 65.653691 \n\" style=\"fill:none;stroke:#008000;stroke-linecap:square;stroke-width:1.5;\"/>\n   </g>\n   <g id=\"line2d_37\">\n    <path clip-path=\"url(#p3e41a8c4f9)\" d=\"M 28.739982 45.702136 \nL 35.304688 45.720376 \nL 41.869393 45.712621 \nL 48.434099 45.71561 \nL 54.998805 45.748811 \nL 61.563511 45.719121 \nL 68.128217 45.720614 \nL 74.692923 45.719797 \nL 81.257629 45.719797 \nL 87.822335 45.72024 \nL 94.38704 45.720366 \nL 100.951746 45.720366 \nL 107.516452 45.720366 \nL 114.081158 45.720418 \nL 120.645864 45.721505 \nL 127.21057 69.696626 \nL 133.775276 47.287153 \nL 140.339982 61.575682 \nL 146.904687 47.530843 \nL 153.469393 47.546091 \nL 160.034099 47.551212 \nL 166.598805 65.653691 \nL 173.163511 72.194753 \n\" style=\"fill:none;stroke:#008000;stroke-linecap:square;stroke-width:1.5;\"/>\n   </g>\n   <g id=\"line2d_38\">\n    <path clip-path=\"url(#p3e41a8c4f9)\" d=\"M 28.739982 45.702136 \nL 35.304688 45.720376 \nL 41.869393 45.712621 \nL 48.434099 45.71561 \nL 54.998805 45.748811 \nL 61.563511 45.719121 \nL 68.128217 45.720614 \nL 74.692923 45.719797 \nL 81.257629 45.719797 \nL 87.822335 45.72024 \nL 94.38704 45.720366 \nL 100.951746 45.720366 \nL 107.516452 45.720366 \nL 114.081158 45.720418 \nL 120.645864 45.721505 \nL 127.21057 69.696626 \nL 133.775276 47.287153 \nL 140.339982 61.575682 \nL 146.904687 47.530843 \nL 153.469393 47.546091 \nL 160.034099 47.551212 \nL 166.598805 65.653691 \nL 173.163511 72.194753 \nL 179.728217 69.338614 \n\" style=\"fill:none;stroke:#008000;stroke-linecap:square;stroke-width:1.5;\"/>\n   </g>\n   <g id=\"line2d_39\">\n    <path clip-path=\"url(#p3e41a8c4f9)\" d=\"M 28.739982 45.702136 \nL 35.304688 45.720376 \nL 41.869393 45.712621 \nL 48.434099 45.71561 \nL 54.998805 45.748811 \nL 61.563511 45.719121 \nL 68.128217 45.720614 \nL 74.692923 45.719797 \nL 81.257629 45.719797 \nL 87.822335 45.72024 \nL 94.38704 45.720366 \nL 100.951746 45.720366 \nL 107.516452 45.720366 \nL 114.081158 45.720418 \nL 120.645864 45.721505 \nL 127.21057 69.696626 \nL 133.775276 47.287153 \nL 140.339982 61.575682 \nL 146.904687 47.530843 \nL 153.469393 47.546091 \nL 160.034099 47.551212 \nL 166.598805 65.653691 \nL 173.163511 72.194753 \nL 179.728217 69.338614 \nL 186.292923 71.579917 \n\" style=\"fill:none;stroke:#008000;stroke-linecap:square;stroke-width:1.5;\"/>\n   </g>\n   <g id=\"line2d_40\">\n    <path clip-path=\"url(#p3e41a8c4f9)\" d=\"M 28.739982 45.702136 \nL 35.304688 45.720376 \nL 41.869393 45.712621 \nL 48.434099 45.71561 \nL 54.998805 45.748811 \nL 61.563511 45.719121 \nL 68.128217 45.720614 \nL 74.692923 45.719797 \nL 81.257629 45.719797 \nL 87.822335 45.72024 \nL 94.38704 45.720366 \nL 100.951746 45.720366 \nL 107.516452 45.720366 \nL 114.081158 45.720418 \nL 120.645864 45.721505 \nL 127.21057 69.696626 \nL 133.775276 47.287153 \nL 140.339982 61.575682 \nL 146.904687 47.530843 \nL 153.469393 47.546091 \nL 160.034099 47.551212 \nL 166.598805 65.653691 \nL 173.163511 72.194753 \nL 179.728217 69.338614 \nL 186.292923 71.579917 \nL 192.857629 71.867933 \n\" style=\"fill:none;stroke:#008000;stroke-linecap:square;stroke-width:1.5;\"/>\n   </g>\n   <g id=\"line2d_41\">\n    <path clip-path=\"url(#p3e41a8c4f9)\" d=\"M 28.739982 45.702136 \nL 35.304688 45.720376 \nL 41.869393 45.712621 \nL 48.434099 45.71561 \nL 54.998805 45.748811 \nL 61.563511 45.719121 \nL 68.128217 45.720614 \nL 74.692923 45.719797 \nL 81.257629 45.719797 \nL 87.822335 45.72024 \nL 94.38704 45.720366 \nL 100.951746 45.720366 \nL 107.516452 45.720366 \nL 114.081158 45.720418 \nL 120.645864 45.721505 \nL 127.21057 69.696626 \nL 133.775276 47.287153 \nL 140.339982 61.575682 \nL 146.904687 47.530843 \nL 153.469393 47.546091 \nL 160.034099 47.551212 \nL 166.598805 65.653691 \nL 173.163511 72.194753 \nL 179.728217 69.338614 \nL 186.292923 71.579917 \nL 192.857629 71.867933 \nL 199.422335 73.82637 \n\" style=\"fill:none;stroke:#008000;stroke-linecap:square;stroke-width:1.5;\"/>\n   </g>\n   <g id=\"line2d_42\">\n    <path clip-path=\"url(#p3e41a8c4f9)\" d=\"M 28.739982 45.702136 \nL 35.304688 45.720376 \nL 41.869393 45.712621 \nL 48.434099 45.71561 \nL 54.998805 45.748811 \nL 61.563511 45.719121 \nL 68.128217 45.720614 \nL 74.692923 45.719797 \nL 81.257629 45.719797 \nL 87.822335 45.72024 \nL 94.38704 45.720366 \nL 100.951746 45.720366 \nL 107.516452 45.720366 \nL 114.081158 45.720418 \nL 120.645864 45.721505 \nL 127.21057 69.696626 \nL 133.775276 47.287153 \nL 140.339982 61.575682 \nL 146.904687 47.530843 \nL 153.469393 47.546091 \nL 160.034099 47.551212 \nL 166.598805 65.653691 \nL 173.163511 72.194753 \nL 179.728217 69.338614 \nL 186.292923 71.579917 \nL 192.857629 71.867933 \nL 199.422335 73.82637 \nL 205.98704 74.768744 \n\" style=\"fill:none;stroke:#008000;stroke-linecap:square;stroke-width:1.5;\"/>\n   </g>\n   <g id=\"line2d_43\">\n    <path clip-path=\"url(#p3e41a8c4f9)\" d=\"M 28.739982 45.702136 \nL 35.304688 45.720376 \nL 41.869393 45.712621 \nL 48.434099 45.71561 \nL 54.998805 45.748811 \nL 61.563511 45.719121 \nL 68.128217 45.720614 \nL 74.692923 45.719797 \nL 81.257629 45.719797 \nL 87.822335 45.72024 \nL 94.38704 45.720366 \nL 100.951746 45.720366 \nL 107.516452 45.720366 \nL 114.081158 45.720418 \nL 120.645864 45.721505 \nL 127.21057 69.696626 \nL 133.775276 47.287153 \nL 140.339982 61.575682 \nL 146.904687 47.530843 \nL 153.469393 47.546091 \nL 160.034099 47.551212 \nL 166.598805 65.653691 \nL 173.163511 72.194753 \nL 179.728217 69.338614 \nL 186.292923 71.579917 \nL 192.857629 71.867933 \nL 199.422335 73.82637 \nL 205.98704 74.768744 \nL 212.551746 76.238975 \n\" style=\"fill:none;stroke:#008000;stroke-linecap:square;stroke-width:1.5;\"/>\n   </g>\n   <g id=\"line2d_44\">\n    <path clip-path=\"url(#p3e41a8c4f9)\" d=\"M 28.739982 45.702136 \nL 35.304688 45.720376 \nL 41.869393 45.712621 \nL 48.434099 45.71561 \nL 54.998805 45.748811 \nL 61.563511 45.719121 \nL 68.128217 45.720614 \nL 74.692923 45.719797 \nL 81.257629 45.719797 \nL 87.822335 45.72024 \nL 94.38704 45.720366 \nL 100.951746 45.720366 \nL 107.516452 45.720366 \nL 114.081158 45.720418 \nL 120.645864 45.721505 \nL 127.21057 69.696626 \nL 133.775276 47.287153 \nL 140.339982 61.575682 \nL 146.904687 47.530843 \nL 153.469393 47.546091 \nL 160.034099 47.551212 \nL 166.598805 65.653691 \nL 173.163511 72.194753 \nL 179.728217 69.338614 \nL 186.292923 71.579917 \nL 192.857629 71.867933 \nL 199.422335 73.82637 \nL 205.98704 74.768744 \nL 212.551746 76.238975 \nL 219.116452 79.849688 \n\" style=\"fill:none;stroke:#008000;stroke-linecap:square;stroke-width:1.5;\"/>\n   </g>\n   <g id=\"line2d_45\">\n    <path clip-path=\"url(#p3e41a8c4f9)\" d=\"M 28.739982 45.702136 \nL 35.304688 45.720376 \nL 41.869393 45.712621 \nL 48.434099 45.71561 \nL 54.998805 45.748811 \nL 61.563511 45.719121 \nL 68.128217 45.720614 \nL 74.692923 45.719797 \nL 81.257629 45.719797 \nL 87.822335 45.72024 \nL 94.38704 45.720366 \nL 100.951746 45.720366 \nL 107.516452 45.720366 \nL 114.081158 45.720418 \nL 120.645864 45.721505 \nL 127.21057 69.696626 \nL 133.775276 47.287153 \nL 140.339982 61.575682 \nL 146.904687 47.530843 \nL 153.469393 47.546091 \nL 160.034099 47.551212 \nL 166.598805 65.653691 \nL 173.163511 72.194753 \nL 179.728217 69.338614 \nL 186.292923 71.579917 \nL 192.857629 71.867933 \nL 199.422335 73.82637 \nL 205.98704 74.768744 \nL 212.551746 76.238975 \nL 219.116452 79.849688 \nL 225.681158 82.178132 \n\" style=\"fill:none;stroke:#008000;stroke-linecap:square;stroke-width:1.5;\"/>\n   </g>\n   <g id=\"line2d_46\">\n    <path clip-path=\"url(#p3e41a8c4f9)\" d=\"M 28.739982 45.702136 \nL 35.304688 45.720376 \nL 41.869393 45.712621 \nL 48.434099 45.71561 \nL 54.998805 45.748811 \nL 61.563511 45.719121 \nL 68.128217 45.720614 \nL 74.692923 45.719797 \nL 81.257629 45.719797 \nL 87.822335 45.72024 \nL 94.38704 45.720366 \nL 100.951746 45.720366 \nL 107.516452 45.720366 \nL 114.081158 45.720418 \nL 120.645864 45.721505 \nL 127.21057 69.696626 \nL 133.775276 47.287153 \nL 140.339982 61.575682 \nL 146.904687 47.530843 \nL 153.469393 47.546091 \nL 160.034099 47.551212 \nL 166.598805 65.653691 \nL 173.163511 72.194753 \nL 179.728217 69.338614 \nL 186.292923 71.579917 \nL 192.857629 71.867933 \nL 199.422335 73.82637 \nL 205.98704 74.768744 \nL 212.551746 76.238975 \nL 219.116452 79.849688 \nL 225.681158 82.178132 \nL 232.245864 82.251883 \n\" style=\"fill:none;stroke:#008000;stroke-linecap:square;stroke-width:1.5;\"/>\n   </g>\n   <g id=\"line2d_47\">\n    <path clip-path=\"url(#p3e41a8c4f9)\" d=\"M 28.739982 45.702136 \nL 35.304688 45.720376 \nL 41.869393 45.712621 \nL 48.434099 45.71561 \nL 54.998805 45.748811 \nL 61.563511 45.719121 \nL 68.128217 45.720614 \nL 74.692923 45.719797 \nL 81.257629 45.719797 \nL 87.822335 45.72024 \nL 94.38704 45.720366 \nL 100.951746 45.720366 \nL 107.516452 45.720366 \nL 114.081158 45.720418 \nL 120.645864 45.721505 \nL 127.21057 69.696626 \nL 133.775276 47.287153 \nL 140.339982 61.575682 \nL 146.904687 47.530843 \nL 153.469393 47.546091 \nL 160.034099 47.551212 \nL 166.598805 65.653691 \nL 173.163511 72.194753 \nL 179.728217 69.338614 \nL 186.292923 71.579917 \nL 192.857629 71.867933 \nL 199.422335 73.82637 \nL 205.98704 74.768744 \nL 212.551746 76.238975 \nL 219.116452 79.849688 \nL 225.681158 82.178132 \nL 232.245864 82.251883 \nL 238.81057 86.179739 \n\" style=\"fill:none;stroke:#008000;stroke-linecap:square;stroke-width:1.5;\"/>\n   </g>\n   <g id=\"line2d_48\">\n    <path clip-path=\"url(#p3e41a8c4f9)\" d=\"M 28.739982 45.702136 \nL 35.304688 45.720376 \nL 41.869393 45.712621 \nL 48.434099 45.71561 \nL 54.998805 45.748811 \nL 61.563511 45.719121 \nL 68.128217 45.720614 \nL 74.692923 45.719797 \nL 81.257629 45.719797 \nL 87.822335 45.72024 \nL 94.38704 45.720366 \nL 100.951746 45.720366 \nL 107.516452 45.720366 \nL 114.081158 45.720418 \nL 120.645864 45.721505 \nL 127.21057 69.696626 \nL 133.775276 47.287153 \nL 140.339982 61.575682 \nL 146.904687 47.530843 \nL 153.469393 47.546091 \nL 160.034099 47.551212 \nL 166.598805 65.653691 \nL 173.163511 72.194753 \nL 179.728217 69.338614 \nL 186.292923 71.579917 \nL 192.857629 71.867933 \nL 199.422335 73.82637 \nL 205.98704 74.768744 \nL 212.551746 76.238975 \nL 219.116452 79.849688 \nL 225.681158 82.178132 \nL 232.245864 82.251883 \nL 238.81057 86.179739 \nL 245.375276 89.538807 \n\" style=\"fill:none;stroke:#008000;stroke-linecap:square;stroke-width:1.5;\"/>\n   </g>\n   <g id=\"line2d_49\">\n    <path clip-path=\"url(#p3e41a8c4f9)\" d=\"M 28.739982 45.702136 \nL 35.304688 45.720376 \nL 41.869393 45.712621 \nL 48.434099 45.71561 \nL 54.998805 45.748811 \nL 61.563511 45.719121 \nL 68.128217 45.720614 \nL 74.692923 45.719797 \nL 81.257629 45.719797 \nL 87.822335 45.72024 \nL 94.38704 45.720366 \nL 100.951746 45.720366 \nL 107.516452 45.720366 \nL 114.081158 45.720418 \nL 120.645864 45.721505 \nL 127.21057 69.696626 \nL 133.775276 47.287153 \nL 140.339982 61.575682 \nL 146.904687 47.530843 \nL 153.469393 47.546091 \nL 160.034099 47.551212 \nL 166.598805 65.653691 \nL 173.163511 72.194753 \nL 179.728217 69.338614 \nL 186.292923 71.579917 \nL 192.857629 71.867933 \nL 199.422335 73.82637 \nL 205.98704 74.768744 \nL 212.551746 76.238975 \nL 219.116452 79.849688 \nL 225.681158 82.178132 \nL 232.245864 82.251883 \nL 238.81057 86.179739 \nL 245.375276 89.538807 \nL 251.939982 89.721744 \n\" style=\"fill:none;stroke:#008000;stroke-linecap:square;stroke-width:1.5;\"/>\n   </g>\n   <g id=\"line2d_50\">\n    <path clip-path=\"url(#p3e41a8c4f9)\" d=\"M 28.739982 45.702136 \nL 35.304688 45.720376 \nL 41.869393 45.712621 \nL 48.434099 45.71561 \nL 54.998805 45.748811 \nL 61.563511 45.719121 \nL 68.128217 45.720614 \nL 74.692923 45.719797 \nL 81.257629 45.719797 \nL 87.822335 45.72024 \nL 94.38704 45.720366 \nL 100.951746 45.720366 \nL 107.516452 45.720366 \nL 114.081158 45.720418 \nL 120.645864 45.721505 \nL 127.21057 69.696626 \nL 133.775276 47.287153 \nL 140.339982 61.575682 \nL 146.904687 47.530843 \nL 153.469393 47.546091 \nL 160.034099 47.551212 \nL 166.598805 65.653691 \nL 173.163511 72.194753 \nL 179.728217 69.338614 \nL 186.292923 71.579917 \nL 192.857629 71.867933 \nL 199.422335 73.82637 \nL 205.98704 74.768744 \nL 212.551746 76.238975 \nL 219.116452 79.849688 \nL 225.681158 82.178132 \nL 232.245864 82.251883 \nL 238.81057 86.179739 \nL 245.375276 89.538807 \nL 251.939982 89.721744 \nL 258.504687 90.199276 \n\" style=\"fill:none;stroke:#008000;stroke-linecap:square;stroke-width:1.5;\"/>\n   </g>\n   <g id=\"line2d_51\">\n    <path clip-path=\"url(#p3e41a8c4f9)\" d=\"M 28.739982 45.702136 \nL 35.304688 45.720376 \nL 41.869393 45.712621 \nL 48.434099 45.71561 \nL 54.998805 45.748811 \nL 61.563511 45.719121 \nL 68.128217 45.720614 \nL 74.692923 45.719797 \nL 81.257629 45.719797 \nL 87.822335 45.72024 \nL 94.38704 45.720366 \nL 100.951746 45.720366 \nL 107.516452 45.720366 \nL 114.081158 45.720418 \nL 120.645864 45.721505 \nL 127.21057 69.696626 \nL 133.775276 47.287153 \nL 140.339982 61.575682 \nL 146.904687 47.530843 \nL 153.469393 47.546091 \nL 160.034099 47.551212 \nL 166.598805 65.653691 \nL 173.163511 72.194753 \nL 179.728217 69.338614 \nL 186.292923 71.579917 \nL 192.857629 71.867933 \nL 199.422335 73.82637 \nL 205.98704 74.768744 \nL 212.551746 76.238975 \nL 219.116452 79.849688 \nL 225.681158 82.178132 \nL 232.245864 82.251883 \nL 238.81057 86.179739 \nL 245.375276 89.538807 \nL 251.939982 89.721744 \nL 258.504687 90.199276 \nL 265.069393 90.646041 \n\" style=\"fill:none;stroke:#008000;stroke-linecap:square;stroke-width:1.5;\"/>\n   </g>\n   <g id=\"line2d_52\">\n    <path clip-path=\"url(#p3e41a8c4f9)\" d=\"M 28.739982 45.702136 \nL 35.304688 45.720376 \nL 41.869393 45.712621 \nL 48.434099 45.71561 \nL 54.998805 45.748811 \nL 61.563511 45.719121 \nL 68.128217 45.720614 \nL 74.692923 45.719797 \nL 81.257629 45.719797 \nL 87.822335 45.72024 \nL 94.38704 45.720366 \nL 100.951746 45.720366 \nL 107.516452 45.720366 \nL 114.081158 45.720418 \nL 120.645864 45.721505 \nL 127.21057 69.696626 \nL 133.775276 47.287153 \nL 140.339982 61.575682 \nL 146.904687 47.530843 \nL 153.469393 47.546091 \nL 160.034099 47.551212 \nL 166.598805 65.653691 \nL 173.163511 72.194753 \nL 179.728217 69.338614 \nL 186.292923 71.579917 \nL 192.857629 71.867933 \nL 199.422335 73.82637 \nL 205.98704 74.768744 \nL 212.551746 76.238975 \nL 219.116452 79.849688 \nL 225.681158 82.178132 \nL 232.245864 82.251883 \nL 238.81057 86.179739 \nL 245.375276 89.538807 \nL 251.939982 89.721744 \nL 258.504687 90.199276 \nL 265.069393 90.646041 \nL 271.634099 92.570969 \n\" style=\"fill:none;stroke:#008000;stroke-linecap:square;stroke-width:1.5;\"/>\n   </g>\n   <g id=\"line2d_53\">\n    <path clip-path=\"url(#p3e41a8c4f9)\" d=\"M 28.739982 45.702136 \nL 35.304688 45.720376 \nL 41.869393 45.712621 \nL 48.434099 45.71561 \nL 54.998805 45.748811 \nL 61.563511 45.719121 \nL 68.128217 45.720614 \nL 74.692923 45.719797 \nL 81.257629 45.719797 \nL 87.822335 45.72024 \nL 94.38704 45.720366 \nL 100.951746 45.720366 \nL 107.516452 45.720366 \nL 114.081158 45.720418 \nL 120.645864 45.721505 \nL 127.21057 69.696626 \nL 133.775276 47.287153 \nL 140.339982 61.575682 \nL 146.904687 47.530843 \nL 153.469393 47.546091 \nL 160.034099 47.551212 \nL 166.598805 65.653691 \nL 173.163511 72.194753 \nL 179.728217 69.338614 \nL 186.292923 71.579917 \nL 192.857629 71.867933 \nL 199.422335 73.82637 \nL 205.98704 74.768744 \nL 212.551746 76.238975 \nL 219.116452 79.849688 \nL 225.681158 82.178132 \nL 232.245864 82.251883 \nL 238.81057 86.179739 \nL 245.375276 89.538807 \nL 251.939982 89.721744 \nL 258.504687 90.199276 \nL 265.069393 90.646041 \nL 271.634099 92.570969 \nL 278.198805 92.570969 \n\" style=\"fill:none;stroke:#008000;stroke-linecap:square;stroke-width:1.5;\"/>\n   </g>\n   <g id=\"line2d_54\">\n    <path clip-path=\"url(#p3e41a8c4f9)\" d=\"M 28.739982 45.702136 \nL 35.304688 45.720376 \nL 41.869393 45.712621 \nL 48.434099 45.71561 \nL 54.998805 45.748811 \nL 61.563511 45.719121 \nL 68.128217 45.720614 \nL 74.692923 45.719797 \nL 81.257629 45.719797 \nL 87.822335 45.72024 \nL 94.38704 45.720366 \nL 100.951746 45.720366 \nL 107.516452 45.720366 \nL 114.081158 45.720418 \nL 120.645864 45.721505 \nL 127.21057 69.696626 \nL 133.775276 47.287153 \nL 140.339982 61.575682 \nL 146.904687 47.530843 \nL 153.469393 47.546091 \nL 160.034099 47.551212 \nL 166.598805 65.653691 \nL 173.163511 72.194753 \nL 179.728217 69.338614 \nL 186.292923 71.579917 \nL 192.857629 71.867933 \nL 199.422335 73.82637 \nL 205.98704 74.768744 \nL 212.551746 76.238975 \nL 219.116452 79.849688 \nL 225.681158 82.178132 \nL 232.245864 82.251883 \nL 238.81057 86.179739 \nL 245.375276 89.538807 \nL 251.939982 89.721744 \nL 258.504687 90.199276 \nL 265.069393 90.646041 \nL 271.634099 92.570969 \nL 278.198805 92.570969 \nL 284.763511 93.554815 \n\" style=\"fill:none;stroke:#008000;stroke-linecap:square;stroke-width:1.5;\"/>\n   </g>\n   <g id=\"line2d_55\">\n    <path clip-path=\"url(#p3e41a8c4f9)\" d=\"M 28.739982 45.702136 \nL 35.304688 45.720376 \nL 41.869393 45.712621 \nL 48.434099 45.71561 \nL 54.998805 45.748811 \nL 61.563511 45.719121 \nL 68.128217 45.720614 \nL 74.692923 45.719797 \nL 81.257629 45.719797 \nL 87.822335 45.72024 \nL 94.38704 45.720366 \nL 100.951746 45.720366 \nL 107.516452 45.720366 \nL 114.081158 45.720418 \nL 120.645864 45.721505 \nL 127.21057 69.696626 \nL 133.775276 47.287153 \nL 140.339982 61.575682 \nL 146.904687 47.530843 \nL 153.469393 47.546091 \nL 160.034099 47.551212 \nL 166.598805 65.653691 \nL 173.163511 72.194753 \nL 179.728217 69.338614 \nL 186.292923 71.579917 \nL 192.857629 71.867933 \nL 199.422335 73.82637 \nL 205.98704 74.768744 \nL 212.551746 76.238975 \nL 219.116452 79.849688 \nL 225.681158 82.178132 \nL 232.245864 82.251883 \nL 238.81057 86.179739 \nL 245.375276 89.538807 \nL 251.939982 89.721744 \nL 258.504687 90.199276 \nL 265.069393 90.646041 \nL 271.634099 92.570969 \nL 278.198805 92.570969 \nL 284.763511 93.554815 \nL 291.328217 93.811643 \n\" style=\"fill:none;stroke:#008000;stroke-linecap:square;stroke-width:1.5;\"/>\n   </g>\n   <g id=\"line2d_56\">\n    <path clip-path=\"url(#p3e41a8c4f9)\" d=\"M 28.739982 45.702136 \nL 35.304688 45.720376 \nL 41.869393 45.712621 \nL 48.434099 45.71561 \nL 54.998805 45.748811 \nL 61.563511 45.719121 \nL 68.128217 45.720614 \nL 74.692923 45.719797 \nL 81.257629 45.719797 \nL 87.822335 45.72024 \nL 94.38704 45.720366 \nL 100.951746 45.720366 \nL 107.516452 45.720366 \nL 114.081158 45.720418 \nL 120.645864 45.721505 \nL 127.21057 69.696626 \nL 133.775276 47.287153 \nL 140.339982 61.575682 \nL 146.904687 47.530843 \nL 153.469393 47.546091 \nL 160.034099 47.551212 \nL 166.598805 65.653691 \nL 173.163511 72.194753 \nL 179.728217 69.338614 \nL 186.292923 71.579917 \nL 192.857629 71.867933 \nL 199.422335 73.82637 \nL 205.98704 74.768744 \nL 212.551746 76.238975 \nL 219.116452 79.849688 \nL 225.681158 82.178132 \nL 232.245864 82.251883 \nL 238.81057 86.179739 \nL 245.375276 89.538807 \nL 251.939982 89.721744 \nL 258.504687 90.199276 \nL 265.069393 90.646041 \nL 271.634099 92.570969 \nL 278.198805 92.570969 \nL 284.763511 93.554815 \nL 291.328217 93.811643 \nL 297.892923 94.704178 \n\" style=\"fill:none;stroke:#008000;stroke-linecap:square;stroke-width:1.5;\"/>\n   </g>\n   <g id=\"line2d_57\">\n    <path clip-path=\"url(#p3e41a8c4f9)\" d=\"M 28.739982 45.702136 \nL 35.304688 45.720376 \nL 41.869393 45.712621 \nL 48.434099 45.71561 \nL 54.998805 45.748811 \nL 61.563511 45.719121 \nL 68.128217 45.720614 \nL 74.692923 45.719797 \nL 81.257629 45.719797 \nL 87.822335 45.72024 \nL 94.38704 45.720366 \nL 100.951746 45.720366 \nL 107.516452 45.720366 \nL 114.081158 45.720418 \nL 120.645864 45.721505 \nL 127.21057 69.696626 \nL 133.775276 47.287153 \nL 140.339982 61.575682 \nL 146.904687 47.530843 \nL 153.469393 47.546091 \nL 160.034099 47.551212 \nL 166.598805 65.653691 \nL 173.163511 72.194753 \nL 179.728217 69.338614 \nL 186.292923 71.579917 \nL 192.857629 71.867933 \nL 199.422335 73.82637 \nL 205.98704 74.768744 \nL 212.551746 76.238975 \nL 219.116452 79.849688 \nL 225.681158 82.178132 \nL 232.245864 82.251883 \nL 238.81057 86.179739 \nL 245.375276 89.538807 \nL 251.939982 89.721744 \nL 258.504687 90.199276 \nL 265.069393 90.646041 \nL 271.634099 92.570969 \nL 278.198805 92.570969 \nL 284.763511 93.554815 \nL 291.328217 93.811643 \nL 297.892923 94.704178 \nL 304.457629 95.723551 \n\" style=\"fill:none;stroke:#008000;stroke-linecap:square;stroke-width:1.5;\"/>\n   </g>\n   <g id=\"line2d_58\">\n    <path clip-path=\"url(#p3e41a8c4f9)\" d=\"M 28.739982 45.702136 \nL 35.304688 45.720376 \nL 41.869393 45.712621 \nL 48.434099 45.71561 \nL 54.998805 45.748811 \nL 61.563511 45.719121 \nL 68.128217 45.720614 \nL 74.692923 45.719797 \nL 81.257629 45.719797 \nL 87.822335 45.72024 \nL 94.38704 45.720366 \nL 100.951746 45.720366 \nL 107.516452 45.720366 \nL 114.081158 45.720418 \nL 120.645864 45.721505 \nL 127.21057 69.696626 \nL 133.775276 47.287153 \nL 140.339982 61.575682 \nL 146.904687 47.530843 \nL 153.469393 47.546091 \nL 160.034099 47.551212 \nL 166.598805 65.653691 \nL 173.163511 72.194753 \nL 179.728217 69.338614 \nL 186.292923 71.579917 \nL 192.857629 71.867933 \nL 199.422335 73.82637 \nL 205.98704 74.768744 \nL 212.551746 76.238975 \nL 219.116452 79.849688 \nL 225.681158 82.178132 \nL 232.245864 82.251883 \nL 238.81057 86.179739 \nL 245.375276 89.538807 \nL 251.939982 89.721744 \nL 258.504687 90.199276 \nL 265.069393 90.646041 \nL 271.634099 92.570969 \nL 278.198805 92.570969 \nL 284.763511 93.554815 \nL 291.328217 93.811643 \nL 297.892923 94.704178 \nL 304.457629 95.723551 \nL 311.022335 97.735206 \n\" style=\"fill:none;stroke:#008000;stroke-linecap:square;stroke-width:1.5;\"/>\n   </g>\n   <g id=\"line2d_59\">\n    <path clip-path=\"url(#p3e41a8c4f9)\" d=\"M 28.739982 45.702136 \nL 35.304688 45.720376 \nL 41.869393 45.712621 \nL 48.434099 45.71561 \nL 54.998805 45.748811 \nL 61.563511 45.719121 \nL 68.128217 45.720614 \nL 74.692923 45.719797 \nL 81.257629 45.719797 \nL 87.822335 45.72024 \nL 94.38704 45.720366 \nL 100.951746 45.720366 \nL 107.516452 45.720366 \nL 114.081158 45.720418 \nL 120.645864 45.721505 \nL 127.21057 69.696626 \nL 133.775276 47.287153 \nL 140.339982 61.575682 \nL 146.904687 47.530843 \nL 153.469393 47.546091 \nL 160.034099 47.551212 \nL 166.598805 65.653691 \nL 173.163511 72.194753 \nL 179.728217 69.338614 \nL 186.292923 71.579917 \nL 192.857629 71.867933 \nL 199.422335 73.82637 \nL 205.98704 74.768744 \nL 212.551746 76.238975 \nL 219.116452 79.849688 \nL 225.681158 82.178132 \nL 232.245864 82.251883 \nL 238.81057 86.179739 \nL 245.375276 89.538807 \nL 251.939982 89.721744 \nL 258.504687 90.199276 \nL 265.069393 90.646041 \nL 271.634099 92.570969 \nL 278.198805 92.570969 \nL 284.763511 93.554815 \nL 291.328217 93.811643 \nL 297.892923 94.704178 \nL 304.457629 95.723551 \nL 311.022335 97.735206 \nL 317.58704 105.200527 \n\" style=\"fill:none;stroke:#008000;stroke-linecap:square;stroke-width:1.5;\"/>\n   </g>\n   <g id=\"line2d_60\">\n    <path clip-path=\"url(#p3e41a8c4f9)\" d=\"M 28.739982 45.702136 \nL 35.304688 45.720376 \nL 41.869393 45.712621 \nL 48.434099 45.71561 \nL 54.998805 45.748811 \nL 61.563511 45.719121 \nL 68.128217 45.720614 \nL 74.692923 45.719797 \nL 81.257629 45.719797 \nL 87.822335 45.72024 \nL 94.38704 45.720366 \nL 100.951746 45.720366 \nL 107.516452 45.720366 \nL 114.081158 45.720418 \nL 120.645864 45.721505 \nL 127.21057 69.696626 \nL 133.775276 47.287153 \nL 140.339982 61.575682 \nL 146.904687 47.530843 \nL 153.469393 47.546091 \nL 160.034099 47.551212 \nL 166.598805 65.653691 \nL 173.163511 72.194753 \nL 179.728217 69.338614 \nL 186.292923 71.579917 \nL 192.857629 71.867933 \nL 199.422335 73.82637 \nL 205.98704 74.768744 \nL 212.551746 76.238975 \nL 219.116452 79.849688 \nL 225.681158 82.178132 \nL 232.245864 82.251883 \nL 238.81057 86.179739 \nL 245.375276 89.538807 \nL 251.939982 89.721744 \nL 258.504687 90.199276 \nL 265.069393 90.646041 \nL 271.634099 92.570969 \nL 278.198805 92.570969 \nL 284.763511 93.554815 \nL 291.328217 93.811643 \nL 297.892923 94.704178 \nL 304.457629 95.723551 \nL 311.022335 97.735206 \nL 317.58704 105.200527 \nL 324.151746 243.374864 \n\" style=\"fill:none;stroke:#008000;stroke-linecap:square;stroke-width:1.5;\"/>\n   </g>\n   <g id=\"line2d_61\">\n    <path clip-path=\"url(#p3e41a8c4f9)\" d=\"M 28.739982 45.702136 \nL 35.304688 45.720376 \nL 41.869393 45.712621 \nL 48.434099 45.71561 \nL 54.998805 45.748811 \nL 61.563511 45.719121 \nL 68.128217 45.720614 \nL 74.692923 45.719797 \nL 81.257629 45.719797 \nL 87.822335 45.72024 \nL 94.38704 45.720366 \nL 100.951746 45.720366 \nL 107.516452 45.720366 \nL 114.081158 45.720418 \nL 120.645864 45.721505 \nL 127.21057 69.696626 \nL 133.775276 47.287153 \nL 140.339982 61.575682 \nL 146.904687 47.530843 \nL 153.469393 47.546091 \nL 160.034099 47.551212 \nL 166.598805 65.653691 \nL 173.163511 72.194753 \nL 179.728217 69.338614 \nL 186.292923 71.579917 \nL 192.857629 71.867933 \nL 199.422335 73.82637 \nL 205.98704 74.768744 \nL 212.551746 76.238975 \nL 219.116452 79.849688 \nL 225.681158 82.178132 \nL 232.245864 82.251883 \nL 238.81057 86.179739 \nL 245.375276 89.538807 \nL 251.939982 89.721744 \nL 258.504687 90.199276 \nL 265.069393 90.646041 \nL 271.634099 92.570969 \nL 278.198805 92.570969 \nL 284.763511 93.554815 \nL 291.328217 93.811643 \nL 297.892923 94.704178 \nL 304.457629 95.723551 \nL 311.022335 97.735206 \nL 317.58704 105.200527 \nL 324.151746 243.374864 \n\" style=\"fill:none;stroke:#008000;stroke-linecap:square;stroke-width:1.5;\"/>\n   </g>\n   <g id=\"line2d_62\">\n    <path clip-path=\"url(#p3e41a8c4f9)\" d=\"M 28.739982 45.702136 \nL 35.304688 45.720376 \nL 41.869393 45.712621 \nL 48.434099 45.71561 \nL 54.998805 45.748811 \nL 61.563511 45.719121 \nL 68.128217 45.720614 \nL 74.692923 45.719797 \nL 81.257629 45.719797 \nL 87.822335 45.72024 \nL 94.38704 45.720366 \nL 100.951746 45.720366 \nL 107.516452 45.720366 \nL 114.081158 45.720418 \nL 120.645864 45.721505 \nL 127.21057 69.696626 \nL 133.775276 47.287153 \nL 140.339982 61.575682 \nL 146.904687 47.530843 \nL 153.469393 47.546091 \nL 160.034099 47.551212 \nL 166.598805 65.653691 \nL 173.163511 72.194753 \nL 179.728217 69.338614 \nL 186.292923 71.579917 \nL 192.857629 71.867933 \nL 199.422335 73.82637 \nL 205.98704 74.768744 \nL 212.551746 76.238975 \nL 219.116452 79.849688 \nL 225.681158 82.178132 \nL 232.245864 82.251883 \nL 238.81057 86.179739 \nL 245.375276 89.538807 \nL 251.939982 89.721744 \nL 258.504687 90.199276 \nL 265.069393 90.646041 \nL 271.634099 92.570969 \nL 278.198805 92.570969 \nL 284.763511 93.554815 \nL 291.328217 93.811643 \nL 297.892923 94.704178 \nL 304.457629 95.723551 \nL 311.022335 97.735206 \nL 317.58704 105.200527 \nL 324.151746 243.374864 \nM 337.281158 76.221323 \n\" style=\"fill:none;stroke:#008000;stroke-linecap:square;stroke-width:1.5;\"/>\n   </g>\n   <g id=\"line2d_63\">\n    <path clip-path=\"url(#p3e41a8c4f9)\" d=\"M 28.739982 45.702136 \nL 35.304688 45.720376 \nL 41.869393 45.712621 \nL 48.434099 45.71561 \nL 54.998805 45.748811 \nL 61.563511 45.719121 \nL 68.128217 45.720614 \nL 74.692923 45.719797 \nL 81.257629 45.719797 \nL 87.822335 45.72024 \nL 94.38704 45.720366 \nL 100.951746 45.720366 \nL 107.516452 45.720366 \nL 114.081158 45.720418 \nL 120.645864 45.721505 \nL 127.21057 69.696626 \nL 133.775276 47.287153 \nL 140.339982 61.575682 \nL 146.904687 47.530843 \nL 153.469393 47.546091 \nL 160.034099 47.551212 \nL 166.598805 65.653691 \nL 173.163511 72.194753 \nL 179.728217 69.338614 \nL 186.292923 71.579917 \nL 192.857629 71.867933 \nL 199.422335 73.82637 \nL 205.98704 74.768744 \nL 212.551746 76.238975 \nL 219.116452 79.849688 \nL 225.681158 82.178132 \nL 232.245864 82.251883 \nL 238.81057 86.179739 \nL 245.375276 89.538807 \nL 251.939982 89.721744 \nL 258.504687 90.199276 \nL 265.069393 90.646041 \nL 271.634099 92.570969 \nL 278.198805 92.570969 \nL 284.763511 93.554815 \nL 291.328217 93.811643 \nL 297.892923 94.704178 \nL 304.457629 95.723551 \nL 311.022335 97.735206 \nL 317.58704 105.200527 \nL 324.151746 243.374864 \nM 337.281158 76.221323 \n\" style=\"fill:none;stroke:#008000;stroke-linecap:square;stroke-width:1.5;\"/>\n   </g>\n   <g id=\"line2d_64\">\n    <path clip-path=\"url(#p3e41a8c4f9)\" d=\"M 28.739982 45.702136 \nL 35.304688 45.720376 \nL 41.869393 45.712621 \nL 48.434099 45.71561 \nL 54.998805 45.748811 \nL 61.563511 45.719121 \nL 68.128217 45.720614 \nL 74.692923 45.719797 \nL 81.257629 45.719797 \nL 87.822335 45.72024 \nL 94.38704 45.720366 \nL 100.951746 45.720366 \nL 107.516452 45.720366 \nL 114.081158 45.720418 \nL 120.645864 45.721505 \nL 127.21057 69.696626 \nL 133.775276 47.287153 \nL 140.339982 61.575682 \nL 146.904687 47.530843 \nL 153.469393 47.546091 \nL 160.034099 47.551212 \nL 166.598805 65.653691 \nL 173.163511 72.194753 \nL 179.728217 69.338614 \nL 186.292923 71.579917 \nL 192.857629 71.867933 \nL 199.422335 73.82637 \nL 205.98704 74.768744 \nL 212.551746 76.238975 \nL 219.116452 79.849688 \nL 225.681158 82.178132 \nL 232.245864 82.251883 \nL 238.81057 86.179739 \nL 245.375276 89.538807 \nL 251.939982 89.721744 \nL 258.504687 90.199276 \nL 265.069393 90.646041 \nL 271.634099 92.570969 \nL 278.198805 92.570969 \nL 284.763511 93.554815 \nL 291.328217 93.811643 \nL 297.892923 94.704178 \nL 304.457629 95.723551 \nL 311.022335 97.735206 \nL 317.58704 105.200527 \nL 324.151746 243.374864 \nM 337.281158 76.221323 \nM 350.41057 241.591426 \n\" style=\"fill:none;stroke:#008000;stroke-linecap:square;stroke-width:1.5;\"/>\n   </g>\n   <g id=\"line2d_65\">\n    <path clip-path=\"url(#p3e41a8c4f9)\" d=\"M 28.739982 45.702136 \nL 35.304688 45.720376 \nL 41.869393 45.712621 \nL 48.434099 45.71561 \nL 54.998805 45.748811 \nL 61.563511 45.719121 \nL 68.128217 45.720614 \nL 74.692923 45.719797 \nL 81.257629 45.719797 \nL 87.822335 45.72024 \nL 94.38704 45.720366 \nL 100.951746 45.720366 \nL 107.516452 45.720366 \nL 114.081158 45.720418 \nL 120.645864 45.721505 \nL 127.21057 69.696626 \nL 133.775276 47.287153 \nL 140.339982 61.575682 \nL 146.904687 47.530843 \nL 153.469393 47.546091 \nL 160.034099 47.551212 \nL 166.598805 65.653691 \nL 173.163511 72.194753 \nL 179.728217 69.338614 \nL 186.292923 71.579917 \nL 192.857629 71.867933 \nL 199.422335 73.82637 \nL 205.98704 74.768744 \nL 212.551746 76.238975 \nL 219.116452 79.849688 \nL 225.681158 82.178132 \nL 232.245864 82.251883 \nL 238.81057 86.179739 \nL 245.375276 89.538807 \nL 251.939982 89.721744 \nL 258.504687 90.199276 \nL 265.069393 90.646041 \nL 271.634099 92.570969 \nL 278.198805 92.570969 \nL 284.763511 93.554815 \nL 291.328217 93.811643 \nL 297.892923 94.704178 \nL 304.457629 95.723551 \nL 311.022335 97.735206 \nL 317.58704 105.200527 \nL 324.151746 243.374864 \nM 337.281158 76.221323 \nM 350.41057 241.591426 \n\" style=\"fill:none;stroke:#008000;stroke-linecap:square;stroke-width:1.5;\"/>\n   </g>\n   <g id=\"line2d_66\">\n    <path clip-path=\"url(#p3e41a8c4f9)\" d=\"M 28.739982 45.702136 \nL 35.304688 45.720376 \nL 41.869393 45.712621 \nL 48.434099 45.71561 \nL 54.998805 45.748811 \nL 61.563511 45.719121 \nL 68.128217 45.720614 \nL 74.692923 45.719797 \nL 81.257629 45.719797 \nL 87.822335 45.72024 \nL 94.38704 45.720366 \nL 100.951746 45.720366 \nL 107.516452 45.720366 \nL 114.081158 45.720418 \nL 120.645864 45.721505 \nL 127.21057 69.696626 \nL 133.775276 47.287153 \nL 140.339982 61.575682 \nL 146.904687 47.530843 \nL 153.469393 47.546091 \nL 160.034099 47.551212 \nL 166.598805 65.653691 \nL 173.163511 72.194753 \nL 179.728217 69.338614 \nL 186.292923 71.579917 \nL 192.857629 71.867933 \nL 199.422335 73.82637 \nL 205.98704 74.768744 \nL 212.551746 76.238975 \nL 219.116452 79.849688 \nL 225.681158 82.178132 \nL 232.245864 82.251883 \nL 238.81057 86.179739 \nL 245.375276 89.538807 \nL 251.939982 89.721744 \nL 258.504687 90.199276 \nL 265.069393 90.646041 \nL 271.634099 92.570969 \nL 278.198805 92.570969 \nL 284.763511 93.554815 \nL 291.328217 93.811643 \nL 297.892923 94.704178 \nL 304.457629 95.723551 \nL 311.022335 97.735206 \nL 317.58704 105.200527 \nL 324.151746 243.374864 \nM 337.281158 76.221323 \nM 350.41057 241.591426 \n\" style=\"fill:none;stroke:#008000;stroke-linecap:square;stroke-width:1.5;\"/>\n   </g>\n   <g id=\"patch_3\">\n    <path d=\"M 35.304688 253.2585 \nL 35.304688 35.8185 \n\" style=\"fill:none;stroke:#000000;stroke-linecap:square;stroke-linejoin:miter;stroke-width:0.8;\"/>\n   </g>\n   <g id=\"patch_4\">\n    <path d=\"M 370.104688 253.2585 \nL 370.104688 35.8185 \n\" style=\"fill:none;stroke:#000000;stroke-linecap:square;stroke-linejoin:miter;stroke-width:0.8;\"/>\n   </g>\n   <g id=\"patch_5\">\n    <path d=\"M 35.304688 253.2585 \nL 370.104688 253.2585 \n\" style=\"fill:none;stroke:#000000;stroke-linecap:square;stroke-linejoin:miter;stroke-width:0.8;\"/>\n   </g>\n   <g id=\"patch_6\">\n    <path d=\"M 35.304688 35.8185 \nL 370.104688 35.8185 \n\" style=\"fill:none;stroke:#000000;stroke-linecap:square;stroke-linejoin:miter;stroke-width:0.8;\"/>\n   </g>\n   <g id=\"text_15\">\n    <!-- stopped on request  -->\n    <defs>\n     <path d=\"M 44.28125 53.078125 \nL 44.28125 44.578125 \nQ 40.484375 46.53125 36.375 47.5 \nQ 32.28125 48.484375 27.875 48.484375 \nQ 21.1875 48.484375 17.84375 46.4375 \nQ 14.5 44.390625 14.5 40.28125 \nQ 14.5 37.15625 16.890625 35.375 \nQ 19.28125 33.59375 26.515625 31.984375 \nL 29.59375 31.296875 \nQ 39.15625 29.25 43.1875 25.515625 \nQ 47.21875 21.78125 47.21875 15.09375 \nQ 47.21875 7.46875 41.1875 3.015625 \nQ 35.15625 -1.421875 24.609375 -1.421875 \nQ 20.21875 -1.421875 15.453125 -0.5625 \nQ 10.6875 0.296875 5.421875 2 \nL 5.421875 11.28125 \nQ 10.40625 8.6875 15.234375 7.390625 \nQ 20.0625 6.109375 24.8125 6.109375 \nQ 31.15625 6.109375 34.5625 8.28125 \nQ 37.984375 10.453125 37.984375 14.40625 \nQ 37.984375 18.0625 35.515625 20.015625 \nQ 33.0625 21.96875 24.703125 23.78125 \nL 21.578125 24.515625 \nQ 13.234375 26.265625 9.515625 29.90625 \nQ 5.8125 33.546875 5.8125 39.890625 \nQ 5.8125 47.609375 11.28125 51.796875 \nQ 16.75 56 26.8125 56 \nQ 31.78125 56 36.171875 55.265625 \nQ 40.578125 54.546875 44.28125 53.078125 \nz\n\" id=\"DejaVuSans-115\"/>\n     <path d=\"M 18.3125 70.21875 \nL 18.3125 54.6875 \nL 36.8125 54.6875 \nL 36.8125 47.703125 \nL 18.3125 47.703125 \nL 18.3125 18.015625 \nQ 18.3125 11.328125 20.140625 9.421875 \nQ 21.96875 7.515625 27.59375 7.515625 \nL 36.8125 7.515625 \nL 36.8125 0 \nL 27.59375 0 \nQ 17.1875 0 13.234375 3.875 \nQ 9.28125 7.765625 9.28125 18.015625 \nL 9.28125 47.703125 \nL 2.6875 47.703125 \nL 2.6875 54.6875 \nL 9.28125 54.6875 \nL 9.28125 70.21875 \nz\n\" id=\"DejaVuSans-116\"/>\n     <path d=\"M 30.609375 48.390625 \nQ 23.390625 48.390625 19.1875 42.75 \nQ 14.984375 37.109375 14.984375 27.296875 \nQ 14.984375 17.484375 19.15625 11.84375 \nQ 23.34375 6.203125 30.609375 6.203125 \nQ 37.796875 6.203125 41.984375 11.859375 \nQ 46.1875 17.53125 46.1875 27.296875 \nQ 46.1875 37.015625 41.984375 42.703125 \nQ 37.796875 48.390625 30.609375 48.390625 \nz\nM 30.609375 56 \nQ 42.328125 56 49.015625 48.375 \nQ 55.71875 40.765625 55.71875 27.296875 \nQ 55.71875 13.875 49.015625 6.21875 \nQ 42.328125 -1.421875 30.609375 -1.421875 \nQ 18.84375 -1.421875 12.171875 6.21875 \nQ 5.515625 13.875 5.515625 27.296875 \nQ 5.515625 40.765625 12.171875 48.375 \nQ 18.84375 56 30.609375 56 \nz\n\" id=\"DejaVuSans-111\"/>\n     <path d=\"M 18.109375 8.203125 \nL 18.109375 -20.796875 \nL 9.078125 -20.796875 \nL 9.078125 54.6875 \nL 18.109375 54.6875 \nL 18.109375 46.390625 \nQ 20.953125 51.265625 25.265625 53.625 \nQ 29.59375 56 35.59375 56 \nQ 45.5625 56 51.78125 48.09375 \nQ 58.015625 40.1875 58.015625 27.296875 \nQ 58.015625 14.40625 51.78125 6.484375 \nQ 45.5625 -1.421875 35.59375 -1.421875 \nQ 29.59375 -1.421875 25.265625 0.953125 \nQ 20.953125 3.328125 18.109375 8.203125 \nz\nM 48.6875 27.296875 \nQ 48.6875 37.203125 44.609375 42.84375 \nQ 40.53125 48.484375 33.40625 48.484375 \nQ 26.265625 48.484375 22.1875 42.84375 \nQ 18.109375 37.203125 18.109375 27.296875 \nQ 18.109375 17.390625 22.1875 11.75 \nQ 26.265625 6.109375 33.40625 6.109375 \nQ 40.53125 6.109375 44.609375 11.75 \nQ 48.6875 17.390625 48.6875 27.296875 \nz\n\" id=\"DejaVuSans-112\"/>\n     <path d=\"M 56.203125 29.59375 \nL 56.203125 25.203125 \nL 14.890625 25.203125 \nQ 15.484375 15.921875 20.484375 11.0625 \nQ 25.484375 6.203125 34.421875 6.203125 \nQ 39.59375 6.203125 44.453125 7.46875 \nQ 49.3125 8.734375 54.109375 11.28125 \nL 54.109375 2.78125 \nQ 49.265625 0.734375 44.1875 -0.34375 \nQ 39.109375 -1.421875 33.890625 -1.421875 \nQ 20.796875 -1.421875 13.15625 6.1875 \nQ 5.515625 13.8125 5.515625 26.8125 \nQ 5.515625 40.234375 12.765625 48.109375 \nQ 20.015625 56 32.328125 56 \nQ 43.359375 56 49.78125 48.890625 \nQ 56.203125 41.796875 56.203125 29.59375 \nz\nM 47.21875 32.234375 \nQ 47.125 39.59375 43.09375 43.984375 \nQ 39.0625 48.390625 32.421875 48.390625 \nQ 24.90625 48.390625 20.390625 44.140625 \nQ 15.875 39.890625 15.1875 32.171875 \nz\n\" id=\"DejaVuSans-101\"/>\n     <path d=\"M 45.40625 46.390625 \nL 45.40625 75.984375 \nL 54.390625 75.984375 \nL 54.390625 0 \nL 45.40625 0 \nL 45.40625 8.203125 \nQ 42.578125 3.328125 38.25 0.953125 \nQ 33.9375 -1.421875 27.875 -1.421875 \nQ 17.96875 -1.421875 11.734375 6.484375 \nQ 5.515625 14.40625 5.515625 27.296875 \nQ 5.515625 40.1875 11.734375 48.09375 \nQ 17.96875 56 27.875 56 \nQ 33.9375 56 38.25 53.625 \nQ 42.578125 51.265625 45.40625 46.390625 \nz\nM 14.796875 27.296875 \nQ 14.796875 17.390625 18.875 11.75 \nQ 22.953125 6.109375 30.078125 6.109375 \nQ 37.203125 6.109375 41.296875 11.75 \nQ 45.40625 17.390625 45.40625 27.296875 \nQ 45.40625 37.203125 41.296875 42.84375 \nQ 37.203125 48.484375 30.078125 48.484375 \nQ 22.953125 48.484375 18.875 42.84375 \nQ 14.796875 37.203125 14.796875 27.296875 \nz\n\" id=\"DejaVuSans-100\"/>\n     <path id=\"DejaVuSans-32\"/>\n     <path d=\"M 54.890625 33.015625 \nL 54.890625 0 \nL 45.90625 0 \nL 45.90625 32.71875 \nQ 45.90625 40.484375 42.875 44.328125 \nQ 39.84375 48.1875 33.796875 48.1875 \nQ 26.515625 48.1875 22.3125 43.546875 \nQ 18.109375 38.921875 18.109375 30.90625 \nL 18.109375 0 \nL 9.078125 0 \nL 9.078125 54.6875 \nL 18.109375 54.6875 \nL 18.109375 46.1875 \nQ 21.34375 51.125 25.703125 53.5625 \nQ 30.078125 56 35.796875 56 \nQ 45.21875 56 50.046875 50.171875 \nQ 54.890625 44.34375 54.890625 33.015625 \nz\n\" id=\"DejaVuSans-110\"/>\n     <path d=\"M 41.109375 46.296875 \nQ 39.59375 47.171875 37.8125 47.578125 \nQ 36.03125 48 33.890625 48 \nQ 26.265625 48 22.1875 43.046875 \nQ 18.109375 38.09375 18.109375 28.8125 \nL 18.109375 0 \nL 9.078125 0 \nL 9.078125 54.6875 \nL 18.109375 54.6875 \nL 18.109375 46.1875 \nQ 20.953125 51.171875 25.484375 53.578125 \nQ 30.03125 56 36.53125 56 \nQ 37.453125 56 38.578125 55.875 \nQ 39.703125 55.765625 41.0625 55.515625 \nz\n\" id=\"DejaVuSans-114\"/>\n     <path d=\"M 14.796875 27.296875 \nQ 14.796875 17.390625 18.875 11.75 \nQ 22.953125 6.109375 30.078125 6.109375 \nQ 37.203125 6.109375 41.296875 11.75 \nQ 45.40625 17.390625 45.40625 27.296875 \nQ 45.40625 37.203125 41.296875 42.84375 \nQ 37.203125 48.484375 30.078125 48.484375 \nQ 22.953125 48.484375 18.875 42.84375 \nQ 14.796875 37.203125 14.796875 27.296875 \nz\nM 45.40625 8.203125 \nQ 42.578125 3.328125 38.25 0.953125 \nQ 33.9375 -1.421875 27.875 -1.421875 \nQ 17.96875 -1.421875 11.734375 6.484375 \nQ 5.515625 14.40625 5.515625 27.296875 \nQ 5.515625 40.1875 11.734375 48.09375 \nQ 17.96875 56 27.875 56 \nQ 33.9375 56 38.25 53.625 \nQ 42.578125 51.265625 45.40625 46.390625 \nL 45.40625 54.6875 \nL 54.390625 54.6875 \nL 54.390625 -20.796875 \nL 45.40625 -20.796875 \nz\n\" id=\"DejaVuSans-113\"/>\n     <path d=\"M 8.5 21.578125 \nL 8.5 54.6875 \nL 17.484375 54.6875 \nL 17.484375 21.921875 \nQ 17.484375 14.15625 20.5 10.265625 \nQ 23.53125 6.390625 29.59375 6.390625 \nQ 36.859375 6.390625 41.078125 11.03125 \nQ 45.3125 15.671875 45.3125 23.6875 \nL 45.3125 54.6875 \nL 54.296875 54.6875 \nL 54.296875 0 \nL 45.3125 0 \nL 45.3125 8.40625 \nQ 42.046875 3.421875 37.71875 1 \nQ 33.40625 -1.421875 27.6875 -1.421875 \nQ 18.265625 -1.421875 13.375 4.4375 \nQ 8.5 10.296875 8.5 21.578125 \nz\nM 31.109375 56 \nz\n\" id=\"DejaVuSans-117\"/>\n    </defs>\n    <g transform=\"translate(142.4375 16.318125)scale(0.12 -0.12)\">\n     <use xlink:href=\"#DejaVuSans-115\"/>\n     <use x=\"52.099609\" xlink:href=\"#DejaVuSans-116\"/>\n     <use x=\"91.308594\" xlink:href=\"#DejaVuSans-111\"/>\n     <use x=\"152.490234\" xlink:href=\"#DejaVuSans-112\"/>\n     <use x=\"215.966797\" xlink:href=\"#DejaVuSans-112\"/>\n     <use x=\"279.443359\" xlink:href=\"#DejaVuSans-101\"/>\n     <use x=\"340.966797\" xlink:href=\"#DejaVuSans-100\"/>\n     <use x=\"404.443359\" xlink:href=\"#DejaVuSans-32\"/>\n     <use x=\"436.230469\" xlink:href=\"#DejaVuSans-111\"/>\n     <use x=\"497.412109\" xlink:href=\"#DejaVuSans-110\"/>\n     <use x=\"560.791016\" xlink:href=\"#DejaVuSans-32\"/>\n     <use x=\"592.578125\" xlink:href=\"#DejaVuSans-114\"/>\n     <use x=\"631.441406\" xlink:href=\"#DejaVuSans-101\"/>\n     <use x=\"692.964844\" xlink:href=\"#DejaVuSans-113\"/>\n     <use x=\"756.441406\" xlink:href=\"#DejaVuSans-117\"/>\n     <use x=\"819.820312\" xlink:href=\"#DejaVuSans-101\"/>\n     <use x=\"881.34375\" xlink:href=\"#DejaVuSans-115\"/>\n     <use x=\"933.443359\" xlink:href=\"#DejaVuSans-116\"/>\n     <use x=\"972.652344\" xlink:href=\"#DejaVuSans-32\"/>\n    </g>\n    <!--  Time : 8.255025817s | Iterations : 55 | Epsilon : 0.05 -->\n    <defs>\n     <path d=\"M -0.296875 72.90625 \nL 61.375 72.90625 \nL 61.375 64.59375 \nL 35.5 64.59375 \nL 35.5 0 \nL 25.59375 0 \nL 25.59375 64.59375 \nL -0.296875 64.59375 \nz\n\" id=\"DejaVuSans-84\"/>\n     <path d=\"M 9.421875 54.6875 \nL 18.40625 54.6875 \nL 18.40625 0 \nL 9.421875 0 \nz\nM 9.421875 75.984375 \nL 18.40625 75.984375 \nL 18.40625 64.59375 \nL 9.421875 64.59375 \nz\n\" id=\"DejaVuSans-105\"/>\n     <path d=\"M 52 44.1875 \nQ 55.375 50.25 60.0625 53.125 \nQ 64.75 56 71.09375 56 \nQ 79.640625 56 84.28125 50.015625 \nQ 88.921875 44.046875 88.921875 33.015625 \nL 88.921875 0 \nL 79.890625 0 \nL 79.890625 32.71875 \nQ 79.890625 40.578125 77.09375 44.375 \nQ 74.3125 48.1875 68.609375 48.1875 \nQ 61.625 48.1875 57.5625 43.546875 \nQ 53.515625 38.921875 53.515625 30.90625 \nL 53.515625 0 \nL 44.484375 0 \nL 44.484375 32.71875 \nQ 44.484375 40.625 41.703125 44.40625 \nQ 38.921875 48.1875 33.109375 48.1875 \nQ 26.21875 48.1875 22.15625 43.53125 \nQ 18.109375 38.875 18.109375 30.90625 \nL 18.109375 0 \nL 9.078125 0 \nL 9.078125 54.6875 \nL 18.109375 54.6875 \nL 18.109375 46.1875 \nQ 21.1875 51.21875 25.484375 53.609375 \nQ 29.78125 56 35.6875 56 \nQ 41.65625 56 45.828125 52.96875 \nQ 50 49.953125 52 44.1875 \nz\n\" id=\"DejaVuSans-109\"/>\n     <path d=\"M 11.71875 12.40625 \nL 22.015625 12.40625 \nL 22.015625 0 \nL 11.71875 0 \nz\nM 11.71875 51.703125 \nL 22.015625 51.703125 \nL 22.015625 39.3125 \nL 11.71875 39.3125 \nz\n\" id=\"DejaVuSans-58\"/>\n     <path d=\"M 10.6875 12.40625 \nL 21 12.40625 \nL 21 0 \nL 10.6875 0 \nz\n\" id=\"DejaVuSans-46\"/>\n     <path d=\"M 8.203125 72.90625 \nL 55.078125 72.90625 \nL 55.078125 68.703125 \nL 28.609375 0 \nL 18.3125 0 \nL 43.21875 64.59375 \nL 8.203125 64.59375 \nz\n\" id=\"DejaVuSans-55\"/>\n     <path d=\"M 21 76.421875 \nL 21 -23.578125 \nL 12.703125 -23.578125 \nL 12.703125 76.421875 \nz\n\" id=\"DejaVuSans-124\"/>\n     <path d=\"M 9.8125 72.90625 \nL 19.671875 72.90625 \nL 19.671875 0 \nL 9.8125 0 \nz\n\" id=\"DejaVuSans-73\"/>\n     <path d=\"M 34.28125 27.484375 \nQ 23.390625 27.484375 19.1875 25 \nQ 14.984375 22.515625 14.984375 16.5 \nQ 14.984375 11.71875 18.140625 8.90625 \nQ 21.296875 6.109375 26.703125 6.109375 \nQ 34.1875 6.109375 38.703125 11.40625 \nQ 43.21875 16.703125 43.21875 25.484375 \nL 43.21875 27.484375 \nz\nM 52.203125 31.203125 \nL 52.203125 0 \nL 43.21875 0 \nL 43.21875 8.296875 \nQ 40.140625 3.328125 35.546875 0.953125 \nQ 30.953125 -1.421875 24.3125 -1.421875 \nQ 15.921875 -1.421875 10.953125 3.296875 \nQ 6 8.015625 6 15.921875 \nQ 6 25.140625 12.171875 29.828125 \nQ 18.359375 34.515625 30.609375 34.515625 \nL 43.21875 34.515625 \nL 43.21875 35.40625 \nQ 43.21875 41.609375 39.140625 45 \nQ 35.0625 48.390625 27.6875 48.390625 \nQ 23 48.390625 18.546875 47.265625 \nQ 14.109375 46.140625 10.015625 43.890625 \nL 10.015625 52.203125 \nQ 14.9375 54.109375 19.578125 55.046875 \nQ 24.21875 56 28.609375 56 \nQ 40.484375 56 46.34375 49.84375 \nQ 52.203125 43.703125 52.203125 31.203125 \nz\n\" id=\"DejaVuSans-97\"/>\n     <path d=\"M 9.8125 72.90625 \nL 55.90625 72.90625 \nL 55.90625 64.59375 \nL 19.671875 64.59375 \nL 19.671875 43.015625 \nL 54.390625 43.015625 \nL 54.390625 34.71875 \nL 19.671875 34.71875 \nL 19.671875 8.296875 \nL 56.78125 8.296875 \nL 56.78125 0 \nL 9.8125 0 \nz\n\" id=\"DejaVuSans-69\"/>\n     <path d=\"M 9.421875 75.984375 \nL 18.40625 75.984375 \nL 18.40625 0 \nL 9.421875 0 \nz\n\" id=\"DejaVuSans-108\"/>\n    </defs>\n    <g transform=\"translate(42.63125 29.8185)scale(0.12 -0.12)\">\n     <use xlink:href=\"#DejaVuSans-32\"/>\n     <use x=\"31.787109\" xlink:href=\"#DejaVuSans-84\"/>\n     <use x=\"89.746094\" xlink:href=\"#DejaVuSans-105\"/>\n     <use x=\"117.529297\" xlink:href=\"#DejaVuSans-109\"/>\n     <use x=\"214.941406\" xlink:href=\"#DejaVuSans-101\"/>\n     <use x=\"276.464844\" xlink:href=\"#DejaVuSans-32\"/>\n     <use x=\"308.251953\" xlink:href=\"#DejaVuSans-58\"/>\n     <use x=\"341.943359\" xlink:href=\"#DejaVuSans-32\"/>\n     <use x=\"373.730469\" xlink:href=\"#DejaVuSans-56\"/>\n     <use x=\"437.353516\" xlink:href=\"#DejaVuSans-46\"/>\n     <use x=\"469.140625\" xlink:href=\"#DejaVuSans-50\"/>\n     <use x=\"532.763672\" xlink:href=\"#DejaVuSans-53\"/>\n     <use x=\"596.386719\" xlink:href=\"#DejaVuSans-53\"/>\n     <use x=\"660.009766\" xlink:href=\"#DejaVuSans-48\"/>\n     <use x=\"723.632812\" xlink:href=\"#DejaVuSans-50\"/>\n     <use x=\"787.255859\" xlink:href=\"#DejaVuSans-53\"/>\n     <use x=\"850.878906\" xlink:href=\"#DejaVuSans-56\"/>\n     <use x=\"914.501953\" xlink:href=\"#DejaVuSans-49\"/>\n     <use x=\"978.125\" xlink:href=\"#DejaVuSans-55\"/>\n     <use x=\"1041.748047\" xlink:href=\"#DejaVuSans-115\"/>\n     <use x=\"1093.847656\" xlink:href=\"#DejaVuSans-32\"/>\n     <use x=\"1125.634766\" xlink:href=\"#DejaVuSans-124\"/>\n     <use x=\"1159.326172\" xlink:href=\"#DejaVuSans-32\"/>\n     <use x=\"1191.113281\" xlink:href=\"#DejaVuSans-73\"/>\n     <use x=\"1220.605469\" xlink:href=\"#DejaVuSans-116\"/>\n     <use x=\"1259.814453\" xlink:href=\"#DejaVuSans-101\"/>\n     <use x=\"1321.337891\" xlink:href=\"#DejaVuSans-114\"/>\n     <use x=\"1362.451172\" xlink:href=\"#DejaVuSans-97\"/>\n     <use x=\"1423.730469\" xlink:href=\"#DejaVuSans-116\"/>\n     <use x=\"1462.939453\" xlink:href=\"#DejaVuSans-105\"/>\n     <use x=\"1490.722656\" xlink:href=\"#DejaVuSans-111\"/>\n     <use x=\"1551.904297\" xlink:href=\"#DejaVuSans-110\"/>\n     <use x=\"1615.283203\" xlink:href=\"#DejaVuSans-115\"/>\n     <use x=\"1667.382812\" xlink:href=\"#DejaVuSans-32\"/>\n     <use x=\"1699.169922\" xlink:href=\"#DejaVuSans-58\"/>\n     <use x=\"1732.861328\" xlink:href=\"#DejaVuSans-32\"/>\n     <use x=\"1764.648438\" xlink:href=\"#DejaVuSans-53\"/>\n     <use x=\"1828.271484\" xlink:href=\"#DejaVuSans-53\"/>\n     <use x=\"1891.894531\" xlink:href=\"#DejaVuSans-32\"/>\n     <use x=\"1923.681641\" xlink:href=\"#DejaVuSans-124\"/>\n     <use x=\"1957.373047\" xlink:href=\"#DejaVuSans-32\"/>\n     <use x=\"1989.160156\" xlink:href=\"#DejaVuSans-69\"/>\n     <use x=\"2052.34375\" xlink:href=\"#DejaVuSans-112\"/>\n     <use x=\"2115.820312\" xlink:href=\"#DejaVuSans-115\"/>\n     <use x=\"2167.919922\" xlink:href=\"#DejaVuSans-105\"/>\n     <use x=\"2195.703125\" xlink:href=\"#DejaVuSans-108\"/>\n     <use x=\"2223.486328\" xlink:href=\"#DejaVuSans-111\"/>\n     <use x=\"2284.667969\" xlink:href=\"#DejaVuSans-110\"/>\n     <use x=\"2348.046875\" xlink:href=\"#DejaVuSans-32\"/>\n     <use x=\"2379.833984\" xlink:href=\"#DejaVuSans-58\"/>\n     <use x=\"2413.525391\" xlink:href=\"#DejaVuSans-32\"/>\n     <use x=\"2445.3125\" xlink:href=\"#DejaVuSans-48\"/>\n     <use x=\"2508.935547\" xlink:href=\"#DejaVuSans-46\"/>\n     <use x=\"2540.722656\" xlink:href=\"#DejaVuSans-48\"/>\n     <use x=\"2604.345703\" xlink:href=\"#DejaVuSans-53\"/>\n    </g>\n   </g>\n  </g>\n </g>\n <defs>\n  <clipPath id=\"p3e41a8c4f9\">\n   <rect height=\"217.44\" width=\"334.8\" x=\"35.304688\" y=\"35.8185\"/>\n  </clipPath>\n </defs>\n</svg>\n"
          },
          "metadata": {
            "needs_background": "light"
          }
        }
      ]
    },
    {
      "cell_type": "code",
      "metadata": {
        "colab": {
          "base_uri": "https://localhost:8080/"
        },
        "id": "I3AmkMFKPpo_",
        "outputId": "b1d6a49f-240e-42a8-a8f4-bd5e255a71d0"
      },
      "source": [
        "test = pd.read_csv('test.csv')\n",
        "estimator_tabu.predict(test)"
      ],
      "execution_count": 31,
      "outputs": [
        {
          "output_type": "stream",
          "name": "stdout",
          "text": [
            "[1. 0.]\n"
          ]
        },
        {
          "output_type": "execute_result",
          "data": {
            "text/plain": [
              "<__main__.BNEstimator at 0x7febb8227550>"
            ]
          },
          "metadata": {},
          "execution_count": 31
        }
      ]
    },
    {
      "cell_type": "code",
      "metadata": {
        "id": "EHi_sk9jPo-l"
      },
      "source": [
        "results_tabu = [estimator_tabu.acuracia,time_tabu_treino]"
      ],
      "execution_count": 32,
      "outputs": []
    },
    {
      "cell_type": "markdown",
      "metadata": {
        "id": "33zmBT89bZS9"
      },
      "source": [
        "### Resultados comparação "
      ]
    },
    {
      "cell_type": "code",
      "metadata": {
        "id": "-c9jVg6Z82at"
      },
      "source": [
        "results_ = pd.DataFrame(np.array([results_ghc, results_tabu]) , columns= ['Acuracia',  'Time'] )\n",
        "results_.index = ['GreedyHillClimbing','LocalSearchWithTabuList']"
      ],
      "execution_count": 33,
      "outputs": []
    },
    {
      "cell_type": "code",
      "metadata": {
        "colab": {
          "base_uri": "https://localhost:8080/",
          "height": 110
        },
        "id": "wC29QfuKceoH",
        "outputId": "de70d010-607c-4148-9e03-fee7e709c288"
      },
      "source": [
        "results_.head()"
      ],
      "execution_count": 34,
      "outputs": [
        {
          "output_type": "execute_result",
          "data": {
            "text/html": [
              "<div>\n",
              "<style scoped>\n",
              "    .dataframe tbody tr th:only-of-type {\n",
              "        vertical-align: middle;\n",
              "    }\n",
              "\n",
              "    .dataframe tbody tr th {\n",
              "        vertical-align: top;\n",
              "    }\n",
              "\n",
              "    .dataframe thead th {\n",
              "        text-align: right;\n",
              "    }\n",
              "</style>\n",
              "<table border=\"1\" class=\"dataframe\">\n",
              "  <thead>\n",
              "    <tr style=\"text-align: right;\">\n",
              "      <th></th>\n",
              "      <th>Acuracia</th>\n",
              "      <th>Time</th>\n",
              "    </tr>\n",
              "  </thead>\n",
              "  <tbody>\n",
              "    <tr>\n",
              "      <th>GreedyHillClimbing</th>\n",
              "      <td>1.0</td>\n",
              "      <td>2.041071</td>\n",
              "    </tr>\n",
              "    <tr>\n",
              "      <th>LocalSearchWithTabuList</th>\n",
              "      <td>1.0</td>\n",
              "      <td>8.481801</td>\n",
              "    </tr>\n",
              "  </tbody>\n",
              "</table>\n",
              "</div>"
            ],
            "text/plain": [
              "                         Acuracia      Time\n",
              "GreedyHillClimbing            1.0  2.041071\n",
              "LocalSearchWithTabuList       1.0  8.481801"
            ]
          },
          "metadata": {},
          "execution_count": 34
        }
      ]
    },
    {
      "cell_type": "markdown",
      "metadata": {
        "id": "fSmEYerB0YeU"
      },
      "source": [
        "Podemos observar que o Algoritmo LocalSearchWithTabuList é executado em menos tempo e obtem a mesma acuracia de 1."
      ]
    },
    {
      "cell_type": "code",
      "metadata": {
        "id": "ObCxSIR54tGg"
      },
      "source": [
        "\n"
      ],
      "execution_count": 34,
      "outputs": []
    },
    {
      "cell_type": "markdown",
      "metadata": {
        "id": "x5iKj4YV4anv"
      },
      "source": [
        "## Criando a Rede com  hipotese P(semi_intesive | evidencia)"
      ]
    },
    {
      "cell_type": "code",
      "metadata": {
        "id": "GhSEXDKd4anv"
      },
      "source": [
        "# Instanciar o estimador Bayesiano com learner.useLocalSearchWithTabuList()\n",
        "estimator_2 = BNEstimator('template.csv', class_name='covid_19',\n",
        "                  tabu_arcs=[('influenza_B_rapid_test', 'covid_19')],\n",
        "                  mandatory_arcs=[('Coronavirus HKU1','covid_19'),('Respiratory Syncytial Virus','covid_19'),('semi_intensive_care', 'covid_19')],\n",
        "                  cut_points_percentiles = [5, 50, 95], learning_method='tabu')\n",
        "\n",
        "data = pd.read_csv('template.csv')\n",
        "# Criar a topologia da rede\n",
        "template,data = estimator_2.transform(data)"
      ],
      "execution_count": 35,
      "outputs": []
    },
    {
      "cell_type": "code",
      "metadata": {
        "colab": {
          "base_uri": "https://localhost:8080/",
          "height": 407
        },
        "id": "dY_BqyFe4anv",
        "outputId": "76670761-3d00-425b-86b4-89709b48bd31"
      },
      "source": [
        "# Treinar o modelo tabu\n",
        "estimator_2.fit(template,'train.csv')"
      ],
      "execution_count": 36,
      "outputs": [
        {
          "output_type": "execute_result",
          "data": {
            "text/plain": [
              "<__main__.BNEstimator at 0x7febb7bd8550>"
            ]
          },
          "metadata": {},
          "execution_count": 36
        },
        {
          "output_type": "display_data",
          "data": {
            "text/plain": [
              "<Figure size 432x288 with 1 Axes>"
            ],
            "image/svg+xml": "<?xml version=\"1.0\" encoding=\"utf-8\" standalone=\"no\"?>\n<!DOCTYPE svg PUBLIC \"-//W3C//DTD SVG 1.1//EN\"\n  \"http://www.w3.org/Graphics/SVG/1.1/DTD/svg11.dtd\">\n<!-- Created with matplotlib (https://matplotlib.org/) -->\n<svg height=\"277.136625pt\" version=\"1.1\" viewBox=\"0 0 377.304687 277.136625\" width=\"377.304687pt\" xmlns=\"http://www.w3.org/2000/svg\" xmlns:xlink=\"http://www.w3.org/1999/xlink\">\n <defs>\n  <style type=\"text/css\">\n*{stroke-linecap:butt;stroke-linejoin:round;}\n  </style>\n </defs>\n <g id=\"figure_1\">\n  <g id=\"patch_1\">\n   <path d=\"M 0 277.136625 \nL 377.304687 277.136625 \nL 377.304687 0 \nL 0 0 \nz\n\" style=\"fill:none;\"/>\n  </g>\n  <g id=\"axes_1\">\n   <g id=\"patch_2\">\n    <path d=\"M 35.304688 253.2585 \nL 370.104688 253.2585 \nL 370.104688 35.8185 \nL 35.304688 35.8185 \nz\n\" style=\"fill:#ffffff;\"/>\n   </g>\n   <g id=\"matplotlib.axis_1\">\n    <g id=\"xtick_1\">\n     <g id=\"line2d_1\">\n      <defs>\n       <path d=\"M 0 0 \nL 0 3.5 \n\" id=\"m05986fdcd9\" style=\"stroke:#000000;stroke-width:0.8;\"/>\n      </defs>\n      <g>\n       <use style=\"stroke:#000000;stroke-width:0.8;\" x=\"94.38704\" xlink:href=\"#m05986fdcd9\" y=\"253.2585\"/>\n      </g>\n     </g>\n     <g id=\"text_1\">\n      <!-- 10 -->\n      <defs>\n       <path d=\"M 12.40625 8.296875 \nL 28.515625 8.296875 \nL 28.515625 63.921875 \nL 10.984375 60.40625 \nL 10.984375 69.390625 \nL 28.421875 72.90625 \nL 38.28125 72.90625 \nL 38.28125 8.296875 \nL 54.390625 8.296875 \nL 54.390625 0 \nL 12.40625 0 \nz\n\" id=\"DejaVuSans-49\"/>\n       <path d=\"M 31.78125 66.40625 \nQ 24.171875 66.40625 20.328125 58.90625 \nQ 16.5 51.421875 16.5 36.375 \nQ 16.5 21.390625 20.328125 13.890625 \nQ 24.171875 6.390625 31.78125 6.390625 \nQ 39.453125 6.390625 43.28125 13.890625 \nQ 47.125 21.390625 47.125 36.375 \nQ 47.125 51.421875 43.28125 58.90625 \nQ 39.453125 66.40625 31.78125 66.40625 \nz\nM 31.78125 74.21875 \nQ 44.046875 74.21875 50.515625 64.515625 \nQ 56.984375 54.828125 56.984375 36.375 \nQ 56.984375 17.96875 50.515625 8.265625 \nQ 44.046875 -1.421875 31.78125 -1.421875 \nQ 19.53125 -1.421875 13.0625 8.265625 \nQ 6.59375 17.96875 6.59375 36.375 \nQ 6.59375 54.828125 13.0625 64.515625 \nQ 19.53125 74.21875 31.78125 74.21875 \nz\n\" id=\"DejaVuSans-48\"/>\n      </defs>\n      <g transform=\"translate(88.02454 267.856937)scale(0.1 -0.1)\">\n       <use xlink:href=\"#DejaVuSans-49\"/>\n       <use x=\"63.623047\" xlink:href=\"#DejaVuSans-48\"/>\n      </g>\n     </g>\n    </g>\n    <g id=\"xtick_2\">\n     <g id=\"line2d_2\">\n      <g>\n       <use style=\"stroke:#000000;stroke-width:0.8;\" x=\"160.034099\" xlink:href=\"#m05986fdcd9\" y=\"253.2585\"/>\n      </g>\n     </g>\n     <g id=\"text_2\">\n      <!-- 20 -->\n      <defs>\n       <path d=\"M 19.1875 8.296875 \nL 53.609375 8.296875 \nL 53.609375 0 \nL 7.328125 0 \nL 7.328125 8.296875 \nQ 12.9375 14.109375 22.625 23.890625 \nQ 32.328125 33.6875 34.8125 36.53125 \nQ 39.546875 41.84375 41.421875 45.53125 \nQ 43.3125 49.21875 43.3125 52.78125 \nQ 43.3125 58.59375 39.234375 62.25 \nQ 35.15625 65.921875 28.609375 65.921875 \nQ 23.96875 65.921875 18.8125 64.3125 \nQ 13.671875 62.703125 7.8125 59.421875 \nL 7.8125 69.390625 \nQ 13.765625 71.78125 18.9375 73 \nQ 24.125 74.21875 28.421875 74.21875 \nQ 39.75 74.21875 46.484375 68.546875 \nQ 53.21875 62.890625 53.21875 53.421875 \nQ 53.21875 48.921875 51.53125 44.890625 \nQ 49.859375 40.875 45.40625 35.40625 \nQ 44.1875 33.984375 37.640625 27.21875 \nQ 31.109375 20.453125 19.1875 8.296875 \nz\n\" id=\"DejaVuSans-50\"/>\n      </defs>\n      <g transform=\"translate(153.671599 267.856937)scale(0.1 -0.1)\">\n       <use xlink:href=\"#DejaVuSans-50\"/>\n       <use x=\"63.623047\" xlink:href=\"#DejaVuSans-48\"/>\n      </g>\n     </g>\n    </g>\n    <g id=\"xtick_3\">\n     <g id=\"line2d_3\">\n      <g>\n       <use style=\"stroke:#000000;stroke-width:0.8;\" x=\"225.681158\" xlink:href=\"#m05986fdcd9\" y=\"253.2585\"/>\n      </g>\n     </g>\n     <g id=\"text_3\">\n      <!-- 30 -->\n      <defs>\n       <path d=\"M 40.578125 39.3125 \nQ 47.65625 37.796875 51.625 33 \nQ 55.609375 28.21875 55.609375 21.1875 \nQ 55.609375 10.40625 48.1875 4.484375 \nQ 40.765625 -1.421875 27.09375 -1.421875 \nQ 22.515625 -1.421875 17.65625 -0.515625 \nQ 12.796875 0.390625 7.625 2.203125 \nL 7.625 11.71875 \nQ 11.71875 9.328125 16.59375 8.109375 \nQ 21.484375 6.890625 26.8125 6.890625 \nQ 36.078125 6.890625 40.9375 10.546875 \nQ 45.796875 14.203125 45.796875 21.1875 \nQ 45.796875 27.640625 41.28125 31.265625 \nQ 36.765625 34.90625 28.71875 34.90625 \nL 20.21875 34.90625 \nL 20.21875 43.015625 \nL 29.109375 43.015625 \nQ 36.375 43.015625 40.234375 45.921875 \nQ 44.09375 48.828125 44.09375 54.296875 \nQ 44.09375 59.90625 40.109375 62.90625 \nQ 36.140625 65.921875 28.71875 65.921875 \nQ 24.65625 65.921875 20.015625 65.03125 \nQ 15.375 64.15625 9.8125 62.3125 \nL 9.8125 71.09375 \nQ 15.4375 72.65625 20.34375 73.4375 \nQ 25.25 74.21875 29.59375 74.21875 \nQ 40.828125 74.21875 47.359375 69.109375 \nQ 53.90625 64.015625 53.90625 55.328125 \nQ 53.90625 49.265625 50.4375 45.09375 \nQ 46.96875 40.921875 40.578125 39.3125 \nz\n\" id=\"DejaVuSans-51\"/>\n      </defs>\n      <g transform=\"translate(219.318658 267.856937)scale(0.1 -0.1)\">\n       <use xlink:href=\"#DejaVuSans-51\"/>\n       <use x=\"63.623047\" xlink:href=\"#DejaVuSans-48\"/>\n      </g>\n     </g>\n    </g>\n    <g id=\"xtick_4\">\n     <g id=\"line2d_4\">\n      <g>\n       <use style=\"stroke:#000000;stroke-width:0.8;\" x=\"291.328217\" xlink:href=\"#m05986fdcd9\" y=\"253.2585\"/>\n      </g>\n     </g>\n     <g id=\"text_4\">\n      <!-- 40 -->\n      <defs>\n       <path d=\"M 37.796875 64.3125 \nL 12.890625 25.390625 \nL 37.796875 25.390625 \nz\nM 35.203125 72.90625 \nL 47.609375 72.90625 \nL 47.609375 25.390625 \nL 58.015625 25.390625 \nL 58.015625 17.1875 \nL 47.609375 17.1875 \nL 47.609375 0 \nL 37.796875 0 \nL 37.796875 17.1875 \nL 4.890625 17.1875 \nL 4.890625 26.703125 \nz\n\" id=\"DejaVuSans-52\"/>\n      </defs>\n      <g transform=\"translate(284.965717 267.856937)scale(0.1 -0.1)\">\n       <use xlink:href=\"#DejaVuSans-52\"/>\n       <use x=\"63.623047\" xlink:href=\"#DejaVuSans-48\"/>\n      </g>\n     </g>\n    </g>\n    <g id=\"xtick_5\">\n     <g id=\"line2d_5\">\n      <g>\n       <use style=\"stroke:#000000;stroke-width:0.8;\" x=\"356.975276\" xlink:href=\"#m05986fdcd9\" y=\"253.2585\"/>\n      </g>\n     </g>\n     <g id=\"text_5\">\n      <!-- 50 -->\n      <defs>\n       <path d=\"M 10.796875 72.90625 \nL 49.515625 72.90625 \nL 49.515625 64.59375 \nL 19.828125 64.59375 \nL 19.828125 46.734375 \nQ 21.96875 47.46875 24.109375 47.828125 \nQ 26.265625 48.1875 28.421875 48.1875 \nQ 40.625 48.1875 47.75 41.5 \nQ 54.890625 34.8125 54.890625 23.390625 \nQ 54.890625 11.625 47.5625 5.09375 \nQ 40.234375 -1.421875 26.90625 -1.421875 \nQ 22.3125 -1.421875 17.546875 -0.640625 \nQ 12.796875 0.140625 7.71875 1.703125 \nL 7.71875 11.625 \nQ 12.109375 9.234375 16.796875 8.0625 \nQ 21.484375 6.890625 26.703125 6.890625 \nQ 35.15625 6.890625 40.078125 11.328125 \nQ 45.015625 15.765625 45.015625 23.390625 \nQ 45.015625 31 40.078125 35.4375 \nQ 35.15625 39.890625 26.703125 39.890625 \nQ 22.75 39.890625 18.8125 39.015625 \nQ 14.890625 38.140625 10.796875 36.28125 \nz\n\" id=\"DejaVuSans-53\"/>\n      </defs>\n      <g transform=\"translate(350.612776 267.856937)scale(0.1 -0.1)\">\n       <use xlink:href=\"#DejaVuSans-53\"/>\n       <use x=\"63.623047\" xlink:href=\"#DejaVuSans-48\"/>\n      </g>\n     </g>\n    </g>\n   </g>\n   <g id=\"matplotlib.axis_2\">\n    <g id=\"ytick_1\">\n     <g id=\"line2d_6\">\n      <defs>\n       <path d=\"M 0 0 \nL -3.5 0 \n\" id=\"m5e74cb9206\" style=\"stroke:#000000;stroke-width:0.8;\"/>\n      </defs>\n      <g>\n       <use style=\"stroke:#000000;stroke-width:0.8;\" x=\"35.304688\" xlink:href=\"#m5e74cb9206\" y=\"250.088921\"/>\n      </g>\n     </g>\n     <g id=\"text_6\">\n      <!-- −12 -->\n      <defs>\n       <path d=\"M 10.59375 35.5 \nL 73.1875 35.5 \nL 73.1875 27.203125 \nL 10.59375 27.203125 \nz\n\" id=\"DejaVuSans-8722\"/>\n      </defs>\n      <g transform=\"translate(7.2 253.88814)scale(0.1 -0.1)\">\n       <use xlink:href=\"#DejaVuSans-8722\"/>\n       <use x=\"83.789062\" xlink:href=\"#DejaVuSans-49\"/>\n       <use x=\"147.412109\" xlink:href=\"#DejaVuSans-50\"/>\n      </g>\n     </g>\n    </g>\n    <g id=\"ytick_2\">\n     <g id=\"line2d_7\">\n      <g>\n       <use style=\"stroke:#000000;stroke-width:0.8;\" x=\"35.304688\" xlink:href=\"#m5e74cb9206\" y=\"223.812404\"/>\n      </g>\n     </g>\n     <g id=\"text_7\">\n      <!-- −10 -->\n      <g transform=\"translate(7.2 227.611623)scale(0.1 -0.1)\">\n       <use xlink:href=\"#DejaVuSans-8722\"/>\n       <use x=\"83.789062\" xlink:href=\"#DejaVuSans-49\"/>\n       <use x=\"147.412109\" xlink:href=\"#DejaVuSans-48\"/>\n      </g>\n     </g>\n    </g>\n    <g id=\"ytick_3\">\n     <g id=\"line2d_8\">\n      <g>\n       <use style=\"stroke:#000000;stroke-width:0.8;\" x=\"35.304688\" xlink:href=\"#m5e74cb9206\" y=\"197.535887\"/>\n      </g>\n     </g>\n     <g id=\"text_8\">\n      <!-- −8 -->\n      <defs>\n       <path d=\"M 31.78125 34.625 \nQ 24.75 34.625 20.71875 30.859375 \nQ 16.703125 27.09375 16.703125 20.515625 \nQ 16.703125 13.921875 20.71875 10.15625 \nQ 24.75 6.390625 31.78125 6.390625 \nQ 38.8125 6.390625 42.859375 10.171875 \nQ 46.921875 13.96875 46.921875 20.515625 \nQ 46.921875 27.09375 42.890625 30.859375 \nQ 38.875 34.625 31.78125 34.625 \nz\nM 21.921875 38.8125 \nQ 15.578125 40.375 12.03125 44.71875 \nQ 8.5 49.078125 8.5 55.328125 \nQ 8.5 64.0625 14.71875 69.140625 \nQ 20.953125 74.21875 31.78125 74.21875 \nQ 42.671875 74.21875 48.875 69.140625 \nQ 55.078125 64.0625 55.078125 55.328125 \nQ 55.078125 49.078125 51.53125 44.71875 \nQ 48 40.375 41.703125 38.8125 \nQ 48.828125 37.15625 52.796875 32.3125 \nQ 56.78125 27.484375 56.78125 20.515625 \nQ 56.78125 9.90625 50.3125 4.234375 \nQ 43.84375 -1.421875 31.78125 -1.421875 \nQ 19.734375 -1.421875 13.25 4.234375 \nQ 6.78125 9.90625 6.78125 20.515625 \nQ 6.78125 27.484375 10.78125 32.3125 \nQ 14.796875 37.15625 21.921875 38.8125 \nz\nM 18.3125 54.390625 \nQ 18.3125 48.734375 21.84375 45.5625 \nQ 25.390625 42.390625 31.78125 42.390625 \nQ 38.140625 42.390625 41.71875 45.5625 \nQ 45.3125 48.734375 45.3125 54.390625 \nQ 45.3125 60.0625 41.71875 63.234375 \nQ 38.140625 66.40625 31.78125 66.40625 \nQ 25.390625 66.40625 21.84375 63.234375 \nQ 18.3125 60.0625 18.3125 54.390625 \nz\n\" id=\"DejaVuSans-56\"/>\n      </defs>\n      <g transform=\"translate(13.5625 201.335106)scale(0.1 -0.1)\">\n       <use xlink:href=\"#DejaVuSans-8722\"/>\n       <use x=\"83.789062\" xlink:href=\"#DejaVuSans-56\"/>\n      </g>\n     </g>\n    </g>\n    <g id=\"ytick_4\">\n     <g id=\"line2d_9\">\n      <g>\n       <use style=\"stroke:#000000;stroke-width:0.8;\" x=\"35.304688\" xlink:href=\"#m5e74cb9206\" y=\"171.25937\"/>\n      </g>\n     </g>\n     <g id=\"text_9\">\n      <!-- −6 -->\n      <defs>\n       <path d=\"M 33.015625 40.375 \nQ 26.375 40.375 22.484375 35.828125 \nQ 18.609375 31.296875 18.609375 23.390625 \nQ 18.609375 15.53125 22.484375 10.953125 \nQ 26.375 6.390625 33.015625 6.390625 \nQ 39.65625 6.390625 43.53125 10.953125 \nQ 47.40625 15.53125 47.40625 23.390625 \nQ 47.40625 31.296875 43.53125 35.828125 \nQ 39.65625 40.375 33.015625 40.375 \nz\nM 52.59375 71.296875 \nL 52.59375 62.3125 \nQ 48.875 64.0625 45.09375 64.984375 \nQ 41.3125 65.921875 37.59375 65.921875 \nQ 27.828125 65.921875 22.671875 59.328125 \nQ 17.53125 52.734375 16.796875 39.40625 \nQ 19.671875 43.65625 24.015625 45.921875 \nQ 28.375 48.1875 33.59375 48.1875 \nQ 44.578125 48.1875 50.953125 41.515625 \nQ 57.328125 34.859375 57.328125 23.390625 \nQ 57.328125 12.15625 50.6875 5.359375 \nQ 44.046875 -1.421875 33.015625 -1.421875 \nQ 20.359375 -1.421875 13.671875 8.265625 \nQ 6.984375 17.96875 6.984375 36.375 \nQ 6.984375 53.65625 15.1875 63.9375 \nQ 23.390625 74.21875 37.203125 74.21875 \nQ 40.921875 74.21875 44.703125 73.484375 \nQ 48.484375 72.75 52.59375 71.296875 \nz\n\" id=\"DejaVuSans-54\"/>\n      </defs>\n      <g transform=\"translate(13.5625 175.058589)scale(0.1 -0.1)\">\n       <use xlink:href=\"#DejaVuSans-8722\"/>\n       <use x=\"83.789062\" xlink:href=\"#DejaVuSans-54\"/>\n      </g>\n     </g>\n    </g>\n    <g id=\"ytick_5\">\n     <g id=\"line2d_10\">\n      <g>\n       <use style=\"stroke:#000000;stroke-width:0.8;\" x=\"35.304688\" xlink:href=\"#m5e74cb9206\" y=\"144.982854\"/>\n      </g>\n     </g>\n     <g id=\"text_10\">\n      <!-- −4 -->\n      <g transform=\"translate(13.5625 148.782072)scale(0.1 -0.1)\">\n       <use xlink:href=\"#DejaVuSans-8722\"/>\n       <use x=\"83.789062\" xlink:href=\"#DejaVuSans-52\"/>\n      </g>\n     </g>\n    </g>\n    <g id=\"ytick_6\">\n     <g id=\"line2d_11\">\n      <g>\n       <use style=\"stroke:#000000;stroke-width:0.8;\" x=\"35.304688\" xlink:href=\"#m5e74cb9206\" y=\"118.706337\"/>\n      </g>\n     </g>\n     <g id=\"text_11\">\n      <!-- −2 -->\n      <g transform=\"translate(13.5625 122.505556)scale(0.1 -0.1)\">\n       <use xlink:href=\"#DejaVuSans-8722\"/>\n       <use x=\"83.789062\" xlink:href=\"#DejaVuSans-50\"/>\n      </g>\n     </g>\n    </g>\n    <g id=\"ytick_7\">\n     <g id=\"line2d_12\">\n      <g>\n       <use style=\"stroke:#000000;stroke-width:0.8;\" x=\"35.304688\" xlink:href=\"#m5e74cb9206\" y=\"92.42982\"/>\n      </g>\n     </g>\n     <g id=\"text_12\">\n      <!-- 0 -->\n      <g transform=\"translate(21.942188 96.229039)scale(0.1 -0.1)\">\n       <use xlink:href=\"#DejaVuSans-48\"/>\n      </g>\n     </g>\n    </g>\n    <g id=\"ytick_8\">\n     <g id=\"line2d_13\">\n      <g>\n       <use style=\"stroke:#000000;stroke-width:0.8;\" x=\"35.304688\" xlink:href=\"#m5e74cb9206\" y=\"66.153303\"/>\n      </g>\n     </g>\n     <g id=\"text_13\">\n      <!-- 2 -->\n      <g transform=\"translate(21.942188 69.952522)scale(0.1 -0.1)\">\n       <use xlink:href=\"#DejaVuSans-50\"/>\n      </g>\n     </g>\n    </g>\n    <g id=\"ytick_9\">\n     <g id=\"line2d_14\">\n      <g>\n       <use style=\"stroke:#000000;stroke-width:0.8;\" x=\"35.304688\" xlink:href=\"#m5e74cb9206\" y=\"39.876786\"/>\n      </g>\n     </g>\n     <g id=\"text_14\">\n      <!-- 4 -->\n      <g transform=\"translate(21.942188 43.676005)scale(0.1 -0.1)\">\n       <use xlink:href=\"#DejaVuSans-52\"/>\n      </g>\n     </g>\n    </g>\n   </g>\n   <g id=\"line2d_15\">\n    <path clip-path=\"url(#pfddada6e89)\" d=\"M 28.739982 45.702136 \n\" style=\"fill:none;stroke:#008000;stroke-linecap:square;stroke-width:1.5;\"/>\n   </g>\n   <g id=\"line2d_16\">\n    <path clip-path=\"url(#pfddada6e89)\" d=\"M 28.739982 45.702136 \nL 35.304688 45.720376 \n\" style=\"fill:none;stroke:#008000;stroke-linecap:square;stroke-width:1.5;\"/>\n   </g>\n   <g id=\"line2d_17\">\n    <path clip-path=\"url(#pfddada6e89)\" d=\"M 28.739982 45.702136 \nL 35.304688 45.720376 \nL 41.869393 45.712621 \n\" style=\"fill:none;stroke:#008000;stroke-linecap:square;stroke-width:1.5;\"/>\n   </g>\n   <g id=\"line2d_18\">\n    <path clip-path=\"url(#pfddada6e89)\" d=\"M 28.739982 45.702136 \nL 35.304688 45.720376 \nL 41.869393 45.712621 \nL 48.434099 45.71561 \n\" style=\"fill:none;stroke:#008000;stroke-linecap:square;stroke-width:1.5;\"/>\n   </g>\n   <g id=\"line2d_19\">\n    <path clip-path=\"url(#pfddada6e89)\" d=\"M 28.739982 45.702136 \nL 35.304688 45.720376 \nL 41.869393 45.712621 \nL 48.434099 45.71561 \nL 54.998805 45.748811 \n\" style=\"fill:none;stroke:#008000;stroke-linecap:square;stroke-width:1.5;\"/>\n   </g>\n   <g id=\"line2d_20\">\n    <path clip-path=\"url(#pfddada6e89)\" d=\"M 28.739982 45.702136 \nL 35.304688 45.720376 \nL 41.869393 45.712621 \nL 48.434099 45.71561 \nL 54.998805 45.748811 \nL 61.563511 45.719121 \n\" style=\"fill:none;stroke:#008000;stroke-linecap:square;stroke-width:1.5;\"/>\n   </g>\n   <g id=\"line2d_21\">\n    <path clip-path=\"url(#pfddada6e89)\" d=\"M 28.739982 45.702136 \nL 35.304688 45.720376 \nL 41.869393 45.712621 \nL 48.434099 45.71561 \nL 54.998805 45.748811 \nL 61.563511 45.719121 \nL 68.128217 45.720614 \n\" style=\"fill:none;stroke:#008000;stroke-linecap:square;stroke-width:1.5;\"/>\n   </g>\n   <g id=\"line2d_22\">\n    <path clip-path=\"url(#pfddada6e89)\" d=\"M 28.739982 45.702136 \nL 35.304688 45.720376 \nL 41.869393 45.712621 \nL 48.434099 45.71561 \nL 54.998805 45.748811 \nL 61.563511 45.719121 \nL 68.128217 45.720614 \nL 74.692923 45.719797 \n\" style=\"fill:none;stroke:#008000;stroke-linecap:square;stroke-width:1.5;\"/>\n   </g>\n   <g id=\"line2d_23\">\n    <path clip-path=\"url(#pfddada6e89)\" d=\"M 28.739982 45.702136 \nL 35.304688 45.720376 \nL 41.869393 45.712621 \nL 48.434099 45.71561 \nL 54.998805 45.748811 \nL 61.563511 45.719121 \nL 68.128217 45.720614 \nL 74.692923 45.719797 \nL 81.257629 45.719797 \n\" style=\"fill:none;stroke:#008000;stroke-linecap:square;stroke-width:1.5;\"/>\n   </g>\n   <g id=\"line2d_24\">\n    <path clip-path=\"url(#pfddada6e89)\" d=\"M 28.739982 45.702136 \nL 35.304688 45.720376 \nL 41.869393 45.712621 \nL 48.434099 45.71561 \nL 54.998805 45.748811 \nL 61.563511 45.719121 \nL 68.128217 45.720614 \nL 74.692923 45.719797 \nL 81.257629 45.719797 \nL 87.822335 45.72024 \n\" style=\"fill:none;stroke:#008000;stroke-linecap:square;stroke-width:1.5;\"/>\n   </g>\n   <g id=\"line2d_25\">\n    <path clip-path=\"url(#pfddada6e89)\" d=\"M 28.739982 45.702136 \nL 35.304688 45.720376 \nL 41.869393 45.712621 \nL 48.434099 45.71561 \nL 54.998805 45.748811 \nL 61.563511 45.719121 \nL 68.128217 45.720614 \nL 74.692923 45.719797 \nL 81.257629 45.719797 \nL 87.822335 45.72024 \nL 94.38704 45.720366 \n\" style=\"fill:none;stroke:#008000;stroke-linecap:square;stroke-width:1.5;\"/>\n   </g>\n   <g id=\"line2d_26\">\n    <path clip-path=\"url(#pfddada6e89)\" d=\"M 28.739982 45.702136 \nL 35.304688 45.720376 \nL 41.869393 45.712621 \nL 48.434099 45.71561 \nL 54.998805 45.748811 \nL 61.563511 45.719121 \nL 68.128217 45.720614 \nL 74.692923 45.719797 \nL 81.257629 45.719797 \nL 87.822335 45.72024 \nL 94.38704 45.720366 \nL 100.951746 45.720366 \n\" style=\"fill:none;stroke:#008000;stroke-linecap:square;stroke-width:1.5;\"/>\n   </g>\n   <g id=\"line2d_27\">\n    <path clip-path=\"url(#pfddada6e89)\" d=\"M 28.739982 45.702136 \nL 35.304688 45.720376 \nL 41.869393 45.712621 \nL 48.434099 45.71561 \nL 54.998805 45.748811 \nL 61.563511 45.719121 \nL 68.128217 45.720614 \nL 74.692923 45.719797 \nL 81.257629 45.719797 \nL 87.822335 45.72024 \nL 94.38704 45.720366 \nL 100.951746 45.720366 \nL 107.516452 45.720366 \n\" style=\"fill:none;stroke:#008000;stroke-linecap:square;stroke-width:1.5;\"/>\n   </g>\n   <g id=\"line2d_28\">\n    <path clip-path=\"url(#pfddada6e89)\" d=\"M 28.739982 45.702136 \nL 35.304688 45.720376 \nL 41.869393 45.712621 \nL 48.434099 45.71561 \nL 54.998805 45.748811 \nL 61.563511 45.719121 \nL 68.128217 45.720614 \nL 74.692923 45.719797 \nL 81.257629 45.719797 \nL 87.822335 45.72024 \nL 94.38704 45.720366 \nL 100.951746 45.720366 \nL 107.516452 45.720366 \nL 114.081158 45.720418 \n\" style=\"fill:none;stroke:#008000;stroke-linecap:square;stroke-width:1.5;\"/>\n   </g>\n   <g id=\"line2d_29\">\n    <path clip-path=\"url(#pfddada6e89)\" d=\"M 28.739982 45.702136 \nL 35.304688 45.720376 \nL 41.869393 45.712621 \nL 48.434099 45.71561 \nL 54.998805 45.748811 \nL 61.563511 45.719121 \nL 68.128217 45.720614 \nL 74.692923 45.719797 \nL 81.257629 45.719797 \nL 87.822335 45.72024 \nL 94.38704 45.720366 \nL 100.951746 45.720366 \nL 107.516452 45.720366 \nL 114.081158 45.720418 \nL 120.645864 45.721505 \n\" style=\"fill:none;stroke:#008000;stroke-linecap:square;stroke-width:1.5;\"/>\n   </g>\n   <g id=\"line2d_30\">\n    <path clip-path=\"url(#pfddada6e89)\" d=\"M 28.739982 45.702136 \nL 35.304688 45.720376 \nL 41.869393 45.712621 \nL 48.434099 45.71561 \nL 54.998805 45.748811 \nL 61.563511 45.719121 \nL 68.128217 45.720614 \nL 74.692923 45.719797 \nL 81.257629 45.719797 \nL 87.822335 45.72024 \nL 94.38704 45.720366 \nL 100.951746 45.720366 \nL 107.516452 45.720366 \nL 114.081158 45.720418 \nL 120.645864 45.721505 \nL 127.21057 69.696626 \n\" style=\"fill:none;stroke:#008000;stroke-linecap:square;stroke-width:1.5;\"/>\n   </g>\n   <g id=\"line2d_31\">\n    <path clip-path=\"url(#pfddada6e89)\" d=\"M 28.739982 45.702136 \nL 35.304688 45.720376 \nL 41.869393 45.712621 \nL 48.434099 45.71561 \nL 54.998805 45.748811 \nL 61.563511 45.719121 \nL 68.128217 45.720614 \nL 74.692923 45.719797 \nL 81.257629 45.719797 \nL 87.822335 45.72024 \nL 94.38704 45.720366 \nL 100.951746 45.720366 \nL 107.516452 45.720366 \nL 114.081158 45.720418 \nL 120.645864 45.721505 \nL 127.21057 69.696626 \nL 133.775276 47.287153 \n\" style=\"fill:none;stroke:#008000;stroke-linecap:square;stroke-width:1.5;\"/>\n   </g>\n   <g id=\"line2d_32\">\n    <path clip-path=\"url(#pfddada6e89)\" d=\"M 28.739982 45.702136 \nL 35.304688 45.720376 \nL 41.869393 45.712621 \nL 48.434099 45.71561 \nL 54.998805 45.748811 \nL 61.563511 45.719121 \nL 68.128217 45.720614 \nL 74.692923 45.719797 \nL 81.257629 45.719797 \nL 87.822335 45.72024 \nL 94.38704 45.720366 \nL 100.951746 45.720366 \nL 107.516452 45.720366 \nL 114.081158 45.720418 \nL 120.645864 45.721505 \nL 127.21057 69.696626 \nL 133.775276 47.287153 \nL 140.339982 61.575682 \n\" style=\"fill:none;stroke:#008000;stroke-linecap:square;stroke-width:1.5;\"/>\n   </g>\n   <g id=\"line2d_33\">\n    <path clip-path=\"url(#pfddada6e89)\" d=\"M 28.739982 45.702136 \nL 35.304688 45.720376 \nL 41.869393 45.712621 \nL 48.434099 45.71561 \nL 54.998805 45.748811 \nL 61.563511 45.719121 \nL 68.128217 45.720614 \nL 74.692923 45.719797 \nL 81.257629 45.719797 \nL 87.822335 45.72024 \nL 94.38704 45.720366 \nL 100.951746 45.720366 \nL 107.516452 45.720366 \nL 114.081158 45.720418 \nL 120.645864 45.721505 \nL 127.21057 69.696626 \nL 133.775276 47.287153 \nL 140.339982 61.575682 \nL 146.904687 47.530843 \n\" style=\"fill:none;stroke:#008000;stroke-linecap:square;stroke-width:1.5;\"/>\n   </g>\n   <g id=\"line2d_34\">\n    <path clip-path=\"url(#pfddada6e89)\" d=\"M 28.739982 45.702136 \nL 35.304688 45.720376 \nL 41.869393 45.712621 \nL 48.434099 45.71561 \nL 54.998805 45.748811 \nL 61.563511 45.719121 \nL 68.128217 45.720614 \nL 74.692923 45.719797 \nL 81.257629 45.719797 \nL 87.822335 45.72024 \nL 94.38704 45.720366 \nL 100.951746 45.720366 \nL 107.516452 45.720366 \nL 114.081158 45.720418 \nL 120.645864 45.721505 \nL 127.21057 69.696626 \nL 133.775276 47.287153 \nL 140.339982 61.575682 \nL 146.904687 47.530843 \nL 153.469393 47.546091 \n\" style=\"fill:none;stroke:#008000;stroke-linecap:square;stroke-width:1.5;\"/>\n   </g>\n   <g id=\"line2d_35\">\n    <path clip-path=\"url(#pfddada6e89)\" d=\"M 28.739982 45.702136 \nL 35.304688 45.720376 \nL 41.869393 45.712621 \nL 48.434099 45.71561 \nL 54.998805 45.748811 \nL 61.563511 45.719121 \nL 68.128217 45.720614 \nL 74.692923 45.719797 \nL 81.257629 45.719797 \nL 87.822335 45.72024 \nL 94.38704 45.720366 \nL 100.951746 45.720366 \nL 107.516452 45.720366 \nL 114.081158 45.720418 \nL 120.645864 45.721505 \nL 127.21057 69.696626 \nL 133.775276 47.287153 \nL 140.339982 61.575682 \nL 146.904687 47.530843 \nL 153.469393 47.546091 \nL 160.034099 47.551212 \n\" style=\"fill:none;stroke:#008000;stroke-linecap:square;stroke-width:1.5;\"/>\n   </g>\n   <g id=\"line2d_36\">\n    <path clip-path=\"url(#pfddada6e89)\" d=\"M 28.739982 45.702136 \nL 35.304688 45.720376 \nL 41.869393 45.712621 \nL 48.434099 45.71561 \nL 54.998805 45.748811 \nL 61.563511 45.719121 \nL 68.128217 45.720614 \nL 74.692923 45.719797 \nL 81.257629 45.719797 \nL 87.822335 45.72024 \nL 94.38704 45.720366 \nL 100.951746 45.720366 \nL 107.516452 45.720366 \nL 114.081158 45.720418 \nL 120.645864 45.721505 \nL 127.21057 69.696626 \nL 133.775276 47.287153 \nL 140.339982 61.575682 \nL 146.904687 47.530843 \nL 153.469393 47.546091 \nL 160.034099 47.551212 \nL 166.598805 65.653691 \n\" style=\"fill:none;stroke:#008000;stroke-linecap:square;stroke-width:1.5;\"/>\n   </g>\n   <g id=\"line2d_37\">\n    <path clip-path=\"url(#pfddada6e89)\" d=\"M 28.739982 45.702136 \nL 35.304688 45.720376 \nL 41.869393 45.712621 \nL 48.434099 45.71561 \nL 54.998805 45.748811 \nL 61.563511 45.719121 \nL 68.128217 45.720614 \nL 74.692923 45.719797 \nL 81.257629 45.719797 \nL 87.822335 45.72024 \nL 94.38704 45.720366 \nL 100.951746 45.720366 \nL 107.516452 45.720366 \nL 114.081158 45.720418 \nL 120.645864 45.721505 \nL 127.21057 69.696626 \nL 133.775276 47.287153 \nL 140.339982 61.575682 \nL 146.904687 47.530843 \nL 153.469393 47.546091 \nL 160.034099 47.551212 \nL 166.598805 65.653691 \nL 173.163511 75.030651 \n\" style=\"fill:none;stroke:#008000;stroke-linecap:square;stroke-width:1.5;\"/>\n   </g>\n   <g id=\"line2d_38\">\n    <path clip-path=\"url(#pfddada6e89)\" d=\"M 28.739982 45.702136 \nL 35.304688 45.720376 \nL 41.869393 45.712621 \nL 48.434099 45.71561 \nL 54.998805 45.748811 \nL 61.563511 45.719121 \nL 68.128217 45.720614 \nL 74.692923 45.719797 \nL 81.257629 45.719797 \nL 87.822335 45.72024 \nL 94.38704 45.720366 \nL 100.951746 45.720366 \nL 107.516452 45.720366 \nL 114.081158 45.720418 \nL 120.645864 45.721505 \nL 127.21057 69.696626 \nL 133.775276 47.287153 \nL 140.339982 61.575682 \nL 146.904687 47.530843 \nL 153.469393 47.546091 \nL 160.034099 47.551212 \nL 166.598805 65.653691 \nL 173.163511 75.030651 \nL 179.728217 69.338614 \n\" style=\"fill:none;stroke:#008000;stroke-linecap:square;stroke-width:1.5;\"/>\n   </g>\n   <g id=\"line2d_39\">\n    <path clip-path=\"url(#pfddada6e89)\" d=\"M 28.739982 45.702136 \nL 35.304688 45.720376 \nL 41.869393 45.712621 \nL 48.434099 45.71561 \nL 54.998805 45.748811 \nL 61.563511 45.719121 \nL 68.128217 45.720614 \nL 74.692923 45.719797 \nL 81.257629 45.719797 \nL 87.822335 45.72024 \nL 94.38704 45.720366 \nL 100.951746 45.720366 \nL 107.516452 45.720366 \nL 114.081158 45.720418 \nL 120.645864 45.721505 \nL 127.21057 69.696626 \nL 133.775276 47.287153 \nL 140.339982 61.575682 \nL 146.904687 47.530843 \nL 153.469393 47.546091 \nL 160.034099 47.551212 \nL 166.598805 65.653691 \nL 173.163511 75.030651 \nL 179.728217 69.338614 \nL 186.292923 71.579917 \n\" style=\"fill:none;stroke:#008000;stroke-linecap:square;stroke-width:1.5;\"/>\n   </g>\n   <g id=\"line2d_40\">\n    <path clip-path=\"url(#pfddada6e89)\" d=\"M 28.739982 45.702136 \nL 35.304688 45.720376 \nL 41.869393 45.712621 \nL 48.434099 45.71561 \nL 54.998805 45.748811 \nL 61.563511 45.719121 \nL 68.128217 45.720614 \nL 74.692923 45.719797 \nL 81.257629 45.719797 \nL 87.822335 45.72024 \nL 94.38704 45.720366 \nL 100.951746 45.720366 \nL 107.516452 45.720366 \nL 114.081158 45.720418 \nL 120.645864 45.721505 \nL 127.21057 69.696626 \nL 133.775276 47.287153 \nL 140.339982 61.575682 \nL 146.904687 47.530843 \nL 153.469393 47.546091 \nL 160.034099 47.551212 \nL 166.598805 65.653691 \nL 173.163511 75.030651 \nL 179.728217 69.338614 \nL 186.292923 71.579917 \nL 192.857629 71.867933 \n\" style=\"fill:none;stroke:#008000;stroke-linecap:square;stroke-width:1.5;\"/>\n   </g>\n   <g id=\"line2d_41\">\n    <path clip-path=\"url(#pfddada6e89)\" d=\"M 28.739982 45.702136 \nL 35.304688 45.720376 \nL 41.869393 45.712621 \nL 48.434099 45.71561 \nL 54.998805 45.748811 \nL 61.563511 45.719121 \nL 68.128217 45.720614 \nL 74.692923 45.719797 \nL 81.257629 45.719797 \nL 87.822335 45.72024 \nL 94.38704 45.720366 \nL 100.951746 45.720366 \nL 107.516452 45.720366 \nL 114.081158 45.720418 \nL 120.645864 45.721505 \nL 127.21057 69.696626 \nL 133.775276 47.287153 \nL 140.339982 61.575682 \nL 146.904687 47.530843 \nL 153.469393 47.546091 \nL 160.034099 47.551212 \nL 166.598805 65.653691 \nL 173.163511 75.030651 \nL 179.728217 69.338614 \nL 186.292923 71.579917 \nL 192.857629 71.867933 \nL 199.422335 73.82637 \n\" style=\"fill:none;stroke:#008000;stroke-linecap:square;stroke-width:1.5;\"/>\n   </g>\n   <g id=\"line2d_42\">\n    <path clip-path=\"url(#pfddada6e89)\" d=\"M 28.739982 45.702136 \nL 35.304688 45.720376 \nL 41.869393 45.712621 \nL 48.434099 45.71561 \nL 54.998805 45.748811 \nL 61.563511 45.719121 \nL 68.128217 45.720614 \nL 74.692923 45.719797 \nL 81.257629 45.719797 \nL 87.822335 45.72024 \nL 94.38704 45.720366 \nL 100.951746 45.720366 \nL 107.516452 45.720366 \nL 114.081158 45.720418 \nL 120.645864 45.721505 \nL 127.21057 69.696626 \nL 133.775276 47.287153 \nL 140.339982 61.575682 \nL 146.904687 47.530843 \nL 153.469393 47.546091 \nL 160.034099 47.551212 \nL 166.598805 65.653691 \nL 173.163511 75.030651 \nL 179.728217 69.338614 \nL 186.292923 71.579917 \nL 192.857629 71.867933 \nL 199.422335 73.82637 \nL 205.98704 74.768744 \n\" style=\"fill:none;stroke:#008000;stroke-linecap:square;stroke-width:1.5;\"/>\n   </g>\n   <g id=\"line2d_43\">\n    <path clip-path=\"url(#pfddada6e89)\" d=\"M 28.739982 45.702136 \nL 35.304688 45.720376 \nL 41.869393 45.712621 \nL 48.434099 45.71561 \nL 54.998805 45.748811 \nL 61.563511 45.719121 \nL 68.128217 45.720614 \nL 74.692923 45.719797 \nL 81.257629 45.719797 \nL 87.822335 45.72024 \nL 94.38704 45.720366 \nL 100.951746 45.720366 \nL 107.516452 45.720366 \nL 114.081158 45.720418 \nL 120.645864 45.721505 \nL 127.21057 69.696626 \nL 133.775276 47.287153 \nL 140.339982 61.575682 \nL 146.904687 47.530843 \nL 153.469393 47.546091 \nL 160.034099 47.551212 \nL 166.598805 65.653691 \nL 173.163511 75.030651 \nL 179.728217 69.338614 \nL 186.292923 71.579917 \nL 192.857629 71.867933 \nL 199.422335 73.82637 \nL 205.98704 74.768744 \nL 212.551746 76.238975 \n\" style=\"fill:none;stroke:#008000;stroke-linecap:square;stroke-width:1.5;\"/>\n   </g>\n   <g id=\"line2d_44\">\n    <path clip-path=\"url(#pfddada6e89)\" d=\"M 28.739982 45.702136 \nL 35.304688 45.720376 \nL 41.869393 45.712621 \nL 48.434099 45.71561 \nL 54.998805 45.748811 \nL 61.563511 45.719121 \nL 68.128217 45.720614 \nL 74.692923 45.719797 \nL 81.257629 45.719797 \nL 87.822335 45.72024 \nL 94.38704 45.720366 \nL 100.951746 45.720366 \nL 107.516452 45.720366 \nL 114.081158 45.720418 \nL 120.645864 45.721505 \nL 127.21057 69.696626 \nL 133.775276 47.287153 \nL 140.339982 61.575682 \nL 146.904687 47.530843 \nL 153.469393 47.546091 \nL 160.034099 47.551212 \nL 166.598805 65.653691 \nL 173.163511 75.030651 \nL 179.728217 69.338614 \nL 186.292923 71.579917 \nL 192.857629 71.867933 \nL 199.422335 73.82637 \nL 205.98704 74.768744 \nL 212.551746 76.238975 \nL 219.116452 77.993051 \n\" style=\"fill:none;stroke:#008000;stroke-linecap:square;stroke-width:1.5;\"/>\n   </g>\n   <g id=\"line2d_45\">\n    <path clip-path=\"url(#pfddada6e89)\" d=\"M 28.739982 45.702136 \nL 35.304688 45.720376 \nL 41.869393 45.712621 \nL 48.434099 45.71561 \nL 54.998805 45.748811 \nL 61.563511 45.719121 \nL 68.128217 45.720614 \nL 74.692923 45.719797 \nL 81.257629 45.719797 \nL 87.822335 45.72024 \nL 94.38704 45.720366 \nL 100.951746 45.720366 \nL 107.516452 45.720366 \nL 114.081158 45.720418 \nL 120.645864 45.721505 \nL 127.21057 69.696626 \nL 133.775276 47.287153 \nL 140.339982 61.575682 \nL 146.904687 47.530843 \nL 153.469393 47.546091 \nL 160.034099 47.551212 \nL 166.598805 65.653691 \nL 173.163511 75.030651 \nL 179.728217 69.338614 \nL 186.292923 71.579917 \nL 192.857629 71.867933 \nL 199.422335 73.82637 \nL 205.98704 74.768744 \nL 212.551746 76.238975 \nL 219.116452 77.993051 \nL 225.681158 79.849688 \n\" style=\"fill:none;stroke:#008000;stroke-linecap:square;stroke-width:1.5;\"/>\n   </g>\n   <g id=\"line2d_46\">\n    <path clip-path=\"url(#pfddada6e89)\" d=\"M 28.739982 45.702136 \nL 35.304688 45.720376 \nL 41.869393 45.712621 \nL 48.434099 45.71561 \nL 54.998805 45.748811 \nL 61.563511 45.719121 \nL 68.128217 45.720614 \nL 74.692923 45.719797 \nL 81.257629 45.719797 \nL 87.822335 45.72024 \nL 94.38704 45.720366 \nL 100.951746 45.720366 \nL 107.516452 45.720366 \nL 114.081158 45.720418 \nL 120.645864 45.721505 \nL 127.21057 69.696626 \nL 133.775276 47.287153 \nL 140.339982 61.575682 \nL 146.904687 47.530843 \nL 153.469393 47.546091 \nL 160.034099 47.551212 \nL 166.598805 65.653691 \nL 173.163511 75.030651 \nL 179.728217 69.338614 \nL 186.292923 71.579917 \nL 192.857629 71.867933 \nL 199.422335 73.82637 \nL 205.98704 74.768744 \nL 212.551746 76.238975 \nL 219.116452 77.993051 \nL 225.681158 79.849688 \nL 232.245864 82.251883 \n\" style=\"fill:none;stroke:#008000;stroke-linecap:square;stroke-width:1.5;\"/>\n   </g>\n   <g id=\"line2d_47\">\n    <path clip-path=\"url(#pfddada6e89)\" d=\"M 28.739982 45.702136 \nL 35.304688 45.720376 \nL 41.869393 45.712621 \nL 48.434099 45.71561 \nL 54.998805 45.748811 \nL 61.563511 45.719121 \nL 68.128217 45.720614 \nL 74.692923 45.719797 \nL 81.257629 45.719797 \nL 87.822335 45.72024 \nL 94.38704 45.720366 \nL 100.951746 45.720366 \nL 107.516452 45.720366 \nL 114.081158 45.720418 \nL 120.645864 45.721505 \nL 127.21057 69.696626 \nL 133.775276 47.287153 \nL 140.339982 61.575682 \nL 146.904687 47.530843 \nL 153.469393 47.546091 \nL 160.034099 47.551212 \nL 166.598805 65.653691 \nL 173.163511 75.030651 \nL 179.728217 69.338614 \nL 186.292923 71.579917 \nL 192.857629 71.867933 \nL 199.422335 73.82637 \nL 205.98704 74.768744 \nL 212.551746 76.238975 \nL 219.116452 77.993051 \nL 225.681158 79.849688 \nL 232.245864 82.251883 \nL 238.81057 86.179739 \n\" style=\"fill:none;stroke:#008000;stroke-linecap:square;stroke-width:1.5;\"/>\n   </g>\n   <g id=\"line2d_48\">\n    <path clip-path=\"url(#pfddada6e89)\" d=\"M 28.739982 45.702136 \nL 35.304688 45.720376 \nL 41.869393 45.712621 \nL 48.434099 45.71561 \nL 54.998805 45.748811 \nL 61.563511 45.719121 \nL 68.128217 45.720614 \nL 74.692923 45.719797 \nL 81.257629 45.719797 \nL 87.822335 45.72024 \nL 94.38704 45.720366 \nL 100.951746 45.720366 \nL 107.516452 45.720366 \nL 114.081158 45.720418 \nL 120.645864 45.721505 \nL 127.21057 69.696626 \nL 133.775276 47.287153 \nL 140.339982 61.575682 \nL 146.904687 47.530843 \nL 153.469393 47.546091 \nL 160.034099 47.551212 \nL 166.598805 65.653691 \nL 173.163511 75.030651 \nL 179.728217 69.338614 \nL 186.292923 71.579917 \nL 192.857629 71.867933 \nL 199.422335 73.82637 \nL 205.98704 74.768744 \nL 212.551746 76.238975 \nL 219.116452 77.993051 \nL 225.681158 79.849688 \nL 232.245864 82.251883 \nL 238.81057 86.179739 \nL 245.375276 89.538807 \n\" style=\"fill:none;stroke:#008000;stroke-linecap:square;stroke-width:1.5;\"/>\n   </g>\n   <g id=\"line2d_49\">\n    <path clip-path=\"url(#pfddada6e89)\" d=\"M 28.739982 45.702136 \nL 35.304688 45.720376 \nL 41.869393 45.712621 \nL 48.434099 45.71561 \nL 54.998805 45.748811 \nL 61.563511 45.719121 \nL 68.128217 45.720614 \nL 74.692923 45.719797 \nL 81.257629 45.719797 \nL 87.822335 45.72024 \nL 94.38704 45.720366 \nL 100.951746 45.720366 \nL 107.516452 45.720366 \nL 114.081158 45.720418 \nL 120.645864 45.721505 \nL 127.21057 69.696626 \nL 133.775276 47.287153 \nL 140.339982 61.575682 \nL 146.904687 47.530843 \nL 153.469393 47.546091 \nL 160.034099 47.551212 \nL 166.598805 65.653691 \nL 173.163511 75.030651 \nL 179.728217 69.338614 \nL 186.292923 71.579917 \nL 192.857629 71.867933 \nL 199.422335 73.82637 \nL 205.98704 74.768744 \nL 212.551746 76.238975 \nL 219.116452 77.993051 \nL 225.681158 79.849688 \nL 232.245864 82.251883 \nL 238.81057 86.179739 \nL 245.375276 89.538807 \nL 251.939982 89.721744 \n\" style=\"fill:none;stroke:#008000;stroke-linecap:square;stroke-width:1.5;\"/>\n   </g>\n   <g id=\"line2d_50\">\n    <path clip-path=\"url(#pfddada6e89)\" d=\"M 28.739982 45.702136 \nL 35.304688 45.720376 \nL 41.869393 45.712621 \nL 48.434099 45.71561 \nL 54.998805 45.748811 \nL 61.563511 45.719121 \nL 68.128217 45.720614 \nL 74.692923 45.719797 \nL 81.257629 45.719797 \nL 87.822335 45.72024 \nL 94.38704 45.720366 \nL 100.951746 45.720366 \nL 107.516452 45.720366 \nL 114.081158 45.720418 \nL 120.645864 45.721505 \nL 127.21057 69.696626 \nL 133.775276 47.287153 \nL 140.339982 61.575682 \nL 146.904687 47.530843 \nL 153.469393 47.546091 \nL 160.034099 47.551212 \nL 166.598805 65.653691 \nL 173.163511 75.030651 \nL 179.728217 69.338614 \nL 186.292923 71.579917 \nL 192.857629 71.867933 \nL 199.422335 73.82637 \nL 205.98704 74.768744 \nL 212.551746 76.238975 \nL 219.116452 77.993051 \nL 225.681158 79.849688 \nL 232.245864 82.251883 \nL 238.81057 86.179739 \nL 245.375276 89.538807 \nL 251.939982 89.721744 \nL 258.504687 90.646041 \n\" style=\"fill:none;stroke:#008000;stroke-linecap:square;stroke-width:1.5;\"/>\n   </g>\n   <g id=\"line2d_51\">\n    <path clip-path=\"url(#pfddada6e89)\" d=\"M 28.739982 45.702136 \nL 35.304688 45.720376 \nL 41.869393 45.712621 \nL 48.434099 45.71561 \nL 54.998805 45.748811 \nL 61.563511 45.719121 \nL 68.128217 45.720614 \nL 74.692923 45.719797 \nL 81.257629 45.719797 \nL 87.822335 45.72024 \nL 94.38704 45.720366 \nL 100.951746 45.720366 \nL 107.516452 45.720366 \nL 114.081158 45.720418 \nL 120.645864 45.721505 \nL 127.21057 69.696626 \nL 133.775276 47.287153 \nL 140.339982 61.575682 \nL 146.904687 47.530843 \nL 153.469393 47.546091 \nL 160.034099 47.551212 \nL 166.598805 65.653691 \nL 173.163511 75.030651 \nL 179.728217 69.338614 \nL 186.292923 71.579917 \nL 192.857629 71.867933 \nL 199.422335 73.82637 \nL 205.98704 74.768744 \nL 212.551746 76.238975 \nL 219.116452 77.993051 \nL 225.681158 79.849688 \nL 232.245864 82.251883 \nL 238.81057 86.179739 \nL 245.375276 89.538807 \nL 251.939982 89.721744 \nL 258.504687 90.646041 \nL 265.069393 92.570969 \n\" style=\"fill:none;stroke:#008000;stroke-linecap:square;stroke-width:1.5;\"/>\n   </g>\n   <g id=\"line2d_52\">\n    <path clip-path=\"url(#pfddada6e89)\" d=\"M 28.739982 45.702136 \nL 35.304688 45.720376 \nL 41.869393 45.712621 \nL 48.434099 45.71561 \nL 54.998805 45.748811 \nL 61.563511 45.719121 \nL 68.128217 45.720614 \nL 74.692923 45.719797 \nL 81.257629 45.719797 \nL 87.822335 45.72024 \nL 94.38704 45.720366 \nL 100.951746 45.720366 \nL 107.516452 45.720366 \nL 114.081158 45.720418 \nL 120.645864 45.721505 \nL 127.21057 69.696626 \nL 133.775276 47.287153 \nL 140.339982 61.575682 \nL 146.904687 47.530843 \nL 153.469393 47.546091 \nL 160.034099 47.551212 \nL 166.598805 65.653691 \nL 173.163511 75.030651 \nL 179.728217 69.338614 \nL 186.292923 71.579917 \nL 192.857629 71.867933 \nL 199.422335 73.82637 \nL 205.98704 74.768744 \nL 212.551746 76.238975 \nL 219.116452 77.993051 \nL 225.681158 79.849688 \nL 232.245864 82.251883 \nL 238.81057 86.179739 \nL 245.375276 89.538807 \nL 251.939982 89.721744 \nL 258.504687 90.646041 \nL 265.069393 92.570969 \nL 271.634099 92.570969 \n\" style=\"fill:none;stroke:#008000;stroke-linecap:square;stroke-width:1.5;\"/>\n   </g>\n   <g id=\"line2d_53\">\n    <path clip-path=\"url(#pfddada6e89)\" d=\"M 28.739982 45.702136 \nL 35.304688 45.720376 \nL 41.869393 45.712621 \nL 48.434099 45.71561 \nL 54.998805 45.748811 \nL 61.563511 45.719121 \nL 68.128217 45.720614 \nL 74.692923 45.719797 \nL 81.257629 45.719797 \nL 87.822335 45.72024 \nL 94.38704 45.720366 \nL 100.951746 45.720366 \nL 107.516452 45.720366 \nL 114.081158 45.720418 \nL 120.645864 45.721505 \nL 127.21057 69.696626 \nL 133.775276 47.287153 \nL 140.339982 61.575682 \nL 146.904687 47.530843 \nL 153.469393 47.546091 \nL 160.034099 47.551212 \nL 166.598805 65.653691 \nL 173.163511 75.030651 \nL 179.728217 69.338614 \nL 186.292923 71.579917 \nL 192.857629 71.867933 \nL 199.422335 73.82637 \nL 205.98704 74.768744 \nL 212.551746 76.238975 \nL 219.116452 77.993051 \nL 225.681158 79.849688 \nL 232.245864 82.251883 \nL 238.81057 86.179739 \nL 245.375276 89.538807 \nL 251.939982 89.721744 \nL 258.504687 90.646041 \nL 265.069393 92.570969 \nL 271.634099 92.570969 \nL 278.198805 93.554815 \n\" style=\"fill:none;stroke:#008000;stroke-linecap:square;stroke-width:1.5;\"/>\n   </g>\n   <g id=\"line2d_54\">\n    <path clip-path=\"url(#pfddada6e89)\" d=\"M 28.739982 45.702136 \nL 35.304688 45.720376 \nL 41.869393 45.712621 \nL 48.434099 45.71561 \nL 54.998805 45.748811 \nL 61.563511 45.719121 \nL 68.128217 45.720614 \nL 74.692923 45.719797 \nL 81.257629 45.719797 \nL 87.822335 45.72024 \nL 94.38704 45.720366 \nL 100.951746 45.720366 \nL 107.516452 45.720366 \nL 114.081158 45.720418 \nL 120.645864 45.721505 \nL 127.21057 69.696626 \nL 133.775276 47.287153 \nL 140.339982 61.575682 \nL 146.904687 47.530843 \nL 153.469393 47.546091 \nL 160.034099 47.551212 \nL 166.598805 65.653691 \nL 173.163511 75.030651 \nL 179.728217 69.338614 \nL 186.292923 71.579917 \nL 192.857629 71.867933 \nL 199.422335 73.82637 \nL 205.98704 74.768744 \nL 212.551746 76.238975 \nL 219.116452 77.993051 \nL 225.681158 79.849688 \nL 232.245864 82.251883 \nL 238.81057 86.179739 \nL 245.375276 89.538807 \nL 251.939982 89.721744 \nL 258.504687 90.646041 \nL 265.069393 92.570969 \nL 271.634099 92.570969 \nL 278.198805 93.554815 \nL 284.763511 93.811643 \n\" style=\"fill:none;stroke:#008000;stroke-linecap:square;stroke-width:1.5;\"/>\n   </g>\n   <g id=\"line2d_55\">\n    <path clip-path=\"url(#pfddada6e89)\" d=\"M 28.739982 45.702136 \nL 35.304688 45.720376 \nL 41.869393 45.712621 \nL 48.434099 45.71561 \nL 54.998805 45.748811 \nL 61.563511 45.719121 \nL 68.128217 45.720614 \nL 74.692923 45.719797 \nL 81.257629 45.719797 \nL 87.822335 45.72024 \nL 94.38704 45.720366 \nL 100.951746 45.720366 \nL 107.516452 45.720366 \nL 114.081158 45.720418 \nL 120.645864 45.721505 \nL 127.21057 69.696626 \nL 133.775276 47.287153 \nL 140.339982 61.575682 \nL 146.904687 47.530843 \nL 153.469393 47.546091 \nL 160.034099 47.551212 \nL 166.598805 65.653691 \nL 173.163511 75.030651 \nL 179.728217 69.338614 \nL 186.292923 71.579917 \nL 192.857629 71.867933 \nL 199.422335 73.82637 \nL 205.98704 74.768744 \nL 212.551746 76.238975 \nL 219.116452 77.993051 \nL 225.681158 79.849688 \nL 232.245864 82.251883 \nL 238.81057 86.179739 \nL 245.375276 89.538807 \nL 251.939982 89.721744 \nL 258.504687 90.646041 \nL 265.069393 92.570969 \nL 271.634099 92.570969 \nL 278.198805 93.554815 \nL 284.763511 93.811643 \nL 291.328217 94.704178 \n\" style=\"fill:none;stroke:#008000;stroke-linecap:square;stroke-width:1.5;\"/>\n   </g>\n   <g id=\"line2d_56\">\n    <path clip-path=\"url(#pfddada6e89)\" d=\"M 28.739982 45.702136 \nL 35.304688 45.720376 \nL 41.869393 45.712621 \nL 48.434099 45.71561 \nL 54.998805 45.748811 \nL 61.563511 45.719121 \nL 68.128217 45.720614 \nL 74.692923 45.719797 \nL 81.257629 45.719797 \nL 87.822335 45.72024 \nL 94.38704 45.720366 \nL 100.951746 45.720366 \nL 107.516452 45.720366 \nL 114.081158 45.720418 \nL 120.645864 45.721505 \nL 127.21057 69.696626 \nL 133.775276 47.287153 \nL 140.339982 61.575682 \nL 146.904687 47.530843 \nL 153.469393 47.546091 \nL 160.034099 47.551212 \nL 166.598805 65.653691 \nL 173.163511 75.030651 \nL 179.728217 69.338614 \nL 186.292923 71.579917 \nL 192.857629 71.867933 \nL 199.422335 73.82637 \nL 205.98704 74.768744 \nL 212.551746 76.238975 \nL 219.116452 77.993051 \nL 225.681158 79.849688 \nL 232.245864 82.251883 \nL 238.81057 86.179739 \nL 245.375276 89.538807 \nL 251.939982 89.721744 \nL 258.504687 90.646041 \nL 265.069393 92.570969 \nL 271.634099 92.570969 \nL 278.198805 93.554815 \nL 284.763511 93.811643 \nL 291.328217 94.704178 \nL 297.892923 95.723551 \n\" style=\"fill:none;stroke:#008000;stroke-linecap:square;stroke-width:1.5;\"/>\n   </g>\n   <g id=\"line2d_57\">\n    <path clip-path=\"url(#pfddada6e89)\" d=\"M 28.739982 45.702136 \nL 35.304688 45.720376 \nL 41.869393 45.712621 \nL 48.434099 45.71561 \nL 54.998805 45.748811 \nL 61.563511 45.719121 \nL 68.128217 45.720614 \nL 74.692923 45.719797 \nL 81.257629 45.719797 \nL 87.822335 45.72024 \nL 94.38704 45.720366 \nL 100.951746 45.720366 \nL 107.516452 45.720366 \nL 114.081158 45.720418 \nL 120.645864 45.721505 \nL 127.21057 69.696626 \nL 133.775276 47.287153 \nL 140.339982 61.575682 \nL 146.904687 47.530843 \nL 153.469393 47.546091 \nL 160.034099 47.551212 \nL 166.598805 65.653691 \nL 173.163511 75.030651 \nL 179.728217 69.338614 \nL 186.292923 71.579917 \nL 192.857629 71.867933 \nL 199.422335 73.82637 \nL 205.98704 74.768744 \nL 212.551746 76.238975 \nL 219.116452 77.993051 \nL 225.681158 79.849688 \nL 232.245864 82.251883 \nL 238.81057 86.179739 \nL 245.375276 89.538807 \nL 251.939982 89.721744 \nL 258.504687 90.646041 \nL 265.069393 92.570969 \nL 271.634099 92.570969 \nL 278.198805 93.554815 \nL 284.763511 93.811643 \nL 291.328217 94.704178 \nL 297.892923 95.723551 \nL 304.457629 97.735206 \n\" style=\"fill:none;stroke:#008000;stroke-linecap:square;stroke-width:1.5;\"/>\n   </g>\n   <g id=\"line2d_58\">\n    <path clip-path=\"url(#pfddada6e89)\" d=\"M 28.739982 45.702136 \nL 35.304688 45.720376 \nL 41.869393 45.712621 \nL 48.434099 45.71561 \nL 54.998805 45.748811 \nL 61.563511 45.719121 \nL 68.128217 45.720614 \nL 74.692923 45.719797 \nL 81.257629 45.719797 \nL 87.822335 45.72024 \nL 94.38704 45.720366 \nL 100.951746 45.720366 \nL 107.516452 45.720366 \nL 114.081158 45.720418 \nL 120.645864 45.721505 \nL 127.21057 69.696626 \nL 133.775276 47.287153 \nL 140.339982 61.575682 \nL 146.904687 47.530843 \nL 153.469393 47.546091 \nL 160.034099 47.551212 \nL 166.598805 65.653691 \nL 173.163511 75.030651 \nL 179.728217 69.338614 \nL 186.292923 71.579917 \nL 192.857629 71.867933 \nL 199.422335 73.82637 \nL 205.98704 74.768744 \nL 212.551746 76.238975 \nL 219.116452 77.993051 \nL 225.681158 79.849688 \nL 232.245864 82.251883 \nL 238.81057 86.179739 \nL 245.375276 89.538807 \nL 251.939982 89.721744 \nL 258.504687 90.646041 \nL 265.069393 92.570969 \nL 271.634099 92.570969 \nL 278.198805 93.554815 \nL 284.763511 93.811643 \nL 291.328217 94.704178 \nL 297.892923 95.723551 \nL 304.457629 97.735206 \nL 311.022335 105.200527 \n\" style=\"fill:none;stroke:#008000;stroke-linecap:square;stroke-width:1.5;\"/>\n   </g>\n   <g id=\"line2d_59\">\n    <path clip-path=\"url(#pfddada6e89)\" d=\"M 28.739982 45.702136 \nL 35.304688 45.720376 \nL 41.869393 45.712621 \nL 48.434099 45.71561 \nL 54.998805 45.748811 \nL 61.563511 45.719121 \nL 68.128217 45.720614 \nL 74.692923 45.719797 \nL 81.257629 45.719797 \nL 87.822335 45.72024 \nL 94.38704 45.720366 \nL 100.951746 45.720366 \nL 107.516452 45.720366 \nL 114.081158 45.720418 \nL 120.645864 45.721505 \nL 127.21057 69.696626 \nL 133.775276 47.287153 \nL 140.339982 61.575682 \nL 146.904687 47.530843 \nL 153.469393 47.546091 \nL 160.034099 47.551212 \nL 166.598805 65.653691 \nL 173.163511 75.030651 \nL 179.728217 69.338614 \nL 186.292923 71.579917 \nL 192.857629 71.867933 \nL 199.422335 73.82637 \nL 205.98704 74.768744 \nL 212.551746 76.238975 \nL 219.116452 77.993051 \nL 225.681158 79.849688 \nL 232.245864 82.251883 \nL 238.81057 86.179739 \nL 245.375276 89.538807 \nL 251.939982 89.721744 \nL 258.504687 90.646041 \nL 265.069393 92.570969 \nL 271.634099 92.570969 \nL 278.198805 93.554815 \nL 284.763511 93.811643 \nL 291.328217 94.704178 \nL 297.892923 95.723551 \nL 304.457629 97.735206 \nL 311.022335 105.200527 \nL 317.58704 243.374864 \n\" style=\"fill:none;stroke:#008000;stroke-linecap:square;stroke-width:1.5;\"/>\n   </g>\n   <g id=\"line2d_60\">\n    <path clip-path=\"url(#pfddada6e89)\" d=\"M 28.739982 45.702136 \nL 35.304688 45.720376 \nL 41.869393 45.712621 \nL 48.434099 45.71561 \nL 54.998805 45.748811 \nL 61.563511 45.719121 \nL 68.128217 45.720614 \nL 74.692923 45.719797 \nL 81.257629 45.719797 \nL 87.822335 45.72024 \nL 94.38704 45.720366 \nL 100.951746 45.720366 \nL 107.516452 45.720366 \nL 114.081158 45.720418 \nL 120.645864 45.721505 \nL 127.21057 69.696626 \nL 133.775276 47.287153 \nL 140.339982 61.575682 \nL 146.904687 47.530843 \nL 153.469393 47.546091 \nL 160.034099 47.551212 \nL 166.598805 65.653691 \nL 173.163511 75.030651 \nL 179.728217 69.338614 \nL 186.292923 71.579917 \nL 192.857629 71.867933 \nL 199.422335 73.82637 \nL 205.98704 74.768744 \nL 212.551746 76.238975 \nL 219.116452 77.993051 \nL 225.681158 79.849688 \nL 232.245864 82.251883 \nL 238.81057 86.179739 \nL 245.375276 89.538807 \nL 251.939982 89.721744 \nL 258.504687 90.646041 \nL 265.069393 92.570969 \nL 271.634099 92.570969 \nL 278.198805 93.554815 \nL 284.763511 93.811643 \nL 291.328217 94.704178 \nL 297.892923 95.723551 \nL 304.457629 97.735206 \nL 311.022335 105.200527 \nL 317.58704 243.374864 \n\" style=\"fill:none;stroke:#008000;stroke-linecap:square;stroke-width:1.5;\"/>\n   </g>\n   <g id=\"line2d_61\">\n    <path clip-path=\"url(#pfddada6e89)\" d=\"M 28.739982 45.702136 \nL 35.304688 45.720376 \nL 41.869393 45.712621 \nL 48.434099 45.71561 \nL 54.998805 45.748811 \nL 61.563511 45.719121 \nL 68.128217 45.720614 \nL 74.692923 45.719797 \nL 81.257629 45.719797 \nL 87.822335 45.72024 \nL 94.38704 45.720366 \nL 100.951746 45.720366 \nL 107.516452 45.720366 \nL 114.081158 45.720418 \nL 120.645864 45.721505 \nL 127.21057 69.696626 \nL 133.775276 47.287153 \nL 140.339982 61.575682 \nL 146.904687 47.530843 \nL 153.469393 47.546091 \nL 160.034099 47.551212 \nL 166.598805 65.653691 \nL 173.163511 75.030651 \nL 179.728217 69.338614 \nL 186.292923 71.579917 \nL 192.857629 71.867933 \nL 199.422335 73.82637 \nL 205.98704 74.768744 \nL 212.551746 76.238975 \nL 219.116452 77.993051 \nL 225.681158 79.849688 \nL 232.245864 82.251883 \nL 238.81057 86.179739 \nL 245.375276 89.538807 \nL 251.939982 89.721744 \nL 258.504687 90.646041 \nL 265.069393 92.570969 \nL 271.634099 92.570969 \nL 278.198805 93.554815 \nL 284.763511 93.811643 \nL 291.328217 94.704178 \nL 297.892923 95.723551 \nL 304.457629 97.735206 \nL 311.022335 105.200527 \nL 317.58704 243.374864 \nM 330.716452 79.788947 \n\" style=\"fill:none;stroke:#008000;stroke-linecap:square;stroke-width:1.5;\"/>\n   </g>\n   <g id=\"line2d_62\">\n    <path clip-path=\"url(#pfddada6e89)\" d=\"M 28.739982 45.702136 \nL 35.304688 45.720376 \nL 41.869393 45.712621 \nL 48.434099 45.71561 \nL 54.998805 45.748811 \nL 61.563511 45.719121 \nL 68.128217 45.720614 \nL 74.692923 45.719797 \nL 81.257629 45.719797 \nL 87.822335 45.72024 \nL 94.38704 45.720366 \nL 100.951746 45.720366 \nL 107.516452 45.720366 \nL 114.081158 45.720418 \nL 120.645864 45.721505 \nL 127.21057 69.696626 \nL 133.775276 47.287153 \nL 140.339982 61.575682 \nL 146.904687 47.530843 \nL 153.469393 47.546091 \nL 160.034099 47.551212 \nL 166.598805 65.653691 \nL 173.163511 75.030651 \nL 179.728217 69.338614 \nL 186.292923 71.579917 \nL 192.857629 71.867933 \nL 199.422335 73.82637 \nL 205.98704 74.768744 \nL 212.551746 76.238975 \nL 219.116452 77.993051 \nL 225.681158 79.849688 \nL 232.245864 82.251883 \nL 238.81057 86.179739 \nL 245.375276 89.538807 \nL 251.939982 89.721744 \nL 258.504687 90.646041 \nL 265.069393 92.570969 \nL 271.634099 92.570969 \nL 278.198805 93.554815 \nL 284.763511 93.811643 \nL 291.328217 94.704178 \nL 297.892923 95.723551 \nL 304.457629 97.735206 \nL 311.022335 105.200527 \nL 317.58704 243.374864 \nM 330.716452 79.788947 \nL 337.281158 85.130912 \n\" style=\"fill:none;stroke:#008000;stroke-linecap:square;stroke-width:1.5;\"/>\n   </g>\n   <g id=\"line2d_63\">\n    <path clip-path=\"url(#pfddada6e89)\" d=\"M 28.739982 45.702136 \nL 35.304688 45.720376 \nL 41.869393 45.712621 \nL 48.434099 45.71561 \nL 54.998805 45.748811 \nL 61.563511 45.719121 \nL 68.128217 45.720614 \nL 74.692923 45.719797 \nL 81.257629 45.719797 \nL 87.822335 45.72024 \nL 94.38704 45.720366 \nL 100.951746 45.720366 \nL 107.516452 45.720366 \nL 114.081158 45.720418 \nL 120.645864 45.721505 \nL 127.21057 69.696626 \nL 133.775276 47.287153 \nL 140.339982 61.575682 \nL 146.904687 47.530843 \nL 153.469393 47.546091 \nL 160.034099 47.551212 \nL 166.598805 65.653691 \nL 173.163511 75.030651 \nL 179.728217 69.338614 \nL 186.292923 71.579917 \nL 192.857629 71.867933 \nL 199.422335 73.82637 \nL 205.98704 74.768744 \nL 212.551746 76.238975 \nL 219.116452 77.993051 \nL 225.681158 79.849688 \nL 232.245864 82.251883 \nL 238.81057 86.179739 \nL 245.375276 89.538807 \nL 251.939982 89.721744 \nL 258.504687 90.646041 \nL 265.069393 92.570969 \nL 271.634099 92.570969 \nL 278.198805 93.554815 \nL 284.763511 93.811643 \nL 291.328217 94.704178 \nL 297.892923 95.723551 \nL 304.457629 97.735206 \nL 311.022335 105.200527 \nL 317.58704 243.374864 \nM 330.716452 79.788947 \nL 337.281158 85.130912 \n\" style=\"fill:none;stroke:#008000;stroke-linecap:square;stroke-width:1.5;\"/>\n   </g>\n   <g id=\"line2d_64\">\n    <path clip-path=\"url(#pfddada6e89)\" d=\"M 28.739982 45.702136 \nL 35.304688 45.720376 \nL 41.869393 45.712621 \nL 48.434099 45.71561 \nL 54.998805 45.748811 \nL 61.563511 45.719121 \nL 68.128217 45.720614 \nL 74.692923 45.719797 \nL 81.257629 45.719797 \nL 87.822335 45.72024 \nL 94.38704 45.720366 \nL 100.951746 45.720366 \nL 107.516452 45.720366 \nL 114.081158 45.720418 \nL 120.645864 45.721505 \nL 127.21057 69.696626 \nL 133.775276 47.287153 \nL 140.339982 61.575682 \nL 146.904687 47.530843 \nL 153.469393 47.546091 \nL 160.034099 47.551212 \nL 166.598805 65.653691 \nL 173.163511 75.030651 \nL 179.728217 69.338614 \nL 186.292923 71.579917 \nL 192.857629 71.867933 \nL 199.422335 73.82637 \nL 205.98704 74.768744 \nL 212.551746 76.238975 \nL 219.116452 77.993051 \nL 225.681158 79.849688 \nL 232.245864 82.251883 \nL 238.81057 86.179739 \nL 245.375276 89.538807 \nL 251.939982 89.721744 \nL 258.504687 90.646041 \nL 265.069393 92.570969 \nL 271.634099 92.570969 \nL 278.198805 93.554815 \nL 284.763511 93.811643 \nL 291.328217 94.704178 \nL 297.892923 95.723551 \nL 304.457629 97.735206 \nL 311.022335 105.200527 \nL 317.58704 243.374864 \nM 330.716452 79.788947 \nL 337.281158 85.130912 \nM 350.41057 241.591426 \n\" style=\"fill:none;stroke:#008000;stroke-linecap:square;stroke-width:1.5;\"/>\n   </g>\n   <g id=\"line2d_65\">\n    <path clip-path=\"url(#pfddada6e89)\" d=\"M 28.739982 45.702136 \nL 35.304688 45.720376 \nL 41.869393 45.712621 \nL 48.434099 45.71561 \nL 54.998805 45.748811 \nL 61.563511 45.719121 \nL 68.128217 45.720614 \nL 74.692923 45.719797 \nL 81.257629 45.719797 \nL 87.822335 45.72024 \nL 94.38704 45.720366 \nL 100.951746 45.720366 \nL 107.516452 45.720366 \nL 114.081158 45.720418 \nL 120.645864 45.721505 \nL 127.21057 69.696626 \nL 133.775276 47.287153 \nL 140.339982 61.575682 \nL 146.904687 47.530843 \nL 153.469393 47.546091 \nL 160.034099 47.551212 \nL 166.598805 65.653691 \nL 173.163511 75.030651 \nL 179.728217 69.338614 \nL 186.292923 71.579917 \nL 192.857629 71.867933 \nL 199.422335 73.82637 \nL 205.98704 74.768744 \nL 212.551746 76.238975 \nL 219.116452 77.993051 \nL 225.681158 79.849688 \nL 232.245864 82.251883 \nL 238.81057 86.179739 \nL 245.375276 89.538807 \nL 251.939982 89.721744 \nL 258.504687 90.646041 \nL 265.069393 92.570969 \nL 271.634099 92.570969 \nL 278.198805 93.554815 \nL 284.763511 93.811643 \nL 291.328217 94.704178 \nL 297.892923 95.723551 \nL 304.457629 97.735206 \nL 311.022335 105.200527 \nL 317.58704 243.374864 \nM 330.716452 79.788947 \nL 337.281158 85.130912 \nM 350.41057 241.591426 \n\" style=\"fill:none;stroke:#008000;stroke-linecap:square;stroke-width:1.5;\"/>\n   </g>\n   <g id=\"line2d_66\">\n    <path clip-path=\"url(#pfddada6e89)\" d=\"M 28.739982 45.702136 \nL 35.304688 45.720376 \nL 41.869393 45.712621 \nL 48.434099 45.71561 \nL 54.998805 45.748811 \nL 61.563511 45.719121 \nL 68.128217 45.720614 \nL 74.692923 45.719797 \nL 81.257629 45.719797 \nL 87.822335 45.72024 \nL 94.38704 45.720366 \nL 100.951746 45.720366 \nL 107.516452 45.720366 \nL 114.081158 45.720418 \nL 120.645864 45.721505 \nL 127.21057 69.696626 \nL 133.775276 47.287153 \nL 140.339982 61.575682 \nL 146.904687 47.530843 \nL 153.469393 47.546091 \nL 160.034099 47.551212 \nL 166.598805 65.653691 \nL 173.163511 75.030651 \nL 179.728217 69.338614 \nL 186.292923 71.579917 \nL 192.857629 71.867933 \nL 199.422335 73.82637 \nL 205.98704 74.768744 \nL 212.551746 76.238975 \nL 219.116452 77.993051 \nL 225.681158 79.849688 \nL 232.245864 82.251883 \nL 238.81057 86.179739 \nL 245.375276 89.538807 \nL 251.939982 89.721744 \nL 258.504687 90.646041 \nL 265.069393 92.570969 \nL 271.634099 92.570969 \nL 278.198805 93.554815 \nL 284.763511 93.811643 \nL 291.328217 94.704178 \nL 297.892923 95.723551 \nL 304.457629 97.735206 \nL 311.022335 105.200527 \nL 317.58704 243.374864 \nM 330.716452 79.788947 \nL 337.281158 85.130912 \nM 350.41057 241.591426 \n\" style=\"fill:none;stroke:#008000;stroke-linecap:square;stroke-width:1.5;\"/>\n   </g>\n   <g id=\"patch_3\">\n    <path d=\"M 35.304688 253.2585 \nL 35.304688 35.8185 \n\" style=\"fill:none;stroke:#000000;stroke-linecap:square;stroke-linejoin:miter;stroke-width:0.8;\"/>\n   </g>\n   <g id=\"patch_4\">\n    <path d=\"M 370.104688 253.2585 \nL 370.104688 35.8185 \n\" style=\"fill:none;stroke:#000000;stroke-linecap:square;stroke-linejoin:miter;stroke-width:0.8;\"/>\n   </g>\n   <g id=\"patch_5\">\n    <path d=\"M 35.304688 253.2585 \nL 370.104688 253.2585 \n\" style=\"fill:none;stroke:#000000;stroke-linecap:square;stroke-linejoin:miter;stroke-width:0.8;\"/>\n   </g>\n   <g id=\"patch_6\">\n    <path d=\"M 35.304688 35.8185 \nL 370.104688 35.8185 \n\" style=\"fill:none;stroke:#000000;stroke-linecap:square;stroke-linejoin:miter;stroke-width:0.8;\"/>\n   </g>\n   <g id=\"text_15\">\n    <!-- stopped on request  -->\n    <defs>\n     <path d=\"M 44.28125 53.078125 \nL 44.28125 44.578125 \nQ 40.484375 46.53125 36.375 47.5 \nQ 32.28125 48.484375 27.875 48.484375 \nQ 21.1875 48.484375 17.84375 46.4375 \nQ 14.5 44.390625 14.5 40.28125 \nQ 14.5 37.15625 16.890625 35.375 \nQ 19.28125 33.59375 26.515625 31.984375 \nL 29.59375 31.296875 \nQ 39.15625 29.25 43.1875 25.515625 \nQ 47.21875 21.78125 47.21875 15.09375 \nQ 47.21875 7.46875 41.1875 3.015625 \nQ 35.15625 -1.421875 24.609375 -1.421875 \nQ 20.21875 -1.421875 15.453125 -0.5625 \nQ 10.6875 0.296875 5.421875 2 \nL 5.421875 11.28125 \nQ 10.40625 8.6875 15.234375 7.390625 \nQ 20.0625 6.109375 24.8125 6.109375 \nQ 31.15625 6.109375 34.5625 8.28125 \nQ 37.984375 10.453125 37.984375 14.40625 \nQ 37.984375 18.0625 35.515625 20.015625 \nQ 33.0625 21.96875 24.703125 23.78125 \nL 21.578125 24.515625 \nQ 13.234375 26.265625 9.515625 29.90625 \nQ 5.8125 33.546875 5.8125 39.890625 \nQ 5.8125 47.609375 11.28125 51.796875 \nQ 16.75 56 26.8125 56 \nQ 31.78125 56 36.171875 55.265625 \nQ 40.578125 54.546875 44.28125 53.078125 \nz\n\" id=\"DejaVuSans-115\"/>\n     <path d=\"M 18.3125 70.21875 \nL 18.3125 54.6875 \nL 36.8125 54.6875 \nL 36.8125 47.703125 \nL 18.3125 47.703125 \nL 18.3125 18.015625 \nQ 18.3125 11.328125 20.140625 9.421875 \nQ 21.96875 7.515625 27.59375 7.515625 \nL 36.8125 7.515625 \nL 36.8125 0 \nL 27.59375 0 \nQ 17.1875 0 13.234375 3.875 \nQ 9.28125 7.765625 9.28125 18.015625 \nL 9.28125 47.703125 \nL 2.6875 47.703125 \nL 2.6875 54.6875 \nL 9.28125 54.6875 \nL 9.28125 70.21875 \nz\n\" id=\"DejaVuSans-116\"/>\n     <path d=\"M 30.609375 48.390625 \nQ 23.390625 48.390625 19.1875 42.75 \nQ 14.984375 37.109375 14.984375 27.296875 \nQ 14.984375 17.484375 19.15625 11.84375 \nQ 23.34375 6.203125 30.609375 6.203125 \nQ 37.796875 6.203125 41.984375 11.859375 \nQ 46.1875 17.53125 46.1875 27.296875 \nQ 46.1875 37.015625 41.984375 42.703125 \nQ 37.796875 48.390625 30.609375 48.390625 \nz\nM 30.609375 56 \nQ 42.328125 56 49.015625 48.375 \nQ 55.71875 40.765625 55.71875 27.296875 \nQ 55.71875 13.875 49.015625 6.21875 \nQ 42.328125 -1.421875 30.609375 -1.421875 \nQ 18.84375 -1.421875 12.171875 6.21875 \nQ 5.515625 13.875 5.515625 27.296875 \nQ 5.515625 40.765625 12.171875 48.375 \nQ 18.84375 56 30.609375 56 \nz\n\" id=\"DejaVuSans-111\"/>\n     <path d=\"M 18.109375 8.203125 \nL 18.109375 -20.796875 \nL 9.078125 -20.796875 \nL 9.078125 54.6875 \nL 18.109375 54.6875 \nL 18.109375 46.390625 \nQ 20.953125 51.265625 25.265625 53.625 \nQ 29.59375 56 35.59375 56 \nQ 45.5625 56 51.78125 48.09375 \nQ 58.015625 40.1875 58.015625 27.296875 \nQ 58.015625 14.40625 51.78125 6.484375 \nQ 45.5625 -1.421875 35.59375 -1.421875 \nQ 29.59375 -1.421875 25.265625 0.953125 \nQ 20.953125 3.328125 18.109375 8.203125 \nz\nM 48.6875 27.296875 \nQ 48.6875 37.203125 44.609375 42.84375 \nQ 40.53125 48.484375 33.40625 48.484375 \nQ 26.265625 48.484375 22.1875 42.84375 \nQ 18.109375 37.203125 18.109375 27.296875 \nQ 18.109375 17.390625 22.1875 11.75 \nQ 26.265625 6.109375 33.40625 6.109375 \nQ 40.53125 6.109375 44.609375 11.75 \nQ 48.6875 17.390625 48.6875 27.296875 \nz\n\" id=\"DejaVuSans-112\"/>\n     <path d=\"M 56.203125 29.59375 \nL 56.203125 25.203125 \nL 14.890625 25.203125 \nQ 15.484375 15.921875 20.484375 11.0625 \nQ 25.484375 6.203125 34.421875 6.203125 \nQ 39.59375 6.203125 44.453125 7.46875 \nQ 49.3125 8.734375 54.109375 11.28125 \nL 54.109375 2.78125 \nQ 49.265625 0.734375 44.1875 -0.34375 \nQ 39.109375 -1.421875 33.890625 -1.421875 \nQ 20.796875 -1.421875 13.15625 6.1875 \nQ 5.515625 13.8125 5.515625 26.8125 \nQ 5.515625 40.234375 12.765625 48.109375 \nQ 20.015625 56 32.328125 56 \nQ 43.359375 56 49.78125 48.890625 \nQ 56.203125 41.796875 56.203125 29.59375 \nz\nM 47.21875 32.234375 \nQ 47.125 39.59375 43.09375 43.984375 \nQ 39.0625 48.390625 32.421875 48.390625 \nQ 24.90625 48.390625 20.390625 44.140625 \nQ 15.875 39.890625 15.1875 32.171875 \nz\n\" id=\"DejaVuSans-101\"/>\n     <path d=\"M 45.40625 46.390625 \nL 45.40625 75.984375 \nL 54.390625 75.984375 \nL 54.390625 0 \nL 45.40625 0 \nL 45.40625 8.203125 \nQ 42.578125 3.328125 38.25 0.953125 \nQ 33.9375 -1.421875 27.875 -1.421875 \nQ 17.96875 -1.421875 11.734375 6.484375 \nQ 5.515625 14.40625 5.515625 27.296875 \nQ 5.515625 40.1875 11.734375 48.09375 \nQ 17.96875 56 27.875 56 \nQ 33.9375 56 38.25 53.625 \nQ 42.578125 51.265625 45.40625 46.390625 \nz\nM 14.796875 27.296875 \nQ 14.796875 17.390625 18.875 11.75 \nQ 22.953125 6.109375 30.078125 6.109375 \nQ 37.203125 6.109375 41.296875 11.75 \nQ 45.40625 17.390625 45.40625 27.296875 \nQ 45.40625 37.203125 41.296875 42.84375 \nQ 37.203125 48.484375 30.078125 48.484375 \nQ 22.953125 48.484375 18.875 42.84375 \nQ 14.796875 37.203125 14.796875 27.296875 \nz\n\" id=\"DejaVuSans-100\"/>\n     <path id=\"DejaVuSans-32\"/>\n     <path d=\"M 54.890625 33.015625 \nL 54.890625 0 \nL 45.90625 0 \nL 45.90625 32.71875 \nQ 45.90625 40.484375 42.875 44.328125 \nQ 39.84375 48.1875 33.796875 48.1875 \nQ 26.515625 48.1875 22.3125 43.546875 \nQ 18.109375 38.921875 18.109375 30.90625 \nL 18.109375 0 \nL 9.078125 0 \nL 9.078125 54.6875 \nL 18.109375 54.6875 \nL 18.109375 46.1875 \nQ 21.34375 51.125 25.703125 53.5625 \nQ 30.078125 56 35.796875 56 \nQ 45.21875 56 50.046875 50.171875 \nQ 54.890625 44.34375 54.890625 33.015625 \nz\n\" id=\"DejaVuSans-110\"/>\n     <path d=\"M 41.109375 46.296875 \nQ 39.59375 47.171875 37.8125 47.578125 \nQ 36.03125 48 33.890625 48 \nQ 26.265625 48 22.1875 43.046875 \nQ 18.109375 38.09375 18.109375 28.8125 \nL 18.109375 0 \nL 9.078125 0 \nL 9.078125 54.6875 \nL 18.109375 54.6875 \nL 18.109375 46.1875 \nQ 20.953125 51.171875 25.484375 53.578125 \nQ 30.03125 56 36.53125 56 \nQ 37.453125 56 38.578125 55.875 \nQ 39.703125 55.765625 41.0625 55.515625 \nz\n\" id=\"DejaVuSans-114\"/>\n     <path d=\"M 14.796875 27.296875 \nQ 14.796875 17.390625 18.875 11.75 \nQ 22.953125 6.109375 30.078125 6.109375 \nQ 37.203125 6.109375 41.296875 11.75 \nQ 45.40625 17.390625 45.40625 27.296875 \nQ 45.40625 37.203125 41.296875 42.84375 \nQ 37.203125 48.484375 30.078125 48.484375 \nQ 22.953125 48.484375 18.875 42.84375 \nQ 14.796875 37.203125 14.796875 27.296875 \nz\nM 45.40625 8.203125 \nQ 42.578125 3.328125 38.25 0.953125 \nQ 33.9375 -1.421875 27.875 -1.421875 \nQ 17.96875 -1.421875 11.734375 6.484375 \nQ 5.515625 14.40625 5.515625 27.296875 \nQ 5.515625 40.1875 11.734375 48.09375 \nQ 17.96875 56 27.875 56 \nQ 33.9375 56 38.25 53.625 \nQ 42.578125 51.265625 45.40625 46.390625 \nL 45.40625 54.6875 \nL 54.390625 54.6875 \nL 54.390625 -20.796875 \nL 45.40625 -20.796875 \nz\n\" id=\"DejaVuSans-113\"/>\n     <path d=\"M 8.5 21.578125 \nL 8.5 54.6875 \nL 17.484375 54.6875 \nL 17.484375 21.921875 \nQ 17.484375 14.15625 20.5 10.265625 \nQ 23.53125 6.390625 29.59375 6.390625 \nQ 36.859375 6.390625 41.078125 11.03125 \nQ 45.3125 15.671875 45.3125 23.6875 \nL 45.3125 54.6875 \nL 54.296875 54.6875 \nL 54.296875 0 \nL 45.3125 0 \nL 45.3125 8.40625 \nQ 42.046875 3.421875 37.71875 1 \nQ 33.40625 -1.421875 27.6875 -1.421875 \nQ 18.265625 -1.421875 13.375 4.4375 \nQ 8.5 10.296875 8.5 21.578125 \nz\nM 31.109375 56 \nz\n\" id=\"DejaVuSans-117\"/>\n    </defs>\n    <g transform=\"translate(142.4375 16.318125)scale(0.12 -0.12)\">\n     <use xlink:href=\"#DejaVuSans-115\"/>\n     <use x=\"52.099609\" xlink:href=\"#DejaVuSans-116\"/>\n     <use x=\"91.308594\" xlink:href=\"#DejaVuSans-111\"/>\n     <use x=\"152.490234\" xlink:href=\"#DejaVuSans-112\"/>\n     <use x=\"215.966797\" xlink:href=\"#DejaVuSans-112\"/>\n     <use x=\"279.443359\" xlink:href=\"#DejaVuSans-101\"/>\n     <use x=\"340.966797\" xlink:href=\"#DejaVuSans-100\"/>\n     <use x=\"404.443359\" xlink:href=\"#DejaVuSans-32\"/>\n     <use x=\"436.230469\" xlink:href=\"#DejaVuSans-111\"/>\n     <use x=\"497.412109\" xlink:href=\"#DejaVuSans-110\"/>\n     <use x=\"560.791016\" xlink:href=\"#DejaVuSans-32\"/>\n     <use x=\"592.578125\" xlink:href=\"#DejaVuSans-114\"/>\n     <use x=\"631.441406\" xlink:href=\"#DejaVuSans-101\"/>\n     <use x=\"692.964844\" xlink:href=\"#DejaVuSans-113\"/>\n     <use x=\"756.441406\" xlink:href=\"#DejaVuSans-117\"/>\n     <use x=\"819.820312\" xlink:href=\"#DejaVuSans-101\"/>\n     <use x=\"881.34375\" xlink:href=\"#DejaVuSans-115\"/>\n     <use x=\"933.443359\" xlink:href=\"#DejaVuSans-116\"/>\n     <use x=\"972.652344\" xlink:href=\"#DejaVuSans-32\"/>\n    </g>\n    <!--  Time : 8.123228371s | Iterations : 55 | Epsilon : 0.05 -->\n    <defs>\n     <path d=\"M -0.296875 72.90625 \nL 61.375 72.90625 \nL 61.375 64.59375 \nL 35.5 64.59375 \nL 35.5 0 \nL 25.59375 0 \nL 25.59375 64.59375 \nL -0.296875 64.59375 \nz\n\" id=\"DejaVuSans-84\"/>\n     <path d=\"M 9.421875 54.6875 \nL 18.40625 54.6875 \nL 18.40625 0 \nL 9.421875 0 \nz\nM 9.421875 75.984375 \nL 18.40625 75.984375 \nL 18.40625 64.59375 \nL 9.421875 64.59375 \nz\n\" id=\"DejaVuSans-105\"/>\n     <path d=\"M 52 44.1875 \nQ 55.375 50.25 60.0625 53.125 \nQ 64.75 56 71.09375 56 \nQ 79.640625 56 84.28125 50.015625 \nQ 88.921875 44.046875 88.921875 33.015625 \nL 88.921875 0 \nL 79.890625 0 \nL 79.890625 32.71875 \nQ 79.890625 40.578125 77.09375 44.375 \nQ 74.3125 48.1875 68.609375 48.1875 \nQ 61.625 48.1875 57.5625 43.546875 \nQ 53.515625 38.921875 53.515625 30.90625 \nL 53.515625 0 \nL 44.484375 0 \nL 44.484375 32.71875 \nQ 44.484375 40.625 41.703125 44.40625 \nQ 38.921875 48.1875 33.109375 48.1875 \nQ 26.21875 48.1875 22.15625 43.53125 \nQ 18.109375 38.875 18.109375 30.90625 \nL 18.109375 0 \nL 9.078125 0 \nL 9.078125 54.6875 \nL 18.109375 54.6875 \nL 18.109375 46.1875 \nQ 21.1875 51.21875 25.484375 53.609375 \nQ 29.78125 56 35.6875 56 \nQ 41.65625 56 45.828125 52.96875 \nQ 50 49.953125 52 44.1875 \nz\n\" id=\"DejaVuSans-109\"/>\n     <path d=\"M 11.71875 12.40625 \nL 22.015625 12.40625 \nL 22.015625 0 \nL 11.71875 0 \nz\nM 11.71875 51.703125 \nL 22.015625 51.703125 \nL 22.015625 39.3125 \nL 11.71875 39.3125 \nz\n\" id=\"DejaVuSans-58\"/>\n     <path d=\"M 10.6875 12.40625 \nL 21 12.40625 \nL 21 0 \nL 10.6875 0 \nz\n\" id=\"DejaVuSans-46\"/>\n     <path d=\"M 8.203125 72.90625 \nL 55.078125 72.90625 \nL 55.078125 68.703125 \nL 28.609375 0 \nL 18.3125 0 \nL 43.21875 64.59375 \nL 8.203125 64.59375 \nz\n\" id=\"DejaVuSans-55\"/>\n     <path d=\"M 21 76.421875 \nL 21 -23.578125 \nL 12.703125 -23.578125 \nL 12.703125 76.421875 \nz\n\" id=\"DejaVuSans-124\"/>\n     <path d=\"M 9.8125 72.90625 \nL 19.671875 72.90625 \nL 19.671875 0 \nL 9.8125 0 \nz\n\" id=\"DejaVuSans-73\"/>\n     <path d=\"M 34.28125 27.484375 \nQ 23.390625 27.484375 19.1875 25 \nQ 14.984375 22.515625 14.984375 16.5 \nQ 14.984375 11.71875 18.140625 8.90625 \nQ 21.296875 6.109375 26.703125 6.109375 \nQ 34.1875 6.109375 38.703125 11.40625 \nQ 43.21875 16.703125 43.21875 25.484375 \nL 43.21875 27.484375 \nz\nM 52.203125 31.203125 \nL 52.203125 0 \nL 43.21875 0 \nL 43.21875 8.296875 \nQ 40.140625 3.328125 35.546875 0.953125 \nQ 30.953125 -1.421875 24.3125 -1.421875 \nQ 15.921875 -1.421875 10.953125 3.296875 \nQ 6 8.015625 6 15.921875 \nQ 6 25.140625 12.171875 29.828125 \nQ 18.359375 34.515625 30.609375 34.515625 \nL 43.21875 34.515625 \nL 43.21875 35.40625 \nQ 43.21875 41.609375 39.140625 45 \nQ 35.0625 48.390625 27.6875 48.390625 \nQ 23 48.390625 18.546875 47.265625 \nQ 14.109375 46.140625 10.015625 43.890625 \nL 10.015625 52.203125 \nQ 14.9375 54.109375 19.578125 55.046875 \nQ 24.21875 56 28.609375 56 \nQ 40.484375 56 46.34375 49.84375 \nQ 52.203125 43.703125 52.203125 31.203125 \nz\n\" id=\"DejaVuSans-97\"/>\n     <path d=\"M 9.8125 72.90625 \nL 55.90625 72.90625 \nL 55.90625 64.59375 \nL 19.671875 64.59375 \nL 19.671875 43.015625 \nL 54.390625 43.015625 \nL 54.390625 34.71875 \nL 19.671875 34.71875 \nL 19.671875 8.296875 \nL 56.78125 8.296875 \nL 56.78125 0 \nL 9.8125 0 \nz\n\" id=\"DejaVuSans-69\"/>\n     <path d=\"M 9.421875 75.984375 \nL 18.40625 75.984375 \nL 18.40625 0 \nL 9.421875 0 \nz\n\" id=\"DejaVuSans-108\"/>\n    </defs>\n    <g transform=\"translate(42.63125 29.8185)scale(0.12 -0.12)\">\n     <use xlink:href=\"#DejaVuSans-32\"/>\n     <use x=\"31.787109\" xlink:href=\"#DejaVuSans-84\"/>\n     <use x=\"89.746094\" xlink:href=\"#DejaVuSans-105\"/>\n     <use x=\"117.529297\" xlink:href=\"#DejaVuSans-109\"/>\n     <use x=\"214.941406\" xlink:href=\"#DejaVuSans-101\"/>\n     <use x=\"276.464844\" xlink:href=\"#DejaVuSans-32\"/>\n     <use x=\"308.251953\" xlink:href=\"#DejaVuSans-58\"/>\n     <use x=\"341.943359\" xlink:href=\"#DejaVuSans-32\"/>\n     <use x=\"373.730469\" xlink:href=\"#DejaVuSans-56\"/>\n     <use x=\"437.353516\" xlink:href=\"#DejaVuSans-46\"/>\n     <use x=\"469.140625\" xlink:href=\"#DejaVuSans-49\"/>\n     <use x=\"532.763672\" xlink:href=\"#DejaVuSans-50\"/>\n     <use x=\"596.386719\" xlink:href=\"#DejaVuSans-51\"/>\n     <use x=\"660.009766\" xlink:href=\"#DejaVuSans-50\"/>\n     <use x=\"723.632812\" xlink:href=\"#DejaVuSans-50\"/>\n     <use x=\"787.255859\" xlink:href=\"#DejaVuSans-56\"/>\n     <use x=\"850.878906\" xlink:href=\"#DejaVuSans-51\"/>\n     <use x=\"914.501953\" xlink:href=\"#DejaVuSans-55\"/>\n     <use x=\"978.125\" xlink:href=\"#DejaVuSans-49\"/>\n     <use x=\"1041.748047\" xlink:href=\"#DejaVuSans-115\"/>\n     <use x=\"1093.847656\" xlink:href=\"#DejaVuSans-32\"/>\n     <use x=\"1125.634766\" xlink:href=\"#DejaVuSans-124\"/>\n     <use x=\"1159.326172\" xlink:href=\"#DejaVuSans-32\"/>\n     <use x=\"1191.113281\" xlink:href=\"#DejaVuSans-73\"/>\n     <use x=\"1220.605469\" xlink:href=\"#DejaVuSans-116\"/>\n     <use x=\"1259.814453\" xlink:href=\"#DejaVuSans-101\"/>\n     <use x=\"1321.337891\" xlink:href=\"#DejaVuSans-114\"/>\n     <use x=\"1362.451172\" xlink:href=\"#DejaVuSans-97\"/>\n     <use x=\"1423.730469\" xlink:href=\"#DejaVuSans-116\"/>\n     <use x=\"1462.939453\" xlink:href=\"#DejaVuSans-105\"/>\n     <use x=\"1490.722656\" xlink:href=\"#DejaVuSans-111\"/>\n     <use x=\"1551.904297\" xlink:href=\"#DejaVuSans-110\"/>\n     <use x=\"1615.283203\" xlink:href=\"#DejaVuSans-115\"/>\n     <use x=\"1667.382812\" xlink:href=\"#DejaVuSans-32\"/>\n     <use x=\"1699.169922\" xlink:href=\"#DejaVuSans-58\"/>\n     <use x=\"1732.861328\" xlink:href=\"#DejaVuSans-32\"/>\n     <use x=\"1764.648438\" xlink:href=\"#DejaVuSans-53\"/>\n     <use x=\"1828.271484\" xlink:href=\"#DejaVuSans-53\"/>\n     <use x=\"1891.894531\" xlink:href=\"#DejaVuSans-32\"/>\n     <use x=\"1923.681641\" xlink:href=\"#DejaVuSans-124\"/>\n     <use x=\"1957.373047\" xlink:href=\"#DejaVuSans-32\"/>\n     <use x=\"1989.160156\" xlink:href=\"#DejaVuSans-69\"/>\n     <use x=\"2052.34375\" xlink:href=\"#DejaVuSans-112\"/>\n     <use x=\"2115.820312\" xlink:href=\"#DejaVuSans-115\"/>\n     <use x=\"2167.919922\" xlink:href=\"#DejaVuSans-105\"/>\n     <use x=\"2195.703125\" xlink:href=\"#DejaVuSans-108\"/>\n     <use x=\"2223.486328\" xlink:href=\"#DejaVuSans-111\"/>\n     <use x=\"2284.667969\" xlink:href=\"#DejaVuSans-110\"/>\n     <use x=\"2348.046875\" xlink:href=\"#DejaVuSans-32\"/>\n     <use x=\"2379.833984\" xlink:href=\"#DejaVuSans-58\"/>\n     <use x=\"2413.525391\" xlink:href=\"#DejaVuSans-32\"/>\n     <use x=\"2445.3125\" xlink:href=\"#DejaVuSans-48\"/>\n     <use x=\"2508.935547\" xlink:href=\"#DejaVuSans-46\"/>\n     <use x=\"2540.722656\" xlink:href=\"#DejaVuSans-48\"/>\n     <use x=\"2604.345703\" xlink:href=\"#DejaVuSans-53\"/>\n    </g>\n   </g>\n  </g>\n </g>\n <defs>\n  <clipPath id=\"pfddada6e89\">\n   <rect height=\"217.44\" width=\"334.8\" x=\"35.304688\" y=\"35.8185\"/>\n  </clipPath>\n </defs>\n</svg>\n"
          },
          "metadata": {
            "needs_background": "light"
          }
        }
      ]
    },
    {
      "cell_type": "code",
      "metadata": {
        "colab": {
          "base_uri": "https://localhost:8080/",
          "height": 1000
        },
        "id": "Uuh8adW0AbhU",
        "outputId": "434d8263-adcb-4076-978d-82befc1b6c5c"
      },
      "source": [
        "gnb.showBN(estimator_2.bn,size=60,nodeColor={n:0.91 for n in estimator.bn.names()},cmap=plt.cm.get_cmap('Blues'))"
      ],
      "execution_count": 37,
      "outputs": [
        {
          "output_type": "display_data",
          "data": {
            "text/plain": [
              "<IPython.core.display.SVG object>"
            ],
            "image/svg+xml": "<svg height=\"1052pt\" viewBox=\"0.00 0.00 1328.99 1052.00\" width=\"1329pt\" xmlns=\"http://www.w3.org/2000/svg\" xmlns:xlink=\"http://www.w3.org/1999/xlink\">\n<g class=\"graph\" id=\"graph0\" transform=\"scale(1 1) rotate(0) translate(4 1048)\">\n<title>G</title>\n<!-- CoronavirusOC43 -->\n<g class=\"node\" id=\"node1\">\n<title>CoronavirusOC43</title>\n<g id=\"a_node1\"><a xlink:title=\"(20) CoronavirusOC43 : 0.91000\">\n<ellipse cx=\"369.9896\" cy=\"-666\" fill=\"#08488e\" rx=\"79.8859\" ry=\"18\" stroke=\"#000000\"/>\n<text fill=\"#ffffff\" font-family=\"Times,serif\" font-size=\"14.00\" text-anchor=\"middle\" x=\"369.9896\" y=\"-662.3\">CoronavirusOC43</text>\n</a>\n</g>\n</g>\n<!-- Parainfluenza 4 -->\n<g class=\"node\" id=\"node2\">\n<title>Parainfluenza 4</title>\n<g id=\"a_node2\"><a xlink:title=\"(18) Parainfluenza 4 : 0.91000\">\n<ellipse cx=\"808.9896\" cy=\"-954\" fill=\"#08488e\" rx=\"68.4888\" ry=\"18\" stroke=\"#000000\"/>\n<text fill=\"#ffffff\" font-family=\"Times,serif\" font-size=\"14.00\" text-anchor=\"middle\" x=\"808.9896\" y=\"-950.3\">Parainfluenza 4</text>\n</a>\n</g>\n</g>\n<!-- Coronavirus HKU1 -->\n<g class=\"node\" id=\"node9\">\n<title>Coronavirus HKU1</title>\n<g id=\"a_node9\"><a xlink:title=\"(14) Coronavirus HKU1 : 0.91000\">\n<ellipse cx=\"893.9896\" cy=\"-882\" fill=\"#08488e\" rx=\"85.2851\" ry=\"18\" stroke=\"#000000\"/>\n<text fill=\"#ffffff\" font-family=\"Times,serif\" font-size=\"14.00\" text-anchor=\"middle\" x=\"893.9896\" y=\"-878.3\">Coronavirus HKU1</text>\n</a>\n</g>\n</g>\n<!-- Parainfluenza 4&#45;&gt;Coronavirus HKU1 -->\n<g class=\"edge\" id=\"edge42\">\n<title>Parainfluenza 4-&gt;Coronavirus HKU1</title>\n<g id=\"a_edge42\"><a xlink:title=\"(18, 14) : \">\n<path d=\"M829.5657,-936.5708C840.3443,-927.4408 853.7135,-916.1163 865.4746,-906.1539\" fill=\"none\" stroke=\"#4a4a4a\"/>\n<polygon fill=\"#4a4a4a\" points=\"867.9401,-908.6524 873.3084,-899.5182 863.4157,-903.3111 867.9401,-908.6524\" stroke=\"#4a4a4a\"/>\n</a>\n</g>\n</g>\n<!-- CoronavirusNL63 -->\n<g class=\"node\" id=\"node14\">\n<title>CoronavirusNL63</title>\n<g id=\"a_node14\"><a xlink:title=\"(12) CoronavirusNL63 : 0.91000\">\n<ellipse cx=\"451.9896\" cy=\"-882\" fill=\"#08488e\" rx=\"79.0865\" ry=\"18\" stroke=\"#000000\"/>\n<text fill=\"#ffffff\" font-family=\"Times,serif\" font-size=\"14.00\" text-anchor=\"middle\" x=\"451.9896\" y=\"-878.3\">CoronavirusNL63</text>\n</a>\n</g>\n</g>\n<!-- Parainfluenza 4&#45;&gt;CoronavirusNL63 -->\n<g class=\"edge\" id=\"edge16\">\n<title>Parainfluenza 4-&gt;CoronavirusNL63</title>\n<g id=\"a_edge16\"><a xlink:title=\"(18, 12) : \">\n<path d=\"M754.769,-943.0647C692.3017,-930.4663 589.5215,-909.7375 521.2983,-895.9782\" fill=\"none\" stroke=\"#4a4a4a\"/>\n<polygon fill=\"#4a4a4a\" points=\"521.9868,-892.5467 511.4922,-894.0005 520.6028,-899.4085 521.9868,-892.5467\" stroke=\"#4a4a4a\"/>\n</a>\n</g>\n</g>\n<!-- Inf A H1N1 2009 -->\n<g class=\"node\" id=\"node23\">\n<title>Inf A H1N1 2009</title>\n<g id=\"a_node23\"><a xlink:title=\"(21) Inf A H1N1 2009 : 0.91000\">\n<ellipse cx=\"664.9896\" cy=\"-738\" fill=\"#08488e\" rx=\"77.1866\" ry=\"18\" stroke=\"#000000\"/>\n<text fill=\"#ffffff\" font-family=\"Times,serif\" font-size=\"14.00\" text-anchor=\"middle\" x=\"664.9896\" y=\"-734.3\">Inf A H1N1 2009</text>\n</a>\n</g>\n</g>\n<!-- Parainfluenza 4&#45;&gt;Inf A H1N1 2009 -->\n<g class=\"edge\" id=\"edge35\">\n<title>Parainfluenza 4-&gt;Inf A H1N1 2009</title>\n<g id=\"a_edge35\"><a xlink:title=\"(18, 21) : \">\n<path d=\"M804.4902,-935.7876C795.0007,-898.4494 772.3029,-814.8155 753.9896,-792 743.0283,-778.3439 727.6153,-767.2896 712.6906,-758.8238\" fill=\"none\" stroke=\"#4a4a4a\"/>\n<polygon fill=\"#4a4a4a\" points=\"713.9704,-755.5382 703.5051,-753.8871 710.6565,-761.7042 713.9704,-755.5382\" stroke=\"#4a4a4a\"/>\n</a>\n</g>\n</g>\n<!-- intensive_care -->\n<g class=\"node\" id=\"node3\">\n<title>intensive_care</title>\n<g id=\"a_node3\"><a xlink:title=\"(3) intensive_care : 0.91000\">\n<ellipse cx=\"876.9896\" cy=\"-378\" fill=\"#08488e\" rx=\"63.8893\" ry=\"18\" stroke=\"#000000\"/>\n<text fill=\"#ffffff\" font-family=\"Times,serif\" font-size=\"14.00\" text-anchor=\"middle\" x=\"876.9896\" y=\"-374.3\">intensive_care</text>\n</a>\n</g>\n</g>\n<!-- Influenza B -->\n<g class=\"node\" id=\"node4\">\n<title>Influenza B</title>\n<g id=\"a_node4\"><a xlink:title=\"(10) Influenza B : 0.91000\">\n<ellipse cx=\"985.9896\" cy=\"-522\" fill=\"#08488e\" rx=\"53.8905\" ry=\"18\" stroke=\"#000000\"/>\n<text fill=\"#ffffff\" font-family=\"Times,serif\" font-size=\"14.00\" text-anchor=\"middle\" x=\"985.9896\" y=\"-518.3\">Influenza B</text>\n</a>\n</g>\n</g>\n<!-- Respiratory Syncytial Virus -->\n<g class=\"node\" id=\"node27\">\n<title>Respiratory Syncytial Virus</title>\n<g id=\"a_node27\"><a xlink:title=\"(8) Respiratory Syncytial Virus : 0.91000\">\n<ellipse cx=\"985.9896\" cy=\"-450\" fill=\"#08488e\" rx=\"113.9803\" ry=\"18\" stroke=\"#000000\"/>\n<text fill=\"#ffffff\" font-family=\"Times,serif\" font-size=\"14.00\" text-anchor=\"middle\" x=\"985.9896\" y=\"-446.3\">Respiratory Syncytial Virus</text>\n</a>\n</g>\n</g>\n<!-- Influenza B&#45;&gt;Respiratory Syncytial Virus -->\n<g class=\"edge\" id=\"edge13\">\n<title>Influenza B-&gt;Respiratory Syncytial Virus</title>\n<g id=\"a_edge13\"><a xlink:title=\"(10, 8) : \">\n<path d=\"M985.9896,-503.8314C985.9896,-496.131 985.9896,-486.9743 985.9896,-478.4166\" fill=\"none\" stroke=\"#4a4a4a\"/>\n<polygon fill=\"#4a4a4a\" points=\"989.4897,-478.4132 985.9896,-468.4133 982.4897,-478.4133 989.4897,-478.4132\" stroke=\"#4a4a4a\"/>\n</a>\n</g>\n</g>\n<!-- Metapneumovirus -->\n<g class=\"node\" id=\"node5\">\n<title>Metapneumovirus</title>\n<g id=\"a_node5\"><a xlink:title=\"(23) Metapneumovirus : 0.91000\">\n<ellipse cx=\"665.9896\" cy=\"-810\" fill=\"#08488e\" rx=\"78.7863\" ry=\"18\" stroke=\"#000000\"/>\n<text fill=\"#ffffff\" font-family=\"Times,serif\" font-size=\"14.00\" text-anchor=\"middle\" x=\"665.9896\" y=\"-806.3\">Metapneumovirus</text>\n</a>\n</g>\n</g>\n<!-- Metapneumovirus&#45;&gt;Inf A H1N1 2009 -->\n<g class=\"edge\" id=\"edge20\">\n<title>Metapneumovirus-&gt;Inf A H1N1 2009</title>\n<g id=\"a_edge20\"><a xlink:title=\"(23, 21) : \">\n<path d=\"M665.7373,-791.8314C665.6303,-784.131 665.5032,-774.9743 665.3843,-766.4166\" fill=\"none\" stroke=\"#4a4a4a\"/>\n<polygon fill=\"#4a4a4a\" points=\"668.884,-766.3637 665.2454,-756.4133 661.8847,-766.4609 668.884,-766.3637\" stroke=\"#4a4a4a\"/>\n</a>\n</g>\n</g>\n<!-- Leukocytes -->\n<g class=\"node\" id=\"node6\">\n<title>Leukocytes</title>\n<g id=\"a_node6\"><a xlink:title=\"(7) Leukocytes : 0.91000\">\n<ellipse cx=\"1083.9896\" cy=\"-90\" fill=\"#08488e\" rx=\"53.8905\" ry=\"18\" stroke=\"#000000\"/>\n<text fill=\"#ffffff\" font-family=\"Times,serif\" font-size=\"14.00\" text-anchor=\"middle\" x=\"1083.9896\" y=\"-86.3\">Leukocytes</text>\n</a>\n</g>\n</g>\n<!-- Lymphocytes -->\n<g class=\"node\" id=\"node11\">\n<title>Lymphocytes</title>\n<g id=\"a_node11\"><a xlink:title=\"(6) Lymphocytes : 0.91000\">\n<ellipse cx=\"1124.9896\" cy=\"-18\" fill=\"#08488e\" rx=\"61.99\" ry=\"18\" stroke=\"#000000\"/>\n<text fill=\"#ffffff\" font-family=\"Times,serif\" font-size=\"14.00\" text-anchor=\"middle\" x=\"1124.9896\" y=\"-14.3\">Lymphocytes</text>\n</a>\n</g>\n</g>\n<!-- Leukocytes&#45;&gt;Lymphocytes -->\n<g class=\"edge\" id=\"edge17\">\n<title>Leukocytes-&gt;Lymphocytes</title>\n<g id=\"a_edge17\"><a xlink:title=\"(7, 6) : \">\n<path d=\"M1094.1245,-72.2022C1098.8553,-63.8944 1104.5855,-53.8316 1109.8181,-44.6427\" fill=\"none\" stroke=\"#4a4a4a\"/>\n<polygon fill=\"#4a4a4a\" points=\"1112.9223,-46.2644 1114.8293,-35.8425 1106.8394,-42.8005 1112.9223,-46.2644\" stroke=\"#4a4a4a\"/>\n</a>\n</g>\n</g>\n<!-- influenza_B_rapid_test -->\n<g class=\"node\" id=\"node7\">\n<title>influenza_B_rapid_test</title>\n<g id=\"a_node7\"><a xlink:title=\"(24) influenza_B_rapid_test : 0.91000\">\n<ellipse cx=\"640.9896\" cy=\"-594\" fill=\"#08488e\" rx=\"96.6831\" ry=\"18\" stroke=\"#000000\"/>\n<text fill=\"#ffffff\" font-family=\"Times,serif\" font-size=\"14.00\" text-anchor=\"middle\" x=\"640.9896\" y=\"-590.3\">influenza_B_rapid_test</text>\n</a>\n</g>\n</g>\n<!-- influenza_B_rapid_test&#45;&gt;Influenza B -->\n<g class=\"edge\" id=\"edge22\">\n<title>influenza_B_rapid_test-&gt;Influenza B</title>\n<g id=\"a_edge22\"><a xlink:title=\"(24, 10) : \">\n<path d=\"M705.4768,-580.5418C770.1377,-567.0474 868.68,-546.482 930.111,-533.6616\" fill=\"none\" stroke=\"#4a4a4a\"/>\n<polygon fill=\"#4a4a4a\" points=\"930.9393,-537.0643 940.0133,-531.5951 929.5091,-530.2119 930.9393,-537.0643\" stroke=\"#4a4a4a\"/>\n</a>\n</g>\n</g>\n<!-- influenza_A_rapid_test -->\n<g class=\"node\" id=\"node21\">\n<title>influenza_A_rapid_test</title>\n<g id=\"a_node21\"><a xlink:title=\"(25) influenza_A_rapid_test : 0.91000\">\n<ellipse cx=\"621.9896\" cy=\"-522\" fill=\"#08488e\" rx=\"97.4827\" ry=\"18\" stroke=\"#000000\"/>\n<text fill=\"#ffffff\" font-family=\"Times,serif\" font-size=\"14.00\" text-anchor=\"middle\" x=\"621.9896\" y=\"-518.3\">influenza_A_rapid_test</text>\n</a>\n</g>\n</g>\n<!-- influenza_B_rapid_test&#45;&gt;influenza_A_rapid_test -->\n<g class=\"edge\" id=\"edge43\">\n<title>influenza_B_rapid_test-&gt;influenza_A_rapid_test</title>\n<g id=\"a_edge43\"><a xlink:title=\"(24, 25) : \">\n<path d=\"M636.1951,-575.8314C634.1407,-568.0463 631.6936,-558.7729 629.4141,-550.1347\" fill=\"none\" stroke=\"#4a4a4a\"/>\n<polygon fill=\"#4a4a4a\" points=\"632.7844,-549.1892 626.8487,-540.4133 626.0161,-550.9753 632.7844,-549.1892\" stroke=\"#4a4a4a\"/>\n</a>\n</g>\n</g>\n<!-- regular_ward -->\n<g class=\"node\" id=\"node8\">\n<title>regular_ward</title>\n<g id=\"a_node8\"><a xlink:title=\"(1) regular_ward : 0.91000\">\n<ellipse cx=\"637.9896\" cy=\"-234\" fill=\"#08488e\" rx=\"59.5901\" ry=\"18\" stroke=\"#000000\"/>\n<text fill=\"#ffffff\" font-family=\"Times,serif\" font-size=\"14.00\" text-anchor=\"middle\" x=\"637.9896\" y=\"-230.3\">regular_ward</text>\n</a>\n</g>\n</g>\n<!-- Adenovirus -->\n<g class=\"node\" id=\"node15\">\n<title>Adenovirus</title>\n<g id=\"a_node15\"><a xlink:title=\"(17) Adenovirus : 0.91000\">\n<ellipse cx=\"1006.9896\" cy=\"-810\" fill=\"#08488e\" rx=\"54.6905\" ry=\"18\" stroke=\"#000000\"/>\n<text fill=\"#ffffff\" font-family=\"Times,serif\" font-size=\"14.00\" text-anchor=\"middle\" x=\"1006.9896\" y=\"-806.3\">Adenovirus</text>\n</a>\n</g>\n</g>\n<!-- Coronavirus HKU1&#45;&gt;Adenovirus -->\n<g class=\"edge\" id=\"edge2\">\n<title>Coronavirus HKU1-&gt;Adenovirus</title>\n<g id=\"a_edge2\"><a xlink:title=\"(14, 17) : \">\n<path d=\"M921.0559,-864.7542C936.5916,-854.8554 956.2465,-842.3319 972.8369,-831.761\" fill=\"none\" stroke=\"#4a4a4a\"/>\n<polygon fill=\"#4a4a4a\" points=\"975.1401,-834.4437 981.6929,-826.1183 971.3786,-828.5402 975.1401,-834.4437\" stroke=\"#4a4a4a\"/>\n</a>\n</g>\n</g>\n<!-- covid_19 -->\n<g class=\"node\" id=\"node25\">\n<title>covid_19</title>\n<g id=\"a_node25\"><a xlink:title=\"(0) covid_19 : 0.91000\">\n<ellipse cx=\"1043.9896\" cy=\"-306\" fill=\"#08488e\" rx=\"46.2923\" ry=\"18\" stroke=\"#000000\"/>\n<text fill=\"#ffffff\" font-family=\"Times,serif\" font-size=\"14.00\" text-anchor=\"middle\" x=\"1043.9896\" y=\"-302.3\">covid_19</text>\n</a>\n</g>\n</g>\n<!-- Coronavirus HKU1&#45;&gt;covid_19 -->\n<g class=\"edge\" id=\"edge10\">\n<title>Coronavirus HKU1-&gt;covid_19</title>\n<g id=\"a_edge10\"><a xlink:title=\"(14, 0) : \">\n<path d=\"M899.5284,-864.0204C906.5849,-843.8964 920.6218,-811.5548 942.9896,-792 1044.344,-703.3923 1138.5282,-786.3452 1225.9896,-684 1252.549,-652.9209 1244.9896,-634.8816 1244.9896,-594 1244.9896,-594 1244.9896,-594 1244.9896,-450 1244.9896,-375.5864 1152.8255,-335.9226 1093.3146,-318.068\" fill=\"none\" stroke=\"#4a4a4a\"/>\n<polygon fill=\"#4a4a4a\" points=\"1094.2795,-314.7037 1083.7008,-315.2866 1092.3341,-321.4279 1094.2795,-314.7037\" stroke=\"#4a4a4a\"/>\n</a>\n</g>\n</g>\n<!-- Parainfluenza 1 -->\n<g class=\"node\" id=\"node10\">\n<title>Parainfluenza 1</title>\n<g id=\"a_node10\"><a xlink:title=\"(11) Parainfluenza 1 : 0.91000\">\n<ellipse cx=\"930.9896\" cy=\"-594\" fill=\"#08488e\" rx=\"68.4888\" ry=\"18\" stroke=\"#000000\"/>\n<text fill=\"#ffffff\" font-family=\"Times,serif\" font-size=\"14.00\" text-anchor=\"middle\" x=\"930.9896\" y=\"-590.3\">Parainfluenza 1</text>\n</a>\n</g>\n</g>\n<!-- Bordetella pertussis -->\n<g class=\"node\" id=\"node12\">\n<title>Bordetella pertussis</title>\n<g id=\"a_node12\"><a xlink:title=\"(22) Bordetella pertussis : 0.91000\">\n<ellipse cx=\"921.9896\" cy=\"-1026\" fill=\"#08488e\" rx=\"83.3857\" ry=\"18\" stroke=\"#000000\"/>\n<text fill=\"#ffffff\" font-family=\"Times,serif\" font-size=\"14.00\" text-anchor=\"middle\" x=\"921.9896\" y=\"-1022.3\">Bordetella pertussis</text>\n</a>\n</g>\n</g>\n<!-- Bordetella pertussis&#45;&gt;CoronavirusOC43 -->\n<g class=\"edge\" id=\"edge15\">\n<title>Bordetella pertussis-&gt;CoronavirusOC43</title>\n<g id=\"a_edge15\"><a xlink:title=\"(22, 20) : \">\n<path d=\"M858.3445,-1014.3235C754.2376,-993.3899 558.9896,-945.6458 558.9896,-882 558.9896,-882 558.9896,-882 558.9896,-810 558.9896,-744.0396 485.2543,-704.2986 429.8949,-683.7567\" fill=\"none\" stroke=\"#4a4a4a\"/>\n<polygon fill=\"#4a4a4a\" points=\"430.7365,-680.3404 420.1419,-680.2627 428.3756,-686.9303 430.7365,-680.3404\" stroke=\"#4a4a4a\"/>\n</a>\n</g>\n</g>\n<!-- Bordetella pertussis&#45;&gt;Parainfluenza 4 -->\n<g class=\"edge\" id=\"edge45\">\n<title>Bordetella pertussis-&gt;Parainfluenza 4</title>\n<g id=\"a_edge45\"><a xlink:title=\"(22, 18) : \">\n<path d=\"M895.2102,-1008.937C879.9015,-999.1828 860.5233,-986.8356 844.0174,-976.3186\" fill=\"none\" stroke=\"#4a4a4a\"/>\n<polygon fill=\"#4a4a4a\" points=\"845.5013,-973.114 835.187,-970.6921 841.7398,-979.0175 845.5013,-973.114\" stroke=\"#4a4a4a\"/>\n</a>\n</g>\n</g>\n<!-- Bordetella pertussis&#45;&gt;Metapneumovirus -->\n<g class=\"edge\" id=\"edge5\">\n<title>Bordetella pertussis-&gt;Metapneumovirus</title>\n<g id=\"a_edge5\"><a xlink:title=\"(22, 23) : \">\n<path d=\"M858.6828,-1014.2151C811.0337,-1004.2295 750.8286,-988.8734 731.9896,-972 692.4573,-936.5923 676.1421,-874.0379 669.7679,-837.8972\" fill=\"none\" stroke=\"#4a4a4a\"/>\n<polygon fill=\"#4a4a4a\" points=\"673.221,-837.3251 668.1581,-828.0182 666.3121,-838.451 673.221,-837.3251\" stroke=\"#4a4a4a\"/>\n</a>\n</g>\n</g>\n<!-- Bordetella pertussis&#45;&gt;Parainfluenza 1 -->\n<g class=\"edge\" id=\"edge34\">\n<title>Bordetella pertussis-&gt;Parainfluenza 1</title>\n<g id=\"a_edge34\"><a xlink:title=\"(22, 11) : \">\n<path d=\"M985.2841,-1014.2589C1088.8174,-993.2284 1282.9896,-945.3429 1282.9896,-882 1282.9896,-882 1282.9896,-882 1282.9896,-738 1282.9896,-690.6526 1265.2365,-674.4852 1225.9896,-648 1207.5977,-635.5885 1082.9056,-615.7638 1001.6292,-603.901\" fill=\"none\" stroke=\"#4a4a4a\"/>\n<polygon fill=\"#4a4a4a\" points=\"1001.8497,-600.3964 991.4506,-602.4238 1000.8442,-607.3239 1001.8497,-600.3964\" stroke=\"#4a4a4a\"/>\n</a>\n</g>\n</g>\n<!-- Bordetella pertussis&#45;&gt;CoronavirusNL63 -->\n<g class=\"edge\" id=\"edge40\">\n<title>Bordetella pertussis-&gt;CoronavirusNL63</title>\n<g id=\"a_edge40\"><a xlink:title=\"(22, 12) : \">\n<path d=\"M842.5223,-1020.3884C747.7961,-1012.7051 595.9028,-996.9488 544.9896,-972 514.7096,-957.162 487.9702,-928.7901 471.0267,-907.8521\" fill=\"none\" stroke=\"#4a4a4a\"/>\n<polygon fill=\"#4a4a4a\" points=\"473.747,-905.6492 464.8118,-899.956 468.2464,-909.9787 473.747,-905.6492\" stroke=\"#4a4a4a\"/>\n</a>\n</g>\n</g>\n<!-- Bordetella pertussis&#45;&gt;Adenovirus -->\n<g class=\"edge\" id=\"edge29\">\n<title>Bordetella pertussis-&gt;Adenovirus</title>\n<g id=\"a_edge29\"><a xlink:title=\"(22, 17) : \">\n<path d=\"M933.49,-1007.9439C948.1825,-984.1107 973.4464,-940.4321 987.9896,-900 995.2641,-879.776 1000.1412,-855.9416 1003.131,-837.8827\" fill=\"none\" stroke=\"#4a4a4a\"/>\n<polygon fill=\"#4a4a4a\" points=\"1006.5912,-838.4087 1004.6772,-827.9882 999.6752,-837.3279 1006.5912,-838.4087\" stroke=\"#4a4a4a\"/>\n</a>\n</g>\n</g>\n<!-- Influenza A -->\n<g class=\"node\" id=\"node17\">\n<title>Influenza A</title>\n<g id=\"a_node17\"><a xlink:title=\"(9) Influenza A : 0.91000\">\n<ellipse cx=\"1131.9896\" cy=\"-594\" fill=\"#08488e\" rx=\"53.8905\" ry=\"18\" stroke=\"#000000\"/>\n<text fill=\"#ffffff\" font-family=\"Times,serif\" font-size=\"14.00\" text-anchor=\"middle\" x=\"1131.9896\" y=\"-590.3\">Influenza A</text>\n</a>\n</g>\n</g>\n<!-- Bordetella pertussis&#45;&gt;Influenza A -->\n<g class=\"edge\" id=\"edge9\">\n<title>Bordetella pertussis-&gt;Influenza A</title>\n<g id=\"a_edge9\"><a xlink:title=\"(22, 9) : \">\n<path d=\"M1002.1844,-1021.0922C1061.0674,-1015.0827 1141.8082,-1001.7179 1206.9896,-972 1265.7261,-945.2205 1320.9896,-946.5532 1320.9896,-882 1320.9896,-882 1320.9896,-882 1320.9896,-738 1320.9896,-668.7319 1239.6736,-628.3787 1183.7167,-608.8103\" fill=\"none\" stroke=\"#4a4a4a\"/>\n<polygon fill=\"#4a4a4a\" points=\"1184.529,-605.3905 1173.9348,-605.5086 1182.2903,-612.0229 1184.529,-605.3905\" stroke=\"#4a4a4a\"/>\n</a>\n</g>\n</g>\n<!-- Parainfluenza 3 -->\n<g class=\"node\" id=\"node19\">\n<title>Parainfluenza 3</title>\n<g id=\"a_node19\"><a xlink:title=\"(15) Parainfluenza 3 : 0.91000\">\n<ellipse cx=\"975.9896\" cy=\"-666\" fill=\"#08488e\" rx=\"68.4888\" ry=\"18\" stroke=\"#000000\"/>\n<text fill=\"#ffffff\" font-family=\"Times,serif\" font-size=\"14.00\" text-anchor=\"middle\" x=\"975.9896\" y=\"-662.3\">Parainfluenza 3</text>\n</a>\n</g>\n</g>\n<!-- Bordetella pertussis&#45;&gt;Parainfluenza 3 -->\n<g class=\"edge\" id=\"edge30\">\n<title>Bordetella pertussis-&gt;Parainfluenza 3</title>\n<g id=\"a_edge30\"><a xlink:title=\"(22, 15) : \">\n<path d=\"M965.6911,-1010.4594C1015.4687,-989.6251 1089.9896,-947.4972 1089.9896,-882 1089.9896,-882 1089.9896,-882 1089.9896,-810 1089.9896,-758.1182 1043.9366,-714.0152 1010.3721,-688.7616\" fill=\"none\" stroke=\"#4a4a4a\"/>\n<polygon fill=\"#4a4a4a\" points=\"1012.2839,-685.8238 1002.1435,-682.7541 1008.1563,-691.4775 1012.2839,-685.8238\" stroke=\"#4a4a4a\"/>\n</a>\n</g>\n</g>\n<!-- Coronavirus229E -->\n<g class=\"node\" id=\"node24\">\n<title>Coronavirus229E</title>\n<g id=\"a_node24\"><a xlink:title=\"(19) Coronavirus229E : 0.91000\">\n<ellipse cx=\"1139.9896\" cy=\"-666\" fill=\"#08488e\" rx=\"77.1866\" ry=\"18\" stroke=\"#000000\"/>\n<text fill=\"#ffffff\" font-family=\"Times,serif\" font-size=\"14.00\" text-anchor=\"middle\" x=\"1139.9896\" y=\"-662.3\">Coronavirus229E</text>\n</a>\n</g>\n</g>\n<!-- Bordetella pertussis&#45;&gt;Coronavirus229E -->\n<g class=\"edge\" id=\"edge8\">\n<title>Bordetella pertussis-&gt;Coronavirus229E</title>\n<g id=\"a_edge8\"><a xlink:title=\"(22, 19) : \">\n<path d=\"M978.5533,-1012.7232C1039.8422,-994.5791 1128.9896,-955.5469 1128.9896,-882 1128.9896,-882 1128.9896,-882 1128.9896,-810 1128.9896,-769.7591 1133.3132,-723.3759 1136.5391,-694.3689\" fill=\"none\" stroke=\"#4a4a4a\"/>\n<polygon fill=\"#4a4a4a\" points=\"1140.0486,-694.485 1137.7104,-684.1514 1133.0942,-693.6877 1140.0486,-694.485\" stroke=\"#4a4a4a\"/>\n</a>\n</g>\n</g>\n<!-- Chlamydophila pneumoniae -->\n<g class=\"node\" id=\"node26\">\n<title>Chlamydophila pneumoniae</title>\n<g id=\"a_node26\"><a xlink:title=\"(16) Chlamydophila pneumoniae : 0.91000\">\n<ellipse cx=\"116.9896\" cy=\"-810\" fill=\"#08488e\" rx=\"116.9792\" ry=\"18\" stroke=\"#000000\"/>\n<text fill=\"#ffffff\" font-family=\"Times,serif\" font-size=\"14.00\" text-anchor=\"middle\" x=\"116.9896\" y=\"-806.3\">Chlamydophila pneumoniae</text>\n</a>\n</g>\n</g>\n<!-- Bordetella pertussis&#45;&gt;Chlamydophila pneumoniae -->\n<g class=\"edge\" id=\"edge18\">\n<title>Bordetella pertussis-&gt;Chlamydophila pneumoniae</title>\n<g id=\"a_edge18\"><a xlink:title=\"(22, 16) : \">\n<path d=\"M840.0158,-1022.5337C752.6853,-1017.2634 611.0448,-1004.1669 492.9896,-972 365.9234,-937.3778 225.8256,-868.01 158.1227,-832.3289\" fill=\"none\" stroke=\"#4a4a4a\"/>\n<polygon fill=\"#4a4a4a\" points=\"159.5337,-829.1155 149.0589,-827.5248 156.2555,-835.3005 159.5337,-829.1155\" stroke=\"#4a4a4a\"/>\n</a>\n</g>\n</g>\n<!-- Rhinovirus/Enterovirus -->\n<g class=\"node\" id=\"node13\">\n<title>Rhinovirus/Enterovirus</title>\n<g id=\"a_node13\"><a xlink:title=\"(13) Rhinovirus/Enterovirus : 0.91000\">\n<ellipse cx=\"790.9896\" cy=\"-666\" fill=\"#08488e\" rx=\"98.5829\" ry=\"18\" stroke=\"#000000\"/>\n<text fill=\"#ffffff\" font-family=\"Times,serif\" font-size=\"14.00\" text-anchor=\"middle\" x=\"790.9896\" y=\"-662.3\">Rhinovirus/Enterovirus</text>\n</a>\n</g>\n</g>\n<!-- Rhinovirus/Enterovirus&#45;&gt;Parainfluenza 1 -->\n<g class=\"edge\" id=\"edge23\">\n<title>Rhinovirus/Enterovirus-&gt;Parainfluenza 1</title>\n<g id=\"a_edge23\"><a xlink:title=\"(13, 11) : \">\n<path d=\"M824.1677,-648.937C844.0306,-638.7218 869.4232,-625.6627 890.4671,-614.8401\" fill=\"none\" stroke=\"#4a4a4a\"/>\n<polygon fill=\"#4a4a4a\" points=\"892.1997,-617.8849 899.4918,-610.1989 888.9982,-611.6599 892.1997,-617.8849\" stroke=\"#4a4a4a\"/>\n</a>\n</g>\n</g>\n<!-- Rhinovirus/Enterovirus&#45;&gt;Influenza A -->\n<g class=\"edge\" id=\"edge46\">\n<title>Rhinovirus/Enterovirus-&gt;Influenza A</title>\n<g id=\"a_edge46\"><a xlink:title=\"(13, 9) : \">\n<path d=\"M855.9318,-652.2879C919.6838,-638.827 1015.8973,-618.5122 1076.2681,-605.7652\" fill=\"none\" stroke=\"#4a4a4a\"/>\n<polygon fill=\"#4a4a4a\" points=\"1077.3114,-609.1222 1086.3726,-603.6317 1075.8652,-602.2732 1077.3114,-609.1222\" stroke=\"#4a4a4a\"/>\n</a>\n</g>\n</g>\n<!-- Rhinovirus/Enterovirus&#45;&gt;covid_19 -->\n<g class=\"edge\" id=\"edge48\">\n<title>Rhinovirus/Enterovirus-&gt;covid_19</title>\n<g id=\"a_edge48\"><a xlink:title=\"(13, 0) : \">\n<path d=\"M785.0514,-647.8416C769.3378,-595.9888 732.5695,-445.4898 803.9896,-360 827.2362,-332.1738 925.228,-317.5041 988.5856,-310.7798\" fill=\"none\" stroke=\"#4a4a4a\"/>\n<polygon fill=\"#4a4a4a\" points=\"989.2353,-314.2316 998.8261,-309.7297 988.5212,-307.2681 989.2353,-314.2316\" stroke=\"#4a4a4a\"/>\n</a>\n</g>\n</g>\n<!-- CoronavirusNL63&#45;&gt;Metapneumovirus -->\n<g class=\"edge\" id=\"edge47\">\n<title>CoronavirusNL63-&gt;Metapneumovirus</title>\n<g id=\"a_edge47\"><a xlink:title=\"(12, 23) : \">\n<path d=\"M496.5905,-866.9941C530.0689,-855.7303 576.0745,-840.2518 611.694,-828.2677\" fill=\"none\" stroke=\"#4a4a4a\"/>\n<polygon fill=\"#4a4a4a\" points=\"613.0843,-831.4928 621.4461,-824.9866 610.8521,-824.8582 613.0843,-831.4928\" stroke=\"#4a4a4a\"/>\n</a>\n</g>\n</g>\n<!-- CoronavirusNL63&#45;&gt;regular_ward -->\n<g class=\"edge\" id=\"edge4\">\n<title>CoronavirusNL63-&gt;regular_ward</title>\n<g id=\"a_edge4\"><a xlink:title=\"(12, 1) : \">\n<path d=\"M402.0694,-867.9876C345.7756,-848.7754 261.9896,-808.362 261.9896,-738 261.9896,-738 261.9896,-738 261.9896,-378 261.9896,-311.7221 468.3066,-264.6203 575.2806,-244.6528\" fill=\"none\" stroke=\"#4a4a4a\"/>\n<polygon fill=\"#4a4a4a\" points=\"576.1118,-248.0587 585.3125,-242.8055 574.844,-241.1745 576.1118,-248.0587\" stroke=\"#4a4a4a\"/>\n</a>\n</g>\n</g>\n<!-- CoronavirusNL63&#45;&gt;Chlamydophila pneumoniae -->\n<g class=\"edge\" id=\"edge11\">\n<title>CoronavirusNL63-&gt;Chlamydophila pneumoniae</title>\n<g id=\"a_edge11\"><a xlink:title=\"(12, 16) : \">\n<path d=\"M394.4011,-869.6228C339.4666,-857.8159 256.2924,-839.9397 195.3423,-826.84\" fill=\"none\" stroke=\"#4a4a4a\"/>\n<polygon fill=\"#4a4a4a\" points=\"195.8906,-823.378 185.3784,-824.6985 194.4196,-830.2217 195.8906,-823.378\" stroke=\"#4a4a4a\"/>\n</a>\n</g>\n</g>\n<!-- semi_intensive_care -->\n<g class=\"node\" id=\"node16\">\n<title>semi_intensive_care</title>\n<g id=\"a_node16\"><a xlink:title=\"(2) semi_intensive_care : 0.91000\">\n<ellipse cx=\"1043.9896\" cy=\"-378\" fill=\"#08488e\" rx=\"85.2851\" ry=\"18\" stroke=\"#000000\"/>\n<text fill=\"#ffffff\" font-family=\"Times,serif\" font-size=\"14.00\" text-anchor=\"middle\" x=\"1043.9896\" y=\"-374.3\">semi_intensive_care</text>\n</a>\n</g>\n</g>\n<!-- semi_intensive_care&#45;&gt;covid_19 -->\n<g class=\"edge\" id=\"edge44\">\n<title>semi_intensive_care-&gt;covid_19</title>\n<g id=\"a_edge44\"><a xlink:title=\"(2, 0) : \">\n<path d=\"M1043.9896,-359.8314C1043.9896,-352.131 1043.9896,-342.9743 1043.9896,-334.4166\" fill=\"none\" stroke=\"#4a4a4a\"/>\n<polygon fill=\"#4a4a4a\" points=\"1047.4897,-334.4132 1043.9896,-324.4133 1040.4897,-334.4133 1047.4897,-334.4132\" stroke=\"#4a4a4a\"/>\n</a>\n</g>\n</g>\n<!-- Influenza A&#45;&gt;Influenza B -->\n<g class=\"edge\" id=\"edge32\">\n<title>Influenza A-&gt;Influenza B</title>\n<g id=\"a_edge32\"><a xlink:title=\"(9, 10) : \">\n<path d=\"M1101.7383,-579.0816C1079.6912,-568.209 1049.6119,-553.3754 1025.6423,-541.5548\" fill=\"none\" stroke=\"#4a4a4a\"/>\n<polygon fill=\"#4a4a4a\" points=\"1026.9697,-538.3069 1016.453,-537.023 1023.8736,-544.5851 1026.9697,-538.3069\" stroke=\"#4a4a4a\"/>\n</a>\n</g>\n</g>\n<!-- Red blood Cells -->\n<g class=\"node\" id=\"node22\">\n<title>Red blood Cells</title>\n<g id=\"a_node22\"><a xlink:title=\"(5) Red blood Cells : 0.91000\">\n<ellipse cx=\"1142.9896\" cy=\"-234\" fill=\"#08488e\" rx=\"71.4873\" ry=\"18\" stroke=\"#000000\"/>\n<text fill=\"#ffffff\" font-family=\"Times,serif\" font-size=\"14.00\" text-anchor=\"middle\" x=\"1142.9896\" y=\"-230.3\">Red blood Cells</text>\n</a>\n</g>\n</g>\n<!-- Influenza A&#45;&gt;Red blood Cells -->\n<g class=\"edge\" id=\"edge31\">\n<title>Influenza A-&gt;Red blood Cells</title>\n<g id=\"a_edge31\"><a xlink:title=\"(9, 5) : \">\n<path d=\"M1165.877,-579.8214C1210.3968,-558.6611 1282.9896,-514.2991 1282.9896,-450 1282.9896,-450 1282.9896,-450 1282.9896,-378 1282.9896,-321.315 1226.5303,-278.5525 1185.3199,-254.8897\" fill=\"none\" stroke=\"#4a4a4a\"/>\n<polygon fill=\"#4a4a4a\" points=\"1186.9627,-251.7984 1176.5231,-249.9914 1183.5573,-257.9142 1186.9627,-251.7984\" stroke=\"#4a4a4a\"/>\n</a>\n</g>\n</g>\n<!-- Strepto A -->\n<g class=\"node\" id=\"node18\">\n<title>Strepto A</title>\n<g id=\"a_node18\"><a xlink:title=\"(26) Strepto A : 0.91000\">\n<ellipse cx=\"589.9896\" cy=\"-666\" fill=\"#08488e\" rx=\"46.2923\" ry=\"18\" stroke=\"#000000\"/>\n<text fill=\"#ffffff\" font-family=\"Times,serif\" font-size=\"14.00\" text-anchor=\"middle\" x=\"589.9896\" y=\"-662.3\">Strepto A</text>\n</a>\n</g>\n</g>\n<!-- Strepto A&#45;&gt;influenza_B_rapid_test -->\n<g class=\"edge\" id=\"edge1\">\n<title>Strepto A-&gt;influenza_B_rapid_test</title>\n<g id=\"a_edge1\"><a xlink:title=\"(26, 24) : \">\n<path d=\"M602.3353,-648.5708C608.339,-640.095 615.6824,-629.7279 622.3498,-620.3151\" fill=\"none\" stroke=\"#4a4a4a\"/>\n<polygon fill=\"#4a4a4a\" points=\"625.3009,-622.2039 628.225,-612.0206 619.5887,-618.1578 625.3009,-622.2039\" stroke=\"#4a4a4a\"/>\n</a>\n</g>\n</g>\n<!-- Platelets -->\n<g class=\"node\" id=\"node20\">\n<title>Platelets</title>\n<g id=\"a_node20\"><a xlink:title=\"(4) Platelets : 0.91000\">\n<ellipse cx=\"1058.9896\" cy=\"-162\" fill=\"#08488e\" rx=\"40.8928\" ry=\"18\" stroke=\"#000000\"/>\n<text fill=\"#ffffff\" font-family=\"Times,serif\" font-size=\"14.00\" text-anchor=\"middle\" x=\"1058.9896\" y=\"-158.3\">Platelets</text>\n</a>\n</g>\n</g>\n<!-- Platelets&#45;&gt;Leukocytes -->\n<g class=\"edge\" id=\"edge3\">\n<title>Platelets-&gt;Leukocytes</title>\n<g id=\"a_edge3\"><a xlink:title=\"(4, 7) : \">\n<path d=\"M1065.1694,-144.2022C1067.9429,-136.2146 1071.2797,-126.6045 1074.3685,-117.7087\" fill=\"none\" stroke=\"#4a4a4a\"/>\n<polygon fill=\"#4a4a4a\" points=\"1077.7335,-118.6879 1077.7073,-108.0931 1071.1207,-116.3918 1077.7335,-118.6879\" stroke=\"#4a4a4a\"/>\n</a>\n</g>\n</g>\n<!-- Red blood Cells&#45;&gt;Leukocytes -->\n<g class=\"edge\" id=\"edge41\">\n<title>Red blood Cells-&gt;Leukocytes</title>\n<g id=\"a_edge41\"><a xlink:title=\"(5, 7) : \">\n<path d=\"M1136.5952,-215.9192C1130.028,-197.6377 1119.3324,-168.6419 1108.9896,-144 1105.2713,-135.1409 1100.9552,-125.592 1096.9664,-117.0235\" fill=\"none\" stroke=\"#4a4a4a\"/>\n<polygon fill=\"#4a4a4a\" points=\"1100.0766,-115.4127 1092.6513,-107.8551 1093.743,-118.3936 1100.0766,-115.4127\" stroke=\"#4a4a4a\"/>\n</a>\n</g>\n</g>\n<!-- Red blood Cells&#45;&gt;Lymphocytes -->\n<g class=\"edge\" id=\"edge6\">\n<title>Red blood Cells-&gt;Lymphocytes</title>\n<g id=\"a_edge6\"><a xlink:title=\"(5, 6) : \">\n<path d=\"M1145.9796,-215.8053C1150.3792,-185.6021 1157.0489,-123.3525 1146.9896,-72 1145.2273,-63.0032 1141.9586,-53.6139 1138.4699,-45.2358\" fill=\"none\" stroke=\"#4a4a4a\"/>\n<polygon fill=\"#4a4a4a\" points=\"1141.6047,-43.6709 1134.3505,-35.9491 1135.206,-46.5094 1141.6047,-43.6709\" stroke=\"#4a4a4a\"/>\n</a>\n</g>\n</g>\n<!-- Red blood Cells&#45;&gt;Platelets -->\n<g class=\"edge\" id=\"edge25\">\n<title>Red blood Cells-&gt;Platelets</title>\n<g id=\"a_edge25\"><a xlink:title=\"(5, 4) : \">\n<path d=\"M1122.6556,-216.5708C1111.5305,-207.035 1097.6125,-195.1053 1085.6293,-184.834\" fill=\"none\" stroke=\"#4a4a4a\"/>\n<polygon fill=\"#4a4a4a\" points=\"1087.5708,-181.8884 1077.7004,-178.0378 1083.0152,-187.2032 1087.5708,-181.8884\" stroke=\"#4a4a4a\"/>\n</a>\n</g>\n</g>\n<!-- Inf A H1N1 2009&#45;&gt;CoronavirusOC43 -->\n<g class=\"edge\" id=\"edge14\">\n<title>Inf A H1N1 2009-&gt;CoronavirusOC43</title>\n<g id=\"a_edge14\"><a xlink:title=\"(21, 20) : \">\n<path d=\"M611.5673,-724.9613C561.7305,-712.7978 487.3014,-694.632 434.2419,-681.6819\" fill=\"none\" stroke=\"#4a4a4a\"/>\n<polygon fill=\"#4a4a4a\" points=\"434.8063,-678.217 424.2616,-679.246 433.1465,-685.0174 434.8063,-678.217\" stroke=\"#4a4a4a\"/>\n</a>\n</g>\n</g>\n<!-- Inf A H1N1 2009&#45;&gt;Rhinovirus/Enterovirus -->\n<g class=\"edge\" id=\"edge12\">\n<title>Inf A H1N1 2009-&gt;Rhinovirus/Enterovirus</title>\n<g id=\"a_edge12\"><a xlink:title=\"(21, 13) : \">\n<path d=\"M694.2133,-721.3008C711.3315,-711.5189 733.1734,-699.0379 751.7734,-688.4093\" fill=\"none\" stroke=\"#4a4a4a\"/>\n<polygon fill=\"#4a4a4a\" points=\"753.6631,-691.3606 760.609,-683.3603 750.1901,-685.2829 753.6631,-691.3606\" stroke=\"#4a4a4a\"/>\n</a>\n</g>\n</g>\n<!-- Inf A H1N1 2009&#45;&gt;Strepto A -->\n<g class=\"edge\" id=\"edge26\">\n<title>Inf A H1N1 2009-&gt;Strepto A</title>\n<g id=\"a_edge26\"><a xlink:title=\"(21, 26) : \">\n<path d=\"M646.4503,-720.2022C636.9789,-711.1097 625.3177,-699.915 615.0568,-690.0645\" fill=\"none\" stroke=\"#4a4a4a\"/>\n<polygon fill=\"#4a4a4a\" points=\"617.1805,-687.2515 607.5427,-682.851 612.3327,-692.3012 617.1805,-687.2515\" stroke=\"#4a4a4a\"/>\n</a>\n</g>\n</g>\n<!-- Inf A H1N1 2009&#45;&gt;Parainfluenza 3 -->\n<g class=\"edge\" id=\"edge39\">\n<title>Inf A H1N1 2009-&gt;Parainfluenza 3</title>\n<g id=\"a_edge39\"><a xlink:title=\"(21, 15) : \">\n<path d=\"M720.3167,-725.2789C767.739,-714.3641 837.8691,-698.1963 898.9896,-684 904.0419,-682.8265 909.2801,-681.6074 914.5392,-680.3816\" fill=\"none\" stroke=\"#4a4a4a\"/>\n<polygon fill=\"#4a4a4a\" points=\"915.6918,-683.7067 924.6352,-678.0263 914.1015,-676.8897 915.6918,-683.7067\" stroke=\"#4a4a4a\"/>\n</a>\n</g>\n</g>\n<!-- Inf A H1N1 2009&#45;&gt;influenza_A_rapid_test -->\n<g class=\"edge\" id=\"edge37\">\n<title>Inf A H1N1 2009-&gt;influenza_A_rapid_test</title>\n<g id=\"a_edge37\"><a xlink:title=\"(21, 25) : \">\n<path d=\"M601.9503,-727.4717C576.7286,-719.8303 550.1174,-706.6648 534.9896,-684 508.3422,-644.0761 511.6556,-617.9467 534.9896,-576 542.7167,-562.1093 555.6594,-551.3344 569.2317,-543.1932\" fill=\"none\" stroke=\"#4a4a4a\"/>\n<polygon fill=\"#4a4a4a\" points=\"571.1494,-546.1318 578.193,-538.2174 567.7512,-540.0119 571.1494,-546.1318\" stroke=\"#4a4a4a\"/>\n</a>\n</g>\n</g>\n<!-- Inf A H1N1 2009&#45;&gt;Coronavirus229E -->\n<g class=\"edge\" id=\"edge24\">\n<title>Inf A H1N1 2009-&gt;Coronavirus229E</title>\n<g id=\"a_edge24\"><a xlink:title=\"(21, 19) : \">\n<path d=\"M733.8876,-729.7999C811.6258,-720.2254 941.7419,-703.2284 1052.9896,-684 1059.5251,-682.8704 1066.3196,-681.6124 1073.1017,-680.3011\" fill=\"none\" stroke=\"#4a4a4a\"/>\n<polygon fill=\"#4a4a4a\" points=\"1073.8637,-683.7183 1082.998,-678.3503 1072.5098,-676.8505 1073.8637,-683.7183\" stroke=\"#4a4a4a\"/>\n</a>\n</g>\n</g>\n<!-- Inf A H1N1 2009&#45;&gt;covid_19 -->\n<g class=\"edge\" id=\"edge28\">\n<title>Inf A H1N1 2009-&gt;covid_19</title>\n<g id=\"a_edge28\"><a xlink:title=\"(21, 0) : \">\n<path d=\"M601.2831,-727.715C571.5765,-720.0498 537.6464,-706.7958 513.9896,-684 482.9673,-654.1066 477.9896,-637.0813 477.9896,-594 477.9896,-594 477.9896,-594 477.9896,-450 477.9896,-345.6407 843.9487,-316.005 987.3342,-308.3987\" fill=\"none\" stroke=\"#4a4a4a\"/>\n<polygon fill=\"#4a4a4a\" points=\"987.864,-311.8762 997.6715,-307.8682 987.5052,-304.8854 987.864,-311.8762\" stroke=\"#4a4a4a\"/>\n</a>\n</g>\n</g>\n<!-- Inf A H1N1 2009&#45;&gt;Respiratory Syncytial Virus -->\n<g class=\"edge\" id=\"edge19\">\n<title>Inf A H1N1 2009-&gt;Respiratory Syncytial Virus</title>\n<g id=\"a_edge19\"><a xlink:title=\"(21, 8) : \">\n<path d=\"M664.3449,-719.6776C664.5686,-700.1362 667.6382,-669.148 682.9896,-648 702.1614,-621.5892 719.236,-629.1705 746.9896,-612 822.2782,-565.4208 907.4405,-506.0043 953.0169,-473.6343\" fill=\"none\" stroke=\"#4a4a4a\"/>\n<polygon fill=\"#4a4a4a\" points=\"955.2045,-476.3734 961.3224,-467.7234 951.1456,-470.6702 955.2045,-476.3734\" stroke=\"#4a4a4a\"/>\n</a>\n</g>\n</g>\n<!-- covid_19&#45;&gt;regular_ward -->\n<g class=\"edge\" id=\"edge36\">\n<title>covid_19-&gt;regular_ward</title>\n<g id=\"a_edge36\"><a xlink:title=\"(0, 1) : \">\n<path d=\"M1001.6895,-298.4985C929.6734,-285.7272 782.9668,-259.7102 699.5645,-244.9197\" fill=\"none\" stroke=\"#4a4a4a\"/>\n<polygon fill=\"#4a4a4a\" points=\"700.1741,-241.4733 689.7166,-243.1732 698.9517,-248.3657 700.1741,-241.4733\" stroke=\"#4a4a4a\"/>\n</a>\n</g>\n</g>\n<!-- covid_19&#45;&gt;Platelets -->\n<g class=\"edge\" id=\"edge21\">\n<title>covid_19-&gt;Platelets</title>\n<g id=\"a_edge21\"><a xlink:title=\"(0, 4) : \">\n<path d=\"M1045.8894,-287.7623C1048.4478,-263.201 1053.0263,-219.2474 1056.0361,-190.3541\" fill=\"none\" stroke=\"#4a4a4a\"/>\n<polygon fill=\"#4a4a4a\" points=\"1059.5503,-190.3985 1057.1053,-180.0896 1052.588,-189.6731 1059.5503,-190.3985\" stroke=\"#4a4a4a\"/>\n</a>\n</g>\n</g>\n<!-- covid_19&#45;&gt;Red blood Cells -->\n<g class=\"edge\" id=\"edge33\">\n<title>covid_19-&gt;Red blood Cells</title>\n<g id=\"a_edge33\"><a xlink:title=\"(0, 5) : \">\n<path d=\"M1065.9609,-290.0209C1079.1991,-280.3931 1096.289,-267.9641 1111.0069,-257.2602\" fill=\"none\" stroke=\"#4a4a4a\"/>\n<polygon fill=\"#4a4a4a\" points=\"1113.3226,-259.9038 1119.3514,-251.1915 1109.2054,-254.2426 1113.3226,-259.9038\" stroke=\"#4a4a4a\"/>\n</a>\n</g>\n</g>\n<!-- Respiratory Syncytial Virus&#45;&gt;intensive_care -->\n<g class=\"edge\" id=\"edge38\">\n<title>Respiratory Syncytial Virus-&gt;intensive_care</title>\n<g id=\"a_edge38\"><a xlink:title=\"(8, 3) : \">\n<path d=\"M959.3252,-432.3868C944.648,-422.6918 926.2891,-410.5648 910.634,-400.2238\" fill=\"none\" stroke=\"#4a4a4a\"/>\n<polygon fill=\"#4a4a4a\" points=\"912.5285,-397.2806 902.2554,-394.6893 908.6703,-403.1214 912.5285,-397.2806\" stroke=\"#4a4a4a\"/>\n</a>\n</g>\n</g>\n<!-- Respiratory Syncytial Virus&#45;&gt;semi_intensive_care -->\n<g class=\"edge\" id=\"edge27\">\n<title>Respiratory Syncytial Virus-&gt;semi_intensive_care</title>\n<g id=\"a_edge27\"><a xlink:title=\"(8, 2) : \">\n<path d=\"M1000.6255,-431.8314C1007.4777,-423.3251 1015.7614,-413.0419 1023.245,-403.752\" fill=\"none\" stroke=\"#4a4a4a\"/>\n<polygon fill=\"#4a4a4a\" points=\"1026.0117,-405.8966 1029.5594,-395.9134 1020.5604,-401.5053 1026.0117,-405.8966\" stroke=\"#4a4a4a\"/>\n</a>\n</g>\n</g>\n<!-- Respiratory Syncytial Virus&#45;&gt;covid_19 -->\n<g class=\"edge\" id=\"edge7\">\n<title>Respiratory Syncytial Virus-&gt;covid_19</title>\n<g id=\"a_edge7\"><a xlink:title=\"(8, 0) : \">\n<path d=\"M1050.1004,-435.1176C1086.6419,-425.1949 1127.2491,-411.2139 1137.9896,-396 1147.2173,-382.929 1146.0046,-373.8477 1137.9896,-360 1127.5526,-341.9677 1108.5643,-329.433 1090.3722,-321.0132\" fill=\"none\" stroke=\"#4a4a4a\"/>\n<polygon fill=\"#4a4a4a\" points=\"1091.5504,-317.7101 1080.9809,-316.978 1088.7869,-324.1415 1091.5504,-317.7101\" stroke=\"#4a4a4a\"/>\n</a>\n</g>\n</g>\n</g>\n</svg>"
          },
          "metadata": {}
        }
      ]
    },
    {
      "cell_type": "code",
      "metadata": {
        "colab": {
          "base_uri": "https://localhost:8080/",
          "height": 1000
        },
        "id": "H5c-sUUhLvue",
        "outputId": "14ed640c-437e-4e31-83dd-ba4492be8eba"
      },
      "source": [
        "#capturar a tabela de probabilidade condicional\n",
        "estimator_2.bn.cpt(estimator_2.bn.idFromName('covid_19'))"
      ],
      "execution_count": 38,
      "outputs": [
        {
          "output_type": "execute_result",
          "data": {
            "text/html": [
              "<table style=\"border:1px solid black;\">\n",
              "<tr><th colspan='5'></th>\n",
              "      <th colspan='2' style='border:1px solid black;color:black;background-color:#808080;'><center>covid_19</center>\n",
              "      </th></tr>\n",
              "<tr><th style='border:1px solid black;color:black;background-color:#808080'><center>Respiratory Syncytial Virus</center></th><th style='border:1px solid black;color:black;background-color:#808080'><center>Inf A H1N1 2009</center></th><th style='border:1px solid black;color:black;background-color:#808080'><center>Rhinovirus/Enterovirus</center></th><th style='border:1px solid black;color:black;background-color:#808080'><center>Coronavirus HKU1</center></th><th style='border:1px solid black;color:black;background-color:#808080'><center>semi_intensive_care</center></th><th style='border:1px solid black;border-bottom-style: double;color:black;background-color:#BBBBBB'>\n",
              "      <center>0</center></th><th style='border:1px solid black;border-bottom-style: double;color:black;background-color:#BBBBBB'>\n",
              "      <center>1</center></th></tr>\n",
              "<tr><th style='border:1px solid black;color:black;background-color:#BBBBBB;' rowspan = '54'>\n",
              "            <center>-999</center></th><th style='border:1px solid black;color:black;background-color:#BBBBBB;' rowspan = '18'>\n",
              "            <center>-999</center></th><th style='border:1px solid black;color:black;background-color:#BBBBBB;' rowspan = '6'>\n",
              "            <center>-999</center></th><th style='border:1px solid black;color:black;background-color:#BBBBBB;' rowspan = '2'>\n",
              "            <center>-999</center></th><th style='border:1px solid black;color:black;background-color:#BBBBBB'><center>0</center></th><td style='color:black;background-color:#8cf164;text-align:right;'>0.8953</td><td style='color:black;background-color:#f18c64;text-align:right;'>0.1047</td></tr>\n",
              "<tr><th style='border:1px solid black;color:black;background-color:#BBBBBB'><center>1</center></th><td style='color:black;background-color:#8fee64;text-align:right;'>0.8747</td><td style='color:black;background-color:#ee8f64;text-align:right;'>0.1253</td></tr>\n",
              "<tr><th style='border:1px solid black;color:black;background-color:#BBBBBB;' rowspan = '2'>\n",
              "            <center>not_detected</center></th><th style='border:1px solid black;color:black;background-color:#BBBBBB'><center>0</center></th><td style='color:black;background-color:#bfbf64;text-align:right;'>0.5000</td><td style='color:black;background-color:#bfbf64;text-align:right;'>0.5000</td></tr>\n",
              "<tr><th style='border:1px solid black;color:black;background-color:#BBBBBB'><center>1</center></th><td style='color:black;background-color:#bfbf64;text-align:right;'>0.5000</td><td style='color:black;background-color:#bfbf64;text-align:right;'>0.5000</td></tr>\n",
              "<tr><th style='border:1px solid black;color:black;background-color:#BBBBBB;' rowspan = '2'>\n",
              "            <center>detected</center></th><th style='border:1px solid black;color:black;background-color:#BBBBBB'><center>0</center></th><td style='color:black;background-color:#bfbf64;text-align:right;'>0.5000</td><td style='color:black;background-color:#bfbf64;text-align:right;'>0.5000</td></tr>\n",
              "<tr><th style='border:1px solid black;color:black;background-color:#BBBBBB'><center>1</center></th><td style='color:black;background-color:#bfbf64;text-align:right;'>0.5000</td><td style='color:black;background-color:#bfbf64;text-align:right;'>0.5000</td></tr>\n",
              "<tr><th style='border:1px solid black;color:black;background-color:#BBBBBB;' rowspan = '6'>\n",
              "            <center>not_detected</center></th><th style='border:1px solid black;color:black;background-color:#BBBBBB;' rowspan = '2'>\n",
              "            <center>-999</center></th><th style='border:1px solid black;color:black;background-color:#BBBBBB'><center>0</center></th><td style='color:black;background-color:#bfbf64;text-align:right;'>0.5000</td><td style='color:black;background-color:#bfbf64;text-align:right;'>0.5000</td></tr>\n",
              "<tr><th style='border:1px solid black;color:black;background-color:#BBBBBB'><center>1</center></th><td style='color:black;background-color:#bfbf64;text-align:right;'>0.5000</td><td style='color:black;background-color:#bfbf64;text-align:right;'>0.5000</td></tr>\n",
              "<tr><th style='border:1px solid black;color:black;background-color:#BBBBBB;' rowspan = '2'>\n",
              "            <center>not_detected</center></th><th style='border:1px solid black;color:black;background-color:#BBBBBB'><center>0</center></th><td style='color:black;background-color:#bfbf64;text-align:right;'>0.5000</td><td style='color:black;background-color:#bfbf64;text-align:right;'>0.5000</td></tr>\n",
              "<tr><th style='border:1px solid black;color:black;background-color:#BBBBBB'><center>1</center></th><td style='color:black;background-color:#bfbf64;text-align:right;'>0.5000</td><td style='color:black;background-color:#bfbf64;text-align:right;'>0.5000</td></tr>\n",
              "<tr><th style='border:1px solid black;color:black;background-color:#BBBBBB;' rowspan = '2'>\n",
              "            <center>detected</center></th><th style='border:1px solid black;color:black;background-color:#BBBBBB'><center>0</center></th><td style='color:black;background-color:#bfbf64;text-align:right;'>0.5000</td><td style='color:black;background-color:#bfbf64;text-align:right;'>0.5000</td></tr>\n",
              "<tr><th style='border:1px solid black;color:black;background-color:#BBBBBB'><center>1</center></th><td style='color:black;background-color:#bfbf64;text-align:right;'>0.5000</td><td style='color:black;background-color:#bfbf64;text-align:right;'>0.5000</td></tr>\n",
              "<tr><th style='border:1px solid black;color:black;background-color:#BBBBBB;' rowspan = '6'>\n",
              "            <center>detected</center></th><th style='border:1px solid black;color:black;background-color:#BBBBBB;' rowspan = '2'>\n",
              "            <center>-999</center></th><th style='border:1px solid black;color:black;background-color:#BBBBBB'><center>0</center></th><td style='color:black;background-color:#bfbf64;text-align:right;'>0.5000</td><td style='color:black;background-color:#bfbf64;text-align:right;'>0.5000</td></tr>\n",
              "<tr><th style='border:1px solid black;color:black;background-color:#BBBBBB'><center>1</center></th><td style='color:black;background-color:#bfbf64;text-align:right;'>0.5000</td><td style='color:black;background-color:#bfbf64;text-align:right;'>0.5000</td></tr>\n",
              "<tr><th style='border:1px solid black;color:black;background-color:#BBBBBB;' rowspan = '2'>\n",
              "            <center>not_detected</center></th><th style='border:1px solid black;color:black;background-color:#BBBBBB'><center>0</center></th><td style='color:black;background-color:#bfbf64;text-align:right;'>0.5000</td><td style='color:black;background-color:#bfbf64;text-align:right;'>0.5000</td></tr>\n",
              "<tr><th style='border:1px solid black;color:black;background-color:#BBBBBB'><center>1</center></th><td style='color:black;background-color:#bfbf64;text-align:right;'>0.5000</td><td style='color:black;background-color:#bfbf64;text-align:right;'>0.5000</td></tr>\n",
              "<tr><th style='border:1px solid black;color:black;background-color:#BBBBBB;' rowspan = '2'>\n",
              "            <center>detected</center></th><th style='border:1px solid black;color:black;background-color:#BBBBBB'><center>0</center></th><td style='color:black;background-color:#bfbf64;text-align:right;'>0.5000</td><td style='color:black;background-color:#bfbf64;text-align:right;'>0.5000</td></tr>\n",
              "<tr><th style='border:1px solid black;color:black;background-color:#BBBBBB'><center>1</center></th><td style='color:black;background-color:#bfbf64;text-align:right;'>0.5000</td><td style='color:black;background-color:#bfbf64;text-align:right;'>0.5000</td></tr>\n",
              "<tr><th style='border:1px solid black;color:black;background-color:#BBBBBB;' rowspan = '18'>\n",
              "            <center>not_detected</center></th><th style='border:1px solid black;color:black;background-color:#BBBBBB;' rowspan = '6'>\n",
              "            <center>-999</center></th><th style='border:1px solid black;color:black;background-color:#BBBBBB;' rowspan = '2'>\n",
              "            <center>-999</center></th><th style='border:1px solid black;color:black;background-color:#BBBBBB'><center>0</center></th><td style='color:black;background-color:#bfbf64;text-align:right;'>0.5000</td><td style='color:black;background-color:#bfbf64;text-align:right;'>0.5000</td></tr>\n",
              "<tr><th style='border:1px solid black;color:black;background-color:#BBBBBB'><center>1</center></th><td style='color:black;background-color:#bfbf64;text-align:right;'>0.5000</td><td style='color:black;background-color:#bfbf64;text-align:right;'>0.5000</td></tr>\n",
              "<tr><th style='border:1px solid black;color:black;background-color:#BBBBBB;' rowspan = '2'>\n",
              "            <center>not_detected</center></th><th style='border:1px solid black;color:black;background-color:#BBBBBB'><center>0</center></th><td style='color:black;background-color:#bfbf64;text-align:right;'>0.5000</td><td style='color:black;background-color:#bfbf64;text-align:right;'>0.5000</td></tr>\n",
              "<tr><th style='border:1px solid black;color:black;background-color:#BBBBBB'><center>1</center></th><td style='color:black;background-color:#bfbf64;text-align:right;'>0.5000</td><td style='color:black;background-color:#bfbf64;text-align:right;'>0.5000</td></tr>\n",
              "<tr><th style='border:1px solid black;color:black;background-color:#BBBBBB;' rowspan = '2'>\n",
              "            <center>detected</center></th><th style='border:1px solid black;color:black;background-color:#BBBBBB'><center>0</center></th><td style='color:black;background-color:#bfbf64;text-align:right;'>0.5000</td><td style='color:black;background-color:#bfbf64;text-align:right;'>0.5000</td></tr>\n",
              "<tr><th style='border:1px solid black;color:black;background-color:#BBBBBB'><center>1</center></th><td style='color:black;background-color:#bfbf64;text-align:right;'>0.5000</td><td style='color:black;background-color:#bfbf64;text-align:right;'>0.5000</td></tr>\n",
              "<tr><th style='border:1px solid black;color:black;background-color:#BBBBBB;' rowspan = '6'>\n",
              "            <center>not_detected</center></th><th style='border:1px solid black;color:black;background-color:#BBBBBB;' rowspan = '2'>\n",
              "            <center>-999</center></th><th style='border:1px solid black;color:black;background-color:#BBBBBB'><center>0</center></th><td style='color:black;background-color:#bfbf64;text-align:right;'>0.5000</td><td style='color:black;background-color:#bfbf64;text-align:right;'>0.5000</td></tr>\n",
              "<tr><th style='border:1px solid black;color:black;background-color:#BBBBBB'><center>1</center></th><td style='color:black;background-color:#bfbf64;text-align:right;'>0.5000</td><td style='color:black;background-color:#bfbf64;text-align:right;'>0.5000</td></tr>\n",
              "<tr><th style='border:1px solid black;color:black;background-color:#BBBBBB;' rowspan = '2'>\n",
              "            <center>not_detected</center></th><th style='border:1px solid black;color:black;background-color:#BBBBBB'><center>0</center></th><td style='color:black;background-color:#bfbf64;text-align:right;'>0.5000</td><td style='color:black;background-color:#bfbf64;text-align:right;'>0.5000</td></tr>\n",
              "<tr><th style='border:1px solid black;color:black;background-color:#BBBBBB'><center>1</center></th><td style='color:black;background-color:#bfbf64;text-align:right;'>0.5000</td><td style='color:black;background-color:#bfbf64;text-align:right;'>0.5000</td></tr>\n",
              "<tr><th style='border:1px solid black;color:black;background-color:#BBBBBB;' rowspan = '2'>\n",
              "            <center>detected</center></th><th style='border:1px solid black;color:black;background-color:#BBBBBB'><center>0</center></th><td style='color:black;background-color:#bfbf64;text-align:right;'>0.5000</td><td style='color:black;background-color:#bfbf64;text-align:right;'>0.5000</td></tr>\n",
              "<tr><th style='border:1px solid black;color:black;background-color:#BBBBBB'><center>1</center></th><td style='color:black;background-color:#bfbf64;text-align:right;'>0.5000</td><td style='color:black;background-color:#bfbf64;text-align:right;'>0.5000</td></tr>\n",
              "<tr><th style='border:1px solid black;color:black;background-color:#BBBBBB;' rowspan = '6'>\n",
              "            <center>detected</center></th><th style='border:1px solid black;color:black;background-color:#BBBBBB;' rowspan = '2'>\n",
              "            <center>-999</center></th><th style='border:1px solid black;color:black;background-color:#BBBBBB'><center>0</center></th><td style='color:black;background-color:#bfbf64;text-align:right;'>0.5000</td><td style='color:black;background-color:#bfbf64;text-align:right;'>0.5000</td></tr>\n",
              "<tr><th style='border:1px solid black;color:black;background-color:#BBBBBB'><center>1</center></th><td style='color:black;background-color:#bfbf64;text-align:right;'>0.5000</td><td style='color:black;background-color:#bfbf64;text-align:right;'>0.5000</td></tr>\n",
              "<tr><th style='border:1px solid black;color:black;background-color:#BBBBBB;' rowspan = '2'>\n",
              "            <center>not_detected</center></th><th style='border:1px solid black;color:black;background-color:#BBBBBB'><center>0</center></th><td style='color:black;background-color:#bfbf64;text-align:right;'>0.5000</td><td style='color:black;background-color:#bfbf64;text-align:right;'>0.5000</td></tr>\n",
              "<tr><th style='border:1px solid black;color:black;background-color:#BBBBBB'><center>1</center></th><td style='color:black;background-color:#bfbf64;text-align:right;'>0.5000</td><td style='color:black;background-color:#bfbf64;text-align:right;'>0.5000</td></tr>\n",
              "<tr><th style='border:1px solid black;color:black;background-color:#BBBBBB;' rowspan = '2'>\n",
              "            <center>detected</center></th><th style='border:1px solid black;color:black;background-color:#BBBBBB'><center>0</center></th><td style='color:black;background-color:#bfbf64;text-align:right;'>0.5000</td><td style='color:black;background-color:#bfbf64;text-align:right;'>0.5000</td></tr>\n",
              "<tr><th style='border:1px solid black;color:black;background-color:#BBBBBB'><center>1</center></th><td style='color:black;background-color:#bfbf64;text-align:right;'>0.5000</td><td style='color:black;background-color:#bfbf64;text-align:right;'>0.5000</td></tr>\n",
              "<tr><th style='border:1px solid black;color:black;background-color:#BBBBBB;' rowspan = '18'>\n",
              "            <center>detected</center></th><th style='border:1px solid black;color:black;background-color:#BBBBBB;' rowspan = '6'>\n",
              "            <center>-999</center></th><th style='border:1px solid black;color:black;background-color:#BBBBBB;' rowspan = '2'>\n",
              "            <center>-999</center></th><th style='border:1px solid black;color:black;background-color:#BBBBBB'><center>0</center></th><td style='color:black;background-color:#bfbf64;text-align:right;'>0.5000</td><td style='color:black;background-color:#bfbf64;text-align:right;'>0.5000</td></tr>\n",
              "<tr><th style='border:1px solid black;color:black;background-color:#BBBBBB'><center>1</center></th><td style='color:black;background-color:#bfbf64;text-align:right;'>0.5000</td><td style='color:black;background-color:#bfbf64;text-align:right;'>0.5000</td></tr>\n",
              "<tr><th style='border:1px solid black;color:black;background-color:#BBBBBB;' rowspan = '2'>\n",
              "            <center>not_detected</center></th><th style='border:1px solid black;color:black;background-color:#BBBBBB'><center>0</center></th><td style='color:black;background-color:#bfbf64;text-align:right;'>0.5000</td><td style='color:black;background-color:#bfbf64;text-align:right;'>0.5000</td></tr>\n",
              "<tr><th style='border:1px solid black;color:black;background-color:#BBBBBB'><center>1</center></th><td style='color:black;background-color:#bfbf64;text-align:right;'>0.5000</td><td style='color:black;background-color:#bfbf64;text-align:right;'>0.5000</td></tr>\n",
              "<tr><th style='border:1px solid black;color:black;background-color:#BBBBBB;' rowspan = '2'>\n",
              "            <center>detected</center></th><th style='border:1px solid black;color:black;background-color:#BBBBBB'><center>0</center></th><td style='color:black;background-color:#bfbf64;text-align:right;'>0.5000</td><td style='color:black;background-color:#bfbf64;text-align:right;'>0.5000</td></tr>\n",
              "<tr><th style='border:1px solid black;color:black;background-color:#BBBBBB'><center>1</center></th><td style='color:black;background-color:#bfbf64;text-align:right;'>0.5000</td><td style='color:black;background-color:#bfbf64;text-align:right;'>0.5000</td></tr>\n",
              "<tr><th style='border:1px solid black;color:black;background-color:#BBBBBB;' rowspan = '6'>\n",
              "            <center>not_detected</center></th><th style='border:1px solid black;color:black;background-color:#BBBBBB;' rowspan = '2'>\n",
              "            <center>-999</center></th><th style='border:1px solid black;color:black;background-color:#BBBBBB'><center>0</center></th><td style='color:black;background-color:#bfbf64;text-align:right;'>0.5000</td><td style='color:black;background-color:#bfbf64;text-align:right;'>0.5000</td></tr>\n",
              "<tr><th style='border:1px solid black;color:black;background-color:#BBBBBB'><center>1</center></th><td style='color:black;background-color:#bfbf64;text-align:right;'>0.5000</td><td style='color:black;background-color:#bfbf64;text-align:right;'>0.5000</td></tr>\n",
              "<tr><th style='border:1px solid black;color:black;background-color:#BBBBBB;' rowspan = '2'>\n",
              "            <center>not_detected</center></th><th style='border:1px solid black;color:black;background-color:#BBBBBB'><center>0</center></th><td style='color:black;background-color:#bfbf64;text-align:right;'>0.5000</td><td style='color:black;background-color:#bfbf64;text-align:right;'>0.5000</td></tr>\n",
              "<tr><th style='border:1px solid black;color:black;background-color:#BBBBBB'><center>1</center></th><td style='color:black;background-color:#bfbf64;text-align:right;'>0.5000</td><td style='color:black;background-color:#bfbf64;text-align:right;'>0.5000</td></tr>\n",
              "<tr><th style='border:1px solid black;color:black;background-color:#BBBBBB;' rowspan = '2'>\n",
              "            <center>detected</center></th><th style='border:1px solid black;color:black;background-color:#BBBBBB'><center>0</center></th><td style='color:black;background-color:#bfbf64;text-align:right;'>0.5000</td><td style='color:black;background-color:#bfbf64;text-align:right;'>0.5000</td></tr>\n",
              "<tr><th style='border:1px solid black;color:black;background-color:#BBBBBB'><center>1</center></th><td style='color:black;background-color:#bfbf64;text-align:right;'>0.5000</td><td style='color:black;background-color:#bfbf64;text-align:right;'>0.5000</td></tr>\n",
              "<tr><th style='border:1px solid black;color:black;background-color:#BBBBBB;' rowspan = '6'>\n",
              "            <center>detected</center></th><th style='border:1px solid black;color:black;background-color:#BBBBBB;' rowspan = '2'>\n",
              "            <center>-999</center></th><th style='border:1px solid black;color:black;background-color:#BBBBBB'><center>0</center></th><td style='color:black;background-color:#bfbf64;text-align:right;'>0.5000</td><td style='color:black;background-color:#bfbf64;text-align:right;'>0.5000</td></tr>\n",
              "<tr><th style='border:1px solid black;color:black;background-color:#BBBBBB'><center>1</center></th><td style='color:black;background-color:#bfbf64;text-align:right;'>0.5000</td><td style='color:black;background-color:#bfbf64;text-align:right;'>0.5000</td></tr>\n",
              "<tr><th style='border:1px solid black;color:black;background-color:#BBBBBB;' rowspan = '2'>\n",
              "            <center>not_detected</center></th><th style='border:1px solid black;color:black;background-color:#BBBBBB'><center>0</center></th><td style='color:black;background-color:#bfbf64;text-align:right;'>0.5000</td><td style='color:black;background-color:#bfbf64;text-align:right;'>0.5000</td></tr>\n",
              "<tr><th style='border:1px solid black;color:black;background-color:#BBBBBB'><center>1</center></th><td style='color:black;background-color:#bfbf64;text-align:right;'>0.5000</td><td style='color:black;background-color:#bfbf64;text-align:right;'>0.5000</td></tr>\n",
              "<tr><th style='border:1px solid black;color:black;background-color:#BBBBBB;' rowspan = '2'>\n",
              "            <center>detected</center></th><th style='border:1px solid black;color:black;background-color:#BBBBBB'><center>0</center></th><td style='color:black;background-color:#bfbf64;text-align:right;'>0.5000</td><td style='color:black;background-color:#bfbf64;text-align:right;'>0.5000</td></tr>\n",
              "<tr><th style='border:1px solid black;color:black;background-color:#BBBBBB'><center>1</center></th><td style='color:black;background-color:#bfbf64;text-align:right;'>0.5000</td><td style='color:black;background-color:#bfbf64;text-align:right;'>0.5000</td></tr>\n",
              "<tr><th style='border:1px solid black;color:black;background-color:#BBBBBB;' rowspan = '54'>\n",
              "            <center>not_detected</center></th><th style='border:1px solid black;color:black;background-color:#BBBBBB;' rowspan = '18'>\n",
              "            <center>-999</center></th><th style='border:1px solid black;color:black;background-color:#BBBBBB;' rowspan = '6'>\n",
              "            <center>-999</center></th><th style='border:1px solid black;color:black;background-color:#BBBBBB;' rowspan = '2'>\n",
              "            <center>-999</center></th><th style='border:1px solid black;color:black;background-color:#BBBBBB'><center>0</center></th><td style='color:black;background-color:#7ffe64;text-align:right;'>0.9985</td><td style='color:black;background-color:#fe7f64;text-align:right;'>0.0015</td></tr>\n",
              "<tr><th style='border:1px solid black;color:black;background-color:#BBBBBB'><center>1</center></th><td style='color:black;background-color:#bfbf64;text-align:right;'>0.5000</td><td style='color:black;background-color:#bfbf64;text-align:right;'>0.5000</td></tr>\n",
              "<tr><th style='border:1px solid black;color:black;background-color:#BBBBBB;' rowspan = '2'>\n",
              "            <center>not_detected</center></th><th style='border:1px solid black;color:black;background-color:#BBBBBB'><center>0</center></th><td style='color:black;background-color:#bfbf64;text-align:right;'>0.5000</td><td style='color:black;background-color:#bfbf64;text-align:right;'>0.5000</td></tr>\n",
              "<tr><th style='border:1px solid black;color:black;background-color:#BBBBBB'><center>1</center></th><td style='color:black;background-color:#bfbf64;text-align:right;'>0.5000</td><td style='color:black;background-color:#bfbf64;text-align:right;'>0.5000</td></tr>\n",
              "<tr><th style='border:1px solid black;color:black;background-color:#BBBBBB;' rowspan = '2'>\n",
              "            <center>detected</center></th><th style='border:1px solid black;color:black;background-color:#BBBBBB'><center>0</center></th><td style='color:black;background-color:#bfbf64;text-align:right;'>0.5000</td><td style='color:black;background-color:#bfbf64;text-align:right;'>0.5000</td></tr>\n",
              "<tr><th style='border:1px solid black;color:black;background-color:#BBBBBB'><center>1</center></th><td style='color:black;background-color:#bfbf64;text-align:right;'>0.5000</td><td style='color:black;background-color:#bfbf64;text-align:right;'>0.5000</td></tr>\n",
              "<tr><th style='border:1px solid black;color:black;background-color:#BBBBBB;' rowspan = '6'>\n",
              "            <center>not_detected</center></th><th style='border:1px solid black;color:black;background-color:#BBBBBB;' rowspan = '2'>\n",
              "            <center>-999</center></th><th style='border:1px solid black;color:black;background-color:#BBBBBB'><center>0</center></th><td style='color:black;background-color:#bfbf64;text-align:right;'>0.5000</td><td style='color:black;background-color:#bfbf64;text-align:right;'>0.5000</td></tr>\n",
              "<tr><th style='border:1px solid black;color:black;background-color:#BBBBBB'><center>1</center></th><td style='color:black;background-color:#bfbf64;text-align:right;'>0.5000</td><td style='color:black;background-color:#bfbf64;text-align:right;'>0.5000</td></tr>\n",
              "<tr><th style='border:1px solid black;color:black;background-color:#BBBBBB;' rowspan = '2'>\n",
              "            <center>not_detected</center></th><th style='border:1px solid black;color:black;background-color:#BBBBBB'><center>0</center></th><td style='color:black;background-color:#bfbf64;text-align:right;'>0.5000</td><td style='color:black;background-color:#bfbf64;text-align:right;'>0.5000</td></tr>\n",
              "<tr><th style='border:1px solid black;color:black;background-color:#BBBBBB'><center>1</center></th><td style='color:black;background-color:#bfbf64;text-align:right;'>0.5000</td><td style='color:black;background-color:#bfbf64;text-align:right;'>0.5000</td></tr>\n",
              "<tr><th style='border:1px solid black;color:black;background-color:#BBBBBB;' rowspan = '2'>\n",
              "            <center>detected</center></th><th style='border:1px solid black;color:black;background-color:#BBBBBB'><center>0</center></th><td style='color:black;background-color:#bfbf64;text-align:right;'>0.5000</td><td style='color:black;background-color:#bfbf64;text-align:right;'>0.5000</td></tr>\n",
              "<tr><th style='border:1px solid black;color:black;background-color:#BBBBBB'><center>1</center></th><td style='color:black;background-color:#bfbf64;text-align:right;'>0.5000</td><td style='color:black;background-color:#bfbf64;text-align:right;'>0.5000</td></tr>\n",
              "<tr><th style='border:1px solid black;color:black;background-color:#BBBBBB;' rowspan = '6'>\n",
              "            <center>detected</center></th><th style='border:1px solid black;color:black;background-color:#BBBBBB;' rowspan = '2'>\n",
              "            <center>-999</center></th><th style='border:1px solid black;color:black;background-color:#BBBBBB'><center>0</center></th><td style='color:black;background-color:#bfbf64;text-align:right;'>0.5000</td><td style='color:black;background-color:#bfbf64;text-align:right;'>0.5000</td></tr>\n",
              "<tr><th style='border:1px solid black;color:black;background-color:#BBBBBB'><center>1</center></th><td style='color:black;background-color:#bfbf64;text-align:right;'>0.5000</td><td style='color:black;background-color:#bfbf64;text-align:right;'>0.5000</td></tr>\n",
              "<tr><th style='border:1px solid black;color:black;background-color:#BBBBBB;' rowspan = '2'>\n",
              "            <center>not_detected</center></th><th style='border:1px solid black;color:black;background-color:#BBBBBB'><center>0</center></th><td style='color:black;background-color:#bfbf64;text-align:right;'>0.5000</td><td style='color:black;background-color:#bfbf64;text-align:right;'>0.5000</td></tr>\n",
              "<tr><th style='border:1px solid black;color:black;background-color:#BBBBBB'><center>1</center></th><td style='color:black;background-color:#bfbf64;text-align:right;'>0.5000</td><td style='color:black;background-color:#bfbf64;text-align:right;'>0.5000</td></tr>\n",
              "<tr><th style='border:1px solid black;color:black;background-color:#BBBBBB;' rowspan = '2'>\n",
              "            <center>detected</center></th><th style='border:1px solid black;color:black;background-color:#BBBBBB'><center>0</center></th><td style='color:black;background-color:#bfbf64;text-align:right;'>0.5000</td><td style='color:black;background-color:#bfbf64;text-align:right;'>0.5000</td></tr>\n",
              "<tr><th style='border:1px solid black;color:black;background-color:#BBBBBB'><center>1</center></th><td style='color:black;background-color:#bfbf64;text-align:right;'>0.5000</td><td style='color:black;background-color:#bfbf64;text-align:right;'>0.5000</td></tr>\n",
              "<tr><th style='border:1px solid black;color:black;background-color:#BBBBBB;' rowspan = '18'>\n",
              "            <center>not_detected</center></th><th style='border:1px solid black;color:black;background-color:#BBBBBB;' rowspan = '6'>\n",
              "            <center>-999</center></th><th style='border:1px solid black;color:black;background-color:#BBBBBB;' rowspan = '2'>\n",
              "            <center>-999</center></th><th style='border:1px solid black;color:black;background-color:#BBBBBB'><center>0</center></th><td style='color:black;background-color:#bfbf64;text-align:right;'>0.5000</td><td style='color:black;background-color:#bfbf64;text-align:right;'>0.5000</td></tr>\n",
              "<tr><th style='border:1px solid black;color:black;background-color:#BBBBBB'><center>1</center></th><td style='color:black;background-color:#bfbf64;text-align:right;'>0.5000</td><td style='color:black;background-color:#bfbf64;text-align:right;'>0.5000</td></tr>\n",
              "<tr><th style='border:1px solid black;color:black;background-color:#BBBBBB;' rowspan = '2'>\n",
              "            <center>not_detected</center></th><th style='border:1px solid black;color:black;background-color:#BBBBBB'><center>0</center></th><td style='color:black;background-color:#bfbf64;text-align:right;'>0.5000</td><td style='color:black;background-color:#bfbf64;text-align:right;'>0.5000</td></tr>\n",
              "<tr><th style='border:1px solid black;color:black;background-color:#BBBBBB'><center>1</center></th><td style='color:black;background-color:#bfbf64;text-align:right;'>0.5000</td><td style='color:black;background-color:#bfbf64;text-align:right;'>0.5000</td></tr>\n",
              "<tr><th style='border:1px solid black;color:black;background-color:#BBBBBB;' rowspan = '2'>\n",
              "            <center>detected</center></th><th style='border:1px solid black;color:black;background-color:#BBBBBB'><center>0</center></th><td style='color:black;background-color:#bfbf64;text-align:right;'>0.5000</td><td style='color:black;background-color:#bfbf64;text-align:right;'>0.5000</td></tr>\n",
              "<tr><th style='border:1px solid black;color:black;background-color:#BBBBBB'><center>1</center></th><td style='color:black;background-color:#bfbf64;text-align:right;'>0.5000</td><td style='color:black;background-color:#bfbf64;text-align:right;'>0.5000</td></tr>\n",
              "<tr><th style='border:1px solid black;color:black;background-color:#BBBBBB;' rowspan = '6'>\n",
              "            <center>not_detected</center></th><th style='border:1px solid black;color:black;background-color:#BBBBBB;' rowspan = '2'>\n",
              "            <center>-999</center></th><th style='border:1px solid black;color:black;background-color:#BBBBBB'><center>0</center></th><td style='color:black;background-color:#bfbf64;text-align:right;'>0.5000</td><td style='color:black;background-color:#bfbf64;text-align:right;'>0.5000</td></tr>\n",
              "<tr><th style='border:1px solid black;color:black;background-color:#BBBBBB'><center>1</center></th><td style='color:black;background-color:#bfbf64;text-align:right;'>0.5000</td><td style='color:black;background-color:#bfbf64;text-align:right;'>0.5000</td></tr>\n",
              "<tr><th style='border:1px solid black;color:black;background-color:#BBBBBB;' rowspan = '2'>\n",
              "            <center>not_detected</center></th><th style='border:1px solid black;color:black;background-color:#BBBBBB'><center>0</center></th><td style='color:black;background-color:#8fee64;text-align:right;'>0.8725</td><td style='color:black;background-color:#ee8f64;text-align:right;'>0.1275</td></tr>\n",
              "<tr><th style='border:1px solid black;color:black;background-color:#BBBBBB'><center>1</center></th><td style='color:black;background-color:#9ae364;text-align:right;'>0.7856</td><td style='color:black;background-color:#e39a64;text-align:right;'>0.2144</td></tr>\n",
              "<tr><th style='border:1px solid black;color:black;background-color:#BBBBBB;' rowspan = '2'>\n",
              "            <center>detected</center></th><th style='border:1px solid black;color:black;background-color:#BBBBBB'><center>0</center></th><td style='color:black;background-color:#7ffe64;text-align:right;'>0.9998</td><td style='color:black;background-color:#fe7f64;text-align:right;'>0.0002</td></tr>\n",
              "<tr><th style='border:1px solid black;color:black;background-color:#BBBBBB'><center>1</center></th><td style='color:black;background-color:#7ffe64;text-align:right;'>0.9969</td><td style='color:black;background-color:#fe7f64;text-align:right;'>0.0031</td></tr>\n",
              "<tr><th style='border:1px solid black;color:black;background-color:#BBBBBB;' rowspan = '6'>\n",
              "            <center>detected</center></th><th style='border:1px solid black;color:black;background-color:#BBBBBB;' rowspan = '2'>\n",
              "            <center>-999</center></th><th style='border:1px solid black;color:black;background-color:#BBBBBB'><center>0</center></th><td style='color:black;background-color:#bfbf64;text-align:right;'>0.5000</td><td style='color:black;background-color:#bfbf64;text-align:right;'>0.5000</td></tr>\n",
              "<tr><th style='border:1px solid black;color:black;background-color:#BBBBBB'><center>1</center></th><td style='color:black;background-color:#bfbf64;text-align:right;'>0.5000</td><td style='color:black;background-color:#bfbf64;text-align:right;'>0.5000</td></tr>\n",
              "<tr><th style='border:1px solid black;color:black;background-color:#BBBBBB;' rowspan = '2'>\n",
              "            <center>not_detected</center></th><th style='border:1px solid black;color:black;background-color:#BBBBBB'><center>0</center></th><td style='color:black;background-color:#80fd64;text-align:right;'>0.9849</td><td style='color:black;background-color:#fd8064;text-align:right;'>0.0151</td></tr>\n",
              "<tr><th style='border:1px solid black;color:black;background-color:#BBBBBB'><center>1</center></th><td style='color:black;background-color:#7ffe64;text-align:right;'>0.9997</td><td style='color:black;background-color:#fe7f64;text-align:right;'>0.0003</td></tr>\n",
              "<tr><th style='border:1px solid black;color:black;background-color:#BBBBBB;' rowspan = '2'>\n",
              "            <center>detected</center></th><th style='border:1px solid black;color:black;background-color:#BBBBBB'><center>0</center></th><td style='color:black;background-color:#7ffe64;text-align:right;'>0.9985</td><td style='color:black;background-color:#fe7f64;text-align:right;'>0.0015</td></tr>\n",
              "<tr><th style='border:1px solid black;color:black;background-color:#BBBBBB'><center>1</center></th><td style='color:black;background-color:#bfbf64;text-align:right;'>0.5000</td><td style='color:black;background-color:#bfbf64;text-align:right;'>0.5000</td></tr>\n",
              "<tr><th style='border:1px solid black;color:black;background-color:#BBBBBB;' rowspan = '18'>\n",
              "            <center>detected</center></th><th style='border:1px solid black;color:black;background-color:#BBBBBB;' rowspan = '6'>\n",
              "            <center>-999</center></th><th style='border:1px solid black;color:black;background-color:#BBBBBB;' rowspan = '2'>\n",
              "            <center>-999</center></th><th style='border:1px solid black;color:black;background-color:#BBBBBB'><center>0</center></th><td style='color:black;background-color:#bfbf64;text-align:right;'>0.5000</td><td style='color:black;background-color:#bfbf64;text-align:right;'>0.5000</td></tr>\n",
              "<tr><th style='border:1px solid black;color:black;background-color:#BBBBBB'><center>1</center></th><td style='color:black;background-color:#bfbf64;text-align:right;'>0.5000</td><td style='color:black;background-color:#bfbf64;text-align:right;'>0.5000</td></tr>\n",
              "<tr><th style='border:1px solid black;color:black;background-color:#BBBBBB;' rowspan = '2'>\n",
              "            <center>not_detected</center></th><th style='border:1px solid black;color:black;background-color:#BBBBBB'><center>0</center></th><td style='color:black;background-color:#bfbf64;text-align:right;'>0.5000</td><td style='color:black;background-color:#bfbf64;text-align:right;'>0.5000</td></tr>\n",
              "<tr><th style='border:1px solid black;color:black;background-color:#BBBBBB'><center>1</center></th><td style='color:black;background-color:#bfbf64;text-align:right;'>0.5000</td><td style='color:black;background-color:#bfbf64;text-align:right;'>0.5000</td></tr>\n",
              "<tr><th style='border:1px solid black;color:black;background-color:#BBBBBB;' rowspan = '2'>\n",
              "            <center>detected</center></th><th style='border:1px solid black;color:black;background-color:#BBBBBB'><center>0</center></th><td style='color:black;background-color:#bfbf64;text-align:right;'>0.5000</td><td style='color:black;background-color:#bfbf64;text-align:right;'>0.5000</td></tr>\n",
              "<tr><th style='border:1px solid black;color:black;background-color:#BBBBBB'><center>1</center></th><td style='color:black;background-color:#bfbf64;text-align:right;'>0.5000</td><td style='color:black;background-color:#bfbf64;text-align:right;'>0.5000</td></tr>\n",
              "<tr><th style='border:1px solid black;color:black;background-color:#BBBBBB;' rowspan = '6'>\n",
              "            <center>not_detected</center></th><th style='border:1px solid black;color:black;background-color:#BBBBBB;' rowspan = '2'>\n",
              "            <center>-999</center></th><th style='border:1px solid black;color:black;background-color:#BBBBBB'><center>0</center></th><td style='color:black;background-color:#bfbf64;text-align:right;'>0.5000</td><td style='color:black;background-color:#bfbf64;text-align:right;'>0.5000</td></tr>\n",
              "<tr><th style='border:1px solid black;color:black;background-color:#BBBBBB'><center>1</center></th><td style='color:black;background-color:#bfbf64;text-align:right;'>0.5000</td><td style='color:black;background-color:#bfbf64;text-align:right;'>0.5000</td></tr>\n",
              "<tr><th style='border:1px solid black;color:black;background-color:#BBBBBB;' rowspan = '2'>\n",
              "            <center>not_detected</center></th><th style='border:1px solid black;color:black;background-color:#BBBBBB'><center>0</center></th><td style='color:black;background-color:#7ffe64;text-align:right;'>1.0000</td><td style='color:black;background-color:#fe7f64;text-align:right;'>0.0000</td></tr>\n",
              "<tr><th style='border:1px solid black;color:black;background-color:#BBBBBB'><center>1</center></th><td style='color:black;background-color:#7ffe64;text-align:right;'>0.9969</td><td style='color:black;background-color:#fe7f64;text-align:right;'>0.0031</td></tr>\n",
              "<tr><th style='border:1px solid black;color:black;background-color:#BBBBBB;' rowspan = '2'>\n",
              "            <center>detected</center></th><th style='border:1px solid black;color:black;background-color:#BBBBBB'><center>0</center></th><td style='color:black;background-color:#7ffe64;text-align:right;'>0.9969</td><td style='color:black;background-color:#fe7f64;text-align:right;'>0.0031</td></tr>\n",
              "<tr><th style='border:1px solid black;color:black;background-color:#BBBBBB'><center>1</center></th><td style='color:black;background-color:#bfbf64;text-align:right;'>0.5000</td><td style='color:black;background-color:#bfbf64;text-align:right;'>0.5000</td></tr>\n",
              "<tr><th style='border:1px solid black;color:black;background-color:#BBBBBB;' rowspan = '6'>\n",
              "            <center>detected</center></th><th style='border:1px solid black;color:black;background-color:#BBBBBB;' rowspan = '2'>\n",
              "            <center>-999</center></th><th style='border:1px solid black;color:black;background-color:#BBBBBB'><center>0</center></th><td style='color:black;background-color:#bfbf64;text-align:right;'>0.5000</td><td style='color:black;background-color:#bfbf64;text-align:right;'>0.5000</td></tr>\n",
              "<tr><th style='border:1px solid black;color:black;background-color:#BBBBBB'><center>1</center></th><td style='color:black;background-color:#bfbf64;text-align:right;'>0.5000</td><td style='color:black;background-color:#bfbf64;text-align:right;'>0.5000</td></tr>\n",
              "<tr><th style='border:1px solid black;color:black;background-color:#BBBBBB;' rowspan = '2'>\n",
              "            <center>not_detected</center></th><th style='border:1px solid black;color:black;background-color:#BBBBBB'><center>0</center></th><td style='color:black;background-color:#7ffe64;text-align:right;'>0.9994</td><td style='color:black;background-color:#fe7f64;text-align:right;'>0.0006</td></tr>\n",
              "<tr><th style='border:1px solid black;color:black;background-color:#BBBBBB'><center>1</center></th><td style='color:black;background-color:#bfbf64;text-align:right;'>0.5000</td><td style='color:black;background-color:#bfbf64;text-align:right;'>0.5000</td></tr>\n",
              "<tr><th style='border:1px solid black;color:black;background-color:#BBBBBB;' rowspan = '2'>\n",
              "            <center>detected</center></th><th style='border:1px solid black;color:black;background-color:#BBBBBB'><center>0</center></th><td style='color:black;background-color:#bfbf64;text-align:right;'>0.5000</td><td style='color:black;background-color:#bfbf64;text-align:right;'>0.5000</td></tr>\n",
              "<tr><th style='border:1px solid black;color:black;background-color:#BBBBBB'><center>1</center></th><td style='color:black;background-color:#bfbf64;text-align:right;'>0.5000</td><td style='color:black;background-color:#bfbf64;text-align:right;'>0.5000</td></tr>\n",
              "<tr><th style='border:1px solid black;color:black;background-color:#BBBBBB;' rowspan = '54'>\n",
              "            <center>detected</center></th><th style='border:1px solid black;color:black;background-color:#BBBBBB;' rowspan = '18'>\n",
              "            <center>-999</center></th><th style='border:1px solid black;color:black;background-color:#BBBBBB;' rowspan = '6'>\n",
              "            <center>-999</center></th><th style='border:1px solid black;color:black;background-color:#BBBBBB;' rowspan = '2'>\n",
              "            <center>-999</center></th><th style='border:1px solid black;color:black;background-color:#BBBBBB'><center>0</center></th><td style='color:black;background-color:#bfbf64;text-align:right;'>0.5000</td><td style='color:black;background-color:#bfbf64;text-align:right;'>0.5000</td></tr>\n",
              "<tr><th style='border:1px solid black;color:black;background-color:#BBBBBB'><center>1</center></th><td style='color:black;background-color:#bfbf64;text-align:right;'>0.5000</td><td style='color:black;background-color:#bfbf64;text-align:right;'>0.5000</td></tr>\n",
              "<tr><th style='border:1px solid black;color:black;background-color:#BBBBBB;' rowspan = '2'>\n",
              "            <center>not_detected</center></th><th style='border:1px solid black;color:black;background-color:#BBBBBB'><center>0</center></th><td style='color:black;background-color:#bfbf64;text-align:right;'>0.5000</td><td style='color:black;background-color:#bfbf64;text-align:right;'>0.5000</td></tr>\n",
              "<tr><th style='border:1px solid black;color:black;background-color:#BBBBBB'><center>1</center></th><td style='color:black;background-color:#bfbf64;text-align:right;'>0.5000</td><td style='color:black;background-color:#bfbf64;text-align:right;'>0.5000</td></tr>\n",
              "<tr><th style='border:1px solid black;color:black;background-color:#BBBBBB;' rowspan = '2'>\n",
              "            <center>detected</center></th><th style='border:1px solid black;color:black;background-color:#BBBBBB'><center>0</center></th><td style='color:black;background-color:#bfbf64;text-align:right;'>0.5000</td><td style='color:black;background-color:#bfbf64;text-align:right;'>0.5000</td></tr>\n",
              "<tr><th style='border:1px solid black;color:black;background-color:#BBBBBB'><center>1</center></th><td style='color:black;background-color:#bfbf64;text-align:right;'>0.5000</td><td style='color:black;background-color:#bfbf64;text-align:right;'>0.5000</td></tr>\n",
              "<tr><th style='border:1px solid black;color:black;background-color:#BBBBBB;' rowspan = '6'>\n",
              "            <center>not_detected</center></th><th style='border:1px solid black;color:black;background-color:#BBBBBB;' rowspan = '2'>\n",
              "            <center>-999</center></th><th style='border:1px solid black;color:black;background-color:#BBBBBB'><center>0</center></th><td style='color:black;background-color:#bfbf64;text-align:right;'>0.5000</td><td style='color:black;background-color:#bfbf64;text-align:right;'>0.5000</td></tr>\n",
              "<tr><th style='border:1px solid black;color:black;background-color:#BBBBBB'><center>1</center></th><td style='color:black;background-color:#bfbf64;text-align:right;'>0.5000</td><td style='color:black;background-color:#bfbf64;text-align:right;'>0.5000</td></tr>\n",
              "<tr><th style='border:1px solid black;color:black;background-color:#BBBBBB;' rowspan = '2'>\n",
              "            <center>not_detected</center></th><th style='border:1px solid black;color:black;background-color:#BBBBBB'><center>0</center></th><td style='color:black;background-color:#bfbf64;text-align:right;'>0.5000</td><td style='color:black;background-color:#bfbf64;text-align:right;'>0.5000</td></tr>\n",
              "<tr><th style='border:1px solid black;color:black;background-color:#BBBBBB'><center>1</center></th><td style='color:black;background-color:#bfbf64;text-align:right;'>0.5000</td><td style='color:black;background-color:#bfbf64;text-align:right;'>0.5000</td></tr>\n",
              "<tr><th style='border:1px solid black;color:black;background-color:#BBBBBB;' rowspan = '2'>\n",
              "            <center>detected</center></th><th style='border:1px solid black;color:black;background-color:#BBBBBB'><center>0</center></th><td style='color:black;background-color:#bfbf64;text-align:right;'>0.5000</td><td style='color:black;background-color:#bfbf64;text-align:right;'>0.5000</td></tr>\n",
              "<tr><th style='border:1px solid black;color:black;background-color:#BBBBBB'><center>1</center></th><td style='color:black;background-color:#bfbf64;text-align:right;'>0.5000</td><td style='color:black;background-color:#bfbf64;text-align:right;'>0.5000</td></tr>\n",
              "<tr><th style='border:1px solid black;color:black;background-color:#BBBBBB;' rowspan = '6'>\n",
              "            <center>detected</center></th><th style='border:1px solid black;color:black;background-color:#BBBBBB;' rowspan = '2'>\n",
              "            <center>-999</center></th><th style='border:1px solid black;color:black;background-color:#BBBBBB'><center>0</center></th><td style='color:black;background-color:#bfbf64;text-align:right;'>0.5000</td><td style='color:black;background-color:#bfbf64;text-align:right;'>0.5000</td></tr>\n",
              "<tr><th style='border:1px solid black;color:black;background-color:#BBBBBB'><center>1</center></th><td style='color:black;background-color:#bfbf64;text-align:right;'>0.5000</td><td style='color:black;background-color:#bfbf64;text-align:right;'>0.5000</td></tr>\n",
              "<tr><th style='border:1px solid black;color:black;background-color:#BBBBBB;' rowspan = '2'>\n",
              "            <center>not_detected</center></th><th style='border:1px solid black;color:black;background-color:#BBBBBB'><center>0</center></th><td style='color:black;background-color:#bfbf64;text-align:right;'>0.5000</td><td style='color:black;background-color:#bfbf64;text-align:right;'>0.5000</td></tr>\n",
              "<tr><th style='border:1px solid black;color:black;background-color:#BBBBBB'><center>1</center></th><td style='color:black;background-color:#bfbf64;text-align:right;'>0.5000</td><td style='color:black;background-color:#bfbf64;text-align:right;'>0.5000</td></tr>\n",
              "<tr><th style='border:1px solid black;color:black;background-color:#BBBBBB;' rowspan = '2'>\n",
              "            <center>detected</center></th><th style='border:1px solid black;color:black;background-color:#BBBBBB'><center>0</center></th><td style='color:black;background-color:#bfbf64;text-align:right;'>0.5000</td><td style='color:black;background-color:#bfbf64;text-align:right;'>0.5000</td></tr>\n",
              "<tr><th style='border:1px solid black;color:black;background-color:#BBBBBB'><center>1</center></th><td style='color:black;background-color:#bfbf64;text-align:right;'>0.5000</td><td style='color:black;background-color:#bfbf64;text-align:right;'>0.5000</td></tr>\n",
              "<tr><th style='border:1px solid black;color:black;background-color:#BBBBBB;' rowspan = '18'>\n",
              "            <center>not_detected</center></th><th style='border:1px solid black;color:black;background-color:#BBBBBB;' rowspan = '6'>\n",
              "            <center>-999</center></th><th style='border:1px solid black;color:black;background-color:#BBBBBB;' rowspan = '2'>\n",
              "            <center>-999</center></th><th style='border:1px solid black;color:black;background-color:#BBBBBB'><center>0</center></th><td style='color:black;background-color:#bfbf64;text-align:right;'>0.5000</td><td style='color:black;background-color:#bfbf64;text-align:right;'>0.5000</td></tr>\n",
              "<tr><th style='border:1px solid black;color:black;background-color:#BBBBBB'><center>1</center></th><td style='color:black;background-color:#bfbf64;text-align:right;'>0.5000</td><td style='color:black;background-color:#bfbf64;text-align:right;'>0.5000</td></tr>\n",
              "<tr><th style='border:1px solid black;color:black;background-color:#BBBBBB;' rowspan = '2'>\n",
              "            <center>not_detected</center></th><th style='border:1px solid black;color:black;background-color:#BBBBBB'><center>0</center></th><td style='color:black;background-color:#bfbf64;text-align:right;'>0.5000</td><td style='color:black;background-color:#bfbf64;text-align:right;'>0.5000</td></tr>\n",
              "<tr><th style='border:1px solid black;color:black;background-color:#BBBBBB'><center>1</center></th><td style='color:black;background-color:#bfbf64;text-align:right;'>0.5000</td><td style='color:black;background-color:#bfbf64;text-align:right;'>0.5000</td></tr>\n",
              "<tr><th style='border:1px solid black;color:black;background-color:#BBBBBB;' rowspan = '2'>\n",
              "            <center>detected</center></th><th style='border:1px solid black;color:black;background-color:#BBBBBB'><center>0</center></th><td style='color:black;background-color:#bfbf64;text-align:right;'>0.5000</td><td style='color:black;background-color:#bfbf64;text-align:right;'>0.5000</td></tr>\n",
              "<tr><th style='border:1px solid black;color:black;background-color:#BBBBBB'><center>1</center></th><td style='color:black;background-color:#bfbf64;text-align:right;'>0.5000</td><td style='color:black;background-color:#bfbf64;text-align:right;'>0.5000</td></tr>\n",
              "<tr><th style='border:1px solid black;color:black;background-color:#BBBBBB;' rowspan = '6'>\n",
              "            <center>not_detected</center></th><th style='border:1px solid black;color:black;background-color:#BBBBBB;' rowspan = '2'>\n",
              "            <center>-999</center></th><th style='border:1px solid black;color:black;background-color:#BBBBBB'><center>0</center></th><td style='color:black;background-color:#bfbf64;text-align:right;'>0.5000</td><td style='color:black;background-color:#bfbf64;text-align:right;'>0.5000</td></tr>\n",
              "<tr><th style='border:1px solid black;color:black;background-color:#BBBBBB'><center>1</center></th><td style='color:black;background-color:#bfbf64;text-align:right;'>0.5000</td><td style='color:black;background-color:#bfbf64;text-align:right;'>0.5000</td></tr>\n",
              "<tr><th style='border:1px solid black;color:black;background-color:#BBBBBB;' rowspan = '2'>\n",
              "            <center>not_detected</center></th><th style='border:1px solid black;color:black;background-color:#BBBBBB'><center>0</center></th><td style='color:black;background-color:#7ffe64;text-align:right;'>0.9999</td><td style='color:black;background-color:#fe7f64;text-align:right;'>0.0001</td></tr>\n",
              "<tr><th style='border:1px solid black;color:black;background-color:#BBBBBB'><center>1</center></th><td style='color:black;background-color:#7ffe64;text-align:right;'>0.9992</td><td style='color:black;background-color:#fe7f64;text-align:right;'>0.0008</td></tr>\n",
              "<tr><th style='border:1px solid black;color:black;background-color:#BBBBBB;' rowspan = '2'>\n",
              "            <center>detected</center></th><th style='border:1px solid black;color:black;background-color:#BBBBBB'><center>0</center></th><td style='color:black;background-color:#bfbf64;text-align:right;'>0.5000</td><td style='color:black;background-color:#bfbf64;text-align:right;'>0.5000</td></tr>\n",
              "<tr><th style='border:1px solid black;color:black;background-color:#BBBBBB'><center>1</center></th><td style='color:black;background-color:#bfbf64;text-align:right;'>0.5000</td><td style='color:black;background-color:#bfbf64;text-align:right;'>0.5000</td></tr>\n",
              "<tr><th style='border:1px solid black;color:black;background-color:#BBBBBB;' rowspan = '6'>\n",
              "            <center>detected</center></th><th style='border:1px solid black;color:black;background-color:#BBBBBB;' rowspan = '2'>\n",
              "            <center>-999</center></th><th style='border:1px solid black;color:black;background-color:#BBBBBB'><center>0</center></th><td style='color:black;background-color:#bfbf64;text-align:right;'>0.5000</td><td style='color:black;background-color:#bfbf64;text-align:right;'>0.5000</td></tr>\n",
              "<tr><th style='border:1px solid black;color:black;background-color:#BBBBBB'><center>1</center></th><td style='color:black;background-color:#bfbf64;text-align:right;'>0.5000</td><td style='color:black;background-color:#bfbf64;text-align:right;'>0.5000</td></tr>\n",
              "<tr><th style='border:1px solid black;color:black;background-color:#BBBBBB;' rowspan = '2'>\n",
              "            <center>not_detected</center></th><th style='border:1px solid black;color:black;background-color:#BBBBBB'><center>0</center></th><td style='color:black;background-color:#7ffe64;text-align:right;'>0.9997</td><td style='color:black;background-color:#fe7f64;text-align:right;'>0.0003</td></tr>\n",
              "<tr><th style='border:1px solid black;color:black;background-color:#BBBBBB'><center>1</center></th><td style='color:black;background-color:#7ffe64;text-align:right;'>0.9985</td><td style='color:black;background-color:#fe7f64;text-align:right;'>0.0015</td></tr>\n",
              "<tr><th style='border:1px solid black;color:black;background-color:#BBBBBB;' rowspan = '2'>\n",
              "            <center>detected</center></th><th style='border:1px solid black;color:black;background-color:#BBBBBB'><center>0</center></th><td style='color:black;background-color:#bfbf64;text-align:right;'>0.5000</td><td style='color:black;background-color:#bfbf64;text-align:right;'>0.5000</td></tr>\n",
              "<tr><th style='border:1px solid black;color:black;background-color:#BBBBBB'><center>1</center></th><td style='color:black;background-color:#bfbf64;text-align:right;'>0.5000</td><td style='color:black;background-color:#bfbf64;text-align:right;'>0.5000</td></tr>\n",
              "<tr><th style='border:1px solid black;color:black;background-color:#BBBBBB;' rowspan = '18'>\n",
              "            <center>detected</center></th><th style='border:1px solid black;color:black;background-color:#BBBBBB;' rowspan = '6'>\n",
              "            <center>-999</center></th><th style='border:1px solid black;color:black;background-color:#BBBBBB;' rowspan = '2'>\n",
              "            <center>-999</center></th><th style='border:1px solid black;color:black;background-color:#BBBBBB'><center>0</center></th><td style='color:black;background-color:#bfbf64;text-align:right;'>0.5000</td><td style='color:black;background-color:#bfbf64;text-align:right;'>0.5000</td></tr>\n",
              "<tr><th style='border:1px solid black;color:black;background-color:#BBBBBB'><center>1</center></th><td style='color:black;background-color:#bfbf64;text-align:right;'>0.5000</td><td style='color:black;background-color:#bfbf64;text-align:right;'>0.5000</td></tr>\n",
              "<tr><th style='border:1px solid black;color:black;background-color:#BBBBBB;' rowspan = '2'>\n",
              "            <center>not_detected</center></th><th style='border:1px solid black;color:black;background-color:#BBBBBB'><center>0</center></th><td style='color:black;background-color:#bfbf64;text-align:right;'>0.5000</td><td style='color:black;background-color:#bfbf64;text-align:right;'>0.5000</td></tr>\n",
              "<tr><th style='border:1px solid black;color:black;background-color:#BBBBBB'><center>1</center></th><td style='color:black;background-color:#bfbf64;text-align:right;'>0.5000</td><td style='color:black;background-color:#bfbf64;text-align:right;'>0.5000</td></tr>\n",
              "<tr><th style='border:1px solid black;color:black;background-color:#BBBBBB;' rowspan = '2'>\n",
              "            <center>detected</center></th><th style='border:1px solid black;color:black;background-color:#BBBBBB'><center>0</center></th><td style='color:black;background-color:#bfbf64;text-align:right;'>0.5000</td><td style='color:black;background-color:#bfbf64;text-align:right;'>0.5000</td></tr>\n",
              "<tr><th style='border:1px solid black;color:black;background-color:#BBBBBB'><center>1</center></th><td style='color:black;background-color:#bfbf64;text-align:right;'>0.5000</td><td style='color:black;background-color:#bfbf64;text-align:right;'>0.5000</td></tr>\n",
              "<tr><th style='border:1px solid black;color:black;background-color:#BBBBBB;' rowspan = '6'>\n",
              "            <center>not_detected</center></th><th style='border:1px solid black;color:black;background-color:#BBBBBB;' rowspan = '2'>\n",
              "            <center>-999</center></th><th style='border:1px solid black;color:black;background-color:#BBBBBB'><center>0</center></th><td style='color:black;background-color:#bfbf64;text-align:right;'>0.5000</td><td style='color:black;background-color:#bfbf64;text-align:right;'>0.5000</td></tr>\n",
              "<tr><th style='border:1px solid black;color:black;background-color:#BBBBBB'><center>1</center></th><td style='color:black;background-color:#bfbf64;text-align:right;'>0.5000</td><td style='color:black;background-color:#bfbf64;text-align:right;'>0.5000</td></tr>\n",
              "<tr><th style='border:1px solid black;color:black;background-color:#BBBBBB;' rowspan = '2'>\n",
              "            <center>not_detected</center></th><th style='border:1px solid black;color:black;background-color:#BBBBBB'><center>0</center></th><td style='color:black;background-color:#bfbf64;text-align:right;'>0.5000</td><td style='color:black;background-color:#bfbf64;text-align:right;'>0.5000</td></tr>\n",
              "<tr><th style='border:1px solid black;color:black;background-color:#BBBBBB'><center>1</center></th><td style='color:black;background-color:#bfbf64;text-align:right;'>0.5000</td><td style='color:black;background-color:#bfbf64;text-align:right;'>0.5000</td></tr>\n",
              "<tr><th style='border:1px solid black;color:black;background-color:#BBBBBB;' rowspan = '2'>\n",
              "            <center>detected</center></th><th style='border:1px solid black;color:black;background-color:#BBBBBB'><center>0</center></th><td style='color:black;background-color:#bfbf64;text-align:right;'>0.5000</td><td style='color:black;background-color:#bfbf64;text-align:right;'>0.5000</td></tr>\n",
              "<tr><th style='border:1px solid black;color:black;background-color:#BBBBBB'><center>1</center></th><td style='color:black;background-color:#bfbf64;text-align:right;'>0.5000</td><td style='color:black;background-color:#bfbf64;text-align:right;'>0.5000</td></tr>\n",
              "<tr><th style='border:1px solid black;color:black;background-color:#BBBBBB;' rowspan = '6'>\n",
              "            <center>detected</center></th><th style='border:1px solid black;color:black;background-color:#BBBBBB;' rowspan = '2'>\n",
              "            <center>-999</center></th><th style='border:1px solid black;color:black;background-color:#BBBBBB'><center>0</center></th><td style='color:black;background-color:#bfbf64;text-align:right;'>0.5000</td><td style='color:black;background-color:#bfbf64;text-align:right;'>0.5000</td></tr>\n",
              "<tr><th style='border:1px solid black;color:black;background-color:#BBBBBB'><center>1</center></th><td style='color:black;background-color:#bfbf64;text-align:right;'>0.5000</td><td style='color:black;background-color:#bfbf64;text-align:right;'>0.5000</td></tr>\n",
              "<tr><th style='border:1px solid black;color:black;background-color:#BBBBBB;' rowspan = '2'>\n",
              "            <center>not_detected</center></th><th style='border:1px solid black;color:black;background-color:#BBBBBB'><center>0</center></th><td style='color:black;background-color:#bfbf64;text-align:right;'>0.5000</td><td style='color:black;background-color:#bfbf64;text-align:right;'>0.5000</td></tr>\n",
              "<tr><th style='border:1px solid black;color:black;background-color:#BBBBBB'><center>1</center></th><td style='color:black;background-color:#bfbf64;text-align:right;'>0.5000</td><td style='color:black;background-color:#bfbf64;text-align:right;'>0.5000</td></tr>\n",
              "<tr><th style='border:1px solid black;color:black;background-color:#BBBBBB;' rowspan = '2'>\n",
              "            <center>detected</center></th><th style='border:1px solid black;color:black;background-color:#BBBBBB'><center>0</center></th><td style='color:black;background-color:#bfbf64;text-align:right;'>0.5000</td><td style='color:black;background-color:#bfbf64;text-align:right;'>0.5000</td></tr>\n",
              "<tr><th style='border:1px solid black;color:black;background-color:#BBBBBB'><center>1</center></th><td style='color:black;background-color:#bfbf64;text-align:right;'>0.5000</td><td style='color:black;background-color:#bfbf64;text-align:right;'>0.5000</td></tr>\n",
              "</table>"
            ],
            "text/plain": [
              "(pyAgrum.Potential<double>@0x556642d4d860) \n",
              "                                  ||  covid_19         |\n",
              "semi_i|Corona|Rhinov|Inf A |Respir||0        |1        |\n",
              "------|------|------|------|------||---------|---------|\n",
              "0     |-999  |-999  |-999  |-999  || 0.8953  | 0.1047  |\n",
              "1     |-999  |-999  |-999  |-999  || 0.8747  | 0.1253  |\n",
              "0     |not_de|-999  |-999  |-999  || 0.5000  | 0.5000  |\n",
              "1     |not_de|-999  |-999  |-999  || 0.5000  | 0.5000  |\n",
              "0     |detect|-999  |-999  |-999  || 0.5000  | 0.5000  |\n",
              "1     |detect|-999  |-999  |-999  || 0.5000  | 0.5000  |\n",
              "[...150 more line(s) ...]\n",
              "0     |-999  |detect|detect|detect|| 0.5000  | 0.5000  |\n",
              "1     |-999  |detect|detect|detect|| 0.5000  | 0.5000  |\n",
              "0     |not_de|detect|detect|detect|| 0.5000  | 0.5000  |\n",
              "1     |not_de|detect|detect|detect|| 0.5000  | 0.5000  |\n",
              "0     |detect|detect|detect|detect|| 0.5000  | 0.5000  |\n",
              "1     |detect|detect|detect|detect|| 0.5000  | 0.5000  |"
            ]
          },
          "metadata": {},
          "execution_count": 38
        }
      ]
    },
    {
      "cell_type": "code",
      "metadata": {
        "colab": {
          "base_uri": "https://localhost:8080/"
        },
        "id": "EB9Gvq7EAdFC",
        "outputId": "661aeee6-f72d-468a-f778-f78e0e18822f"
      },
      "source": [
        "test = pd.read_csv('test.csv')\n",
        "estimator_2.predict(test)"
      ],
      "execution_count": 39,
      "outputs": [
        {
          "output_type": "stream",
          "name": "stdout",
          "text": [
            "[1. 0.]\n"
          ]
        },
        {
          "output_type": "execute_result",
          "data": {
            "text/plain": [
              "<__main__.BNEstimator at 0x7febb7bd8550>"
            ]
          },
          "metadata": {},
          "execution_count": 39
        }
      ]
    },
    {
      "cell_type": "code",
      "metadata": {
        "colab": {
          "base_uri": "https://localhost:8080/"
        },
        "id": "mqyzO3UJXq2p",
        "outputId": "41ae0a4a-1478-4808-b25a-14532ac2f5b1"
      },
      "source": [
        "estimator_2.acuracia"
      ],
      "execution_count": 40,
      "outputs": [
        {
          "output_type": "execute_result",
          "data": {
            "text/plain": [
              "1.0"
            ]
          },
          "metadata": {},
          "execution_count": 40
        }
      ]
    },
    {
      "cell_type": "code",
      "metadata": {
        "id": "h2VLPhTpXuoO",
        "colab": {
          "base_uri": "https://localhost:8080/",
          "height": 84
        },
        "outputId": "2e33a1d9-37ef-45ef-dc72-21b1968527bf"
      },
      "source": [
        "#capturar a tabela de probabilidade condicional\n",
        "estimator.bn.cpt(estimator.bn.idFromName('covid_19'))"
      ],
      "execution_count": 41,
      "outputs": [
        {
          "output_type": "execute_result",
          "data": {
            "text/html": [
              "<table style=\"border:1px solid black;\">\n",
              "<tr style='border:1px solid black;color:black;background-color:#808080'>\n",
              "      <th colspan='2'><center>covid_19</center></th></tr>\n",
              "<tr><th style='border:1px solid black;border-bottom-style: double;color:black;background-color:#BBBBBB'>\n",
              "      <center>0</center></th><th style='border:1px solid black;border-bottom-style: double;color:black;background-color:#BBBBBB'>\n",
              "      <center>1</center></th></tr>\n",
              "<tr><td style='color:black;background-color:#8bf264;text-align:right;'>0.9002</td><td style='color:black;background-color:#f28b64;text-align:right;'>0.0998</td></tr>\n",
              "</table>"
            ],
            "text/plain": [
              "(pyAgrum.Potential<double>@0x556642430580) \n",
              "  covid_19         |\n",
              "0        |1        |\n",
              "---------|---------|\n",
              " 0.9002  | 0.0998  |"
            ]
          },
          "metadata": {},
          "execution_count": 41
        }
      ]
    }
  ]
}