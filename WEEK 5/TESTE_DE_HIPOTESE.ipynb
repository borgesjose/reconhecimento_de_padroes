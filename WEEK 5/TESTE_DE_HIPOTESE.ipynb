{
  "cells": [
    {
      "cell_type": "markdown",
      "metadata": {
        "id": "ZzlZPfmEgb_G"
      },
      "source": [
        "# Teste de Hipotese"
      ]
    },
    {
      "cell_type": "code",
      "execution_count": 2,
      "metadata": {
        "id": "GBIhWfDVcZpa"
      },
      "outputs": [],
      "source": [
        "import pandas as pd\n",
        "import numpy as np\n",
        "import math as mt\n",
        "from sklearn.preprocessing import LabelEncoder\n",
        "import time\n",
        "import scipy.special"
      ]
    },
    {
      "cell_type": "markdown",
      "metadata": {
        "id": "BxuqKhiTgcXM"
      },
      "source": [
        "### Questão (0.5): Seja X uma variável aleatória que segue uma distribuição binomial. Queremos testar a hipótese H₀: p=0.8 e H₁: p=0.6 com nível de significância fixo ∝=0.01. Defina a perda (β) para n=10, n=20, n=30 e implemente a função em python e escreva uma conclusão do comportamento da perda à medida que o tamanho da amostra varia."
      ]
    },
    {
      "cell_type": "code",
      "execution_count": 21,
      "metadata": {
        "id": "1MW01XAFgcw9"
      },
      "outputs": [],
      "source": [
        "# p = probabilidade\n",
        "# n = Tamanho da amostra\n",
        "# x = limite\n",
        "\n",
        "def binomio(n,x,p): \n",
        "  sum = 0 \n",
        "  for i in range(x):\n",
        "    a = scipy.special.comb(n,i)*(p**i)*((1-p)**(n-i))\n",
        "    #print(a)\n",
        "    sum = sum + a\n",
        "  return sum\n",
        " "
      ]
    },
    {
      "cell_type": "code",
      "execution_count": 22,
      "metadata": {},
      "outputs": [
        {
          "data": {
            "text/plain": [
              "0.4310904993804473"
            ]
          },
          "execution_count": 22,
          "metadata": {},
          "output_type": "execute_result"
        }
      ],
      "source": [
        "1-binomio(30,19,0.6)\n",
        "\n"
      ]
    },
    {
      "cell_type": "code",
      "execution_count": 23,
      "metadata": {},
      "outputs": [],
      "source": [
        "def critical_value(n,alpha,p):\n",
        "  sum=0\n",
        "  for i in range(n):\n",
        "    a = scipy.special.comb(n,i)*(p**i)*((1-p)**(n-i))\n",
        "    sum = sum + a\n",
        "    if sum > alpha:\n",
        "      return i-1"
      ]
    },
    {
      "cell_type": "code",
      "execution_count": 24,
      "metadata": {},
      "outputs": [
        {
          "data": {
            "text/plain": [
              "18"
            ]
          },
          "execution_count": 24,
          "metadata": {},
          "output_type": "execute_result"
        }
      ],
      "source": [
        "critical_value(30,0.01,0.8)"
      ]
    },
    {
      "cell_type": "code",
      "execution_count": 25,
      "metadata": {},
      "outputs": [],
      "source": [
        "def beta(alpha,H1,H0,n):\n",
        "  x = critical_value(n,alpha,H0)\n",
        "  #print(x)\n",
        "  return 1-binomio(n,x+1,H1)"
      ]
    },
    {
      "cell_type": "code",
      "execution_count": 26,
      "metadata": {},
      "outputs": [
        {
          "data": {
            "text/plain": [
              "array([83.37613824, 59.55987253, 43.10904994])"
            ]
          },
          "execution_count": 26,
          "metadata": {},
          "output_type": "execute_result"
        }
      ],
      "source": [
        "n = np.array([10,20,30])\n",
        "n.size\n",
        "results  = np.zeros(n.size)\n",
        "for i in range(n.size):\n",
        "    results[i] = beta(0.01,0.6,0.8,n[i])\n",
        "\n",
        "100*results"
      ]
    },
    {
      "cell_type": "markdown",
      "metadata": {},
      "source": [
        "#### Conclusão:\n",
        "\n",
        "Para os valores observados, temos que o resultado é a diminuição do valor da perda $ \\beta $ diminui a medida que a amostra aumenta. Isso se da pelo fato de quanto maior a minha amostra mais poderoso é meu teste por ser capaz de representar as carcteristicas da população de form mais fiel."
      ]
    },
    {
      "cell_type": "markdown",
      "metadata": {},
      "source": [
        "### Questão (0.5): Seja X₁, …, Xₙ uma amostra aleatória de uma população Normal com média (𝜇) e variância igual a 25. Encontre o teste mais poderoso para uma amostra de tamanho 20 e nível de significância 𝛼= 0.05. Considere H₀: 𝜇₀=5 versus H₁: 𝜇₁=10. \n",
        "\n",
        "<img src=\"fdp-2.png\" width=660 height=160 />"
      ]
    },
    {
      "cell_type": "code",
      "execution_count": null,
      "metadata": {},
      "outputs": [],
      "source": [
        "n = 20\n",
        "alpha = 0.05\n",
        "variancia = 25\n",
        "\n",
        "dp = mt.sqrt(variancia)\n",
        "\n",
        "f = lambda x:(x-5)/(dp/mt.sqrt(n))\n"
      ]
    },
    {
      "cell_type": "markdown",
      "metadata": {},
      "source": [
        "Resolvendo a integral de L(𝜇₀):\n",
        "\n",
        "<img src=\"q-2.jpg\" width=660 height=360 />"
      ]
    },
    {
      "cell_type": "markdown",
      "metadata": {},
      "source": [
        "O teste mais poderoso é dado para valores de x menores que 10,011"
      ]
    },
    {
      "cell_type": "markdown",
      "metadata": {},
      "source": [
        "### Questão (0.25): Um fabricante afirma que a vida média das baterias fabricadas por sua empresa é de 44 meses. Uma amostra aleatória de 40 dessas baterias foram testadas, resultando em uma vida média de 41 meses e desvio padrão de 16 meses. Teste se a afirmação do fabricante está correta, considerando ∝=0.01."
      ]
    },
    {
      "cell_type": "code",
      "execution_count": 9,
      "metadata": {},
      "outputs": [
        {
          "data": {
            "text/plain": [
              "-1.1858541225631423"
            ]
          },
          "execution_count": 9,
          "metadata": {},
          "output_type": "execute_result"
        }
      ],
      "source": [
        "mu = 44\n",
        "n = 40\n",
        "alpha = 0.01\n",
        "\n",
        "# mu0=44\n",
        "# mu1<44\n",
        "\n",
        "# Como n > 30 usaremos o teste Z, dado por:\n",
        "\n",
        "def Z(x,mu,dp,n):\n",
        "    return (x-mu)/(dp/mt.sqrt(n))\n",
        "\n",
        "Z(x=41,mu=44,dp=16,n=40)\n"
      ]
    },
    {
      "cell_type": "markdown",
      "metadata": {},
      "source": [
        "Temos que o valor de p é dado pela tabela:\n",
        "\n",
        "<img src=\"t-q3.png\" width=660 height=660 />"
      ]
    },
    {
      "cell_type": "code",
      "execution_count": 11,
      "metadata": {},
      "outputs": [
        {
          "data": {
            "text/plain": [
              "True"
            ]
          },
          "execution_count": 11,
          "metadata": {},
          "output_type": "execute_result"
        }
      ],
      "source": [
        "0.1170 > 0.01"
      ]
    },
    {
      "cell_type": "markdown",
      "metadata": {},
      "source": [
        "Logo, temos que o valor de p é maior que o valor de alpha, desta forma Z esta fora da região critica e não podemos rejeitar a hipotese nula.\n",
        "\n",
        "Logo a medida da média de meses de vida ultil é provavelmente de 44 meses."
      ]
    },
    {
      "cell_type": "markdown",
      "metadata": {},
      "source": [
        "### Questão (0.25): Uma amostra aleatória de 10 observações de uma população que segue a distribuição normal é apresentada a seguir: [44 31 52 48 46 39 43 36 41 49]. Teste H₀: 𝜇 = 44 contra H₁: 𝜇 ≠ 44 , considerando ∝=0.10."
      ]
    },
    {
      "cell_type": "code",
      "execution_count": 3,
      "metadata": {},
      "outputs": [],
      "source": [
        "alpha = 0.1\n",
        "mu = 44\n",
        "x = np.array([44, 31, 52, 48, 46, 39, 43, 36, 41, 49])"
      ]
    },
    {
      "cell_type": "code",
      "execution_count": 5,
      "metadata": {},
      "outputs": [
        {
          "data": {
            "text/plain": [
              "42.9"
            ]
          },
          "execution_count": 5,
          "metadata": {},
          "output_type": "execute_result"
        }
      ],
      "source": [
        "np.mean(x)"
      ]
    },
    {
      "cell_type": "code",
      "execution_count": 6,
      "metadata": {},
      "outputs": [
        {
          "data": {
            "text/plain": [
              "6.040695324215583"
            ]
          },
          "execution_count": 6,
          "metadata": {},
          "output_type": "execute_result"
        }
      ],
      "source": [
        "np.std(x)"
      ]
    },
    {
      "cell_type": "markdown",
      "metadata": {},
      "source": [
        "### Questão (0.5): as amostras independentes apresentadas abaixo, foram selecionadas de 2 populações normalmente distribuídas com variâncias desconhecidas mas iguais.   S1 = [14 15 11 14 10 8 13 10 12 16 15], S2 = [17 16 21 12 20 18 16 14 21 20 13 20 13]. Teste se 𝜇₁ < 𝜇₂  considerando ∝=0.02."
      ]
    },
    {
      "cell_type": "code",
      "execution_count": 6,
      "metadata": {},
      "outputs": [],
      "source": [
        "s1 = np.array([14,15,11,14,10,8,13,10,12,16,15])\n",
        "s2 = np.array([17,16,21,12,20,18,16,14,21,20,13,20,13])"
      ]
    },
    {
      "cell_type": "code",
      "execution_count": 11,
      "metadata": {},
      "outputs": [
        {
          "data": {
            "text/plain": [
              "2.425757102568424"
            ]
          },
          "execution_count": 11,
          "metadata": {},
          "output_type": "execute_result"
        }
      ],
      "source": [
        "np.std(s1)"
      ]
    },
    {
      "cell_type": "code",
      "execution_count": 12,
      "metadata": {},
      "outputs": [
        {
          "data": {
            "text/plain": [
              "3.1378581622109447"
            ]
          },
          "execution_count": 12,
          "metadata": {},
          "output_type": "execute_result"
        }
      ],
      "source": [
        "np.std(s2)"
      ]
    },
    {
      "cell_type": "code",
      "execution_count": 25,
      "metadata": {},
      "outputs": [
        {
          "data": {
            "text/plain": [
              "2.8364255784065597"
            ]
          },
          "execution_count": 25,
          "metadata": {},
          "output_type": "execute_result"
        }
      ],
      "source": [
        "Sp = mt.sqrt(((s1.size - 1)*(np.std(s1)**2) + (s2.size - 1)*(np.std(s2)**2))/(s1.size + s2.size - 2))\n",
        "Sp"
      ]
    },
    {
      "cell_type": "code",
      "execution_count": 26,
      "metadata": {},
      "outputs": [
        {
          "data": {
            "text/plain": [
              "-3.8334905731745734"
            ]
          },
          "execution_count": 26,
          "metadata": {},
          "output_type": "execute_result"
        }
      ],
      "source": [
        "T = (np.mean(s1) - np.mean(s2))/(Sp*mt.sqrt((1/s1.size)+(1/s2.size)))\n",
        "T"
      ]
    },
    {
      "cell_type": "code",
      "execution_count": 29,
      "metadata": {},
      "outputs": [
        {
          "data": {
            "text/plain": [
              "22"
            ]
          },
          "execution_count": 29,
          "metadata": {},
          "output_type": "execute_result"
        }
      ],
      "source": [
        "grau_de_liberdade = s1.size + s2.size - 2\n",
        "alpha = 0.02\n",
        "grau_de_liberdade"
      ]
    },
    {
      "cell_type": "markdown",
      "metadata": {},
      "source": [
        "Para o teste unicaldal a diretia temos que $ t>t_{\\sigma,n-1} $ "
      ]
    },
    {
      "cell_type": "markdown",
      "metadata": {},
      "source": [
        " $ t_{\\sigma,n-1} = 2.508$ "
      ]
    },
    {
      "cell_type": "code",
      "execution_count": 30,
      "metadata": {},
      "outputs": [
        {
          "data": {
            "text/plain": [
              "False"
            ]
          },
          "execution_count": 30,
          "metadata": {},
          "output_type": "execute_result"
        }
      ],
      "source": [
        "T>2.508"
      ]
    },
    {
      "cell_type": "markdown",
      "metadata": {},
      "source": [
        "Não é possivel rejeitar a hipotse zero, logo as medias devem ser iguais"
      ]
    },
    {
      "cell_type": "markdown",
      "metadata": {},
      "source": [
        "### Questão (0.5): para saber o efeito de um medicamento para resfriado e alergia, um estudo testa 9 indivíduos duas vezes, uma vez uma hora depois de tomar o medicamento e outra vez quando nenhum medicamento foi tomado. Suponha que obtivemos os dados abaixo. Teste se o medicamento produz alguma diferença estatisticamente significante nos pacientes, considerando 𝛼= 0.05.   Sem remédio = [0 0 3 2 0 0 3 3 1], Com remédio = [1 5 6 5 5 5 6 1 6]"
      ]
    },
    {
      "cell_type": "code",
      "execution_count": 4,
      "metadata": {},
      "outputs": [
        {
          "data": {
            "text/plain": [
              "array([-1, -5, -3, -3, -5, -5, -3,  2, -5])"
            ]
          },
          "execution_count": 4,
          "metadata": {},
          "output_type": "execute_result"
        }
      ],
      "source": [
        "sr = np.array([0,0,3,2,0,0,3,3,1])\n",
        "cr = np.array([1,5,6,5,5,5,6,1,6])\n",
        "diff = sr-cr\n",
        "diff"
      ]
    },
    {
      "cell_type": "code",
      "execution_count": 5,
      "metadata": {},
      "outputs": [
        {
          "data": {
            "text/plain": [
              "-0.46435068876466157"
            ]
          },
          "execution_count": 5,
          "metadata": {},
          "output_type": "execute_result"
        }
      ],
      "source": [
        "Td = np.mean(diff)/(np.std(diff)*mt.sqrt(diff.size))\n",
        "Td"
      ]
    },
    {
      "cell_type": "markdown",
      "metadata": {},
      "source": [
        "<img src=\"t-st.png\" width=720 height=460 />"
      ]
    },
    {
      "cell_type": "markdown",
      "metadata": {},
      "source": [
        " $ t_{\\sigma,n-1} = 1.860$ "
      ]
    },
    {
      "cell_type": "code",
      "execution_count": 6,
      "metadata": {},
      "outputs": [
        {
          "data": {
            "text/plain": [
              "False"
            ]
          },
          "execution_count": 6,
          "metadata": {},
          "output_type": "execute_result"
        }
      ],
      "source": [
        "Td < -1.860"
      ]
    },
    {
      "cell_type": "markdown",
      "metadata": {},
      "source": [
        "Logo p esta fora da região critica, então não podmeos rejeitar a hipotese nula. Logo não é possivel afirmar que o uso d o medicamento teve um efeito esttisticamente relevante."
      ]
    },
    {
      "cell_type": "markdown",
      "metadata": {
        "id": "90Bmh4gkgc_k"
      },
      "source": [
        "## Conclusão"
      ]
    },
    {
      "cell_type": "code",
      "execution_count": null,
      "metadata": {
        "id": "lZgXeqb_gfIQ"
      },
      "outputs": [],
      "source": []
    }
  ],
  "metadata": {
    "colab": {
      "name": "TESTE DE HIPOTESE.ipynb",
      "provenance": []
    },
    "interpreter": {
      "hash": "58a3eea4eb278bbeea5229c164e2a4161f21f1dcd6a7354dc31c0c2d62a92a19"
    },
    "kernelspec": {
      "display_name": "Python 3.9.7 64-bit",
      "name": "python3"
    },
    "language_info": {
      "codemirror_mode": {
        "name": "ipython",
        "version": 3
      },
      "file_extension": ".py",
      "mimetype": "text/x-python",
      "name": "python",
      "nbconvert_exporter": "python",
      "pygments_lexer": "ipython3",
      "version": "3.9.7"
    }
  },
  "nbformat": 4,
  "nbformat_minor": 2
}
