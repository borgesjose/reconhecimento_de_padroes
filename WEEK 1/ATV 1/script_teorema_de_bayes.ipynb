{
    "cells": [
        {
            "cell_type": "markdown",
            "source": [
                "Dado que p teorema de bayes descorre sobre a "
            ],
            "metadata": {}
        },
        {
            "cell_type": "code",
            "execution_count": 3,
            "source": [
                "def span_catcher(w):\r\n",
                "    neutro = {\"a\", \"o\", \"as\",\"de\",\"ou\",\"para\", \"e\"};\r\n",
                "    fortes = {\"grátis\", \"oferta\", \"promoção\", \"emagreça\", \"crédito\", \"dieta\", \"financiamento\"};\r\n",
                "    fracas = {\"relatório\", \"disciplina\", \"atividade\", \"prática\", \"entrega\", \"nota\"};\r\n",
                "    input_w = {w}\r\n",
                "\r\n",
                "    flag_n = input_w.issubset(neutro)\r\n",
                "    flag_forte = input_w.issubset(fortes)\r\n",
                "    flag_fraco = input_w.issubset(fracas)\r\n",
                "\r\n",
                "    if  not( flag_n or flag_forte or flag_fraco):   \r\n",
                "        raise TypeError(\"A palavra não esta contida nos conjuntos predefinidos.\")\r\n",
                "\r\n",
                "    flags = [flag_n , flag_forte , flag_fraco]\r\n",
                "    conjunto = 0\r\n",
                "    for i in range(3):\r\n",
                "        if flags[i]:\r\n",
                "            conjunto = i; \r\n",
                "\r\n",
                "    prob_x = [0.5,0.95,0.2]\r\n",
                "    prob_y = [0.25,0.2,0.05]\r\n",
                "\r\n",
                "    x = prob_x[conjunto]\r\n",
                "    y = prob_y[conjunto]\r\n",
                "\r\n",
                "    prob_X_Y = x*0.8/(x*0.8 + 0.2 -0.2*y )\r\n",
                "\r\n",
                "    return prob_X_Y"
            ],
            "outputs": [],
            "metadata": {}
        },
        {
            "cell_type": "code",
            "execution_count": 4,
            "source": [
                "neutro = {\"a\", \"o\", \"as\",\"de\",\"ou\",\"para\", \"e\"};\r\n",
                "fortes = {\"grátis\", \"oferta\", \"promoção\", \"emagreça\", \"crédito\", \"dieta\", \"financiamento\"};\r\n",
                "fracas = {\"relatório\", \"disciplina\", \"atividade\", \"prática\", \"entrega\", \"nota\"};\r\n",
                "input_w = {\"nota\"} \r\n",
                "\r\n",
                "flag_n = input_w.issubset(neutro)\r\n",
                "flag_forte = input_w.issubset(fortes)\r\n",
                "flag_fraco = input_w.issubset(fracas)\r\n",
                "\r\n",
                "if  not( flag_n or flag_forte or flag_fraco):   \r\n",
                "    raise TypeError(\"A palavra não esta contida nos conjuntos predefinidos.\")\r\n",
                "\r\n",
                "flags = [flag_n , flag_forte , flag_fraco]\r\n",
                "conjunto = 0\r\n",
                "for i in range(3):\r\n",
                "    if flags[i]:\r\n",
                "        conjunto = i; \r\n",
                "\r\n",
                "prob_x = [0.5,0.95,0.2]\r\n",
                "prob_y = [0.25,0.2,0.05]\r\n",
                "\r\n",
                "x = prob_x[conjunto]\r\n",
                "y = prob_y[conjunto]\r\n",
                "\r\n",
                "prob_X_Y = x*0.8/(x*0.8 + 0.2 -0.2*y )\r\n",
                "\r\n",
                "prob_X_Y\r\n"
            ],
            "outputs": [
                {
                    "output_type": "execute_result",
                    "data": {
                        "text/plain": [
                            "0.4571428571428572"
                        ]
                    },
                    "metadata": {},
                    "execution_count": 4
                }
            ],
            "metadata": {}
        },
        {
            "cell_type": "code",
            "execution_count": 10,
            "source": [
                "a = span_catcher('relatório')"
            ],
            "outputs": [],
            "metadata": {}
        },
        {
            "cell_type": "code",
            "execution_count": 11,
            "source": [
                "a\r\n"
            ],
            "outputs": [
                {
                    "output_type": "execute_result",
                    "data": {
                        "text/plain": [
                            "0.4571428571428572"
                        ]
                    },
                    "metadata": {},
                    "execution_count": 11
                }
            ],
            "metadata": {}
        },
        {
            "cell_type": "code",
            "execution_count": null,
            "source": [],
            "outputs": [],
            "metadata": {}
        }
    ],
    "metadata": {
        "orig_nbformat": 4,
        "language_info": {
            "name": "python",
            "version": "3.9.7",
            "mimetype": "text/x-python",
            "codemirror_mode": {
                "name": "ipython",
                "version": 3
            },
            "pygments_lexer": "ipython3",
            "nbconvert_exporter": "python",
            "file_extension": ".py"
        },
        "kernelspec": {
            "name": "python3",
            "display_name": "Python 3.9.7 64-bit"
        },
        "interpreter": {
            "hash": "58a3eea4eb278bbeea5229c164e2a4161f21f1dcd6a7354dc31c0c2d62a92a19"
        }
    },
    "nbformat": 4,
    "nbformat_minor": 2
}