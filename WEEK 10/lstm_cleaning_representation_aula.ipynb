{
 "cells": [
  {
   "cell_type": "markdown",
   "metadata": {},
   "source": [
    "# Predição de texto com LSTM "
   ]
  },
  {
   "cell_type": "markdown",
   "metadata": {},
   "source": [
    "## Carregando as bibliotecas"
   ]
  },
  {
   "cell_type": "code",
   "execution_count": 1,
   "metadata": {},
   "outputs": [],
   "source": [
    "import regex as re\n",
    "import string\n",
    "# Dependência gensim > pip install --upgrade gensim\n",
    "from gensim.parsing.preprocessing import remove_stopwords\n",
    "from gensim.models import Word2Vec"
   ]
  },
  {
   "cell_type": "markdown",
   "metadata": {},
   "source": [
    "## Limpeza dos dados"
   ]
  },
  {
   "cell_type": "code",
   "execution_count": 2,
   "metadata": {},
   "outputs": [],
   "source": [
    "# Carregando os dados\n",
    "file = open('republic.txt', 'r')\n",
    "text = file.read()\n",
    "file.close()"
   ]
  },
  {
   "cell_type": "code",
   "execution_count": 3,
   "metadata": {},
   "outputs": [
    {
     "name": "stdout",
     "output_type": "stream",
     "text": [
      "BOOK I.\n",
      "I went down yesterday to the Piraeus with Glaucon the son of Ariston,\n",
      "that I might offer up my prayers to the goddess (Bendis, the Thracian\n",
      "Artemis.); and also because I wanted to see in what manner they would\n",
      "celebrate the festival, which was a new thing. I was delighted with the\n",
      "procession of the inhabitants; but that of the Thracians was equally,\n",
      "if not more, beautiful. When we had finished our prayers and viewed the\n",
      "spectacle, we turned in the direction of the city; and at that instant\n",
      "Polemarchus the son of Cephalus chanced to catch sight of us from a\n",
      "distance as we were starting on our way home, and told his servant to\n",
      "run and bid us wait for him. The servant took hold of me by the cloak\n",
      "behind, and said: Polemarchus desires you to wait.\n",
      "\n",
      "I turned round, and asked him where his master was.\n",
      "\n",
      "There he is, said the youth, coming after you, if you will only wait.\n",
      "\n",
      "Certainly we will, said Glaucon; and in a few minutes Polemarchus\n",
      "appeared, and with him Adeimantus, Glaucon’s brother, Niceratus the son\n",
      "of Nicias, and several others who had been at the procession.\n",
      "\n",
      "Polemarchus said to me: I perceive, Socrates, that you and your\n",
      "companion are already on your way to the city.\n",
      "\n",
      "You are not far wrong, I said.\n",
      "\n",
      "But do you see, he rejoined, how many we are?\n",
      "\n",
      "Of course.\n",
      "\n",
      "And are you stronger than all these? for if not, you will have to\n",
      "remain where you are.\n",
      "\n",
      "May there not be the alternative, I said, that we may persuade you to\n",
      "let us go?\n",
      "\n",
      "But can you persuade us, if we refuse to listen to you? he said.\n",
      "\n",
      "Certainly not, replied Glaucon.\n",
      "\n",
      "Then we are not going to listen; of that you may be assured.\n",
      "\n",
      "Adeimantus added: Has no one told you of the torch-race on horseback in\n",
      "honour of the goddess which will take place in the evening?\n",
      "\n",
      "With horses! I replied: That is a novelty. Will horsemen carry torches\n",
      "and pass them one to another during the race?\n",
      "\n",
      "Yes, said Polemarchus, and not only so, but a festival will be\n",
      "celebrated at night, which you certainly ought to see. Let us r\n"
     ]
    }
   ],
   "source": [
    "print(text[:2000])"
   ]
  },
  {
   "cell_type": "code",
   "execution_count": 4,
   "metadata": {},
   "outputs": [],
   "source": [
    "def data_cleaning(doc):\n",
    "\n",
    "    doc = doc.replace('--', ' ')\n",
    "    tokens = doc.split()\n",
    "    \n",
    "    print('--Antes da limpeza--')\n",
    "    print('Número de Tokens: %d' % len(tokens))\n",
    "    print('Tokens únicos: %d' % len(set(tokens)))\n",
    "    \n",
    "\n",
    "    tokens = [w.lower() for w in tokens]\n",
    "    tokens = [remove_stopwords(word) for word in tokens]\n",
    "    re_punc = re.compile('[%s]' % re.escape(string.punctuation))\n",
    "    tokens = [re_punc.sub('', word) for word in tokens]\n",
    "    tokens = [word for word in tokens if word.isalpha()]\n",
    "    \n",
    "    print('--Depois da limpeza--')\n",
    "    print('Número de Tokens: %d' % len(tokens))\n",
    "    print('Tokens únicos: %d' % len(set(tokens)))\n",
    "    \n",
    "    return tokens"
   ]
  },
  {
   "cell_type": "code",
   "execution_count": 5,
   "metadata": {},
   "outputs": [],
   "source": [
    "def sentences_building(tokens):\n",
    "    length = 50 + 1\n",
    "    sequences = list()\n",
    "    for i in range(length, len(tokens)):\n",
    "        seq = tokens[i-length:i]\n",
    "        line = ' '.join(seq)\n",
    "        sequences.append(line)\n",
    "    return sequences"
   ]
  },
  {
   "cell_type": "code",
   "execution_count": 6,
   "metadata": {},
   "outputs": [],
   "source": [
    "def save_doc(lines, filename):\n",
    "    data = '\\n'.join(lines)\n",
    "    file = open(filename, 'w')\n",
    "    file.write(data)\n",
    "    file.close()"
   ]
  },
  {
   "cell_type": "code",
   "execution_count": 7,
   "metadata": {},
   "outputs": [
    {
     "name": "stdout",
     "output_type": "stream",
     "text": [
      "--Antes da limpeza--\n",
      "Número de Tokens: 118284\n",
      "Tokens únicos: 13051\n",
      "--Depois da limpeza--\n",
      "Número de Tokens: 44396\n",
      "Tokens únicos: 7251\n",
      "['book', 'i', 'went', 'yesterday', 'piraeus', 'glaucon', 'son', 'ariston', 'offer', 'prayers', 'goddess', 'bendis', 'thracian', 'artemis', 'wanted', 'manner', 'celebrate', 'festival', 'new', 'thing', 'delighted', 'procession', 'inhabitants', 'thracians', 'equally', 'more', 'beautiful', 'finished', 'prayers', 'viewed', 'spectacle', 'turned', 'direction', 'city', 'instant', 'polemarchus', 'son', 'cephalus', 'chanced', 'catch', 'sight', 'distance', 'starting', 'way', 'home', 'told', 'servant', 'run', 'bid', 'wait', 'him', 'servant', 'took', 'hold', 'cloak', 'behind', 'said', 'polemarchus', 'desires', 'wait', 'turned', 'round', 'asked', 'master', 'was', 'is', 'said', 'youth', 'coming', 'you', 'wait', 'certainly', 'will', 'said', 'glaucon', 'minutes', 'polemarchus', 'appeared', 'adeimantus', 'brother', 'niceratus', 'son', 'nicias', 'procession', 'polemarchus', 'said', 'me', 'perceive', 'socrates', 'companion', 'way', 'city', 'far', 'wrong', 'said', 'see', 'rejoined', 'are', 'course', 'stronger']\n",
      "--Sentenças--\n",
      "['book i went yesterday piraeus glaucon son ariston offer prayers goddess bendis thracian artemis wanted manner celebrate festival new thing delighted procession inhabitants thracians equally more beautiful finished prayers viewed spectacle turned direction city instant polemarchus son cephalus chanced catch sight distance starting way home told servant run bid wait him', 'i went yesterday piraeus glaucon son ariston offer prayers goddess bendis thracian artemis wanted manner celebrate festival new thing delighted procession inhabitants thracians equally more beautiful finished prayers viewed spectacle turned direction city instant polemarchus son cephalus chanced catch sight distance starting way home told servant run bid wait him servant', 'went yesterday piraeus glaucon son ariston offer prayers goddess bendis thracian artemis wanted manner celebrate festival new thing delighted procession inhabitants thracians equally more beautiful finished prayers viewed spectacle turned direction city instant polemarchus son cephalus chanced catch sight distance starting way home told servant run bid wait him servant took']\n",
      "Número de sentenças: 44345\n"
     ]
    }
   ],
   "source": [
    "token = data_cleaning(text)\n",
    "print(token[:100])\n",
    "\n",
    "sentences = sentences_building(token)\n",
    "print('--Sentenças--')\n",
    "print(sentences[0:3])\n",
    "print('Número de sentenças: %d' % len(sentences))\n",
    "\n",
    "save_doc(sentences, 'republic_sentences.txt')"
   ]
  },
  {
   "cell_type": "markdown",
   "metadata": {},
   "source": [
    "## Word Embedding: Word2Vec"
   ]
  },
  {
   "cell_type": "code",
   "execution_count": 8,
   "metadata": {},
   "outputs": [],
   "source": [
    "def word_embedding(sent, vector_size):\n",
    "    w2v_model = Word2Vec(sent, vector_size=vector_size, min_count=1, workers=8)\n",
    "    w2v_weights = w2v_model.wv.vectors\n",
    "    return w2v_model, w2v_weights"
   ]
  },
  {
   "cell_type": "code",
   "execution_count": 9,
   "metadata": {},
   "outputs": [],
   "source": [
    "def word2idx(word):\n",
    "  return w2v_model.wv.key_to_index[word]"
   ]
  },
  {
   "cell_type": "code",
   "execution_count": 10,
   "metadata": {},
   "outputs": [],
   "source": [
    "def idx2word(idx):\n",
    "  return w2v_model.wv.index_to_key[idx]"
   ]
  },
  {
   "cell_type": "code",
   "execution_count": 11,
   "metadata": {},
   "outputs": [
    {
     "name": "stdout",
     "output_type": "stream",
     "text": [
      "7251 100\n"
     ]
    }
   ],
   "source": [
    "# Carregando as sentenças\n",
    "file = open('republic_sentences.txt', 'r')\n",
    "republic_senteces = file.read()\n",
    "file.close()\n",
    "lines = republic_senteces.split('\\n')\n",
    "\n",
    "# Create the list of list format of the custom corpus for gensim modeling \n",
    "sent = [line.split(' ') for line in lines]\n",
    "\n",
    "w2v_model, w2v_weights = word_embedding(sent, 100)\n",
    "vocab_size, embedding_size = w2v_weights.shape\n",
    "print(vocab_size, embedding_size)"
   ]
  }
 ],
 "metadata": {
  "kernelspec": {
   "display_name": "Python 3",
   "language": "python",
   "name": "python3"
  },
  "language_info": {
   "codemirror_mode": {
    "name": "ipython",
    "version": 3
   },
   "file_extension": ".py",
   "mimetype": "text/x-python",
   "name": "python",
   "nbconvert_exporter": "python",
   "pygments_lexer": "ipython3",
   "version": "3.8.3"
  }
 },
 "nbformat": 4,
 "nbformat_minor": 4
}
